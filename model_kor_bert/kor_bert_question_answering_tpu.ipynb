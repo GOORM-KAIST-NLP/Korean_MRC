{
  "nbformat": 4,
  "nbformat_minor": 0,
  "metadata": {
    "colab": {
      "name": "kor_bert_question_answering_tpu.ipynb",
      "provenance": [],
      "collapsed_sections": [],
      "machine_shape": "hm"
    },
    "kernelspec": {
      "name": "python3",
      "display_name": "Python 3"
    },
    "language_info": {
      "name": "python"
    },
    "accelerator": "TPU",
    "widgets": {
      "application/vnd.jupyter.widget-state+json": {
        "e8f95211c58a4ed889d6e74fe3283373": {
          "model_module": "@jupyter-widgets/controls",
          "model_name": "HBoxModel",
          "model_module_version": "1.5.0",
          "state": {
            "_dom_classes": [],
            "_model_module": "@jupyter-widgets/controls",
            "_model_module_version": "1.5.0",
            "_model_name": "HBoxModel",
            "_view_count": null,
            "_view_module": "@jupyter-widgets/controls",
            "_view_module_version": "1.5.0",
            "_view_name": "HBoxView",
            "box_style": "",
            "children": [
              "IPY_MODEL_37b7068260f846048b57e76342423927",
              "IPY_MODEL_859b931c5bc04d34af75b65008c69143",
              "IPY_MODEL_d75ee7fb3a7148b5ae9f5f5d1a994194"
            ],
            "layout": "IPY_MODEL_f24303e4c3b14a4dbc3682bd980d3995"
          }
        },
        "37b7068260f846048b57e76342423927": {
          "model_module": "@jupyter-widgets/controls",
          "model_name": "HTMLModel",
          "model_module_version": "1.5.0",
          "state": {
            "_dom_classes": [],
            "_model_module": "@jupyter-widgets/controls",
            "_model_module_version": "1.5.0",
            "_model_name": "HTMLModel",
            "_view_count": null,
            "_view_module": "@jupyter-widgets/controls",
            "_view_module_version": "1.5.0",
            "_view_name": "HTMLView",
            "description": "",
            "description_tooltip": null,
            "layout": "IPY_MODEL_31d76c63a8974f668b7ffcad066f0355",
            "placeholder": "​",
            "style": "IPY_MODEL_e950f0dab8fd406bb1206e53ff56c23c",
            "value": "Downloading: 100%"
          }
        },
        "859b931c5bc04d34af75b65008c69143": {
          "model_module": "@jupyter-widgets/controls",
          "model_name": "FloatProgressModel",
          "model_module_version": "1.5.0",
          "state": {
            "_dom_classes": [],
            "_model_module": "@jupyter-widgets/controls",
            "_model_module_version": "1.5.0",
            "_model_name": "FloatProgressModel",
            "_view_count": null,
            "_view_module": "@jupyter-widgets/controls",
            "_view_module_version": "1.5.0",
            "_view_name": "ProgressView",
            "bar_style": "success",
            "description": "",
            "description_tooltip": null,
            "layout": "IPY_MODEL_55bf6a85bdac4e91bc0704ff28a09d59",
            "max": 445025130,
            "min": 0,
            "orientation": "horizontal",
            "style": "IPY_MODEL_c63356dc6bc84d15a91a2152978b3c94",
            "value": 445025130
          }
        },
        "d75ee7fb3a7148b5ae9f5f5d1a994194": {
          "model_module": "@jupyter-widgets/controls",
          "model_name": "HTMLModel",
          "model_module_version": "1.5.0",
          "state": {
            "_dom_classes": [],
            "_model_module": "@jupyter-widgets/controls",
            "_model_module_version": "1.5.0",
            "_model_name": "HTMLModel",
            "_view_count": null,
            "_view_module": "@jupyter-widgets/controls",
            "_view_module_version": "1.5.0",
            "_view_name": "HTMLView",
            "description": "",
            "description_tooltip": null,
            "layout": "IPY_MODEL_e8cb6dec684344da894c16a234c0c59a",
            "placeholder": "​",
            "style": "IPY_MODEL_67c808eeb8eb48ff80a478e78fc830f7",
            "value": " 424M/424M [00:07&lt;00:00, 57.9MB/s]"
          }
        },
        "f24303e4c3b14a4dbc3682bd980d3995": {
          "model_module": "@jupyter-widgets/base",
          "model_name": "LayoutModel",
          "model_module_version": "1.2.0",
          "state": {
            "_model_module": "@jupyter-widgets/base",
            "_model_module_version": "1.2.0",
            "_model_name": "LayoutModel",
            "_view_count": null,
            "_view_module": "@jupyter-widgets/base",
            "_view_module_version": "1.2.0",
            "_view_name": "LayoutView",
            "align_content": null,
            "align_items": null,
            "align_self": null,
            "border": null,
            "bottom": null,
            "display": null,
            "flex": null,
            "flex_flow": null,
            "grid_area": null,
            "grid_auto_columns": null,
            "grid_auto_flow": null,
            "grid_auto_rows": null,
            "grid_column": null,
            "grid_gap": null,
            "grid_row": null,
            "grid_template_areas": null,
            "grid_template_columns": null,
            "grid_template_rows": null,
            "height": null,
            "justify_content": null,
            "justify_items": null,
            "left": null,
            "margin": null,
            "max_height": null,
            "max_width": null,
            "min_height": null,
            "min_width": null,
            "object_fit": null,
            "object_position": null,
            "order": null,
            "overflow": null,
            "overflow_x": null,
            "overflow_y": null,
            "padding": null,
            "right": null,
            "top": null,
            "visibility": null,
            "width": null
          }
        },
        "31d76c63a8974f668b7ffcad066f0355": {
          "model_module": "@jupyter-widgets/base",
          "model_name": "LayoutModel",
          "model_module_version": "1.2.0",
          "state": {
            "_model_module": "@jupyter-widgets/base",
            "_model_module_version": "1.2.0",
            "_model_name": "LayoutModel",
            "_view_count": null,
            "_view_module": "@jupyter-widgets/base",
            "_view_module_version": "1.2.0",
            "_view_name": "LayoutView",
            "align_content": null,
            "align_items": null,
            "align_self": null,
            "border": null,
            "bottom": null,
            "display": null,
            "flex": null,
            "flex_flow": null,
            "grid_area": null,
            "grid_auto_columns": null,
            "grid_auto_flow": null,
            "grid_auto_rows": null,
            "grid_column": null,
            "grid_gap": null,
            "grid_row": null,
            "grid_template_areas": null,
            "grid_template_columns": null,
            "grid_template_rows": null,
            "height": null,
            "justify_content": null,
            "justify_items": null,
            "left": null,
            "margin": null,
            "max_height": null,
            "max_width": null,
            "min_height": null,
            "min_width": null,
            "object_fit": null,
            "object_position": null,
            "order": null,
            "overflow": null,
            "overflow_x": null,
            "overflow_y": null,
            "padding": null,
            "right": null,
            "top": null,
            "visibility": null,
            "width": null
          }
        },
        "e950f0dab8fd406bb1206e53ff56c23c": {
          "model_module": "@jupyter-widgets/controls",
          "model_name": "DescriptionStyleModel",
          "model_module_version": "1.5.0",
          "state": {
            "_model_module": "@jupyter-widgets/controls",
            "_model_module_version": "1.5.0",
            "_model_name": "DescriptionStyleModel",
            "_view_count": null,
            "_view_module": "@jupyter-widgets/base",
            "_view_module_version": "1.2.0",
            "_view_name": "StyleView",
            "description_width": ""
          }
        },
        "55bf6a85bdac4e91bc0704ff28a09d59": {
          "model_module": "@jupyter-widgets/base",
          "model_name": "LayoutModel",
          "model_module_version": "1.2.0",
          "state": {
            "_model_module": "@jupyter-widgets/base",
            "_model_module_version": "1.2.0",
            "_model_name": "LayoutModel",
            "_view_count": null,
            "_view_module": "@jupyter-widgets/base",
            "_view_module_version": "1.2.0",
            "_view_name": "LayoutView",
            "align_content": null,
            "align_items": null,
            "align_self": null,
            "border": null,
            "bottom": null,
            "display": null,
            "flex": null,
            "flex_flow": null,
            "grid_area": null,
            "grid_auto_columns": null,
            "grid_auto_flow": null,
            "grid_auto_rows": null,
            "grid_column": null,
            "grid_gap": null,
            "grid_row": null,
            "grid_template_areas": null,
            "grid_template_columns": null,
            "grid_template_rows": null,
            "height": null,
            "justify_content": null,
            "justify_items": null,
            "left": null,
            "margin": null,
            "max_height": null,
            "max_width": null,
            "min_height": null,
            "min_width": null,
            "object_fit": null,
            "object_position": null,
            "order": null,
            "overflow": null,
            "overflow_x": null,
            "overflow_y": null,
            "padding": null,
            "right": null,
            "top": null,
            "visibility": null,
            "width": null
          }
        },
        "c63356dc6bc84d15a91a2152978b3c94": {
          "model_module": "@jupyter-widgets/controls",
          "model_name": "ProgressStyleModel",
          "model_module_version": "1.5.0",
          "state": {
            "_model_module": "@jupyter-widgets/controls",
            "_model_module_version": "1.5.0",
            "_model_name": "ProgressStyleModel",
            "_view_count": null,
            "_view_module": "@jupyter-widgets/base",
            "_view_module_version": "1.2.0",
            "_view_name": "StyleView",
            "bar_color": null,
            "description_width": ""
          }
        },
        "e8cb6dec684344da894c16a234c0c59a": {
          "model_module": "@jupyter-widgets/base",
          "model_name": "LayoutModel",
          "model_module_version": "1.2.0",
          "state": {
            "_model_module": "@jupyter-widgets/base",
            "_model_module_version": "1.2.0",
            "_model_name": "LayoutModel",
            "_view_count": null,
            "_view_module": "@jupyter-widgets/base",
            "_view_module_version": "1.2.0",
            "_view_name": "LayoutView",
            "align_content": null,
            "align_items": null,
            "align_self": null,
            "border": null,
            "bottom": null,
            "display": null,
            "flex": null,
            "flex_flow": null,
            "grid_area": null,
            "grid_auto_columns": null,
            "grid_auto_flow": null,
            "grid_auto_rows": null,
            "grid_column": null,
            "grid_gap": null,
            "grid_row": null,
            "grid_template_areas": null,
            "grid_template_columns": null,
            "grid_template_rows": null,
            "height": null,
            "justify_content": null,
            "justify_items": null,
            "left": null,
            "margin": null,
            "max_height": null,
            "max_width": null,
            "min_height": null,
            "min_width": null,
            "object_fit": null,
            "object_position": null,
            "order": null,
            "overflow": null,
            "overflow_x": null,
            "overflow_y": null,
            "padding": null,
            "right": null,
            "top": null,
            "visibility": null,
            "width": null
          }
        },
        "67c808eeb8eb48ff80a478e78fc830f7": {
          "model_module": "@jupyter-widgets/controls",
          "model_name": "DescriptionStyleModel",
          "model_module_version": "1.5.0",
          "state": {
            "_model_module": "@jupyter-widgets/controls",
            "_model_module_version": "1.5.0",
            "_model_name": "DescriptionStyleModel",
            "_view_count": null,
            "_view_module": "@jupyter-widgets/base",
            "_view_module_version": "1.2.0",
            "_view_name": "StyleView",
            "description_width": ""
          }
        }
      }
    }
  },
  "cells": [
    {
      "cell_type": "code",
      "metadata": {
        "colab": {
          "base_uri": "https://localhost:8080/"
        },
        "id": "vihmV4FNjj_s",
        "outputId": "36791839-9159-4d5d-e612-a892860205db"
      },
      "source": [
        "pip install transformers"
      ],
      "execution_count": 1,
      "outputs": [
        {
          "output_type": "stream",
          "name": "stdout",
          "text": [
            "Collecting transformers\n",
            "  Downloading transformers-4.17.0-py3-none-any.whl (3.8 MB)\n",
            "\u001b[K     |████████████████████████████████| 3.8 MB 5.3 MB/s \n",
            "\u001b[?25hRequirement already satisfied: regex!=2019.12.17 in /usr/local/lib/python3.7/dist-packages (from transformers) (2019.12.20)\n",
            "Collecting huggingface-hub<1.0,>=0.1.0\n",
            "  Downloading huggingface_hub-0.5.0-py3-none-any.whl (77 kB)\n",
            "\u001b[K     |████████████████████████████████| 77 kB 7.0 MB/s \n",
            "\u001b[?25hRequirement already satisfied: packaging>=20.0 in /usr/local/lib/python3.7/dist-packages (from transformers) (21.3)\n",
            "Collecting sacremoses\n",
            "  Downloading sacremoses-0.0.49-py3-none-any.whl (895 kB)\n",
            "\u001b[K     |████████████████████████████████| 895 kB 77.2 MB/s \n",
            "\u001b[?25hRequirement already satisfied: importlib-metadata in /usr/local/lib/python3.7/dist-packages (from transformers) (4.11.3)\n",
            "Requirement already satisfied: tqdm>=4.27 in /usr/local/lib/python3.7/dist-packages (from transformers) (4.63.0)\n",
            "Requirement already satisfied: requests in /usr/local/lib/python3.7/dist-packages (from transformers) (2.23.0)\n",
            "Requirement already satisfied: numpy>=1.17 in /usr/local/lib/python3.7/dist-packages (from transformers) (1.21.5)\n",
            "Collecting tokenizers!=0.11.3,>=0.11.1\n",
            "  Downloading tokenizers-0.11.6-cp37-cp37m-manylinux_2_12_x86_64.manylinux2010_x86_64.whl (6.5 MB)\n",
            "\u001b[K     |████████████████████████████████| 6.5 MB 79.3 MB/s \n",
            "\u001b[?25hCollecting pyyaml>=5.1\n",
            "  Downloading PyYAML-6.0-cp37-cp37m-manylinux_2_5_x86_64.manylinux1_x86_64.manylinux_2_12_x86_64.manylinux2010_x86_64.whl (596 kB)\n",
            "\u001b[K     |████████████████████████████████| 596 kB 75.5 MB/s \n",
            "\u001b[?25hRequirement already satisfied: filelock in /usr/local/lib/python3.7/dist-packages (from transformers) (3.6.0)\n",
            "Requirement already satisfied: typing-extensions>=3.7.4.3 in /usr/local/lib/python3.7/dist-packages (from huggingface-hub<1.0,>=0.1.0->transformers) (3.10.0.2)\n",
            "Requirement already satisfied: pyparsing!=3.0.5,>=2.0.2 in /usr/local/lib/python3.7/dist-packages (from packaging>=20.0->transformers) (3.0.7)\n",
            "Requirement already satisfied: zipp>=0.5 in /usr/local/lib/python3.7/dist-packages (from importlib-metadata->transformers) (3.7.0)\n",
            "Requirement already satisfied: urllib3!=1.25.0,!=1.25.1,<1.26,>=1.21.1 in /usr/local/lib/python3.7/dist-packages (from requests->transformers) (1.24.3)\n",
            "Requirement already satisfied: idna<3,>=2.5 in /usr/local/lib/python3.7/dist-packages (from requests->transformers) (2.10)\n",
            "Requirement already satisfied: chardet<4,>=3.0.2 in /usr/local/lib/python3.7/dist-packages (from requests->transformers) (3.0.4)\n",
            "Requirement already satisfied: certifi>=2017.4.17 in /usr/local/lib/python3.7/dist-packages (from requests->transformers) (2021.10.8)\n",
            "Requirement already satisfied: click in /usr/local/lib/python3.7/dist-packages (from sacremoses->transformers) (7.1.2)\n",
            "Requirement already satisfied: joblib in /usr/local/lib/python3.7/dist-packages (from sacremoses->transformers) (1.1.0)\n",
            "Requirement already satisfied: six in /usr/local/lib/python3.7/dist-packages (from sacremoses->transformers) (1.15.0)\n",
            "Installing collected packages: pyyaml, tokenizers, sacremoses, huggingface-hub, transformers\n",
            "  Attempting uninstall: pyyaml\n",
            "    Found existing installation: PyYAML 3.13\n",
            "    Uninstalling PyYAML-3.13:\n",
            "      Successfully uninstalled PyYAML-3.13\n",
            "Successfully installed huggingface-hub-0.5.0 pyyaml-6.0 sacremoses-0.0.49 tokenizers-0.11.6 transformers-4.17.0\n"
          ]
        }
      ]
    },
    {
      "cell_type": "code",
      "metadata": {
        "colab": {
          "base_uri": "https://localhost:8080/"
        },
        "id": "E825y86bjrhk",
        "outputId": "3e5db34b-ffab-4627-a2bd-f8e110c833d9"
      },
      "source": [
        "!wget https://korquad.github.io/dataset/KorQuAD_v1.0_train.json -O KorQuAD_v1.0_train.json\n",
        "!wget https://korquad.github.io/dataset/KorQuAD_v1.0_dev.json -O KorQuAD_v1.0_dev.json"
      ],
      "execution_count": 2,
      "outputs": [
        {
          "output_type": "stream",
          "name": "stdout",
          "text": [
            "--2022-04-06 05:20:24--  https://korquad.github.io/dataset/KorQuAD_v1.0_train.json\n",
            "Resolving korquad.github.io (korquad.github.io)... 185.199.108.153, 185.199.109.153, 185.199.110.153, ...\n",
            "Connecting to korquad.github.io (korquad.github.io)|185.199.108.153|:443... connected.\n",
            "HTTP request sent, awaiting response... 200 OK\n",
            "Length: 38527475 (37M) [application/json]\n",
            "Saving to: ‘KorQuAD_v1.0_train.json’\n",
            "\n",
            "KorQuAD_v1.0_train. 100%[===================>]  36.74M   198MB/s    in 0.2s    \n",
            "\n",
            "2022-04-06 05:20:24 (198 MB/s) - ‘KorQuAD_v1.0_train.json’ saved [38527475/38527475]\n",
            "\n",
            "--2022-04-06 05:20:24--  https://korquad.github.io/dataset/KorQuAD_v1.0_dev.json\n",
            "Resolving korquad.github.io (korquad.github.io)... 185.199.108.153, 185.199.109.153, 185.199.110.153, ...\n",
            "Connecting to korquad.github.io (korquad.github.io)|185.199.108.153|:443... connected.\n",
            "HTTP request sent, awaiting response... 200 OK\n",
            "Length: 3881058 (3.7M) [application/json]\n",
            "Saving to: ‘KorQuAD_v1.0_dev.json’\n",
            "\n",
            "KorQuAD_v1.0_dev.js 100%[===================>]   3.70M  --.-KB/s    in 0.07s   \n",
            "\n",
            "2022-04-06 05:20:25 (55.5 MB/s) - ‘KorQuAD_v1.0_dev.json’ saved [3881058/3881058]\n",
            "\n"
          ]
        }
      ]
    },
    {
      "cell_type": "code",
      "metadata": {
        "id": "sUbbJaGVjyYz"
      },
      "source": [
        "import os\n",
        "import json\n",
        "import numpy as np\n",
        "from tqdm import tqdm\n",
        "from pathlib import Path\n",
        "from transformers import BertTokenizerFast\n",
        "import tensorflow as tf"
      ],
      "execution_count": 3,
      "outputs": []
    },
    {
      "cell_type": "code",
      "metadata": {
        "id": "4jr575y8j7vb"
      },
      "source": [
        "# KorQuAD\n",
        "def read_squad(path):\n",
        "    path = Path(path)\n",
        "    with open(path, 'rb') as f:\n",
        "        squad_dict = json.load(f)\n",
        "\n",
        "    contexts = []\n",
        "    questions = []\n",
        "    answers = []\n",
        "    for group in squad_dict['data']:\n",
        "        for passage in group['paragraphs']:\n",
        "            context = passage['context']\n",
        "            for qa in passage['qas']:\n",
        "                question = qa['question']\n",
        "                for answer in qa['answers']:\n",
        "                    contexts.append(context)\n",
        "                    questions.append(question)\n",
        "                    answers.append(answer)\n",
        "\n",
        "    return contexts, questions, answers\n",
        "\n",
        "train_contexts, train_questions, train_answers = read_squad('KorQuAD_v1.0_train.json')\n",
        "val_contexts, val_questions, val_answers = read_squad('KorQuAD_v1.0_dev.json')"
      ],
      "execution_count": 4,
      "outputs": []
    },
    {
      "cell_type": "code",
      "source": [
        "def read_squad(path):\n",
        "    path = Path(path)\n",
        "    with open(path, 'rb') as f:\n",
        "        squad_dict = json.load(f)\n",
        "\n",
        "    contexts = []\n",
        "    questions = []\n",
        "    answers = []\n",
        "    for group in squad_dict['data']:\n",
        "        for passage in group['paragraphs']:\n",
        "            context = passage['context']\n",
        "            for qa in passage['qas']:\n",
        "                question = qa['question']\n",
        "                answer = qa['answers']\n",
        "                for answer in qa['answers']:\n",
        "                    contexts.append(context)\n",
        "                    questions.append(question)\n",
        "                    answers.append(answer)\n",
        "\n",
        "    return contexts, questions, answers\n",
        "\n",
        "train_contexts, train_questions, train_answers = read_squad('train.json')"
      ],
      "metadata": {
        "id": "gdfrPOHvmtd6"
      },
      "execution_count": 8,
      "outputs": []
    },
    {
      "cell_type": "code",
      "source": [
        "def read_squad(path):\n",
        "    path = Path(path)\n",
        "    with open(path, 'rb') as f:\n",
        "        squad_dict = json.load(f)\n",
        "\n",
        "    contexts = []\n",
        "    questions = []\n",
        "    for group in squad_dict['data']:\n",
        "        for passage in group['paragraphs']:\n",
        "            context = passage['context']\n",
        "            for qa in passage['qas']:\n",
        "                question = qa['question']\n",
        "                contexts.append(context)\n",
        "                questions.append(question)\n",
        "                \n",
        "    return contexts, questions\n",
        "\n",
        "test_contexts, test_questions = read_squad('test.json')"
      ],
      "metadata": {
        "id": "ICu0cqF-1AOr"
      },
      "execution_count": 7,
      "outputs": []
    },
    {
      "cell_type": "code",
      "metadata": {
        "colab": {
          "base_uri": "https://localhost:8080/"
        },
        "id": "maMFzg6ukBtH",
        "outputId": "cf1f0389-8d53-4277-dd21-9be32aaab802"
      },
      "source": [
        "print('훈련 데이터의 본문 개수 :', len(train_contexts))\n",
        "print('훈련 데이터의 질문 개수 :', len(train_questions))\n",
        "print('훈련 데이터의 답변 개수 :', len(train_answers))\n",
        "print('val 데이터의 본문 개수 :', len(val_contexts))\n",
        "print('val 데이터의 질문 개수 :', len(val_questions))\n",
        "print('val 데이터의 답변 개수 :', len(val_answers))\n",
        "print('테스트 데이터의 본문 개수 :', len(test_contexts))\n",
        "print('테스트 데이터의 질문 개수 :', len(test_questions))"
      ],
      "execution_count": 9,
      "outputs": [
        {
          "output_type": "stream",
          "name": "stdout",
          "text": [
            "훈련 데이터의 본문 개수 : 17663\n",
            "훈련 데이터의 질문 개수 : 17663\n",
            "훈련 데이터의 답변 개수 : 17663\n",
            "val 데이터의 본문 개수 : 5774\n",
            "val 데이터의 질문 개수 : 5774\n",
            "val 데이터의 답변 개수 : 5774\n",
            "테스트 데이터의 본문 개수 : 4008\n",
            "테스트 데이터의 질문 개수 : 4008\n"
          ]
        }
      ]
    },
    {
      "cell_type": "code",
      "metadata": {
        "colab": {
          "base_uri": "https://localhost:8080/"
        },
        "id": "ALWaWmqDkLuz",
        "outputId": "8df0d232-9d27-4163-f8e9-5de200821774"
      },
      "source": [
        "print('첫번째 샘플의 본문')\n",
        "print('-----------------')\n",
        "print(train_contexts[0])"
      ],
      "execution_count": 10,
      "outputs": [
        {
          "output_type": "stream",
          "name": "stdout",
          "text": [
            "첫번째 샘플의 본문\n",
            "-----------------\n",
            "올여름 장마가 17일 제주도에서 시작됐다. 서울 등 중부지방은 예년보다 사나흘 정도 늦은 이달 말께 장마가 시작될 전망이다.17일 기상청에 따르면 제주도 남쪽 먼바다에 있는 장마전선의 영향으로 이날 제주도 산간 및 내륙지역에 호우주의보가 내려지면서 곳곳에 100㎜에 육박하는 많은 비가 내렸다. 제주의 장마는 평년보다 2~3일, 지난해보다는 하루 일찍 시작됐다. 장마는 고온다습한 북태평양 기단과 한랭 습윤한 오호츠크해 기단이 만나 형성되는 장마전선에서 내리는 비를 뜻한다.장마전선은 18일 제주도 먼 남쪽 해상으로 내려갔다가 20일께 다시 북상해 전남 남해안까지 영향을 줄 것으로 보인다. 이에 따라 20~21일 남부지방에도 예년보다 사흘 정도 장마가 일찍 찾아올 전망이다. 그러나 장마전선을 밀어올리는 북태평양 고기압 세력이 약해 서울 등 중부지방은 평년보다 사나흘가량 늦은 이달 말부터 장마가 시작될 것이라는 게 기상청의 설명이다. 장마전선은 이후 한 달가량 한반도 중남부를 오르내리며 곳곳에 비를 뿌릴 전망이다. 최근 30년간 평균치에 따르면 중부지방의 장마 시작일은 6월24~25일이었으며 장마기간은 32일, 강수일수는 17.2일이었다.기상청은 올해 장마기간의 평균 강수량이 350~400㎜로 평년과 비슷하거나 적을 것으로 내다봤다. 브라질 월드컵 한국과 러시아의 경기가 열리는 18일 오전 서울은 대체로 구름이 많이 끼지만 비는 오지 않을 것으로 예상돼 거리 응원에는 지장이 없을 전망이다.\n"
          ]
        }
      ]
    },
    {
      "cell_type": "code",
      "metadata": {
        "colab": {
          "base_uri": "https://localhost:8080/"
        },
        "id": "bNAR6TkbkV4D",
        "outputId": "62558003-da21-4ffd-c90f-53b5f86919b2"
      },
      "source": [
        "print('첫번째 샘플의 질문')\n",
        "print('-----------------')\n",
        "print(train_questions[0])"
      ],
      "execution_count": 11,
      "outputs": [
        {
          "output_type": "stream",
          "name": "stdout",
          "text": [
            "첫번째 샘플의 질문\n",
            "-----------------\n",
            "북태평양 기단과 오호츠크해 기단이 만나 국내에 머무르는 기간은?\n"
          ]
        }
      ]
    },
    {
      "cell_type": "code",
      "metadata": {
        "colab": {
          "base_uri": "https://localhost:8080/"
        },
        "id": "d3Lab_wnkcEk",
        "outputId": "438302a0-6b08-492a-beda-a92ea4646bb8"
      },
      "source": [
        "print('첫번째 샘플의 답변')\n",
        "print('-----------------')\n",
        "print(train_answers[0])"
      ],
      "execution_count": 12,
      "outputs": [
        {
          "output_type": "stream",
          "name": "stdout",
          "text": [
            "첫번째 샘플의 답변\n",
            "-----------------\n",
            "{'text': '한 달가량', 'answer_start': 478}\n"
          ]
        }
      ]
    },
    {
      "cell_type": "code",
      "source": [
        "print('첫번째 테스트트 데이터터 본문')\n",
        "print('-----------------')\n",
        "print(test_contexts[0])"
      ],
      "metadata": {
        "id": "qM5obE7uvHSQ",
        "outputId": "be40dc3a-ad30-439a-a8c0-9a037e219393",
        "colab": {
          "base_uri": "https://localhost:8080/"
        }
      },
      "execution_count": 13,
      "outputs": [
        {
          "output_type": "stream",
          "name": "stdout",
          "text": [
            "첫번째 테스트트 데이터터 본문\n",
            "-----------------\n",
            "BMW 코리아(대표 한상윤)는 창립 25주년을 기념하는 ‘BMW 코리아 25주년 에디션’을 한정 출시한다고 밝혔다. 이번 BMW 코리아 25주년 에디션(이하 25주년 에디션)은 BMW 3시리즈와 5시리즈, 7시리즈, 8시리즈 총 4종, 6개 모델로 출시되며, BMW 클래식 모델들로 선보인 바 있는 헤리티지 컬러가 차체에 적용돼 레트로한 느낌과 신구의 조화가 어우러진 차별화된 매력을 자랑한다. 먼저 뉴 320i 및 뉴 320d 25주년 에디션은 트림에 따라 옥스포드 그린(50대 한정) 또는 마카오 블루(50대 한정) 컬러가 적용된다. 럭셔리 라인에 적용되는 옥스포드 그린은 지난 1999년 3세대 3시리즈를 통해 처음 선보인 색상으로 짙은 녹색과 풍부한 펄이 오묘한 조화를 이루는 것이 특징이다. M 스포츠 패키지 트림에 적용되는 마카오 블루는 1988년 2세대 3시리즈를 통해 처음 선보인 바 있으며, 보랏빛 감도는 컬러감이 매력이다. 뉴 520d 25주년 에디션(25대 한정)은 프로즌 브릴리언트 화이트 컬러로 출시된다. BMW가 2011년에 처음 선보인 프로즌 브릴리언트 화이트는 한층 더 환하고 깊은 색감을 자랑하며, 특히 표면을 무광으로 마감해 특별함을 더했다. 뉴 530i 25주년 에디션(25대 한정)은 뉴 3시리즈 25주년 에디션에도 적용된 마카오 블루 컬러가 조합된다. 뉴 740Li 25주년 에디션(7대 한정)에는 말라카이트 그린 다크 색상이 적용된다. 잔잔하면서도 오묘한 깊은 녹색을 발산하는 말라카이트 그린 다크는 장식재로 활용되는 광물 말라카이트에서 유래됐다. 뉴 840i xDrive 그란쿠페 25주년 에디션(8대 한정)은 인도양의 맑고 투명한 에메랄드 빛을 연상케 하는 몰디브 블루 컬러로 출시된다. 특히 몰디브 블루는 지난 1993년 1세대 8시리즈에 처음으로 적용되었던 만큼 이를 오마주하는 의미를 담고 있다.\n"
          ]
        }
      ]
    },
    {
      "cell_type": "code",
      "source": [
        "print('첫번째 테스트트 데이터터 질문')\n",
        "print('-----------------')\n",
        "print(test_questions[0])"
      ],
      "metadata": {
        "id": "Gcg-FDAD_LqC",
        "outputId": "804c2957-4a8b-4730-eca6-59658bc650a6",
        "colab": {
          "base_uri": "https://localhost:8080/"
        }
      },
      "execution_count": 14,
      "outputs": [
        {
          "output_type": "stream",
          "name": "stdout",
          "text": [
            "첫번째 테스트트 데이터터 질문\n",
            "-----------------\n",
            "말라카이트에서 나온 색깔을 사용한 에디션은?\n"
          ]
        }
      ]
    },
    {
      "cell_type": "code",
      "metadata": {
        "id": "iFOAz29Ckgpj"
      },
      "source": [
        "def add_end_idx(answers, contexts):\n",
        "    for answer, context in zip(answers, contexts):\n",
        "        answer['text'] = answer['text'].rstrip()\n",
        "        gold_text = answer['text']\n",
        "        start_idx = answer['answer_start']\n",
        "        end_idx = start_idx + len(gold_text)\n",
        "        assert context[start_idx:end_idx] == gold_text, \"end_index 계산에 에러가 있습니다.\"\n",
        "        answer['answer_end'] = end_idx\n",
        "\n",
        "add_end_idx(train_answers, train_contexts)\n",
        "add_end_idx(val_answers, val_contexts)"
      ],
      "execution_count": 15,
      "outputs": []
    },
    {
      "cell_type": "code",
      "source": [
        "print('첫번째 샘플의 답변')\n",
        "print('-----------------')\n",
        "print(train_answers[1])"
      ],
      "metadata": {
        "colab": {
          "base_uri": "https://localhost:8080/"
        },
        "id": "_YsASPfnuMx3",
        "outputId": "ca5712d8-01fe-4159-e3bc-5068278a1a44"
      },
      "execution_count": 16,
      "outputs": [
        {
          "output_type": "stream",
          "name": "stdout",
          "text": [
            "첫번째 샘플의 답변\n",
            "-----------------\n",
            "{'text': '한 달', 'answer_start': 478, 'answer_end': 481}\n"
          ]
        }
      ]
    },
    {
      "cell_type": "code",
      "source": [
        "train_contexts[0][478]"
      ],
      "metadata": {
        "colab": {
          "base_uri": "https://localhost:8080/",
          "height": 37
        },
        "id": "wNV9Wp3zDRPI",
        "outputId": "384ed31a-ec76-4adf-ea6c-c2e288b45d3b"
      },
      "execution_count": 17,
      "outputs": [
        {
          "output_type": "execute_result",
          "data": {
            "text/plain": [
              "'한'"
            ],
            "application/vnd.google.colaboratory.intrinsic+json": {
              "type": "string"
            }
          },
          "metadata": {},
          "execution_count": 17
        }
      ]
    },
    {
      "cell_type": "code",
      "source": [
        "train_contexts[0][479]"
      ],
      "metadata": {
        "colab": {
          "base_uri": "https://localhost:8080/",
          "height": 37
        },
        "id": "6W72nVbmDUa5",
        "outputId": "b95e59a5-eac1-4c7e-d844-6c42426c95af"
      },
      "execution_count": 18,
      "outputs": [
        {
          "output_type": "execute_result",
          "data": {
            "text/plain": [
              "' '"
            ],
            "application/vnd.google.colaboratory.intrinsic+json": {
              "type": "string"
            }
          },
          "metadata": {},
          "execution_count": 18
        }
      ]
    },
    {
      "cell_type": "code",
      "source": [
        "train_contexts[0][480]"
      ],
      "metadata": {
        "colab": {
          "base_uri": "https://localhost:8080/",
          "height": 37
        },
        "id": "IvHSPjTIDSDY",
        "outputId": "5e062edd-70ae-4a00-94d0-3bfc61105512"
      },
      "execution_count": 19,
      "outputs": [
        {
          "output_type": "execute_result",
          "data": {
            "text/plain": [
              "'달'"
            ],
            "application/vnd.google.colaboratory.intrinsic+json": {
              "type": "string"
            }
          },
          "metadata": {},
          "execution_count": 19
        }
      ]
    },
    {
      "cell_type": "code",
      "source": [
        "train_contexts[0][481]"
      ],
      "metadata": {
        "id": "wsYJd_z9p5Eo",
        "outputId": "094f291f-9518-434a-f228-ec4519160175",
        "colab": {
          "base_uri": "https://localhost:8080/",
          "height": 37
        }
      },
      "execution_count": 20,
      "outputs": [
        {
          "output_type": "execute_result",
          "data": {
            "text/plain": [
              "'가'"
            ],
            "application/vnd.google.colaboratory.intrinsic+json": {
              "type": "string"
            }
          },
          "metadata": {},
          "execution_count": 20
        }
      ]
    },
    {
      "cell_type": "code",
      "source": [
        "train_contexts[0][482]"
      ],
      "metadata": {
        "id": "iupJx4CRp74R",
        "outputId": "1b24c424-8a8b-481c-d7e9-b400522e7225",
        "colab": {
          "base_uri": "https://localhost:8080/",
          "height": 37
        }
      },
      "execution_count": 21,
      "outputs": [
        {
          "output_type": "execute_result",
          "data": {
            "text/plain": [
              "'량'"
            ],
            "application/vnd.google.colaboratory.intrinsic+json": {
              "type": "string"
            }
          },
          "metadata": {},
          "execution_count": 21
        }
      ]
    },
    {
      "cell_type": "code",
      "metadata": {
        "colab": {
          "base_uri": "https://localhost:8080/",
          "height": 37
        },
        "id": "YpUdq0ZJlmzy",
        "outputId": "b403e997-f81e-4eac-8b8f-c0e0f8de23b5"
      },
      "source": [
        "train_contexts[0][478:483]"
      ],
      "execution_count": 22,
      "outputs": [
        {
          "output_type": "execute_result",
          "data": {
            "text/plain": [
              "'한 달가량'"
            ],
            "application/vnd.google.colaboratory.intrinsic+json": {
              "type": "string"
            }
          },
          "metadata": {},
          "execution_count": 22
        }
      ]
    },
    {
      "cell_type": "code",
      "metadata": {
        "id": "t8r9Dg5wlwRY"
      },
      "source": [
        "tokenizer = BertTokenizerFast.from_pretrained('klue/bert-base')\n",
        "\n",
        "train_encodings = tokenizer(train_contexts, train_questions, truncation=True, padding=True)\n",
        "val_encodings = tokenizer(val_contexts, val_questions, truncation=True, padding=True)\n",
        "test_encodings = tokenizer(test_contexts, test_questions, truncation=True, padding=True)"
      ],
      "execution_count": 26,
      "outputs": []
    },
    {
      "cell_type": "code",
      "metadata": {
        "id": "CBi_gkfJmz8a"
      },
      "source": [
        "def add_token_positions(encodings, answers):\n",
        "    start_positions = []\n",
        "    end_positions = []\n",
        "    deleting_list = []\n",
        "\n",
        "    for i in tqdm(range(len(answers))):\n",
        "        start_positions.append(encodings.char_to_token(i, answers[i]['answer_start']))\n",
        "        end_positions.append(encodings.char_to_token(i, answers[i]['answer_end'] - 1))\n",
        "\n",
        "        if start_positions[-1] is None:\n",
        "            start_positions[-1] = tokenizer.model_max_length\n",
        "            deleting_list.append(i)\n",
        "\n",
        "        if end_positions[-1] is None:\n",
        "            end_positions[-1] = tokenizer.model_max_length\n",
        "            if i not in deleting_list:\n",
        "              deleting_list.append(i)\n",
        "\n",
        "    encodings.update({'start_positions': start_positions, 'end_positions': end_positions})\n",
        "    return deleting_list"
      ],
      "execution_count": 25,
      "outputs": []
    },
    {
      "cell_type": "code",
      "metadata": {
        "colab": {
          "base_uri": "https://localhost:8080/"
        },
        "id": "1jTSl_b-nKrK",
        "outputId": "716871b7-9569-4b1d-8740-c9353f9d41f7"
      },
      "source": [
        "deleting_list_for_train = add_token_positions(train_encodings, train_answers)\n",
        "deleting_list_for_test = add_token_positions(val_encodings, val_answers)"
      ],
      "execution_count": 34,
      "outputs": [
        {
          "output_type": "stream",
          "name": "stderr",
          "text": [
            "100%|██████████| 17663/17663 [00:00<00:00, 178407.74it/s]\n",
            "100%|██████████| 5774/5774 [00:00<00:00, 210139.19it/s]\n"
          ]
        }
      ]
    },
    {
      "cell_type": "code",
      "metadata": {
        "id": "DOMeaI-pnxnS"
      },
      "source": [
        "def delete_samples(encodings, deleting_list):\n",
        "  input_ids = np.delete(np.array(encodings['input_ids']), deleting_list, axis=0)\n",
        "  attention_masks = np.delete(np.array(encodings['attention_mask']), deleting_list, axis=0)\n",
        "  start_positions = np.delete(np.array(encodings['start_positions']), deleting_list, axis=0)\n",
        "  end_positions = np.delete(np.array(encodings['end_positions']), deleting_list, axis=0)\n",
        "\n",
        "  X_data = [input_ids, attention_masks]\n",
        "  y_data = [start_positions, end_positions]\n",
        "\n",
        "  return X_data, y_data"
      ],
      "execution_count": 35,
      "outputs": []
    },
    {
      "cell_type": "code",
      "source": [
        "def for_test(encodings):\n",
        "  input_ids = np.array(encodings['input_ids'])\n",
        "  attention_masks = np.array(encodings['attention_mask'])\n",
        "\n",
        "  X_data = [input_ids, attention_masks]\n",
        "\n",
        "  return X_data  "
      ],
      "metadata": {
        "id": "38wAwqjFWl8Y"
      },
      "execution_count": 39,
      "outputs": []
    },
    {
      "cell_type": "code",
      "source": [
        "X_test = for_test(test_encodings)"
      ],
      "metadata": {
        "id": "3ImO8GnGXAI_"
      },
      "execution_count": 40,
      "outputs": []
    },
    {
      "cell_type": "code",
      "metadata": {
        "id": "-Vm7xymqoR76"
      },
      "source": [
        "X_train, y_train = delete_samples(train_encodings, deleting_list_for_train)\n",
        "X_val, y_val = delete_samples(val_encodings, deleting_list_for_test)"
      ],
      "execution_count": 36,
      "outputs": []
    },
    {
      "cell_type": "code",
      "metadata": {
        "colab": {
          "base_uri": "https://localhost:8080/"
        },
        "id": "ap-kRqsjzyQ-",
        "outputId": "1f38fda2-96de-4b6c-bf13-f2fd764ac79f"
      },
      "source": [
        "# TPU 작동을 위한 코드 TPU 작동을 위한 코드\n",
        "resolver = tf.distribute.cluster_resolver.TPUClusterResolver(tpu='grpc://' + os.environ['COLAB_TPU_ADDR'])\n",
        "tf.config.experimental_connect_to_cluster(resolver)\n",
        "tf.tpu.experimental.initialize_tpu_system(resolver)"
      ],
      "execution_count": 42,
      "outputs": [
        {
          "output_type": "stream",
          "name": "stdout",
          "text": [
            "INFO:tensorflow:Deallocate tpu buffers before initializing tpu system.\n"
          ]
        },
        {
          "output_type": "stream",
          "name": "stderr",
          "text": [
            "INFO:tensorflow:Deallocate tpu buffers before initializing tpu system.\n"
          ]
        },
        {
          "output_type": "stream",
          "name": "stdout",
          "text": [
            "INFO:tensorflow:Initializing the TPU system: grpc://10.0.169.218:8470\n"
          ]
        },
        {
          "output_type": "stream",
          "name": "stderr",
          "text": [
            "INFO:tensorflow:Initializing the TPU system: grpc://10.0.169.218:8470\n"
          ]
        },
        {
          "output_type": "stream",
          "name": "stdout",
          "text": [
            "INFO:tensorflow:Finished initializing TPU system.\n"
          ]
        },
        {
          "output_type": "stream",
          "name": "stderr",
          "text": [
            "INFO:tensorflow:Finished initializing TPU system.\n"
          ]
        },
        {
          "output_type": "execute_result",
          "data": {
            "text/plain": [
              "<tensorflow.python.tpu.topology.Topology at 0x7feb4151e3d0>"
            ]
          },
          "metadata": {},
          "execution_count": 42
        }
      ]
    },
    {
      "cell_type": "code",
      "metadata": {
        "colab": {
          "base_uri": "https://localhost:8080/"
        },
        "id": "6brgax5s0EgV",
        "outputId": "6fa25b80-be8d-44d3-957e-c503b616b28f"
      },
      "source": [
        "strategy = tf.distribute.TPUStrategy(resolver)"
      ],
      "execution_count": 43,
      "outputs": [
        {
          "output_type": "stream",
          "name": "stdout",
          "text": [
            "INFO:tensorflow:Found TPU system:\n"
          ]
        },
        {
          "output_type": "stream",
          "name": "stderr",
          "text": [
            "INFO:tensorflow:Found TPU system:\n"
          ]
        },
        {
          "output_type": "stream",
          "name": "stdout",
          "text": [
            "INFO:tensorflow:*** Num TPU Cores: 8\n"
          ]
        },
        {
          "output_type": "stream",
          "name": "stderr",
          "text": [
            "INFO:tensorflow:*** Num TPU Cores: 8\n"
          ]
        },
        {
          "output_type": "stream",
          "name": "stdout",
          "text": [
            "INFO:tensorflow:*** Num TPU Workers: 1\n"
          ]
        },
        {
          "output_type": "stream",
          "name": "stderr",
          "text": [
            "INFO:tensorflow:*** Num TPU Workers: 1\n"
          ]
        },
        {
          "output_type": "stream",
          "name": "stdout",
          "text": [
            "INFO:tensorflow:*** Num TPU Cores Per Worker: 8\n"
          ]
        },
        {
          "output_type": "stream",
          "name": "stderr",
          "text": [
            "INFO:tensorflow:*** Num TPU Cores Per Worker: 8\n"
          ]
        },
        {
          "output_type": "stream",
          "name": "stdout",
          "text": [
            "INFO:tensorflow:*** Available Device: _DeviceAttributes(/job:localhost/replica:0/task:0/device:CPU:0, CPU, 0, 0)\n"
          ]
        },
        {
          "output_type": "stream",
          "name": "stderr",
          "text": [
            "INFO:tensorflow:*** Available Device: _DeviceAttributes(/job:localhost/replica:0/task:0/device:CPU:0, CPU, 0, 0)\n"
          ]
        },
        {
          "output_type": "stream",
          "name": "stdout",
          "text": [
            "INFO:tensorflow:*** Available Device: _DeviceAttributes(/job:worker/replica:0/task:0/device:CPU:0, CPU, 0, 0)\n"
          ]
        },
        {
          "output_type": "stream",
          "name": "stderr",
          "text": [
            "INFO:tensorflow:*** Available Device: _DeviceAttributes(/job:worker/replica:0/task:0/device:CPU:0, CPU, 0, 0)\n"
          ]
        },
        {
          "output_type": "stream",
          "name": "stdout",
          "text": [
            "INFO:tensorflow:*** Available Device: _DeviceAttributes(/job:worker/replica:0/task:0/device:TPU:0, TPU, 0, 0)\n"
          ]
        },
        {
          "output_type": "stream",
          "name": "stderr",
          "text": [
            "INFO:tensorflow:*** Available Device: _DeviceAttributes(/job:worker/replica:0/task:0/device:TPU:0, TPU, 0, 0)\n"
          ]
        },
        {
          "output_type": "stream",
          "name": "stdout",
          "text": [
            "INFO:tensorflow:*** Available Device: _DeviceAttributes(/job:worker/replica:0/task:0/device:TPU:1, TPU, 0, 0)\n"
          ]
        },
        {
          "output_type": "stream",
          "name": "stderr",
          "text": [
            "INFO:tensorflow:*** Available Device: _DeviceAttributes(/job:worker/replica:0/task:0/device:TPU:1, TPU, 0, 0)\n"
          ]
        },
        {
          "output_type": "stream",
          "name": "stdout",
          "text": [
            "INFO:tensorflow:*** Available Device: _DeviceAttributes(/job:worker/replica:0/task:0/device:TPU:2, TPU, 0, 0)\n"
          ]
        },
        {
          "output_type": "stream",
          "name": "stderr",
          "text": [
            "INFO:tensorflow:*** Available Device: _DeviceAttributes(/job:worker/replica:0/task:0/device:TPU:2, TPU, 0, 0)\n"
          ]
        },
        {
          "output_type": "stream",
          "name": "stdout",
          "text": [
            "INFO:tensorflow:*** Available Device: _DeviceAttributes(/job:worker/replica:0/task:0/device:TPU:3, TPU, 0, 0)\n"
          ]
        },
        {
          "output_type": "stream",
          "name": "stderr",
          "text": [
            "INFO:tensorflow:*** Available Device: _DeviceAttributes(/job:worker/replica:0/task:0/device:TPU:3, TPU, 0, 0)\n"
          ]
        },
        {
          "output_type": "stream",
          "name": "stdout",
          "text": [
            "INFO:tensorflow:*** Available Device: _DeviceAttributes(/job:worker/replica:0/task:0/device:TPU:4, TPU, 0, 0)\n"
          ]
        },
        {
          "output_type": "stream",
          "name": "stderr",
          "text": [
            "INFO:tensorflow:*** Available Device: _DeviceAttributes(/job:worker/replica:0/task:0/device:TPU:4, TPU, 0, 0)\n"
          ]
        },
        {
          "output_type": "stream",
          "name": "stdout",
          "text": [
            "INFO:tensorflow:*** Available Device: _DeviceAttributes(/job:worker/replica:0/task:0/device:TPU:5, TPU, 0, 0)\n"
          ]
        },
        {
          "output_type": "stream",
          "name": "stderr",
          "text": [
            "INFO:tensorflow:*** Available Device: _DeviceAttributes(/job:worker/replica:0/task:0/device:TPU:5, TPU, 0, 0)\n"
          ]
        },
        {
          "output_type": "stream",
          "name": "stdout",
          "text": [
            "INFO:tensorflow:*** Available Device: _DeviceAttributes(/job:worker/replica:0/task:0/device:TPU:6, TPU, 0, 0)\n"
          ]
        },
        {
          "output_type": "stream",
          "name": "stderr",
          "text": [
            "INFO:tensorflow:*** Available Device: _DeviceAttributes(/job:worker/replica:0/task:0/device:TPU:6, TPU, 0, 0)\n"
          ]
        },
        {
          "output_type": "stream",
          "name": "stdout",
          "text": [
            "INFO:tensorflow:*** Available Device: _DeviceAttributes(/job:worker/replica:0/task:0/device:TPU:7, TPU, 0, 0)\n"
          ]
        },
        {
          "output_type": "stream",
          "name": "stderr",
          "text": [
            "INFO:tensorflow:*** Available Device: _DeviceAttributes(/job:worker/replica:0/task:0/device:TPU:7, TPU, 0, 0)\n"
          ]
        },
        {
          "output_type": "stream",
          "name": "stdout",
          "text": [
            "INFO:tensorflow:*** Available Device: _DeviceAttributes(/job:worker/replica:0/task:0/device:TPU_SYSTEM:0, TPU_SYSTEM, 0, 0)\n"
          ]
        },
        {
          "output_type": "stream",
          "name": "stderr",
          "text": [
            "INFO:tensorflow:*** Available Device: _DeviceAttributes(/job:worker/replica:0/task:0/device:TPU_SYSTEM:0, TPU_SYSTEM, 0, 0)\n"
          ]
        },
        {
          "output_type": "stream",
          "name": "stdout",
          "text": [
            "INFO:tensorflow:*** Available Device: _DeviceAttributes(/job:worker/replica:0/task:0/device:XLA_CPU:0, XLA_CPU, 0, 0)\n"
          ]
        },
        {
          "output_type": "stream",
          "name": "stderr",
          "text": [
            "INFO:tensorflow:*** Available Device: _DeviceAttributes(/job:worker/replica:0/task:0/device:XLA_CPU:0, XLA_CPU, 0, 0)\n"
          ]
        }
      ]
    },
    {
      "cell_type": "code",
      "metadata": {
        "id": "lJz0XjqxGIQH"
      },
      "source": [
        "from transformers import TFBertModel"
      ],
      "execution_count": 44,
      "outputs": []
    },
    {
      "cell_type": "code",
      "metadata": {
        "id": "QEnN8hK9EM6G"
      },
      "source": [
        "class TFBertForQuestionAnswering(tf.keras.Model):\n",
        "    def __init__(self, model_name):\n",
        "        super(TFBertForQuestionAnswering, self).__init__()\n",
        "        self.bert = TFBertModel.from_pretrained(model_name, from_pt=True)\n",
        "        self.qa_outputs = tf.keras.layers.Dense(2,\n",
        "                                                kernel_initializer=tf.keras.initializers.TruncatedNormal(0.02),\n",
        "                                                name='qa_outputs')\n",
        "        self.softmax = tf.keras.layers.Activation(tf.keras.activations.softmax)\n",
        "\n",
        "    def call(self, inputs):\n",
        "        input_ids, attention_mask = inputs\n",
        "        outputs = self.bert(input_ids, attention_mask=attention_mask)\n",
        "    \n",
        "        sequence_output = outputs[0]\n",
        "\n",
        "        logits = self.qa_outputs(sequence_output)\n",
        "        start_logits, end_logits = tf.split(logits, 2, axis=-1)\n",
        "\n",
        "        # start_logits = (batch_size, sequence_length,)\n",
        "        # end_logits = (batch_size, sequence_length,)\n",
        "        start_logits = tf.squeeze(start_logits, axis=-1)\n",
        "        end_logits = tf.squeeze(end_logits, axis=-1)\n",
        "\n",
        "        start_probs = self.softmax(start_logits)\n",
        "        end_probs = self.softmax(end_logits)\n",
        "\n",
        "        return start_probs, end_probs"
      ],
      "execution_count": 45,
      "outputs": []
    },
    {
      "cell_type": "code",
      "metadata": {
        "colab": {
          "base_uri": "https://localhost:8080/",
          "height": 154,
          "referenced_widgets": [
            "e8f95211c58a4ed889d6e74fe3283373",
            "37b7068260f846048b57e76342423927",
            "859b931c5bc04d34af75b65008c69143",
            "d75ee7fb3a7148b5ae9f5f5d1a994194",
            "f24303e4c3b14a4dbc3682bd980d3995",
            "31d76c63a8974f668b7ffcad066f0355",
            "e950f0dab8fd406bb1206e53ff56c23c",
            "55bf6a85bdac4e91bc0704ff28a09d59",
            "c63356dc6bc84d15a91a2152978b3c94",
            "e8cb6dec684344da894c16a234c0c59a",
            "67c808eeb8eb48ff80a478e78fc830f7"
          ]
        },
        "id": "8Y3NwpKCF4b9",
        "outputId": "0bb615cb-1609-4e14-c9b9-24f960b7545c"
      },
      "source": [
        "# 신규\n",
        "with strategy.scope():\n",
        "  model = TFBertForQuestionAnswering(\"klue/bert-base\")\n",
        "  optimizer = tf.keras.optimizers.Adam(learning_rate=5e-5)\n",
        "  loss = tf.keras.losses.SparseCategoricalCrossentropy(from_logits=False)\n",
        "  model.compile(optimizer=optimizer, loss=loss)"
      ],
      "execution_count": 46,
      "outputs": [
        {
          "output_type": "display_data",
          "data": {
            "text/plain": [
              "Downloading:   0%|          | 0.00/424M [00:00<?, ?B/s]"
            ],
            "application/vnd.jupyter.widget-view+json": {
              "version_major": 2,
              "version_minor": 0,
              "model_id": "e8f95211c58a4ed889d6e74fe3283373"
            }
          },
          "metadata": {}
        },
        {
          "output_type": "stream",
          "name": "stderr",
          "text": [
            "Some weights of the PyTorch model were not used when initializing the TF 2.0 model TFBertModel: ['cls.predictions.bias', 'cls.predictions.decoder.bias', 'bert.embeddings.position_ids', 'cls.seq_relationship.bias', 'cls.predictions.transform.dense.bias', 'cls.predictions.transform.LayerNorm.bias', 'cls.predictions.transform.LayerNorm.weight', 'cls.seq_relationship.weight', 'cls.predictions.decoder.weight', 'cls.predictions.transform.dense.weight']\n",
            "- This IS expected if you are initializing TFBertModel from a PyTorch model trained on another task or with another architecture (e.g. initializing a TFBertForSequenceClassification model from a BertForPreTraining model).\n",
            "- This IS NOT expected if you are initializing TFBertModel from a PyTorch model that you expect to be exactly identical (e.g. initializing a TFBertForSequenceClassification model from a BertForSequenceClassification model).\n",
            "All the weights of TFBertModel were initialized from the PyTorch model.\n",
            "If your task is similar to the task the model of the checkpoint was trained on, you can already use TFBertModel for predictions without further training.\n"
          ]
        }
      ]
    },
    {
      "cell_type": "code",
      "metadata": {
        "colab": {
          "base_uri": "https://localhost:8080/"
        },
        "id": "C4xS9Zii2qIK",
        "outputId": "bd9710fb-5784-4955-a2e6-7b5584240cb2"
      },
      "source": [
        "history = model.fit(\n",
        "    X_train,\n",
        "    y_train,\n",
        "    epochs=3,\n",
        "    verbose=1,\n",
        "    batch_size=16,\n",
        ")"
      ],
      "execution_count": 47,
      "outputs": [
        {
          "output_type": "stream",
          "name": "stdout",
          "text": [
            "Epoch 1/3\n",
            "WARNING:tensorflow:Gradients do not exist for variables ['tf_bert_model/bert/pooler/dense/kernel:0', 'tf_bert_model/bert/pooler/dense/bias:0'] when minimizing the loss. If you're using `model.compile()`, did you forget to provide a `loss`argument?\n"
          ]
        },
        {
          "output_type": "stream",
          "name": "stderr",
          "text": [
            "WARNING:tensorflow:Gradients do not exist for variables ['tf_bert_model/bert/pooler/dense/kernel:0', 'tf_bert_model/bert/pooler/dense/bias:0'] when minimizing the loss. If you're using `model.compile()`, did you forget to provide a `loss`argument?\n"
          ]
        },
        {
          "output_type": "stream",
          "name": "stdout",
          "text": [
            "WARNING:tensorflow:Gradients do not exist for variables ['tf_bert_model/bert/pooler/dense/kernel:0', 'tf_bert_model/bert/pooler/dense/bias:0'] when minimizing the loss. If you're using `model.compile()`, did you forget to provide a `loss`argument?\n"
          ]
        },
        {
          "output_type": "stream",
          "name": "stderr",
          "text": [
            "WARNING:tensorflow:Gradients do not exist for variables ['tf_bert_model/bert/pooler/dense/kernel:0', 'tf_bert_model/bert/pooler/dense/bias:0'] when minimizing the loss. If you're using `model.compile()`, did you forget to provide a `loss`argument?\n"
          ]
        },
        {
          "output_type": "stream",
          "name": "stdout",
          "text": [
            "1013/1013 [==============================] - 166s 96ms/step - loss: 3.2800 - output_1_loss: 1.5232 - output_2_loss: 1.7568\n",
            "Epoch 2/3\n",
            "1013/1013 [==============================] - 97s 96ms/step - loss: 1.8034 - output_1_loss: 0.7972 - output_2_loss: 1.0062\n",
            "Epoch 3/3\n",
            "1013/1013 [==============================] - 97s 96ms/step - loss: 1.3561 - output_1_loss: 0.5820 - output_2_loss: 0.7740\n"
          ]
        }
      ]
    },
    {
      "cell_type": "code",
      "source": [
        "def predict_val_data_by_idx(idx):\n",
        "  context = tokenizer.decode(X_val[0][idx]).split('[SEP] ')[0]\n",
        "  question = tokenizer.decode(X_val[0][idx]).split('[SEP] ')[1]\n",
        "  print('본문 :', context)\n",
        "  print('질문 :', question)\n",
        "  answer_encoded = X_val[0][idx][y_val[0][idx]:y_val[1][idx]+1]\n",
        "  print('정답 :',tokenizer.decode(answer_encoded))\n",
        "  output = model([tf.constant(X_val[0][idx])[None, :], tf.constant(X_val[1][idx])[None, :]])\n",
        "  start = tf.math.argmax(tf.squeeze(output[0]))\n",
        "  end = tf.math.argmax(tf.squeeze(output[1]))+1\n",
        "  answer_encoded = X_val[0][idx][start:end]\n",
        "  print('예측 :',tokenizer.decode(answer_encoded))\n",
        "  print('----------------------------------------')"
      ],
      "metadata": {
        "id": "Sum2-2M03n2D"
      },
      "execution_count": 398,
      "outputs": []
    },
    {
      "cell_type": "code",
      "source": [
        "def predict_test_data_by_idx(idx):\n",
        "  context = tokenizer.decode(X_test[0][idx]).split('[SEP] ')[0]\n",
        "  question = tokenizer.decode(X_test[0][idx]).split('[SEP] ')[1]\n",
        "  print('본문 :', context)\n",
        "  print('질문 :', question)\n",
        "  output = model([tf.constant(X_test[0][idx])[None, :], tf.constant(X_test[1][idx])[None, :]])\n",
        "  start = tf.math.argmax(tf.squeeze(output[0]))\n",
        "  end = tf.math.argmax(tf.squeeze(output[1]))+1\n",
        "  answer_encoded = X_test[0][idx][start:end]\n",
        "  print('예측 :',tokenizer.decode(answer_encoded))\n",
        "  print('----------------------------------------')"
      ],
      "metadata": {
        "id": "wBmFl-MYXRZ8"
      },
      "execution_count": 41,
      "outputs": []
    },
    {
      "cell_type": "code",
      "source": [
        "for i in range(0, 100):\n",
        "  predict_test_data_by_idx(i)"
      ],
      "metadata": {
        "colab": {
          "base_uri": "https://localhost:8080/"
        },
        "id": "4IKiD7v97xbq",
        "outputId": "5bb9f649-808c-4ec0-af05-3d5d48256988"
      },
      "execution_count": 48,
      "outputs": [
        {
          "output_type": "stream",
          "name": "stdout",
          "text": [
            "본문 : [CLS] BMW 코리아 ( 대표 한상윤 ) 는 창립 25주년을 기념하는 ‘ BMW 코리아 25주년 에디션 ’ 을 한정 출시한다고 밝혔다. 이번 BMW 코리아 25주년 에디션 ( 이하 25주년 에디션 ) 은 BMW 3시리즈와 5시리즈, 7시리즈, 8시리즈 총 4종, 6개 모델로 출시되며, BMW 클래식 모델들로 선보인 바 있는 헤리티지 컬러가 차체에 적용돼 레트로한 느낌과 신구의 조화가 어우러진 차별화된 매력을 자랑한다. 먼저 뉴 320i 및 뉴 320d 25주년 에디션은 트림에 따라 옥스포드 그린 ( 50대 한정 ) 또는 마카오 블루 ( 50대 한정 ) 컬러가 적용된다. 럭셔리 라인에 적용되는 옥스포드 그린은 지난 1999년 3세대 3시리즈를 통해 처음 선보인 색상으로 짙은 녹색과 풍부한 펄이 오묘한 조화를 이루는 것이 특징이다. M 스포츠 패키지 트림에 적용되는 마카오 블루는 1988년 2세대 3시리즈를 통해 처음 선보인 바 있으며, 보랏빛 감도는 컬러감이 매력이다. 뉴 520d 25주년 에디션 ( 25대 한정 ) 은 프로즌 브릴리언트 화이트 컬러로 출시된다. BMW가 2011년에 처음 선보인 프로즌 브릴리언트 화이트는 한층 더 환하고 깊은 색감을 자랑하며, 특히 표면을 무광으로 마감해 특별함을 더했다. 뉴 530i 25주년 에디션 ( 25대 한정 ) 은 뉴 3시리즈 25주년 에디션에도 적용된 마카오 블루 컬러가 조합된다. 뉴 740Li 25주년 에디션 ( 7대 한정 ) 에는 말라카이트 그린 다크 색상이 적용된다. 잔잔하면서도 오묘한 깊은 녹색을 발산하는 말라카이트 그린 다크는 장식재로 활용되는 광물 말라카이트에서 유래됐다. 뉴 840i xDrive 그란쿠페 25주년 에디션 ( 8대 한정 ) 은 인도양의 맑고 투명한 에메랄드 빛을 연상케 하는 몰디브 블루 컬러로 출시된다. 특히 몰디브 블루는 지난 1993년 1세대 8시리즈에 처음으로 적용되었던 만큼 이를 오마주하는 의미를 담고 있다. \n",
            "질문 : 말라카이트에서 나온 색깔을 사용한 에디션은? \n",
            "예측 : 뉴 740Li 25주년 에디션\n",
            "----------------------------------------\n",
            "본문 : [CLS] 프랑스 남부 알프스에 떨어져 150명의 사망자를 낸 저먼윙스 여객기는 부조종사가 의도적으로 추락시킨 것으로 보인다고 프랑스 검찰이 26일 발표했다. AFP통신 등에 따르면 사건을 조사 중인 프랑스 검찰의 브리스 로뱅 검사는 이날 기자회견을 열어 “ 조종실 음성녹음장치를 확인한 결과 조종사가 조종실 밖으로 나간 사이 부조종사가 의도적으로 여객기를 파괴하려 한 것 같다 ” 고 밝혔다. 로뱅 검사는 “ 부조종사가 의도적으로 여객기 하강버튼을 눌렀고, 여객기의 하강속도가 빨라졌다 ” 며 “ 사고 직전 조종석 밖에 있던 조종사가 문을 여러 차례 두드리고 소리를 질렀지만, 부조종사는 문을 열지 않았다 ” 고 설명했다. 그는 “ 마지막 순간까지 부조종사의 호흡은 정상이었으며 조종실에서는 침묵이 흘렀다 ” 고 덧붙였다. 부조종사는 28세인 독일 국적의 안드레아스 루비츠로, 1년6개월 전 조종간을 잡기 시작했으며 비행시간 경력은 630시간인 것으로 파악됐다. 로뱅 검사는 “ 부조종사의 테러 연관성은 확인되지 않았다 ” 며 “ 테러 공격이라고 의심할 만한 이유는 없다 ” 고 말했다. 저먼윙스 여객기는 지난 24일 스페인 바르셀로나에서 독일 뒤셀도르프로 향하던 중 마지막 교신이 이뤄지고 나서 약 8분간 3만2000피트 ( 약 9754ｍ ) 를 급강하해 알프스 산을 들이받았다. 로뱅 검사는 “ 여객기가 추락할 때 프랑스 관제탑이 ‘ 메이데이 ’ 라는 조난신호를 받지 못했다 ” 고 말했다. 이 사고로 승객 144명과 승무원 6명 등 탑승자 150명이 모두 사망했다. \n",
            "질문 : 사고 비행기의 목적지는? \n",
            "예측 : 독일 뒤셀도르프로\n",
            "----------------------------------------\n",
            "본문 : [CLS] 가장 일하고 싶은 회사로 미국 컨설팅 업체인 베인 & 컴퍼니가 선정됐다. 트위터와 링크트인, 페이스북 등 정보기술 ( IT ) 기업에 대한 선호도 높게 나타났다. 미국 경제전문지 포브스는 “ 채용 사이트인 글라스도어가 미국에서 일하는 50만명의 직장인을 대상으로 설문조사를 벌여 ‘ 2014년 일하고 싶은 50대 회사 ’ 를 선정했다 ” 고 11일 ( 현지시간 ) 보도했다. 베인 & 컴퍼니는 2012년에 이어 두 번째로 1위에 올랐다. 하는 일이 재미있고 일이 영향력이 있으며, 함께 일하는 사람들이 똑똑해서 많이 배울 수 있다는 것 등이 직원들이 베인 & 컴퍼니에 만족하는 주된 이유였다. 서맨사 주판 글라스도어 대변인은 “ 베인 & 컴퍼니 직원들은 늘 새로운 것을 배울 수 있고 도전적인 일이 많아 하루도 지루한 날이 없다고 평가했다 ” 며 “ 이런 경험은 회사를 그만둔 후에도 개인 경력에 도움이 된다 ” 고 말했다. 트위터가 2위를 차지했다. 트위터 직원들은 복잡하고 중요한 일을 매일 하면서 전 세계 수백만명의 사용자들과 소통할 수 있다는 점을 회사에 다니고 싶은 이유로 꼽았다. 트위터에 이어 링크트인과 페이스북이 각각 3위, 5위를 차지하는 등 IT 기업의 선전도 눈에 띄었다. 글라스도어는 “ 톱 50 가운데 22개가 IT 기업 ” 이라며 “ 서로 더 좋은 인재를 영입하고, 기존의 인재를 뺏기지 않기 위해 경쟁하는 것이 더 매력적인 기업환경을 만들기 위한 노력으로 이어지고 있다 ” 고 설명했다. 2009년부터 일하고 싶은 회사를 선정해 발표하고 있는 글라스도어는 2012년 11월부터 지난달까지 회사에 대한 만족도, 임금이나 복지 혜택, 일과 가정 사이의 균형, 경영자에 대한 평가 등 18개의 질문으로 구성된 설문조사를 실시했다. 글라스도어는 “ 구직자들이 어느 회사에서 일할지 결정하는 데 좋은 정보를 주는 자료 ” 라며 “ 특히 현장에서 일하는 직원의 평가라는 점에서 리스트에 오른 기업들은 자부심을 가져도 될 것 ” 이라고 평가했다. 상위권에 오른 기업들은 공통점을 \n",
            "질문 : 2014년 일하고 싶은 50대 회사 중에서 5위로 선정된 기업은? [SEP]\n",
            "예측 : 링크트인\n",
            "----------------------------------------\n",
            "본문 : [CLS] 가장 일하고 싶은 회사로 미국 컨설팅 업체인 베인 & 컴퍼니가 선정됐다. 트위터와 링크트인, 페이스북 등 정보기술 ( IT ) 기업에 대한 선호도 높게 나타났다. 미국 경제전문지 포브스는 “ 채용 사이트인 글라스도어가 미국에서 일하는 50만명의 직장인을 대상으로 설문조사를 벌여 ‘ 2014년 일하고 싶은 50대 회사 ’ 를 선정했다 ” 고 11일 ( 현지시간 ) 보도했다. 베인 & 컴퍼니는 2012년에 이어 두 번째로 1위에 올랐다. 하는 일이 재미있고 일이 영향력이 있으며, 함께 일하는 사람들이 똑똑해서 많이 배울 수 있다는 것 등이 직원들이 베인 & 컴퍼니에 만족하는 주된 이유였다. 서맨사 주판 글라스도어 대변인은 “ 베인 & 컴퍼니 직원들은 늘 새로운 것을 배울 수 있고 도전적인 일이 많아 하루도 지루한 날이 없다고 평가했다 ” 며 “ 이런 경험은 회사를 그만둔 후에도 개인 경력에 도움이 된다 ” 고 말했다. 트위터가 2위를 차지했다. 트위터 직원들은 복잡하고 중요한 일을 매일 하면서 전 세계 수백만명의 사용자들과 소통할 수 있다는 점을 회사에 다니고 싶은 이유로 꼽았다. 트위터에 이어 링크트인과 페이스북이 각각 3위, 5위를 차지하는 등 IT 기업의 선전도 눈에 띄었다. 글라스도어는 “ 톱 50 가운데 22개가 IT 기업 ” 이라며 “ 서로 더 좋은 인재를 영입하고, 기존의 인재를 뺏기지 않기 위해 경쟁하는 것이 더 매력적인 기업환경을 만들기 위한 노력으로 이어지고 있다 ” 고 설명했다. 2009년부터 일하고 싶은 회사를 선정해 발표하고 있는 글라스도어는 2012년 11월부터 지난달까지 회사에 대한 만족도, 임금이나 복지 혜택, 일과 가정 사이의 균형, 경영자에 대한 평가 등 18개의 질문으로 구성된 설문조사를 실시했다. 글라스도어는 “ 구직자들이 어느 회사에서 일할지 결정하는 데 좋은 정보를 주는 자료 ” 라며 “ 특히 현장에서 일하는 직원의 평가라는 점에서 리스트에 오른 기업들은 자부심을 가져도 될 것 ” 이라고 평가했다. 상위권에 오른 기업들은 공통점 \n",
            "질문 : 포브스의 2014년 일하고 싶은 50대 회사 조사에서 5위를 한 기업은? [SEP]\n",
            "예측 : 링크트인\n",
            "----------------------------------------\n",
            "본문 : [CLS] 성악가로서 한창 전성기를 구가하던 1987년 호세 카레라스는 청천벽력같은 소식을 듣는다. 바로 급성 백혈병 진단을 받은 것이다. 그러나 그는 생사를 오가는 투병 끝에 결국 기적적으로 완치가 됐고, 무대에 복귀할 수 있게 된다. 복귀 이후 급속도로 기량이 쇠퇴하게 되어 많은 사람들에게 안타까움을 샀지만, 1988년'호세 카레라스 백혈병 재단'을 설립하여 백혈병 환자들의 치료비를 지원하고 수많은 자선 공연에서 노래를 부르는 등 사회 공헌에 전념하고 있다. 한편 카탈루냐 출신인 호세 카레라스와 카스티야 출신인 플라시도 도밍고는 라이벌인 동시에 지역 감정, 그리고 스페인의 정치적 상황으로 인해 사이가 좋지 못했다. 백혈병 투병을 하게 된 카레라스는 계속된 항암 치료와 골수 이식으로 경제적 어려움을 겪는다. 그 때 카레라스는 마드리드에 위치한 에르모사 백혈병 재단이 운영하는 병원이 있다는 것을 알게 되고 무료로 치료를 받아 건강을 회복한다. 완치판정을 받은 카레라스는 에르모사 재단에 감사 표하는 마음으로 후원 회원이 되기 위한 절차를 밟는데, 알고보니 에르모사 재단은 플라시도 도밍고가 설립한 재단이었다. 도밍고가 이 재단을 설립한 취지는 호세 카레라스의 병을 치료해주기 위한 것이었다. 라이벌인 카레라스의 자존심이 상하지 않도록 익명으로 도움을 주려했던 것. 카레라스는 도밍고의 우정에 감동했고 그 이후로 둘은 절친한 친구가 된다. 카레라스가 백혈병 재단을 설립하게 된 것도 이것이 계기가 되었다. \n",
            "질문 : 호세 카레라스가 재단의 도움을 받아 병을 치료한 병원의 소재지는? \n",
            "예측 : 마드리드\n",
            "----------------------------------------\n",
            "본문 : [CLS] 증권사들이 원유와 금 은 등 원자재를 기초자산으로 삼는 파생결합증권 ( DLS ) 판매를 속속 중단하고 있다. 투자자 손실이 눈덩이처럼 커지고 있다는 판단에서다. 국내 연기금은 원자재 시세가 추가 하락할 가능성이 높다는 점에서 해외 투자 시기를 조정하기로 했다. 한국예탁결제원에 따르면 지난달 DLS 발행액은 1조3836억원으로 전달 ( 2조1804억원 ) 대비 36. 5 % 감소했다. 작년 같은 달의 1조7939억원과 비교해도 22. 9 % 줄어든 수치다. 수년간 연 10 % 안팎의 고수익을 내던 DLS가 줄줄이 손실 위기에 직면하자 판매 중단에 나선 증권사들이 늘었다는 설명이다. 만기가 3년짜리인 DLS의 경우 보통 원자재값이 발행 당시 대비 50 % 미만으로 하락하지만 않으면 높은 수익을 보장하지만 이 밑으로 떨어지면 원금 손실이 발생하는 구조다. 삼성증권 대신증권 신한금융투자 등은 원금이 보장되지 않는 DLS를 아예 취급하지 않고 있다. 서형종 대신증권 패밀리오피스부 팀장은 “ 2 ~ 3년 전 DLS를 발행할 때 실물자산 가격이 이처럼 떨어질 것으로 예상하기 어려웠다 ” 고 설명했다. DLS의 기초자산인 서부텍사스원유 ( WTI ) 가격은 올 6월만 해도 배럴당 100 ~ 100달러 선이었지만 현재 66 ~ 67달러까지 떨어졌다. 작년 9월 온스당 1800달러에 육박하던 금 가격은 현재 1200달러 선으로 내려앉았다. 이에 따라 삼성증권의 원유DLS 440회 등 3개 상품에 평가손실이 20억원가량 발생했다. 일부 증권사는 사실상 DLS의 중도 환매를 유도하고 있다. 현대증권은 5일부터 DLS 환매를 요청하는 사람에게 신청일 다음날이 아니라 당일의 기초자산 종가를 반영, 손실을 최소화하고 있다. 국제 원자재값 하락은 해외펀드 수익률에도 악영향을 미치고 있다. 자원 수출국인 러시아 및 브라질 펀드가 대표적이다. 공모형만 4900억원 수준인 러시아펀드의 연초 이후 수익률은 - 29. 81 % 로, 전체 펀드 중에서 가장 낮다. 브라질펀드의 같은 기간 수익률 \n",
            "질문 : 러시아 펀드 수익률 하락의 원인은? [SEP]\n",
            "예측 : 국제 원자재값 하락\n",
            "----------------------------------------\n",
            "본문 : [CLS] 채무불이행 ( 디폴트 ) 상태에 빠진 서울 용산 국제업무지구 개발사업 ( 이하 용산 개발사업 ) 정상화 해법을 놓고 사업 최대주주인 코레일과 주무부처인 국토교통부가 갈등을 빚고 있다. 사업 자본금 증자를 통해 공기업이 주도하는 ‘ 공영 ( 公 [UNK] ) 개발 ’ 로 사업을 끌어갈 수도 있다는 코레일의 구상에 국토부가 이견을 보이고 있어서다. 코레일은 이번 정상화 조치로 디폴트 문제를 해결한 만큼 별도의 증자는 고려하고 있지 않다는 입장이다. 당장 다음달 초 확정될 코레일의 정상화 방안에도 영향을 미칠지 주목된다. ○국토부 “ 코레일 공영개발 위험 ” 국토부는 25일 코레일에 ‘ 각종 개발사업에 대한 출자 관련 업무절차 알림 ’ 이라는 공문을 통해 공공기관 지분이 30 % 이상인 부대사업을 추진할 경우에는 세부 계획을 국토부에 알려줄 것을 요구했다. 현행 ‘ 공공기관 운영에 관한 법률 ’ 에 따르면 공기업 출자 지분이 30 % 이상인 회사는 기획재정부 장관이 공공기관으로 지정할 수 있도록 돼 있다. 또 주무부처 장관은 이 같은 공공기관 신규 지정 사유가 발생하면 재정부 장관에게 통보해야 한다. 건설업계에서는 국토부가 법률에 명시된 내용에 대해 별도의 사전 협의를 주문한 것은 코레일이 추진 중인 용산 개발사업 자본금 5조원 증자 방안에 반대 의사를 표명한 것으로 보고 있다. 코레일은 지난달 시행사에서 받을 땅 ( 용산 철도정비창 ) 값 가운데 2조6000억원을 자본금으로 전환하면 민간 출자사들도 1조4000억원을 수혈해 현재 1조원인 시행사 자본금을 5조원으로 늘리자고 제안했다. 이어 지난 15일 발표한 정상화 방안에도 시행사 자본금을 5조원으로 늘리는 정관 변경안을 포함시켰다. 증자안이 실현되면 코레일의 용산 개발사업 지분율은 25 % 에서 57 % 로 높아져 시행사인 드림허브는 공공기관으로 지정된다. 이럴 경우 용산 개발사업은 코레일 주도의 공영개발이 돼 사업 실패시 철도 서비스 중단과 같은 막대한 후폭풍이 우려된다는 게 국토부의 고민이다 \n",
            "질문 : 코레일이 증자해서 만들고자 하는 자본금 액수는? [SEP]\n",
            "예측 : 5조원\n",
            "----------------------------------------\n",
            "본문 : [CLS] 두테르테 필리핀 대통령이 세부를 제외한 전 지역에서 일반 지역사회 격리 조치 ( GCQ ) 혹은 수정된 일반 지역사회 격리 조치 ( MGCQ ) 를 7월 15일까지 연장함에 따라, 필리핀 관광부는 코로나 예방을 위해, 외식, 교통, 숙박 등 산업 전반에 걸쳐 안전 수칙을 마련하여 실시하고 있다고 밝혔다. 숙박시설의 경우, 필리핀 관광부는 영업을 재개하려는 호텔 및 기타 숙박업소에 의무적으로 ‘ 운영허가 인증서 ’ 를 발급 받도록 하여, 관광객들이 안전하게 숙박시설을 이용할 수 있도록 조치하고 있다. 인증서를 받은 숙박시설에서는 마스크 미 착용시, 체크인이 불가하며, 비 접촉식 체온 확인 후 입실이 가능하다. 또한 로비, 엘리베이터 바닥 등에 1m 간격으로 마크를 부착하여, 사회적 거리 두기를 준수할 수 있게 했다. 그 외에도 객실 앞으로 식사 배달, 전 숙박시설 소독, 직원들의 마스크 착용 의무화 등의 조치로 안전한 휴식을 돕고 있다. 식당 매장 운영은 전체 50 % 의 가동률로 오후 9시까지 영업이 가능하며, 고객과 직원 간 일정한 거리를 유지해야 한다. 또한 테이블 당 거리가 1m를 유지해야 하며, 뷔페 레스토랑의 경우, 원하는 음식을 주문서에 표시한 뒤, 직원이 접시에 담아 음식을 가져다 주는 형식으로 운영된다. 공공의 위생을 위해, 직원에게 직접 현금을 건네는 접촉 결제는 불가하다. 지역사회 격리조치 기간 동안 대중 교통수단은 점진적으로 허용되고 있다. 이에 따라, 필리핀 관광부는 모든 대중교통 탑승객들에게 마스크를 착용하고 사회적 거리 두기를 준수할 것을 강조했다. 모든 교통수단은 전체 탑승 가능 승객수의 50 % 만 탑승이 가능하다. 또한 관광객 전용 교통수단의 경우에는, 기본 위생 키트 및 비접촉식 체온계를 구비해야 한다. 현재 외국인들의 필리핀 입국은 외교관 비자 소지자, 필리핀 국적의 외국인 배우자 등으로 제한되고 있으며, 입국 시 시스템에 개인 정보를 기입한 후, 생성 된 QR 코드를 검역 데스크에 제출하고 코로나 진단 검사를 받아야 한다. 검사 후, 호텔로 이동하여 결과가 나올 때까지 자가격리 \n",
            "질문 : 필리핀 숙박업소가 손님을 다시 받으려면 필수적으로 떼야 하는 서류는? [SEP]\n",
            "예측 : 운영허가 인증서 ’\n",
            "----------------------------------------\n",
            "본문 : [CLS] 규소 수지 ( [UNK] [UNK] [UNK] [UNK] ) 는 실리콘 물질의 일종이다. 이산화규소는 1개의 규소 원자를 4개의 산소 원자로 둘러싼 정사면체 구조를 가지고 있는데, 사면체 구조가 2개의 탄소 원자를 공유하면서, 사슬 모양으로 길게 연결된 것은 휘석의 구조이다. 다른 2개의 산소 원자가 알킬기로 치환된 것을 오르가노폴리실록산이라고 한다. 오르가노폴리실록산류를 실리콘이라고 총칭하는데, 중합시켜 사슬 모양을 길게 하거나 평면 구조를 넓게 하든지 그물 모양 구조로 하면 실리콘유 · 실리콘 고무 · 실리콘 수지가 제조된다. 오르가노폴리실록산은 실란을 원료로 하여 만들어진다. 실리콘유는 디메틸폴리실록산으로 1분자마다 평균 10개의 규소 원자가 함유되어 있다. 내열, 내구성이 좋고, 보통 탄화수소의 점포가 1800배나 변화한다 ( 37 - 38℃의 온도 범위에서 실리콘유는 7배밖에 변화하지 않는다 ). 또 무명천을 트리메틸클로로실란 증기에 몇 초만 쪼여도 셀룰로오스의 히드록시기와 반응하여 천 위를 덮어서 방수성을 준다. 실리콘 고무는 오르가노폴리실록산에 산화 아연이나 카본블랙 등의 무기 충전제와 경화제를 혼합시켜 성형 후 가열하여 만들어진다. 알킬기의 90 % 이상이 메틸기로 150℃에서 장시간 가열해도 변하지 않고 300℃에서도 심하게 분해하지 않는다. 또, 온도에 의한 유전율의 변화도 작다. 실리콘 수지의 주성분은 디메틸폴리실록산으로 알킬기와 규소 원자의 비율이 클수록, 또 알킬기의 탄소 원자의 수가 많을수록 유연하고 탄성이 많은 수지가 된다. 알킬기가 메틸기일 때에 내열성이 가장 커서 공기 속에서 200℃로 1년 이상 가열하여도 변화하지 않는다. 이와 같이 실리콘은 내열내한성 · 내습내수성이 뛰어나고 전기절연성이 우수하여 용도가 널리 개발되고 있다. 제목 = 규소 수지 * \n",
            "질문 : 실리콘을 실리콘유로 만들기 위해 거치는 과정은? \n",
            "예측 : \n",
            "----------------------------------------\n",
            "본문 : [CLS] 1940년 4월 9일, 베저위붕 작전, 독일의 스칸디나비아 공격 이후, 핀란드는 서부 전통 무역 시장과 물리적으로 격리되었다. 핀란드를 오가는 항로는 이제 전쟁해군에 의해 통제되었다. 발트해의 출구가 막히고 핀란드의 북쪽으로가는 경로는 로바니에미에서 무르만스크 주의 얼음이없는 항구까지 북극 비포장 도로였다. 페창가에서 배는 북극해 때문에 독일이 점령한 노르웨이 해안을 길게 통과해야했다. 스웨덴과 같이 핀란드는 점령을 포기했지만 나치 독일과 소련에 둘러싸였다. 칼 구스타브 에밀 만네르헤임 남작의 직접적인 지원으로 자원 봉사단이 구성되어 나치 군대와의 전쟁을 돕기 위해 노르웨이로 파견되었다. 구급차 부대는 독일군이 복무하던 지역을 정복 할 때까지 전쟁에 참여했다. 지원자들은 핀란드로 돌아 왔다. 특히 비료 수입의 손실은 모스크바 평화 조약에서 양육 된 가용지의 상실과 함께 겨울 전쟁 후 급한 대피 동안 소의 상실과 1940년 여름, 핀란드의 예상 수요량의 3 분의 2 이하로 식량 생산량이 급격히 감소했다. 지연된 인도가 핀란드에 압력을 가하는 수단 이었지만 일부 적자는 스웨덴과 소련에서 구매할 수 있었다. 이 상황에서 핀란드는 도움을 얻기 위해 독일로 향할 수밖에 없었다. \n",
            "질문 : 칼 구스타브 에밀 만네르헤임 남작이 지원하는 자원 봉사단은 어디로 보내졌나? \n",
            "예측 : 노르웨이\n",
            "----------------------------------------\n",
            "본문 : [CLS] 지난해 9월, 허인철 오리온 총괄부회장 ( 사진 ) 은 긴급 임원회의를 소집했다. 대학생 3명이 봉지과자 160개를 연결한 ‘ 과자 [UNK] ’ 으로 한강 횡단을 시도한다는 뉴스를 본 직후였다. 과자 포장지 안에 넣는 질소충전재가 너무 많다는 것을 비꼬는 퍼포먼스였다. 허 부회장은 “ 과대 포장으로 소비자들의 신뢰가 추락하고 있다 ” 며 ‘ 착한 포장 ’ 프로젝트를 펼칠 것을 주문했다. 허 부회장의 지시에 대해 회사 내에서는 반발도 있었다. 질소 포장지가 내용물을 보호하는 장점이 있는 데다, 질소 사용량을 줄이면 내용물이 늘어나 수익성이 떨어질 것이란 주장이었다. 제과업계에선 대형마트 ( 이마트 ) 경영자 출신인 허 부회장이 업계 사정을 모르고 무리수를 둔다는 얘기도 나왔다. 하지만 허 부회장은 완강했다. “ 제품의 맛과 품질로 승부하기도 전에 포장 등에서 불신받는다면 어느 순간 업계 전체가 소비자들의 외면을 받을 수 있다 ” 는 위기의식에서였다. 오리온은 그해 11월 23개 제품의 포장을 개선했다. 한 상자에 7개 들어 있던 마켓오 리얼브라우니는 1개를 추가했고, 썬 · 눈을감자 등은 내용물을 5 % 늘렸다. 포카칩, 참붕어빵 등 16종은 35 % 인 포장 내 빈 공간을 25 % 이하로 줄였다. 그로부터 3개월 뒤, 우려 속에 출발한 ‘ 착한 포장 ’ 프로젝트가 성과를 내고 있다. 과대 포장을 개선하고 용량을 늘린 23종의 최근 3개월 ( 12 ~ 2월 ) 매출이 개선 전 3개월 ( 9 ~ 11월 ) 보다 15 % 증가했다. 특히 질소 충전재 함량을 대폭 줄인 [UNK] 매출 증가가 두드러졌다. 썬 매출은 59억원에서 75억원으로 3개월 만에 27 % 높아졌다. 대표 제품인 포카칩은 338억원에서 385억원으로, 오! 감자는 98억원에서 118억원으로 늘었다. 오리온 관계자는 “ 외부 활동이 줄어드는 겨울에는 [UNK] 판매가 감소하는 게 게 일반적이지만 착한 포장 프로젝트에 대한 호응 덕분에 소비가 증가했다 ” 고 분석했다. 오리온은 올 2월 \n",
            "질문 : 착한 포장 2차 프로젝트에 우선 적용될 제품 수는? [SEP]\n",
            "예측 : 23개\n",
            "----------------------------------------\n",
            "본문 : [CLS] 보이그룹 더스틴이 영상과 이미지를 오픈하며 신보'burn'( 번 : 타오르다 ) 에 대한 공지를 했다. 해외 팬덤이 먼저 움직이며 그 입소문이 국내로 전파, 신보 막바지 작업에 있는 7인조 보이그룹 더스틴 ( Dustin ). 2020년의 한류 역사의 새로운 서막을 장식할 보이그룹'더스틴 ( DUSTIN )'이 정장 콘셉트 이미지를 오픈하며 신보 출시를 예고했다. LPA엔터테인먼트는 \" 용맹한, 용감한, 전사라는 의미를 가진 보이그룹'더스틴 ( DUSTIN )'의 데뷔 음반을'burn'( 번 : 타오르다 ) 으로 결정, 1월 6일 발매한다. \" 고 밝혔다.'김윤, 화니, 승한, JJ, 벨, 시우, 다온'7인으로 구축된 보이그룹 더스틴은 필리핀 바콜로드를 시작으로 kpop 아시아 투어를 전개하며 팬덤 구축을 한 상태이다. 더스틴은 현재 국내외 팬덤에 보답하기 위한 방침으로 적극적인 청소년 페스티벌 참여와 신보 발매 후 방송 준비에 여념이 없다. 얼마 전'( 사 ) 한국 청소년 진흥협회'와'1004 클럽 나눔 공동체'홍보대사 위촉으로 남다른 민족관과 역사관을 가진 개념돌로 지속적인 성장을 하고 있으며, 음반 발매 전후로 더스틴의 세계관과 부합된 국내 및 해외 무대에 적극적인 프로모션을 가질 계획이다 또한 싱글'BURN'으로 데뷔를 앞두고 있는 보이그룹 더스틴 ( LPA 엔터테인먼트 소속 ) 은 웹 예능으로 출발하는 아이돌 리얼체험평가단 프로그램과 웹드라마 출연을 예고하고 있다. \n",
            "질문 : 김윤이 소속된 보이그룹이 kpop 아시아 투어를 진행한 첫 번째 나라는? \n",
            "예측 : 필리핀\n",
            "----------------------------------------\n",
            "본문 : [CLS] 경기도 개성 출신으로 송도고등보통학교에서 수학하였다. 학창 시절에 기독교 모임에서 서양음악을 접했으며, 호수돈여자고등보통학교 교장이던 선교사에게 바이올린을 배우기도 했다. 1920년대 후반에 무용가 조택원의 소개를 받아 동반예술단에 입단하면서 취성좌 등 연극 극단의 악사와 작곡가로 일하기 시작했다. 홍난파가 이끌던 연악회에도 참여하는 등 1930년대 초반에는 이미 작곡 실력을 인정받기 시작했다. 정식으로 작곡가로서의 명성을 알리게 된 것은 1932년에 빅타레코드에서 출반한 이애리수의 노래 〈 황성의 적 〉 이 큰 히트를 기록하면서부터이다. 이 노래는 정식 발매 수년 전부터 취성좌에서 이애리수가 연극 막간에 부르면서 알려진 곡으로, 전수린이 1920년대 후반에 작곡한 것으로 알려져 있다. 순회 공연을 펼치다가 고향인 개성에서 왕평과 함께 만월대를 산책하던 중 악상이 떠올라 작곡했다는 일화가 있다. 〈 황성의 적 〉 은 1980년대에 주현미가 장조 트로트로 인기를 얻기 전까지 약 50년 이상 한국에서 대중가요의 주류를 이룬 단조 트로트의 시대를 본격적으로 연 곡이라 의미가 깊다. 전수린은 〈 황성의 적 〉 의 성공 이후 김교성과 함께 1930년대 초중반을 대표하는 작곡가가 되었다. 전수린이 작곡한 노래는 신민요에서부터 트로트와 서양풍의 음악까지 여러 분야에 걸쳐 있다. 신민요 색채가 강한 이애리수의 〈 에라 좋구나 〉, 전형적인 트로트곡인 황금심의 〈 알뜰한 당신 〉, 재즈와 블루스가 트로트에 접합된 박단마의 〈 나는 열일곱살 〉, 황금심의 〈 외로운 가로등 〉 이 대표적인 예이다. 1940년에는 창씨개명한 자신의 이름을 딴 다마가와 위문단을 조직하여 만주와 일본 등지를 순회하며 위문공연을 벌였고, 태평양 전쟁 종전 후에는 악기점을 경영하기도 했다. 1960년대까지 방송극 《 강화도령 》 주제가를 작곡하며 활동하였으며 \n",
            "질문 : 1930년대 초중반에 전수린과 함께 작곡가로 쌍두마차를 이룬 사람은? [SEP]\n",
            "예측 : 김교성\n",
            "----------------------------------------\n",
            "본문 : [CLS] 일부 수입 화장품의 면세점 가격이 인하된다. 최근 원화 약세로 면세점 가격과 백화점 가격의 차이가 줄어들자 면세점의 경쟁력을 유지하기 위해 가격을 내리고 있는 것이다. 랑콤, 키엘, 비오템, 슈에무라 등 수입 화장품 브랜드들은 일부 제품의 면세점 가격을 15일부터 낮춘다. 랑콤의 선크림인 ‘ UV 엑스퍼트 SPF50 ’ 은 60달러로 기존 가격인 62달러에서 2달러 ( 3. 2 % ) 낮아진다. 슈에무라의 인기 제품인 ‘ 브라이트닝 클렌징 오일 ( 450mL ) ’ 은 82달러에서 79달러로, 비오템 ‘ 아쿠아수르스 스킨 ( 400mL ) ’ 은 37달러에서 36달러로 가격이 낮아진다. 랄프로렌, 조르지오아르마니, 엠포리오아르마니 등 다른 브랜드의 화장품과 향수 제품 일부 가격도 조정된다. 최근 지속되고 있는 원화 약세 현상이 원인으로 꼽힌다. 원 · 달러 환율은 지난 7월 1010원대에서 지난달 1100원 선을 돌파했다. 면세점의 달러표시 상품 가격을 원화로 계산할 때 쓰는 기준환율도 7월 1008. 9원에서 지난 10일 1118. 3원으로 올랐다. 그만큼 면세점 이용자들의 부담이 커진 것이다. \n",
            "질문 : 16일에 슈에무라 제품이 면세점에서 팔리는 가격은? \n",
            "예측 : 79달러\n",
            "----------------------------------------\n",
            "본문 : [CLS] 에라스무스의 초상 르네상스 인문주의 문서를 참고하십시오. 초기 르네상스 시기 교황청은 사실상 독자적인 영토를 지닌 세속 국가이면서 동시에 다른 군주들의 비판을 허용하지 않는 무소불위의 권위였다. 게다가 실재 교회의 운영은 성직의 매매가 공공연히 이루어지고, 교황이 자신의 사생아를 조카라 부르며 요직에 앉히는 네포티즘이 횡횡하는 등 부패가 만연하였다. 르네상스 인문주의 시기의 학자들은 교회의 타락에 대해 비판하였다. 에라스무스는 《 우신예찬 》 과 같은 저술을 통해 당시 로마 가톨릭 교황청의 오만과 어리석음을 질타하였고, 존 위클리프는 성서의 참 뜻을 대중이 알아야 한다고 여겨 라틴어로 된 성서를 영어로 번역하였다. 보헤미아 왕국의 얀 후스는 존 위클리프의 영향을 받아 성서를 기독교 믿음의 유일한 권위로 인정하여야 한다고 주장하였고, 교황청의 면죄부 판매를 비판하였다. 후스는 지기스문트의 신변 보장 약속을 받고콘스탄츠 공의회에 참석하였으나 이단으로 몰려 화형에 처해졌다. 로마 가톨릭은 인문주의 학자들의 이러한 비판을 수용하지 않았고 탄압하였지만, 이들의 사상은 큰 호응을 얻어 종교개혁에 영향을 주었다. \n",
            "질문 : 성서를 민중에 널리 알리기 위해 노력한 사람은? \n",
            "예측 : 존 위클리프\n",
            "----------------------------------------\n",
            "본문 : [CLS] 에라스무스의 초상 르네상스 인문주의 문서를 참고하십시오. 초기 르네상스 시기 교황청은 사실상 독자적인 영토를 지닌 세속 국가이면서 동시에 다른 군주들의 비판을 허용하지 않는 무소불위의 권위였다. 게다가 실재 교회의 운영은 성직의 매매가 공공연히 이루어지고, 교황이 자신의 사생아를 조카라 부르며 요직에 앉히는 네포티즘이 횡횡하는 등 부패가 만연하였다. 르네상스 인문주의 시기의 학자들은 교회의 타락에 대해 비판하였다. 에라스무스는 《 우신예찬 》 과 같은 저술을 통해 당시 로마 가톨릭 교황청의 오만과 어리석음을 질타하였고, 존 위클리프는 성서의 참 뜻을 대중이 알아야 한다고 여겨 라틴어로 된 성서를 영어로 번역하였다. 보헤미아 왕국의 얀 후스는 존 위클리프의 영향을 받아 성서를 기독교 믿음의 유일한 권위로 인정하여야 한다고 주장하였고, 교황청의 면죄부 판매를 비판하였다. 후스는 지기스문트의 신변 보장 약속을 받고콘스탄츠 공의회에 참석하였으나 이단으로 몰려 화형에 처해졌다. 로마 가톨릭은 인문주의 학자들의 이러한 비판을 수용하지 않았고 탄압하였지만, 이들의 사상은 큰 호응을 얻어 종교개혁에 영향을 주었다. \n",
            "질문 : 성서를 영어로 번역한 인물에게 영향을 받은 사람은? \n",
            "예측 : 존 위클리프\n",
            "----------------------------------------\n",
            "본문 : [CLS] 콘스탄츠 공의회 이 부분의 본문은 서방 교회의 분열입니다. 1377년 교황 그레고리오 11세가 로마로 귀환하면서, [UNK] 유수기가 종료되었다. 1378년 그레고리오 11세가 선종하자 로마에서는 교황 우르바노 6세가 새 교황으로 선출된다. 하지만 프랑스의 추기경들은 이는 무효라고 선언하면서, 제네바 출신의 대립교황 클레멘스 7세를 대립 교황으로 선출하였다. 이로써 로마와 [UNK] 양 쪽에서 교황이 존재하는 서방 교회의 분열이 1418년까지 이어지게 된다. 교회의 분열을 우려한 지식인들은 1409년 피사 공의회를 열어 [UNK] 로마 양쪽 교황을 모두 인정하지 않고 제3의 교황을 세웠으나, [UNK] 로마 양측이 모두 피사 공의회를 부정하여 오히려 세 명의 교황이 난립하는 사태를 빚기도 하였다. 결국 신성 로마 제국의 황제 지기스문트가 콘스탄츠 공의회를 열어 세 명의 교황을 모두 폐위하고 교황 마르티노 5세를 새로운 교황으로 추대하여 서방 교회의 분열은 끝나게 되었지만, 교황의 권위는 전보다 크게 실추되고 말았다. \n",
            "질문 : 서방 교회의 분열을 종결시킨 사람은? \n",
            "예측 : 신성 로마 제국의 황제 지기스문트\n",
            "----------------------------------------\n",
            "본문 : [CLS] 상반기 인기 청약 지역이었던 위례신도시에서 내달부터 약 5000가구의 분양 물량이 쏟아진다. 그린벨트 해제지역을 개발한 서울 내곡 · 세곡2지구에서도 임대 및 분양 물량이 대거 공급되는 등 연말까지 서울 강남권 택지지구에서 8000여가구가 선보인다. 15일 부동산 업계에 따르면 하반기 위례신도시에서 모두 7개 단지, 4978가구가 공급된다. 내달에는 서울 송파구에 있는 C1 - 3블록에서 ‘ 위례 아이파크 1차 ’ 가 분양한다. 이 단지는 서울지하철 8호선 · 분당선 환승역인 복정역과 5호선 거여역을 이용할 수 있어 교통이 편리하다. 시공사인 현대산업개발은 오는 11월 ‘ 위례 아이파크 2차 ’ 도 선보일 예정이다. 두 단지 모두 위례신도시 중심상업지구인 ‘ 트랜짓몰 ’ 내에 있는 주상복합 아파트다. 오는 10월에는 대우건설이 ‘ 위례 그린파크 푸르지오 ’ 와 ‘ 위례 센트럴 푸르지오 ’ 를 분양한다. 각각 하남지역 A3 - 9블록과 성남지역 A2 - 9블록에 들어서는 민영 아파트다. 같은 달 포스코건설도 C1 - 4블록에서 ‘ 송파 와이즈 더 샵 ’ 주상복합 아파트를 분양한다. 보금자리 아파트인 ‘ e편한세상 래미안 ’ 도 A2 - 11에서 공급된다. 경기도시공사가 성남시에서 공급하는 아파트로 1545가구가 예정돼 있다. 청약저축 가입자에게 우선권이 있다. 12월에는 현대건설이 C1 - 1블록에서 주상복합 아파트인 ‘ 송파 힐스테이트 ’ 를 공급한다. 서울 내곡 · 세곡2지구 등에선 공공 물량이 쏟아진다. 내달에는 내곡 1 · 3 · 5단지 장기전세주택 443가구가 공급된다. 장기전세주택은 주변 임대시세의 80 % 수준으로 최장 20년간 내 집처럼 쓸 수 있다. 세곡2지구에선 772가구의 장기전세주택이 나온다. 이곳은 서울외곽순환고속도로, 분당 ~ 수서 간 고속화도로, 국도23호선 등 간선도로망이 잘 갖춰져 있다. 분양 물량은 10월로 예정돼 있다. 내곡 보금자리 1단지에선 공공분양 50 \n",
            "질문 : 위례 아이파크 1차'에서 이용할 수 있는 8호선 역은? [SEP]\n",
            "예측 : 복정역\n",
            "----------------------------------------\n",
            "본문 : [CLS] “ 유능한 변호사들을 팀 단위로 영입해 규모의 경제와 전문성을 꾀하겠다. ” 안식 법무법인 한결 대표변호사 ( 사법연수원 29기 · 사진 ) 가 변호사 업계를 향해 ‘ 공개 구혼장 ’ 을 던졌다. 경기불황으로 잔뜩 몸을 움츠리고 있는 대부분 로펌과는 대조적인 모습이다. 지난 17일 서울 광화문 교보빌딩 사무실에서 만난 안 대표는 “ 향후 2 ~ 3년 사이에 변호사 업계에 구조재편이 예상되며 그 트리거 ( 방아쇠 ) 는 내부고리가 약한 중형 로펌이 될 것 ” 이라며 이같이 말했다. 그는 “ 그동안 내실을 다져온 한결이 이합집산에 태풍의 눈이 돼 플랫폼 역할을 담당할 수 있을 것 ” 이라고 자신감을 내비쳤다. 안 대표의 이런 자신감은 어디서 나오는 것일까. 그의 설명을 종합해보면 잇따른 합병을 통한 경험과 조직 운영 노하우가 축적된 결과다. 1997년 송두환 전 헌법재판관 등이 설립한 한결은 2007년에는 법무법인 내일과, 2011년에는 법무법인 한울과 합쳐 한살림을 차렸다. 이로써 정태상 이인호 변호사 등 내일 측의 건설부동산 분야 전문가들과 이경우 김호철 변호사 등 한울 측의 노동 및 건설부동산 분야 베테랑들이 한 식구가 됐다. 올초에는 외교통상부 통상교섭본부장과 삼성전자 해외법무 사장을 지낸 김현종 미국 변호사, 로펌의 외형을 매년 두 배씩 성장시켜 ‘ 강의법칙 ’ 이란 별칭을 얻은 강성 전 법무법인 지성 대표변호사 등을 영입했다. 2000년대 초부터 벤처기업 자문에 전력 투구한 강 변호사는 최근 판교 테크노밸리에 분사무소를 개설했다. 여기에 오는 26일자로 법무법인 원에서 나온 금융팀 ( 전 법무법인 한빛 ) 이 합류한다. 이렇게 되면 한결 소속 국내 변호사는 53명에서 71명으로 늘어난다. 초창기에 주축을 이뤘던 민변 ( 민주사회를 위한 변호사모임 ) 출신들은 로펌 규모가 커지면서 비중이 30 % 이하로 떨어졌다. 안 대표는 “ 두 번의 합병을 거치면서 서로 다른 로펌 간에도 화학적 결합이 가능하다는 자신감을 얻었다 ” 고 말했다. 그는 “ 로펌 내 자원을 활용하는 내부적 성장전략이 쉽지 않 \n",
            "질문 : 법무법인 한결이 세워진 지 10년차에 합병된 업체의 이름은? [SEP]\n",
            "예측 : 내일\n",
            "----------------------------------------\n",
            "본문 : [CLS] “ 제자들이 ( 바이올린 연주를 ) 잘하면 제가 잘하는 것보다 100배는 행복해요. 젊었을 때 인터뷰하면 ‘ 아직 연주자 ’ 라고 했는데 10여년 전부터는 ‘ 난 역시 가르치는 사람이구나 ’ 하는 생각이 들어요. ” 내년 2월 정년 퇴임을 앞두고 오는 20일 서울 서초동 예술의전당 콘서트홀에서 연주회를 여는 김남윤 한국예술종합학교 음악원 교수 ( 65 · 사진 ) 는 소감을 이렇게 말했다. 지난 10일 한예종 교수실에서 만난 그는 “ 38년 동안 힘들 때도 많았지만 제자들 생각에 그런 상황을 극복할 수 있었던 것 같다 ” 고 회고했다. “ 그동안 ‘ 참 잘 참고 열심히 살았다 ’ 는 생각에 스스로를 축하하고 싶은 기분이 들어 연주회를 하게 됐다 ” 고 설명했다. 김 교수는 28세였던 1977년 경희대 음대에서 교편을 잡은 뒤 서울대 음대를 거쳐 지금까지 학생들을 가르치고 있다. 이경선 · 백주영 서울대 교수 같은 중견 연주자부터 권혁주, 클라라 주미 강, 신아라 · 지아 자매 등 젊은 연주자까지 수많은 바이올리니스트들이 그에게 배웠다. 한국의 내로라하는 수많은 바이올리니스트들의 프로필에서 ‘ 김남윤 사사 ( 師 事 · 스승으로 섬기고 가르침을 받음 ) ’ 란 말을 쉽게 찾아볼 수 있다. 셀 수 없는 바이올리니스트들이 그의 가르침을 받고 세계적 연주자로 성장했다. 비결은 뭘까. “ 특별한 노하우는 없어요. 다만 자신 있게 말할 수 있는 건 정말 열심히 가르친다는 점입니다. 아이들 레슨을 거른 적이 없어요. 안식년도 38년간 딱 한 학기뿐이었고요. 아이들 가르치는 게 가장 좋고 학교에 있을 때가 제일 편해요. ” 교육자로서 가장 기쁜 순간은 “ 정말 나를 힘들게 한 학생이 갑자기 확 달라질 때 ” 라고 답했다. “ 아이들이 큰 콩쿠르에서 상을 받을 때도 감격스럽지만 ‘ 쟤를 어떡하면 좋을까 ’ 하며 답답하게 여겼던 학생이 어느 순간 완전히 다른 모습을 보여줄 때가 있어요. 그럴 때면 행복해서 눈물이 나요. 이 순간을 위해 계속 가르치는 것 같죠. ” 내년 2월이면 정년을 \n",
            "질문 : 한국예술영재교육원 원장이 현재 학생을 가르치는 곳은? [SEP]\n",
            "예측 : 서울대 음대\n",
            "----------------------------------------\n",
            "본문 : [CLS] 언제 어디서나 아이들의 즐거운 활동을 응원하는 블랙야크키즈가 화사한 색감과 사랑스러운 디자인의 여아 전용 다운 자켓 3종을 출시했다. 대표 제품 ‘ 로사다운자켓 ’ 은 컬러풀한 3가지 컬러로 구성된 후드 퍼 부분이 돋보이는 제품이다. 허벅지까지 내려오는 미들 기장의 다운 자켓으로 허리 부분의 스트링으로 허리라인 조절이 가능하여 여성스럽게 연출 가능하다. 생기 있는 느낌의 핑크, 은은한 매력의 라이트 퍼플과 실용적인 블랙 색상으로 구성됐다. ‘ 샤벳다운자켓 ’ 은 후드 부분이 변형되어 가슴 부위까지 내려오는 퍼가 인상적인 다운 자켓이다. 허리 라인을 잡아주어 옷맵시를 살려주는 점이 특징이며, 색상은 사랑스러운 느낌의 화이트와 바이올렛으로 구성됐다. ‘ 피어론자켓 ’ 은 허리 부분의 히든 지퍼로 제품의 밑단 부분을 탈부착하여 길이를 조절할 수 있는 다운 자켓이다. 착장 상황에 따라 숏패딩과 롱패딩 2가지로 활용할 수 있어 실용적인 제품이다. 색상은 베이비 블루, 라일락 2가지로 구성됐다. 이번에 선보이는 여아 전용 다운 자켓 제품들은 RDS ( Responsible Down Standard ) 인증을 받은 다운 충전재를 사용했다. RDS는 동물 학대와 관련된 행위를 하지 않고, 생산부터 유통까지 윤리적인 방법으로 생산한 다운 제품에 발행되는 인증 마크다. 블랙야크키즈는 동물복지기준을 준수한 과정을 거친 친환경적 제품의 출시를 통해 지속 가능한 패션을 추구하고, 소비자들의 착한 소비에 동참한다. \n",
            "질문 : 허벅지까지 내려오는 미들 기장의 다운 자켓은 이름은? \n",
            "예측 : 로사다운자켓\n",
            "----------------------------------------\n",
            "본문 : [CLS] 란돌포는 부자로 무역을 하기 위해 큰 배에 전재산을 털어 상품을 사서 키프로스 섬으로 간다. 그런데 키프로스 섬에는 자신이 산 것과 같은 물품을 산 배들이 벌써 몇 척이나 와 있어서, 가격 폭락으로 란돌포는 알거지가 될 지경에 이른다. 란돌포는 절망하여 자살할까하다가, 마음을 고쳐먹고 어떻게든 돈을 벌어야겠다고 생각하고, 좋은 장비를 구입하여 터키인 배들을 공격하는 해적질을 시작한다. 란돌포는 해적질을 해서 돈을 모아서 어느 정도 부유해 지자, 이제 더 이상 욕심을 내지 않고 손을 털고 고향으로 돌아가기로 한다. 그런데 거친 폭풍을 만나 잠시 정박해 있을 때, 란돌포의 재물을 탐낸 제노바인 선단이 해적으로 돌변하여 란돌포의 재물을 몽땅 털어간다. 설상가상으로 란돌포는 풍랑을 만나 죽을 위기에 처하게 되는데, 널빤지 하나와 궤짝 하나에 의지해서 망망히 바다위를 떠다니다가 빈 몸으로 코르퓨 섬에 닿는다. 그런데 마침 붙잡고 온 궤짝이 안에 보석들이 담겨 있는 보물상자였으므로, 란돌포는 자루에 보석을 숨겨서 고향으로 돌아온다. 란돌포가 보석을 판 돈은 막대했으므로, 이후에는 장사니 무역이니 하는 것은 다시는 생각하지 않고, 편안히 여생을 보냈다고 한다. \n",
            "질문 : 란돌포는 어느 섬에서 해적질을 결심하였는가? \n",
            "예측 : 키프로스 섬\n",
            "----------------------------------------\n",
            "본문 : [CLS] 마르텔리노는 피렌체의 재주꾼으로 동료 두 명과 함께 독일의 한 마을에서 성골 ( 聖 [UNK], 성인들의 유골 ) 로 숭배받고 있는 하인리히의 시체를 구경하려고 한다. 그런데 너무 사람이 많아서 가까이 갈 수 없었으므로, 마르텔리노를 꾀를 내어 자신이 손발이 오그라든 신체장애인인 척하다 하인리히의 시체와 가까워지면 기적으로 걸을 수 있게 되는 척함으로써 사람들의 주목을 받으며 마음껏 구경한다. 그런데, 이 피렌체 재주꾼을 알아보는 사람이 있어서, 마르텔리노는 정체가 탄로나고, 속임수를 당한 것에 흥분한 군중들에게 몰매 맞아 죽기 직전에 이른다. 어쩔 수 없이, 마르텔리노의 동료들은 마르텔리노가 소매치기라고 거짓말을 해서 시장과 병사들이 마르텔리노를 연행해 오도록 해서 마르텔리노를 일단 구출한다. 마르텔리노가 소매치기라고 하자, 사람들은 저마다 돈을 도둑 맞았다고 하면서 돈을 내놓으라고 하고, 시장은 마르텔리노를 목매달아 죽이겠다고 협박한다. 마르텔리노는 목매달려 죽기 진전에, 사람들에게 물어보면 돈을 빼앗긴 시기와 장소가 제각각이라는 점을 지적하고, 동료들이 돌아와 자신들은 얼마전에 피렌체에서 온 사람임을 말하며 살려달라고 빌어서, 목숨을 구한다. \n",
            "질문 : 마르텔리노를 죽이겠다고 협박한 시장의 국적은? \n",
            "예측 : 독일\n",
            "----------------------------------------\n",
            "본문 : [CLS] 제파 디 미노는 시에나에 사는 매우 유복한 평민이었다. 그에게는 항상 친하게 지내는 친구가 있었는데, 그 친구가 집을 자주 드나드는 동안 그만 그 친구와 제파 디 미노의 아내가 바람이 나고 말았다. 제파 디 미노는 그 사실을 알게 되어, 친구에게 복수할 꾀를 낸다. 제파 디 미노는 자신의 아내에게 죄를 물어서 아내가 자신의 말을 고분고분히 듣게 한 후에, 아내가 친구를 속이도록 해서 친구를 상자 속에 갇히도록 한다. 그리고, 제파 디 미노는 친구의 아내를 끌어 들여, 친구가 갇힌 상자 바로 앞에서, 이 모든 사실들을 다 친구의 아내에게 말하고, 친구의 아내에게 보석을 줄테니 복수를 위해 같은 일을 하지 않겠냐고 한다. 그리하여 친구의 아내와 제파 디 미노는 바로 친구가 갇혀 있는 그 상자 위에서 서로 어루만지며 즐기게 된다. 제파 디 미노는 마지막에 친구를 상자에서 꺼내 준다. 친구는 상자에서 자신의 아내가 제파 디 미노와 놀아나는 것을 생생하게 느꼈으므로, 크게 부끄러움을 느끼고 자신의 죄를 반성하였다. 이후 두 사람의 우정은 회복되었고, 친구의 제안에 따라 두 사람은 서로 아내들을 공유하여, 두 아내와 두 남편이 서로 자유롭게 상대를 바꾸며 지내는 사이가 된다. \n",
            "질문 : 제파 디 미노는 친구의 아내에게 함께 복수하기를 부탁하며 무엇을 건네었나? \n",
            "예측 : 보석\n",
            "----------------------------------------\n",
            "본문 : [CLS] 시칠리아의 [UNK] 왕은 아들이 젊을 때 죽어, 그 아들이 남긴 손자가 있었는데, 그 손자의 이름은 제르비노로, 잘생긴 용모와 뛰어난 무용으로 알려져 있었다. 한편 튀니스의 공주 역시 미모로 세상에 이름을 떨쳤는데, 세월이 흐르는 동안 제르비노는 튀니스 공주를 동경하게 되고, 튀니스의 공주는 제르비노를 동경하게 된다. 두 사람은 한 번도 만난 적이 없이, 가끔 편지를 주고 받는 정도임에도 불구하고 매우 깊이 빠지게 된다. 그런데 튀니스의 공주는 다른 나라의 왕자와 정략 결혼을 하게 되고, 공주가 제르비노의 이야기를 들먹이며 이를 거부하자, 튀니스의 왕은 시칠리아의 [UNK] 왕에게 공주의 혼사를 평화롭게 진행하도록 도울 것을 선언하도록 부탁한다. [UNK] 왕은 젊은이들의 연애에는 아무 관심이 없었으므로, 내막을 모르고 나라 간의 우의를 위해서 선언에 응한다. 결국 튀니스의 공주는 결혼을 하게 되고, 이 사실을 제르비노에게 알린다. 제르비노는 비장한 각오로 부하들을 데리고 배를 끌고 떠나, 튀니스가 결혼하려고 떠나는 배를 공격한다. 제르비노는 자신은 오직 공주만을 바랄 뿐, 모든 보물과 전리품은 마음껏 부하들에게 나누어가지라고 하여, 맹렬히 싸운다. 그리하여 제르비노는 배 위에 있는 공주를 멀리서 처음으로 보게되는데, 싸우는 도중에 분노한 적에 의하여 제르비노가 보는 눈 앞에서 공주는 칼에 잘린 후 바다에 던져진다. 결국 제르비노가 얻은 것은 공주의 시체 뿐이었으며, 싸움 이후, 튀니스의 왕이 [UNK] 왕에게 항의를 하자, [UNK] 왕은 책임을 지기 위해 죄를 지은 제리비노를 눈물을 머금고 사형에 처한다. \n",
            "질문 : 튀니스의 왕이 딸의 정략결혼을 원활히 진행하기 위해 도움을 청한 사람은? \n",
            "예측 : 시칠리아의 [UNK] 왕\n",
            "----------------------------------------\n",
            "본문 : [CLS] 데본기 말기에는 육상식물이 담수 서식지를 안정화시켜서 최초의 습지생태계가 발달되었고 점차 복잡한 먹이그물이 생겨나 생태적으로 새로운 기회가 많이 생겼다. 초기 미치류들은 수생이었고 얕은 물이나 조간대의 여울, 혹은 잡초가 많은 강어귀에서 사냥을 했다. 이들은 조상 물고기들로부터 소화관과 연결되어 허파로 기능할 수 있는 부레를 물려받았고 ( 폐어나 피소스톰 조기어류에서도 이런 모습을 볼 수 있다 ) 그 덕에 식물들이 썩어들어가는 등의 이유로 산소가 부족한 물에서도 숨을 쉬며 먹잇감을 찾을 수 있었다. 가장 초기의 형태, 즉 아칸토스테가 같은 종류는 척추나 다리가 육상생활에 적합하지 않았다. 이러한 관점은 예전의 관점, 즉 물고기가 먼저 땅 위로 - 망둑어처럼 먹잇감을 찾아서든, 살고 있던 물웅덩이가 말라버려 새로운 물웅덩이를 찾아가려는 것이든 - 올라오게 되었다는 관점가 배치되는 것이다. 초기의 네발동물화석은 해양 퇴적물에서 발견되어 해양 또는 반담수 지역이 이들의 주된 서식지였음을 알려준다. 여기에 더 힘을 실어주는 근거는 미치류의 화석이 전세계에 걸쳐 발견된다는 것이다. 즉, 담수에서만 살았다고 보는 것보다 해안가를 따라 퍼져나갔다고 보는 것이 더 합리적이다. 최초의 미치류는 모두 중간 크기, 혹은 큰 몸을 가진 동물이었고, 땅 위에서 움직이는 것이 쉽지 않았을 것이다. 아가미와 어류같은 두개골, 그리고 물고기의 꼬리지느러미를 가지고 있었지만 클레이트룸 / 견갑골이 있어 두개골과 분리된 팔이음뼈를 가지고 이것으로 상체의 몸무게를 지탱했다는 초기의 형태라도 리피디스탄 어류와는 쉽게 구분이 가능하다 이들은 모두 육식성으로, 초기에는 물고기를 잡아먹다가, 바닷가의 웅덩이에 갇힌 바다생물의 시체를 먹기 위해 물가를 오가다가 나중에 데본기의 물가에 사는 대형 무척추동물들 \n",
            "질문 : 소화관과 이어져있으며 허파의 역할을 맡는 장기는 무엇인가? [SEP]\n",
            "예측 : 부레\n",
            "----------------------------------------\n",
            "본문 : [CLS] 분추목 미치류 중 가장 다양했던 그룹은 분추류다. 분추류는 데본기 후기에 나타났고, 크기는 작은 [UNK] 같이 생겨 물가나 덤불 근처를 바쁘게 다녔을 스테레오스폰딜에서부터 거대하고 튼튼한 갑옷 같은 피부를 지니고 악어처럼 보이는 아르케고사우루스상과에 이르기까지 다양한 크기를 보여주었다. 아르케고사우루스과에서 가장 컸던 종류인 프리오노수쿠스는 9 미터까지 자랐을 것으로 보이며 이는 지금까지 알려진 양서류 중 가장 큰 것이다. 분추류의 앞발에는 발가락이 네 개, 뒷발에는 다섯 개 있어 오늘날의 양서류와 유사하다 분추류의 척추뼈 모양은 보수적인 편으로 원시적인 형태와 사실상 마찬가지로 플루로센트룸이 작게 남아 있다가, 더 발전된 종류에서는 사라진다. 인터센트룸이 체중을 받쳐주기 위해 크고 완전한 고리 모양을 형성한다 분추류 모두는 비교적 납작한 머리를 가지고 있고 척추뼈와 다리는 튼튼한 경우도 있고 이차적으로 약해진 경우도 있다. 디이노사우리아처럼 완전히 수생인 종류, 그리고 트레마토사우루스과처럼 완전히 해양생활을 하는 종류도 있었다. 분추류가 페름기 후기나 트라이아스기 초기에 현생 개구리와 [UNK] 진화했을 가능성이 있다 \n",
            "질문 : 분추류중 제일 컸다고 알려진 종류는? \n",
            "예측 : 프리오노수쿠스\n",
            "----------------------------------------\n",
            "본문 : [CLS] 초기 미치류는 잘 발달된 내부 아가미와 조상들이 가지고 있던 부레로부터 파생된 원시 허파를 가지고 있었다 이들은 공기를 호흡할 수 있었기 때문에 따뜻한 여울에 살면서 수중 산소농도가 낮을 경우 큰 이점을 가지게 되었다. 횡격막은 없었고 많은 경우 갈비뼈는 너무 짧거나 너무 촘촘히 나있어서 허파를 확장시키는 데 도움이 되지는 않았다. 현생 양서류처럼 목 쪽의 공기 주머니를 두개골 바닥에 눌러 허파에 공기를 주입하는 식이었을 가능성이 높으며 이것이 아마도 후대에 납작한 두개골 모양을 유지한 이유였을 것이다. 갈비뼈를 이용해 날숨을 쉬는 것은 양막류로 이어지는 계통에서만 진화했던 것으로 보인다 수중생활을 하는 종류들 다수는 유생 때의 아가미를 성체가 되어서도 유지했다. 공기 중 산소와 이산화탄소 농도가 높았던 시기, 특히 석탄기 당시에는 원시적인 목의 공기주머니를 이용한 호흡방법으로 덩치가 큰 미치류들도 충분한 산소를 얻을 수 있었다. 땅 위에서는 이산화탄소를 제거하는 것이 큰 문제였고, 큰 몸집의 미치류들은 혈중 탄산 농도에 대한 내성을 높이고 물로 돌아갔을 때 피부를 통해 이산화탄소를 방출하는 방법을 썼을 것이다 물고기 조상으로부터 물려받은 능형 비늘을 잃으면서 현생 양서류처럼 피부를 통한 추가적인 호흡이 가능해졌다. \n",
            "질문 : 현생 양서류의 호흡방식을 이용해 몸 밖으로 내보낼 수 있는 것은? \n",
            "예측 : 이산화탄소\n",
            "----------------------------------------\n",
            "본문 : [CLS] 공추아강 기원을 알 수 없는 작은 그룹인 공추류는 유럽과 북미의 석탄기와 초기 페름기의 지층에서 찾아볼 수 있는 작은 동물들이다. 다른 미치류에서 찾아볼 수 있는 복잡한 구조의 척추뼈와 달리 공추류는 하나의 요소로부터 만들어진 실패 ( spool ) 모양의 척추가 특징이다 대부분 수생생활을 했으며 때로는 외부 아가미가 보존된 채 발견되기도 한다. 공추류는 일반적으로 [UNK] 생겼지만 결각목이라는 그룹은 유연하고 작은 두개골을 가진 뱀처럼 생겼다. 세룡목에 속하는 공추류는 쪼그리고 앉는 자세와 짧은 꼬리를 가지며 육상생활에 잘 적응한 것처럼 보인다. 가장 잘 알려진 속은 부메랑처럼 생긴 머리를 가진 넥트리스목의 디플로카울루스이다. 다른 미치류 그룹들과 공추류의 유연관계는 불분명하며 때로는 별개의 강으로 분류되기도 한다. 이빨은 미치형이 아니며 전통적으로는 미치류에 속하지 않아왔다. 공추류가 계통분류학적으로 단계통군을 형성하는지, 혹은 다른 미치류들, 특히 파충류형 양서류의 유태보존 형태나 유생단계가 모여있는 휴지통분류군인지에 대해서도 의문이 제기되어 왔다. \n",
            "질문 : 하나의 요소로부터 만들어져 실패모양인 공추류의 뼈는? \n",
            "예측 : spool\n",
            "----------------------------------------\n",
            "본문 : [CLS] 미치류의 복잡한 척추뼈 요소들의 상대적인 크기와 모양에 기반한 분류학적 접근이 20세기 초반에는 선호되었다 이 분류는 어떤 형태의 척추뼈가 여러 번 나타나고 서로 다른 모양의 척추뼈가 가까운 근연종 사이에서도, 심지어는 한 개체 안에서도 관찰되면서 곧 쓰이지 않게 되었고, 20세기 중반에는 몇몇 작은 몸집을 가진 그룹들은 유생이거나 유태보존이 된 형태가 아닌지 의심되기 시작했다. 여기 제시된 분류는 왓슨의 1920 년 분류를 따른 것이다 * 견두목 ( = 미치류 ) * * \" 측계통군 \" 라키토미 ( 원시적인 복잡한 척추뼈를 가졌고 모든 어피류와 거의 대부분의 대형 분추류, 그리고 몇몇 파충형류가 여기 속한다. ) * * \" 측계통군 \" 엠볼로메리 ( 인터센트룸 과 플루로센트룸이 같은 크기를 가지며 지금은 수중생활로 되돌아간 것으로 간주되는 파충형류가 여기 속한다. ) * * \" 측계통군 \" 스테레오스폰딜리 ( 인터센트룸과 척추궁만을 가진 간단한 척추뼈를 가진 그룹으로 지금도 유효한 것으로 간주된다. ) * 필로스폰딜리목 ( 작고 약한 척추뼈를 가지고 있으며 지금은 유생 및 유태보존 형태를 보인 것으로 간주된다. ) * 공추목 ( 모래시계 모양, 혹은 원통 모양의 척추뼈를 가지고 있으며 석탄기 중기부터 페름기 중기까지 생존했다. 계통발생학적 관계는 분명하지 않다. ) * 아델로스폰딜리목 ( 원통모양의 척추뼈 앞뒤에 원뿔 모양으로 파인 홈이 가운데서 만나는 종류로 지금은 공추류의 한 그룹으로 간주된다. ) * 무족영원목 ( 현생 ) * [UNK] ( 현생 ) * 무미목 ( 현생 ) \n",
            "질문 : 20세기 초반에 미치류의 척추뼈를 크기와 모양으로 구분했던 방식을 무엇이라고 하는가? \n",
            "예측 : 분류학적 접근\n",
            "----------------------------------------\n",
            "본문 : [CLS] 진양서류, 즉 모든 현생 양서류가 미치류에서 기원했다는 것이 일반적으로 받아들여지긴 하지만, 사람들의 동의는 거기에서 끝이다 진양서류의 부서지기 쉬운 뼈는 화석으로 보존되는 경우가 극히 드물고, 현생 양서류는 독자적인 특징들을 많이 가지고 있어서 화석 미치류와 비교하는 것이 쉽지 않다. 전통적으로 진양서류의 조상으로는 공추류가 선호되어 왔다. 현생 양서류처럼 공추류는 몸집이 작고 척추뼈 모양이 단순하며 외부 구조나 추측되는 생태적 지위 등 여러 측면에서 진양서류를 닮았기 때문이다. 강 수준에서 볼 때 공추류가 미치류에서 기원하고 다시 진양서류가 공추류에서 기원했다고 생각해 왔다 몇몇 분지학적 연구에서도 공추류와의 관련성을 선호하지만 공추류를 파충류형 양서류와 근연관계로 보거나 파충류형 양서류에서 기원했다고 본다. 이런 관점의 문제라면 애초에 공추류가 단계통군인지 아닌지가 의문시 된다는 점이다 다른 연구들에서는 분추류와 진양서류가 가까운 유연관계를 가지고 있다고 본다 분추류의 한 과인 암피바미드과가 진양서류의 조상일 수 있다고 본다. 암피바미드 중에서 게로바트라쿠스는 2008 년에 기술되었는데, 분추류와 개구리 및 [UNK] 과도기 화석이라고 제안되었다. 게로바트라쿠스는 넓은 두개골, 짧은 꼬리, 그리고 작은 이빨 등 개구리와 [UNK] 특징을 뒤섞어서 가지고 있다. 문제를 복잡하게 만드는 것은 진양서류 자체가 다계통군일 수 있다는 점이다. 소수의견이긴 하지만 이런 관점이 여러 번 변형되어 제시되어 왔다. 군나르 새비 - 소더버그와 에릭 자르빅의 \" 스톡홀름 학파 \" 는 20 세기의 상당한 기간 동안 코 및 두개의 신경 구조에 기반에 양서류가 다계통군이라고 주장해 왔다. 이들의 관점에 따르면 공추류는 개구리의 조상이며 \n",
            "질문 : 진양서류가 화석 상태로 남아있을 가능성이 희박한 원인은 무엇인가? [SEP]\n",
            "예측 : \n",
            "----------------------------------------\n",
            "본문 : [CLS] 이르면 2018년 인천국제공항에서 공항철도나 서울 지하철 9호선을 타고 환승 없이 강남 · 송파까지 갈 수 있게 된다. 국토교통부와 서울시 등에 따르면 2018년 9호선 3단계 구간 ( 종합운동장역 ~ 보훈병원역 ) 을 완공한 다음해에 공항철도와 9호선을 직접 연결 ( 직결운행 ) 하려던 기존 계획을 수개월에서 1년 정도 앞당기기로 했다. 직결운행이란 한 대의 열차가 각기 다른 노선을 직접 연결해 운행하는 방식을 말한다. 이용자는 환승할 필요 없이 목적지까지 한번에 갈 수 있고, 사업자는 회차 과정을 줄이고 승객을 더 많이 태울 수 있어 열차 운용의 효율성이 높아지는 장점이 있다. 손병석 국토부 철도국장은 “ 현재 지하철 9호선이 극심한 혼잡을 겪고 있어 직결운행할 차량을 내년 중 발주하고 차량 제작기간을 줄이는 등 최대한 일정을 앞당기기로 했다 ” 며 “ 9호선과 공항철도가 바로 연결되면 운행열차 증편 효과를 보게 돼 9호선 혼잡 개선은 물론 두 노선의 운행 효율성 ( 사업성 ) 도 좋아질 것으로 기대한다 ” 고 말했다. 직결운행이 시작되면 인천공항역을 출발한 공항철도 열차가 김포공항역에서 9호선 선로로 옮긴 뒤 여의도와 종합운동장역을 거쳐 송파나 보훈병원역까지 한번에 갈 수 있다. 9호선 종합운동장 ~ 보훈병원 구간은 지난 3월 현재 51. 5 % 공정률을 보이고 있다. 9호선을 운영하는 서울 도시철도공사와 코레일공항철도는 직결 운행을 위해 내년 중 각각 4편 ( 6량 ) 의 열차를 추가 발주할 계획이다. \n",
            "질문 : 공항철도와 9호선의 직결운행으로 누리는 효과에 대해 말한 사람의 이름은? \n",
            "예측 : 손병석\n",
            "----------------------------------------\n",
            "본문 : [CLS] ‘ 중소형 · 혁신설계 · 명품조망을 갖춘 아파트를 찾아라. ’ 봄 분양 성수기를 앞두고 새 아파트를 고르는 실수요자들이 가장 꼼꼼하게 따지는 부분이다. 전용면적 85㎡ 이하 중소형 아파트는 중대형보다 분양가가 낮아 목돈 부담을 줄일 수 있다. 채광과 통풍은 물론 공간 활용도가 좋은 4베이 ( 방 3개와 거실 전면 배치 ) 에 다양한 수납공간을 적용한 설계도 아파트를 선택할 때 주요한 요소다. 여기에 ‘ 힐링 ’ 열풍 속에 집이 재충전의 공간으로 인식되면서 산과 강 등 조망권도 갈수록 중요해지고 있다. 24일 건설업계에 따르면 좋은 아파트 3법칙을 갖춘 새 아파트가 잇따라 선보인다. 반도건설이 오는 28일 모델하우스를 여는 경기 화성 동탄2신도시 ‘ 반도유보라 아이비파크 3. 0 ’ ( 투시도 ) 은 1135가구 모두가 전용 59 ~ 84㎡로만 이뤄졌다. 74, 84㎡에는 독립된 방이나 주방 팬트리 ( 수납공간 ) 로 활용 가능한 알파룸을 적용했다. 리베라CC 골프장과 수변공원이 단지를 감싸고 있어 조망권도 좋은 편이다. 포스코건설이 경기 구리시에서 다음달 분양하는 ‘ 갈매 더샵 나인힐스 ’ 도 857가구 전체가 전용 69 ~ 84㎡로만 구성됐다. 남향 위주의 4베이 설계도 적용된다. 길이 1㎞의 단지 내 산책로와 이웃한 근린공원 산책로 ( 2㎞ ) 를 포함해 3㎞에 달하는 산책로가 조성된다. 대우건설도 4월 충북 충주시에서 825가구 모두를 전용 59 ~ 84㎡로만 배치한 ‘ 충주 2차 푸르지오 ’ 를 분양할 예정이다. 주방 팬트리와 별도의 세탁공간도 마련된다. 단지 동쪽 계명산과 남쪽 남산의 조망이 가능하도록 설계한다. \n",
            "질문 : 남산 전망을 구경할 수 있는 아파트 이름은? \n",
            "예측 : 반도유보라 아이비파크 3. 0 ’ ( 투시도\n",
            "----------------------------------------\n",
            "본문 : [CLS] 금융감독원 출신을 일컫는 이른바 ‘ 금피아 ( 금감원 + 마피아 ) ’ 들이 금융 유관단체 등으로 옮겼다가 금융회사 감사 등으로 가는 ‘ 스리쿠션 ’ 인사 관행이 자리 잡고 있다. 퇴직 후 2년간 유관업무 회사에 취업을 금지하는 공직자윤리법을 어기지 않기 위해서다. 23일 금융계에 따르면 저축은행중앙회는 최근 정이영 전 금감원 조사연구실장을 신임 부회장으로 선임했다. 이 자리를 맡고 있던 김성화 전 부회장 ( 전 금감원 신용감독국장 ) 은 신한카드 감사로 갔다. 금감원 직원이 협회나 중앙회로 옮기면 공직자윤리법의 제한을 받지 않는다. 여신금융협회 부회장직 역시 주고받는 자리가 됐다. 한백현 여신금융협회 부회장 ( 전 금감원 특수은행서비스국장 ) 은 농협은행 감사로 옮겼다. 이 자리는 이기연 전 금감원 부원장보가 맡았다. 김영린 전 금감원 부원장보는 금융보안연구원장으로 갔으며, 이 자리에 있던 김광식 전 원장 ( 전 금감원 기업공시국장 ) 은 하나은행 감사로 옮겨갔다. 대형 로펌이나 컨설팅 업체를 거쳐 금융회사에 들어간 경우도 있다. 금감원 출신인 전광수 전 김앤장 고문과 이명수 전 화우 고문은 이번에 메리츠금융 감사위원 ( 사외이사 ) 이 됐다. 이 회사 감사였던 강길만 전 금감원 분쟁조정국장은 농협생명 감사를 맡았다. 금감원 부원장보를 지낸 이석근 전 딜로이트컨설팅 고문과 금감원 총무국 실장을 지낸 한복환 전 금융발전심의위원은 각각 신한은행 감사와 광주은행 감사로 자리를 옮겼다. 금감원 직원은 퇴직한 날로부터 2년 동안 퇴직하기 전 5년간 속했던 부서 업무와 관련된 기업에 취업할 수 없다. 이를 피하기 위해 취업 제한을 받지 않는 금융 유관단체를 거쳐 나중에 금융회사로 옮기는 관행이 자리 잡고 있다. 당구로 치면 ‘ 스리쿠션 ’ 인사라는 얘기가 나오는 이유다. 장창민 / 김일규 기자 \n",
            "질문 : 금피아는 무엇을 준수하기 위해 스리쿠션 인사를 하는가? \n",
            "예측 : 공직자윤리법\n",
            "----------------------------------------\n",
            "본문 : [CLS] ‘ 베페 베이비페어 ’ 가 8월 서울 코엑스에서 열린다. 베페는 포스트 코로나 시대의 새로운 육아 박람회 모습을 보여줄 것으로 예고해 눈길을 끈다. ㈜베페가 주최하는 국내 대표 임신 · 출산 · 육아 박람회 ‘ 제38회 베페 베이비페어 ( 이하 베페 ) ’ 가 서울 코엑스에서 8월 20일부터 23일까지 4일간 개최된다. ‘ 일루마 골든드롭3 ’ 가 후원하는 베페 베이비페어는 국내 최대 규모의 유아용품 전시회로 국내외 임신, 출산, 육아, 교육 관련 다양한 브랜드를 한 자리에서 경험할 수 있다. 매회 육아 트렌드를 반영한 전시 테마로 화제가 됐던 베페는 이번 38회에서는 신종 코로나 바이러스 감염증 ( 코로나19 ) 으로 인해 불안해 하고 있는 부모들이 안전하게 관람할 수 있도록 ‘ 세이프 베페 ’ 를 진행한다. 전시장 방역매뉴얼에 따라 열화상 감시 카메라 운영, 마스크 및 위생장갑 의무 착용, 입출구 입장 인원 추적, 고수준 방역 소독 등 코엑스와 연계해 전시장 입장부터 퇴장까지 안심하고 관람할 수 있는 철저한 방역 시스템을 구축한다. 또한, 코로나19로 인해 현장 참여가 어려운 관람객들과 판로 확보에 어려움을 겪고 있는 참여기업들을 위해 육아 전시회로선 이례적으로 라이브 커머스 플랫폼 ‘ 그립 ’ 과 손을 잡고 라이브 방송과 모바일 쇼핑 서비스를 선보인다. 그립을 통해 베페 전시회 생중계 및 육아용품을 소개하는 ‘ 베페 라이브 방송 ’ 은 물론, 베페 참가기업들이 전시회 현장에서 송출하는 모바일 커머스도 진행할 예정이다. 자세한 내용은 베페 베이비페어 홈페이지에서 확인 가능하다. 육아 용품이 필요한 부모들을 위한 ‘ 경품 이벤트 ’ 도 진행한다. 8월 23일까지 베페 홈페이지 회원 가입 후 이벤트 페이지에서 38회 베페 베이비페어의 컨셉을 댓글로 남기고 전시회에 참석하면 추첨을 통해 총 244명에게 유모차, 카시트 등 푸짐한 경품 제공한다. 현장 방문객들에게는 전시회 기간 동안 이유식기 · 보온 용기 · 애착인형 등 육아에 도움을 주는 육아 용품 총 3, 000개를 제공한다. ㈜베페 관계자는 “ 코로나로 인해 육아 용품 구입이 힘든 부모들과 판로 확보에 어려움을 겪고 있는 중소 육아 \n",
            "질문 : 세이프 베페가 시작되는 날짜는? [SEP]\n",
            "예측 : 8월 20일\n",
            "----------------------------------------\n",
            "본문 : [CLS] 현실색은 실제 광원에서 생성할 수 있는 색상이다. 두 현실색의 가산 혼합도 현실색이다. CIE 1931 XYZ 색 공간에 색상이 나타나면 추가 혼합색은 혼합되는 색상 사이의 선을 따라 색상이 된다. 따라서 아무 세 색상을 혼합하여 삼각형에 포함된 색상을 만들 수 있다. 이것을 이 세 색으로 만들어진 색역이라고 부르고, 처음의 색상들을 원색이라고 부른다. 선택한 원색을 혼합하여 이 삼각형 외부의 어떤 색상도 얻을 수 없다. 원색을 정의 할 때는 가능한 한 많은 현실색을 색역 내에 남겨 두는 것이 목표이다. 현실적인 색역은 삼각형이 아니므로 전체 영역에 걸쳐있는 세 가지 실제 색상을 선택할 수는 없다. 실제 기본 색상을 3개 이상 선택하면 색역을 늘릴 수 있지만 실제 색상 영역은 다각형이 아니므로 항상 가장자리에 약간의 색상이 남아 있다. 따라서 색역 밖의 색상을 원색으로 고른다. 다시 말해서 상상의 원색을 고른다는 것이다. 수학적으로, 그 색역은 이 방식으로 만든 소위 \" 가상 색상 \" 이라고 부르는 색상을 포함한다. 컴퓨터 및 텔레비전 스크린 컬러 디스플레이에서, 색역의 원색은 순수한 적색, 녹색, 청색에 가능한 한 가깝게 선택되고 따라서 실제 색역 내에 있는 상업적으로 이용 가능한 형광체에 의해 정의된다 이러한 색 공간 다이어그램은 컴퓨터 화면의 색역 외부의 실제 색 대신 색 영역 삼각형 안에 가장 가까운 색으로 표시됩니다. 디스플레이 장치에서 사용 가능한 색상 범위에 대한 자세한 내용은 색역 문서를 참조하라. \n",
            "질문 : 실존하는 발광체로 만들 수 있는 색깔을 의미하는 단어는? \n",
            "예측 : 가상 색상\n",
            "----------------------------------------\n",
            "본문 : [CLS] 황교안 국무총리가 19일 정몽구 현대자동차그룹 회장 등 재계 총수들과 만찬 간담회를 하고 경제 활성화 방안을 논의했다. 정부는 규제개혁 등에 더욱 힘을 쏟고, 재계는 투자와 일자리 창출에 적극 나서기로 의견을 모았다. 전국경제인연합회 회장단이 황 총리를 초청해 연 이날 만찬 간담회는 서울 여의도 전경련회관 콘퍼런스센터에서 약 1시간30분 동안 이어졌다. 재계 총수들이 국무총리와 간담회를 한 것은 2013년 5월 ( 당시 정홍원 국무총리 ) 이후 2년6개월 만이다. ○황 총리 “ 기업 투자 활성화 대책 추진 ” 간담회에는 황 총리와 허창수 전경련 회장 ( GS그룹 회장 ), 정몽구 회장, 최태원 SK그룹 회장, 신동빈 롯데그룹 회장, 권오준 포스코 회장, 이준용 대림산업 명예회장, 김윤 삼양그룹 회장, 박영주 이건산업 회장, 류진 풍산그룹 회장, 이장한 종근당 회장, 이승철 전경련 상근부회장 등이 참석했다. 황 총리는 인사말을 통해 “ 한국이 빠른 성장을 이루는 데 기업인 여러분이 선도적 역할을 해왔다는 것을 잘 알고 있다 ” 며 “ 하지만 지금 우리 경제는 과거 경험하지 못했던 세계적인 저성장 장기화의 위협에 직면하고 있다 ” 고 말했다. 이어 “ 우리의 기업 환경은 아직 기업인들의 기대에 부응하지 못하는 점이 적지 않다고 생각한다 ” 며 “ 기업 투자 활성화 대책과 규제개혁을 지속적으로 추진할 것 ” 이라고 강조했다. 황 총리는 또 “ 일자리 창출을 위해 시작된 청년희망펀드에 적극적인 호응을 보내준 데 감사의 말씀을 드린다 ” 며 “ 고용 증대를 위해 더욱 애써달라 ” 고 당부했다. 허창수 회장은 “ 경제계는 투자와 일자리 창출에 더욱 노력하면서 경제 위기 극복에 앞장서겠다 ” 고 화답했다. 정몽구 회장은 건배사를 통해 “ 황 총리와 전경련 회원들이 한자리에 모여 경제 활성화와 청년 일자리 확대를 위한 뜻깊은 시간을 함께해 매우 기쁘게 생각한다 ” 며 “ 정부와 기업, 국민 모두가 경제의 새로운 도약을 위해 노력하자 ” 고 제안했다. ○재계 “ 경제활성화법 국회 통과돼야 ” 황 총리와 전경련 회장단은 한국 경제가 어려움을 극복하고 한 단계 더 도약하기 위해서는 정부와 기업이 협력 \n",
            "질문 : 작년 대기업의 투자규모는 올해보다 얼마나 더 적었는가? [SEP]\n",
            "예측 : 2년6개월\n",
            "----------------------------------------\n",
            "본문 : [CLS] 스위스에 이어 독일에서도 기업 경영진의 보수가 제한될 가능성이 커졌다. 앙겔라 메르켈 독일 총리 ( 사진 ) 는 13일 ( 현지시간 ) 현지매체인 프리프레스와의 인터뷰에서 “ 국민들이 ( 기업 경영진의 ) 고액연봉에 대해 불만이 많다는 사실을 알고 있다 ” 며 “ 과도한 연봉은 독일의 자유사회주의 체제에서 용납되지 않는 일 ” 이라고 말했다. 경영진의 고액연봉에 대해 제재를 가할 수 있음을 시사한 것이다. 메르켈 총리의 이번 발언은 오는 9월 총선을 앞두고 유권자들의 마음을 사로잡기 위한 포석이라는 분석이 설득력을 얻고 있다. 경영진 고액연봉 규제가 대다수 유권자에게 가장 쉽게 호소할 수 있는 이슈라는 점에서다. 메르켈 총리는 우파 성향의 기독교민주당 ( CDU ) 소속이지만 좌파 이슈도 최대한 끌어안아 지지층을 넓힌다는 전략이다. 최대 야당인 좌파 사회민주당 ( SPD ) 은 이미 최고경영자 ( CEO ) 연봉 제한을 비롯 최저임금제와 부자 증세안을 내놓겠다고 공언한 상태다. 시장경제를 지지해온 우파 정당이자 기민당과 연정을 이루고 있는 자유민주당의 라이너 브뤼더레 원내대표도 이날 “ 독일 정치인들이 선거가 치러지는 오는 9월22일 전까지 경영진 연봉 제한 규정을 만들어야 한다 ” 고 주장했다. 현재 독일에서는 주주가 경영진의 임금 결정에 참여할 수 있지만 주주 의견이 강제 사항은 아니다. \n",
            "질문 : 독일의 선거가 시작되는날은? \n",
            "예측 : 9월22일\n",
            "----------------------------------------\n",
            "본문 : [CLS] 1992년과 1993년에 걸쳐, 보리스 옐친 대통령은 1978년에 제정된 소련 헌법에 기반한 러시아의 헌법이 지나치게 경직적이고 자체 모순적이라고 비판하였으며, 러시아가 대통령에게 더 큰 권한을 부여하는 헌법을 제정할 필요가 있다고 주장하였다. 이후 행정부는 헌법 초안을 작성하여 의회에 제출하였고, 입법부는 이 새 초안을 지지하는 세력과 지지하지 않는 세력으로 나뉘어 다투었다. 이후 의회는 비타협파가 승기를 잡았고, 옐친의 새 초안을 거부하였다. 이는 결국 옐친 대통령이 군대를 이용하여 의회를 해산하는 계기가 되었고, 대통령 권한을 사용하여 새로운 제헌 국회를 만들게 하였다. 정부는 헌법 초안을 신속하게 새 안건으로 부쳤고, 1993년 12월에 국민 투표를 시행하여 새 헌법에 대한 투표를 실시하였다. 이 선거에서 58. 4 % 가 새 헌법을 지지하여 이 헌법이 새롭게 러시아의 헌법이 된 것이다. 1993년에 새롭게 제정된 이 헌법은 러시아를 연방으로 규정하며, 민주주의, 연방주의, 법치주의에 기반한 국가임을 명시하고 있다. 국가 권력은 입법부, 행정부 및 사법부로 나뉘며, 이념과 종교의 자유가 허용되며 국교나 국가적인 이념을 만드는 것을 허가하지 않았다. 하지만 정부가'극단주의자'라고 분류한 단체들을 강제적으로 무력 진압하는 경우가 점점 많아지며, 이 권리들이 위협받고 있는 것이 현실이다. 또한 다당제에 대한 권리가 보장되며, 법률의 내용은 발효되기 전에 국민들의 승인을 받아야 하고, 국제법과 조약들에 부합하는 것들이여야만 한다. 또한 러시아어가 공식적 국어로 지정되었다. \n",
            "질문 : 리스 옐친이 비평한 헌법은 어디에 근거하고있나요? \n",
            "예측 : 소련 헌법\n",
            "----------------------------------------\n",
            "본문 : [CLS] 동방의 [UNK] 『 백유경 』, 중국과 한국의 민간 서사문학 발전에 중대한 영향을 준 인도의 불경 이야기집이다. 온갖 비유로, 해학성이 넘치는 이야기 가운데 단순히 불교 가르침 이상의 깨달음이 있다. 이 보편적인 깨달음은 1500년 전 이야기가 아닌, 현재의 이야기로 다가와 우리에게 교훈을 준다. 각각의 이야기에 대한 두세 줄의 췌언은 세상에 대한 깊은 통찰을 가져다 준다. 『 백유경 』 은 고대 인도의 우화적인 구비설화를 중심으로 엮은 이야기책으로서 사람들의 어리석음을 일깨워 올바른 삶과 믿음의 경지에 이르게 하는 불교 경전이다. 기존의 불교 경전은 함축된 의미의 문장과 어려운 단어로 인해 불교의 가르침을 제대로 이해하기가 어렵다. 하지만 『 백유경 』 에서는 재미있고 쉬운 비유를 통해 일반 대중들도 쉽게 불교 경전에 다가갈 수 있게 한다. 인도 고대인들의 생활 속에서 일어난 여러 가지 일들이 생생한 표현, 간결한 구성, 적절한 해학 등이 이 책의 가장 큰 매력이다. 고대 인도의 이야기가 단지 고대만의 이야기로 끝나지 않는다. 비록 우리와는 다른 시대의 이야기이지만, 현대에 살고 있는 우리의 삶과 다르지 않다. 가령, 젖소에게서 우유를 미리 짜서 우유가 상할까 봐 나중에 한꺼번에 짜려고 했다가 결국 말라서 우유를 얻지 못한 어리석은 사람의 이야기는 바로 앞만 보고 미래를 보지 못하는 현대의 우리와 다르지 않다. 재밌는 이야기 속에 본질을 담고 있는 우화가 쉽지만 깊은 깨달음을 보여준다. \n",
            "질문 : < 백유경 > 은 어느 나라의 고대 설화를 배경으로 만든 불교 경전인가요? \n",
            "예측 : 인도\n",
            "----------------------------------------\n",
            "본문 : [CLS] 비록 튀코 브라헤의 새로운 모델인 절충설이 받아들여지지 않았지만 이것은 천문학적인 관점에서 큰 의의를 가지고 있다고 할 수 있다. 그는 지구 중심설을 제안한 동시에 천동설을 부정한 최후의 천문학자이다. 그를 통해서 천동설에서 지동설로 우주관이 바뀔 수 있었다고 해석할 수 있다. 그리고 그의 관측은 과학혁명 에 큰 기여를 했다고 여겨질 수 있다. 그가 관측한 자료들을 토대로 케플러는 행성의 운동을 기술하는 법칙을 세울 수 있었을 뿐만 아니라 천체의 운동에 관한 운동을 자세히 기술할 수 있었다. 그가 관측한 천체에는 그의 이름이 붙어 튀코 신성, 튀코 분화구 등이 만들어졌고 그의 이름을 딴 Tycho Brahe Planetarium의 천문관이 만들어지게 되었다. 뿐만 아니라 그는 천문학에 엄청난 기여를 했을 뿐만 아니라 1900년대까지도 사용되는 약초학을 발전시켜 의학의 발전에도 영향을 끼친 인물이라고 할 수 있다. 또한 튀코 브라헤가 Uraniborg에서 만든 연구회는 연구센터의 역할과 교육기관으로의 역할 모두 수행해 내었다. 덴마크의 학생들과 이외의 외국학생들에게 약초학과 천문학에 대해 알려주는 대학원이었다. 이렇듯 튀코 브라헤는 분명 천문학자로써 정확하고 객관적인 관측을 하는 명사로 지칭된다. 그리고 천문학 이외에도 의학, 교육학 등에 있어서 영향을 끼친 사람으로 평가할 수 있다. \n",
            "질문 : 튀코 브라헤가 연구와 교육적 역할을 충실히 한 연구회를 만든 곳은? \n",
            "예측 : Uraniborg\n",
            "----------------------------------------\n",
            "본문 : [CLS] 갈릴레오는 진자의 등시성 및 관성법칙 발견한 위대한 이탈리아의 천문학자 · 물리학자 · 수학자이다. 그는 천문학에서도 거대한 발자취를 남겼다. 그는 코페르니쿠스와 프톨레마이오스의 타협안을 찾은 튀코 브라헤와는 달리 코페르니쿠스의 지동설만을 굳게 믿었고, 프톨레마이우스의 주장은 강하게 비판하였다. 1597년 그가 케플러에게 보낸 편지와 1610년 그가 공표한 관찰 결과에 따르면 바다의 조수 현상, 태양의 흑점, 달의 표면, 금성의 차고 기움, 목성의 4개 위성 등이 모두 다 천동설로는 설명이 불가능하다고 하였다. 그의 모든 주장들은 그가 망원경을 통하여 객관적이고 정확하게 분석한 결과이기에 튀코에게 뒤지지 않을 만큼 천문학계에 큰 기여를 하였다. 또한 그는 프톨레마이오스 - 코페르니쿠스 두 개의 주요 우주 체계에 대한 대화 라는 책을 통하여 그의 입장을 간접적으로 주장하기도 하였지만, 결국에는 교황청의 협박을 이기지 못하고 그의 지동설에 대한 주장을 철회하고 만다. 하지만 그는 이미 천문학에 큰 기여를 하였고, 그의 주장은 약 350년 후 다시 빛을 발한다. \n",
            "질문 : 튀코 브라헤와 달리 코페르니쿠스의 주장만 믿은 사람은? \n",
            "예측 : 갈릴레오\n",
            "----------------------------------------\n",
            "본문 : [CLS] 튀코 브라헤 ( Tycho Brahe, 1546년 12월 14일 ~ 1601년 10월 24일 ) 는 덴마크의 천문학자이다. 로스토크 대학에서 공부했다. 1572년, 카시오페이아자리에서 신성을 발견하여 맨눈으로 관찰할 수 없을 때까지 14개월간 관측을 계속하여 기록을 남겼다. 이러한 재능이 인정되어 덴마크왕 덴마크의 프레데리크 2세 의 지원을 받아 벤 섬에 우라니보르 천문대, 스티에르네보르 천문대를 건설하고 방대하고 정밀한 관측기록을 남긴다. 프레데리크 2세가 죽은 후, 1599년에는 신성 로마 제국 황제 루돌프 2세 황실부 제국수학관에 초청되어 프라하로 이주한다. 천문학자로서 그는 코페르니쿠스 체계 ( 지동설 ) 의 기하학적 장점과 프톨레마이오스 체계 ( 천동설 ) 의 철학적 장점을 결합하여 태양이 지구 둘레를 도는 동시에 다른 행성들이 태양 둘레를 돈다는 독특한'튀코 체계'( 수정된 천동설 ) 를 주장하였고, 이 학설의 선취권 문제로 라이마루스 우르소와 싸움을 벌였다. 그러나 브라헤가 천동설을 옹호하기 위해 남긴 관측기록은 그가 병으로 죽은 후 제자이며 공동연구자였던 요하네스 케플러가 그의 기록을 분석하여 케플러 법칙을 발견해 내면서 지동설을 지지하는 결정적인 증거가 되었다. 튀코 브라헤는 1577년 나타난 혜성에 대해서도 많은 관측결과를 남겼으며, 혜성 현상이 달보다 먼 곳에서 일어났다는 사실을 증명해 냈다. 그 혜성관측결과와 신성의 발견은 달보다 먼 곳에서는 어떠한 변화도 일어나지 않고 있다는 당시의 천동설을 반증하는 한 증거이기도 했다. \n",
            "질문 : 튀코 브라헤는 프레데리크 2세가 사망한 후 어디로 이주하나요? \n",
            "예측 : 프라하\n",
            "----------------------------------------\n",
            "본문 : [CLS] 우주관에 대한 생각은 사실에서부터 왜곡된 상황에서 시작되었다고 할 수 있다. 고대사람들은 지구가 평평하고 하늘이 돈다고 생각하였고 그 이후에 아리스타르코스 가 최초로 지동설을 주장하였지만 히파르코스 에 의해 부정되었다. 그 이후에 프톨레마이오스에 의해 천동설이 구체화되어 사람들에게 확립되었다. 이러한 상황이 오랫동안 지속되는 가운데 코페르니쿠스가 프톨레마이오스의 체제를 부정하면서 새로운 모델인 코페르니쿠스 체계를 가져왔다. 지구가 중심이라는 전제를 부정하며 태양이 중심이라는 것을 기반으로 하여 천동설의 복잡한 요소들을 제거할 수 있었다. 코페르니쿠스의 체계는 다음과 같다. 태양을 중심으로 안쪽에서부터 수성, 금성, 지구, 화성, 목성, 토성의 순으로 동심원을 그리면서 공전하고 있다. 행성들의 공전방향은 시계반대방향이며 안쪽에 있는 행성의 공전속도가 더 빠르고 공전주기는 짧다. 달만이 지구를 중심으로 하여 작은 원을 그리면서 공전한다. 예전의 수수께끼였던 충 - 지구접근 - 역행 그리고 내행성의 최대이각의 측정 역시 합리적으로 설명할 수 있었다. 이 체계는 코페르니쿠스의 저서 천구의 회전에 관하여 ( 1543 ) 에 기록되어 있다. 하지만 코페르니쿠스는 이런 모델을 바로 발표하지 않았다. 그 이유는 그가 너무 바빴던 것도 있지만 코페르니쿠스의 모델 역시 오랜 수수께끼를 해결해주지만 새로운 문제를 불러일으킨다는 사실을 알고 있었기 때문이다. 그리고 그 모델이 오랜 수수께끼들을 모두 해결해주지도 않았다. 뿐만 아니라 코페르니쿠스의 모델이 세상에 나온 이후에도 그 당시 사람들의 사상에 매우 부정적인 영향을 끼쳤기 때문에 쉽게 받아들여지지 않았다. 그들의 사상에는 지구는 우주의 중심이어야 한다는 전제가 깔려 있었기 때문이다. 즉, 이러한 관점은 교회에 대한 도전이었기에 내동댕이 쳐지고 말았다. 점점 시간이 지나면서 튀코 브라헤, 갈릴 \n",
            "질문 : 아리스타르코스가 처음으로 지동설을 이야기했지만 이를 반박한 인물은? [SEP]\n",
            "예측 : 히파르코스\n",
            "----------------------------------------\n",
            "본문 : [CLS] 피아니스트 백건우가 음악적, 문학적 영감과 꿈이 가득한 젊은 날의 슈만, 그리고 광기가 깊어져 어둠으로 사라지고 있는 슈만을 모두 담은 새 앨범 ‘ 슈만 ’ 을 오늘 ( 17일 ) 발매한다. 두 장의 CD로 구성된 이번 앨범은 각각 ‘ 오이제비우스 ’ ( CD1 ) 와 ‘ 플로레스탄 ’ ( CD2 ) 이라는 이름이 붙었다. ‘ 오이제비우스 ’ 는 내성적이며 꿈꾸는 듯한, ‘ 플로레스탄 ’ 은 열정적이며 공격적인 슈만의 서로 다른 자아를 상징한다. 대조적인 두 개의 자아는 슈만을 비추는 다르면서도, 동시에 같은 거울이었고 이번 앨범을 통해서 피아니스트 백건우가 보여주고 싶었던 슈만의 모습을 담고 있다. 백건우는 녹음에 앞서 작곡가에 대한 다양한 문헌을 토대로 심도 있는 연구를 선행하는 것으로 유명하다. 그는 이번에도 역시 슈만에 대한 깊은 고찰을 통해 입체적이면서도 자서전적인 앨범을 세상에 내놓았다. 첫 번째 CD ‘ 오이제비우스 ’ 의 포문은 슈만의 공식적인 첫 번째 작품으로 알려진 ‘ 아베크 변주곡 ’ 이 연다. 두 번째 수록곡은 숲에 대한 낭만주의자 슈만의 동경과 불안을 그린 음악적 풍경화인 ‘ 숲속의 정경 ’ 이다. 그 다음 곡인 ‘ 어린이의 정경 ’ 은 원래 모두 서른 곡이나, 그 가운데 열 세곡만 선별해 담았다. ‘ 어린이의 정경 ’ 은 제목과 달리 어린이를 위한 것도 아니고, 어린 시절을 회상하며 쓴 곡이라고 말하기도 어렵다. 슈만은 클라라를 향한 사랑의 편지를 쓰거나, 작곡을 했는데 이 둘은 모두 슈만에게 같은 행위였다. ‘ 어린이의 정경 ’ 은 클라라의 편지에 대한 슈만의 음악 답장이었다. 마지막 곡은 라인강에서 투신한 뒤 정신병원에 입원해서 완성한 ‘ 유령 변주곡 ’ 이다. 두 번째 CD ‘ 플로레스탄 ’ 에서 주목할 만한 작품은 ‘ 새벽의 노래 ’ 와 ‘ 밤의 소곡 ’ 이다. ‘ 새벽의 노래 ’ 작품은 슈만이 광기에 완전히 자신을 잃지 않은 상태에서 작곡된 마지막 작품이라고 말할 수 있다. \n",
            "질문 : 숲속의 정경'이 수록된 CD는? [SEP]\n",
            "예측 : 오이제비우스 ’\n",
            "----------------------------------------\n",
            "본문 : [CLS] 회사원 이정태 씨 ( 30 ) 는 최근 미디어를 통해 접한 외국 액션영화 ‘ 비히클 19 ’ 을 보러 극장에 갔지만 볼 수가 없었다. 개봉 1주일도 안 돼 막을 내린 까닭이다. 이 영화는 전국 11개 스크린에서 상영돼 관객 5600명을 모으는 데 그쳤다. 이는 그나마 사정이 나은 편. 또 다른 외화 ‘ 아프리카의 여왕 ’ 은 단 1개 스크린에서 개봉돼 2900명을 동원한 채 막을 내렸다. 13일 영화진흥위원회 통합전산망에 따르면 지난달 1일부터 12일까지 상영된 박스오피스 상위 100위권 영화 가운데 30여편의 외화가 관객 수 1만명을 밑돌았다. 상영 중인 외화가 너무 많아서다. 영화 수입이 급증하고 있다. 지난 1월1일부터 9월 말까지 상영된 외화는 577편으로 지난해 같은 기간의 440편보다 31 % 늘었다. 2011년 ( 258편 ) 에 비해서는 136 % 나 증가했다. 외화가 이처럼 급증하고 있는 것은 극장 상영 외에 주문형비디오 ( VOD ), DVD 등 부가판권 시장이 커지면서 영화사들이 마구잡이로 외화를 사들이고 있기 때문. 올 상반기 디지털 온라인 영화시장 매출규모는 1219억원으로, 전년 동기 대비 30. 4 % 증가했다. 특히 인터넷TV ( IPTV ) 와 디지털케이블 TV에서 VOD 매출은 작년보다 51. 8 % 급증한 782억원에 달하며 성장세를 주도했다. 올레TV 등 IPTV 가입자가 늘면서 집에서 유료로 영화를 시청하는 습관이 생겨나고 있는 것으로 풀이된다. VOD 시장에서는 한국영화 흥행작에 대한 수요가 가장 크고 그다음이 외화다. 올 상반기 VOD 시장에서 ‘ 브레이킹 던2 ’ 가 이용 건수 24만건으로 외화 매출 1위에 올랐다. ‘ 테이큰2 ’ ( 23만건 · 2위 ) ‘ 레미제라블 ’ ( 21만건 · 3위 ) ‘ 잭 더 자이언트 킬러 ’ ( 20만건 · 4위 ) ‘ 호빗 : 뜻밖의 여정 ’ ( 16만건 · 5위 ) 이 뒤를 이었다. 이들 영화는 극장 흥행 후 추가 수입을 거두고 있는 셈이다. 이보다 \n",
            "질문 : 작년 1월 1일부터 9월 말까지 상영된 외국 영화는 몇 편인가? [SEP]\n",
            "예측 : 577\n",
            "----------------------------------------\n",
            "본문 : [CLS] 단순포진 각막염 ( Herpetic simplex keratitis ) 은 단순포진바이러스가 각막에 감염되어 발생하는 각막염이다. 370 눈 표면의 상피 세포가 감염되는것으로 시작한 뒤 역행하여 각막에 뿌리내리는 신경세포에까지 도달한다. 1차 감염의 증상은 결막과 눈꺼풀의 부음 ( 눈꺼풀결막염 ) 이며, 가려움을 유발하는 작은 흰색 병변이 각막 표면에 발생한다. 병변의 영향은 다양해서 상피에 작은 상처 ( 점상상피미란 ) 만 남기는 경우도 있고, 심하게는 각막 궤양이 만들어질 수도 있다. 감염은 한 쪽 눈에서만 나타난다. 기타 증상으로는 눈 깊은곳에서 무딘 통증이 나타나거나, 경미하거나 심한 건조감, 부비동염 등이 나타난다. 대부분 몇 주 안에 자연스레 사라지며, 알맞는 항바이러스제를 구강에 투여함으로써 빠르게 호전될 수도 있다. 재발할 경우 수지상 궤양이나 하얀색 플라크가 형성되는 등 더 심각한 증상이 나타날 수도 있다. 궤양이 자람에 따라 상피세포는 망가지고, 경미한 염증이 홍채의 실질에 발생할 수도 있다 ( 홍채염 ) 재발시 만성적 안구건조증이나 부비동염, 간헐적 결막염이 발생할 수도 있다. 지속감염시 바이러스의 DNA가 쌓이게되고, 이에 대한 항원항체반응이 나타남으로써 눈에 엄청난 면역 부하가 발생한다. 이는 곧 각막 기질에 혼탁화를 일으켜 시력을 잃게 만들기도 한다 단순포진바이러스는 전체 인구의 1 / 3이 감염되어 있을 정도로 흔한 바이러스다. 또한 단순포진 각막염은 각막 기인 실명의 가장 흔한 원인이다. 따라서 단순포진바이러스는 전세계적인 문제이다 매년 150만명이 새로이 확진되며, 그중 4만명은 심각한 단안시력 손상이나 실명증 환자가 새로 발생한다 \n",
            "질문 : 단순포진 각막염의 흰색 병변은 심한 경우에 무엇을 일으키나요? \n",
            "예측 : 가려움을 유발하는 작은 흰색 병변이 각막 표면에 발생한다. 병변의 영향은 다양해서 상피에 작은 상처 ( 점상상피미란 ) 만 남기는 경우도 있고, 심하게는 각막 궤양이\n",
            "----------------------------------------\n",
            "본문 : [CLS] 325년에 제1차 니케아 공의회에서 교회 지방의 수가 최소한 셋을 넘어야 관할권이 부여되도록 정했고, 그 이후 교회는 여섯 교회법을 따르며, 언젠가 가톨리코스 칭호는 안티오키아 총대주교와 상용하게 되었다. 오랜 관례에 따르면, 가톨리코스들 ( 가톨리코이 ) 의 지위는 주로 로마 제국의 변방 속주들을 통치하기 위해서 만들어졌다. 가톨리코이가 안티오키아와 실제적으로 어느 정도의 관계였는지는 알려지지 않았다. 성직에서 가톨리코스의 명칭의 사용은 4세기에 아르메니아 사도 교회 아르메니아 가톨리코스에 의해 가장 먼저 사용되었다 얼마간의 시간이 지나고, 그 명칭은 동방 교회의 지정된 수장이 된 페르시아의 셀레우키아크테시폰 주교에 의해 채택되었다. 처음에는 셀레우키아크테시폰의 주교가 다른 주교좌직 보다 상급이며 ( 후일에 사용된 용어 ) 파트리아르케스'( 총대주교 ) 의 권리는 파파 바 가가이 ( 또는 아가이, 317 ~ 329년 ) 총대주교에 의해 제정 되었다는 주장이 제기되었다. 5세기에 그 주장은 강력해 졌고 이사악 ( 또는 이샤크 399년 ~ 410년경 ) 은 셀레우키아크테시폰 공의회를 열었고 셀레우키아크테시폰 주교, 가톨리코스 그리고 모든 동방 주교들의 수장이라는 명칭을 사용했다. 가톨리코스의 칭호 체계는 동방 교회를 성립되게 했으며 동방 시리아 전례가 발전하게 했다. 카톨리코스는 가톨릭의 유래라고도 하며, 현재는 동방 정교회, 동방 교회의 독립 자치 교회의 총주교라는 의미로 널리 사용된다. \n",
            "질문 : 주교좌직 중 상위라고 주장된 주교는? \n",
            "예측 : 셀레우키아크테시폰의 주교\n",
            "----------------------------------------\n",
            "본문 : [CLS] 관광정보를 제공하는 정보기술 ( IT ) 업체 레드테이블의 도태용 개발팀장은 올 들어 국토교통부 행정자치부 지방자치단체 등이 개방한 레스토랑 관련 공공데이터를 수집했다. 도 팀장은 모은 정보를 토대로 외국 관광객이 자국어로 볼 수 있는 레스토랑 랭킹 서비스 ‘ 레드테이블 ’ 을 개발했다. 행자부가 정부 3. 0 확산을 위해 국토부 청년위원회 중소기업청과 공동으로 25일 국립중앙박물관 대강당에서 연 ‘ 제2회 공공데이터 활용 창업경진대회 ’ 에서 레드테이블이 제품 · 서비스 개발부문 대상을 받았다. 도 팀장은 “ 정부가 개방한 공공데이터 가운데 관광분야를 골라 사업을 구상했다 ” 며 “ 상금으로 받은 2000만원은 앞으로 회사를 키워나가는 데 디딤돌이 될 것 ” 이라고 말했다. 국토부 보건복지부 등이 개방한 교통사고 정보를 이용해 스마트폰을 보면서 걷는 보행자의 교통사고를 예방할 수 있는 서비스 ‘ 센시오 ’ 를 개발한 CRC팀은 아이디어 기획부문 대상과 함께 상금 1500만원을 받았다. 소비자물가와 주유소 유가정보 등을 알려주는 클립머니 서비스를 만든 텐큐브, 주말농장 정보를 폐쇄형 소셜네트워크서비스 ( SNS ) 로 제공하는 위크톡팀의 ‘ 위크톡 ’ 은 각각 제품 · 서비스 개발부문과 아이디어 기획부문에서 최우수상을 받았다. 공개모집 형태로 진행한 이번 대회에는 432개 팀 ( 아이디어 기획 347개 팀, 제품 및 서비스 개발 85개 팀 ) 이 참가해 20개 팀이 최종 결선에 진출했다. 정종섭 행자부 장관은 “ 공공데이터 개방은 정부 3. 0의 핵심이자 창조경제의 원천 ” 이라며 “ 공공데이터를 활용한 창업이 새로운 비즈니스 모델로 자리 잡도록 범정부적으로 지원하겠다 ” 고 말했다. \n",
            "질문 : 제2회 공공데이터 활용 창업경진대회에서 제품 및 서비스 개발부문 대상자에게 얼마를 수여했는가? \n",
            "예측 : 2000만원\n",
            "----------------------------------------\n",
            "본문 : [CLS] 오늘날 독일 니더작센주 호른부르크 태생인 그는 몰스레벤 및 호른부르크 백작 콘라드와 그의 아내 아물라드의 아들이다. 궁정 부제로 지내던 중 1040년 12월 28일 마인츠의 대주교에 의해 밤베르크의 주교로 서임되었다. 1046년 그는 독일 왕 하인리히 3세가 이탈리아로 길을 떠날 때 수행하여, 12월에 소집된 수트리 교회회의에 참석했다. 수트리 교회회의는 베네딕토 9세와 실베스테르 3세의 폐위를 결의하는 한편 그레고리오 6세에게는 자진 사임할 것을 요청했다. 그리고 하인리히 3세가 수이드거를 다음 교황으로 추천하자, 수트리 교회회의는 그를 교황으로 선출했다. 교황으로 선출된 수이드거는 자신을 클레멘스 2세로 자처하였다. 교황으로 선출되자마자 그는 하인리히 3세와 함께 로마로 갔다. 그리고 클레멘스 2세는 하인리히 3세를 신성 로마 제국의 황제로 봉하는 대관식을 집전하였다. 클레멘스 2세는 1047년 로마 시노드를 소집하여 성직매매를 금지하는 규정을 제정하는 등 교회 개혁을 시행하였다. 라벤나 주교좌와 밀라노 주교좌, [UNK] 주교좌 간에 벌어진 우위권 논쟁은 라벤나의 손을 들어줌으로써 일단락되었다. 클레멘스 2세의 선출은 훗날 교황청 내 개혁파로부터 그가 교황으로 선출되기 전에 다른 교구의 주교였다는 것과 세속 군주가 개입했다는 점 때문에 비판받았다. 클레멘스 2세는 특이하게도 자신의 옛 주교좌를 그대로 보유함으로써 로마 교구와 밤베르크 교구를 동시에 사목하였다. 클레멘스 2세는 하인리히 3세를 대동하고 이탈리아 남부로 개선 행진을 했으며, 하인리히 3세의 요청에 따라 925년 헝가리인들에 의해 순교한 비보라다 수녀를 시성하였다. \n",
            "질문 : 클레멘스 2세가 교황이 되기 전의 행보에 대해 지적한 교황청의 세력은? \n",
            "예측 : 개혁파\n",
            "----------------------------------------\n",
            "본문 : [CLS] 식품 알레르기 ( 食 [UNK] Allergie ) 는 꽃가루나 향생제의 알레르기와는 달리 특정 사람이 어떤 음식을 먹으면 장 혹은 몸이 병원균으로 인식하여 불편한 증세를 일으키는 것을 의미한다. 알레르기 반응의 증상은 가벼운 것부터 심한 것까지 다양할 수 있다. 가려움, 혀의 붓기, 구토, 설사, 벌통, 호흡곤란 또는 저혈압 등이 있을 수 있다. 이는 일반적으로 노출 후 몇 분에서 몇 시간 이내에 발생한다. 증상이 심할 때는 anaphylaxis로 알려져 있다. 식중독과 식중독은 면역반응이 아니라 별개의 질환이다. 흔한 알레르기는 나라에 따라 다르다. 위험인자에는 알레르기, 비타민D 결핍, 비만, 청결도가 높은 가족력이 포함된다. 알레르기는 인체의 면역체계의 일부인 면역글로불린 E ( IgE ) 가 음식 분자에 결속될 때 발생한다. 음식에 들어 있는 단백질이 보통 문제다. 이것은 히스타민 같은 염증성 화학물질의 방출을 촉발한다. 진단은 대개 의학적 이력, 제거 다이어트, 피부 따끔따끔한 검사, 식품 특이 IgE 항체의 혈액 검사, 구강 식품 도전에 기초한다. 잠재적인 알레르기 유발 물질에 대한 조기 노출은 보호적일 수 있다. 관리는 주로 해당 식품을 피하고 노출이 발생할 경우 계획을 세우는 것을 포함한다. 이 계획에는 아드레날린을 투여하고 의료경보 장신구를 착용하는 것이 포함될 수 있다. 식품 알레르기에 대한 알레르겐 면역요법의 이점이 불분명하므로 권장하지 않는다. 아이들의 식품 알레르기의 일부는 우유, 계란, 콩을 포함하여 나이에 따라 해결되는 반면 견과류와 조개류 같은 것들은 일반적으로 그렇지 않다. 선진국에서는 약 4 % 에서 8 % 의 사람들이 적어도 한 가지 식품 알레르기를 가지고 있다. \n",
            "질문 : 견과류와 더불어 나이가 들어도 알레르기가 해결되지 않는 식품은? \n",
            "예측 : 조개류\n",
            "----------------------------------------\n",
            "본문 : [CLS] 식품 알레르기 ( 食 [UNK] Allergie ) 는 꽃가루나 향생제의 알레르기와는 달리 특정 사람이 어떤 음식을 먹으면 장 혹은 몸이 병원균으로 인식하여 불편한 증세를 일으키는 것을 의미한다. 알레르기 반응의 증상은 가벼운 것부터 심한 것까지 다양할 수 있다. 가려움, 혀의 붓기, 구토, 설사, 벌통, 호흡곤란 또는 저혈압 등이 있을 수 있다. 이는 일반적으로 노출 후 몇 분에서 몇 시간 이내에 발생한다. 증상이 심할 때는 anaphylaxis로 알려져 있다. 식중독과 식중독은 면역반응이 아니라 별개의 질환이다. 흔한 알레르기는 나라에 따라 다르다. 위험인자에는 알레르기, 비타민D 결핍, 비만, 청결도가 높은 가족력이 포함된다. 알레르기는 인체의 면역체계의 일부인 면역글로불린 E ( IgE ) 가 음식 분자에 결속될 때 발생한다. 음식에 들어 있는 단백질이 보통 문제다. 이것은 히스타민 같은 염증성 화학물질의 방출을 촉발한다. 진단은 대개 의학적 이력, 제거 다이어트, 피부 따끔따끔한 검사, 식품 특이 IgE 항체의 혈액 검사, 구강 식품 도전에 기초한다. 잠재적인 알레르기 유발 물질에 대한 조기 노출은 보호적일 수 있다. 관리는 주로 해당 식품을 피하고 노출이 발생할 경우 계획을 세우는 것을 포함한다. 이 계획에는 아드레날린을 투여하고 의료경보 장신구를 착용하는 것이 포함될 수 있다. 식품 알레르기에 대한 알레르겐 면역요법의 이점이 불분명하므로 권장하지 않는다. 아이들의 식품 알레르기의 일부는 우유, 계란, 콩을 포함하여 나이에 따라 해결되는 반면 견과류와 조개류 같은 것들은 일반적으로 그렇지 않다. 선진국에서는 약 4 % 에서 8 % 의 사람들이 적어도 한 가지 식품 알레르기를 가지고 있다. \n",
            "질문 : 알레르기를 관리하는 계획에는 어떤 호르몬을 투여하는 것도 포함되는가? \n",
            "예측 : 아드레날린\n",
            "----------------------------------------\n",
            "본문 : [CLS] 한국을 대표하는 지식인과 원로 1000명이 정치권에 노동개혁 관련 법안을 이번 정기국회 때 차질 없이 처리할 것을 촉구할 예정이다. 지난달 15일 경제사회발전노사정위원회 대타협의 합의 정신을 존중하되 구체성 없는 합의 내용에 집착하지 말고 제대로 된 노동개혁에 적극 나서라는 것이다. 바른사회시민회의와 한반도선진화재단은 6일 오전 10시30분 서울 광화문 프레스센터에서 공동 기자회견을 열고 ‘ 노동개혁 촉구 1000인 지식인 선언 ’ 성명서를 발표한다고 5일 밝혔다. 성명서 작성에는 한반도선진화재단 이사장인 박재완 성균관대 국정관리대학원장 ( 전 기획재정부 장관 ) 과 윤증현 전 기획재정부 장관, 조동근 명지대 경제학과 교수 ( 바른사회시민회의 공동대표 ), 윤창현 서울시립대 경영학부 교수 등 대학교수, 법조인, 전직 관료, 회계사 등 지식인 · 원로 1000명이 참여했다. 이들은 성명서에서 △노동개혁 관련 법안의 이번 정기국회 내 처리 △임금피크제 활성화 및 임금체계 개편 △근로시간 단축의 단계적 시행 △파견 · 기간제 근로자에 대한 규제 완화와 저성과자 일반해고 기준 마련 △사업장 내 파업 허용 금지 등을 요구할 예정이다. 박 원장은 “ 노동개혁은 심각한 청년실업을 완화하고 추락하는 성장 잠재력을 복원하기 위해 더 이상 미룰 수 없는 초미의 과제 ” 라며 “ 정부와 국회는 노 · 사 · 정 합의 정신을 존중하고 노 · 사 · 정 합의를 거부하는 세력의 요구에 굴복하거나 타협하면 안 된다 ” 고 강조했다. 바른사회시민회의 관계자는 “ 뜻 있는 지식인들이 두 달 전부터 성명서를 준비했다 ” 며 “ 정부와 여당이 지난달 합의 내용에 집착해 실기하지 말고 제대로 된 노동개혁에 적극 나설 것을 촉구할 예정 ” 이라고 설명했다. \n",
            "질문 : 조동근 등 많은 지식인들이 작성한 문서가 공개되는 날짜는? \n",
            "예측 : 6일\n",
            "----------------------------------------\n",
            "본문 : [CLS] 전시 조약에 그쳤던 남극 조약의 체결에 의해 단기 결전에 의한 전쟁 종결, 독립 자치권의 획득이라는 지온 공국의 예측은 완전히 붕괴됐다. 이 단계에서 종전 협정을 맺고도 지온에 있어 유리한 조건은 없었고, 이제 남아 있는 것은 철저 항전에의 길뿐이었다. 이런 각오가 정해지자 지온의 대응은 빨랐다. 지구상의 군사 거점과 광물 자원, 화석 연료의 확보 때문에 진전되고 있었던 계획 지구 침공 작전을 실행에 옮겼던 것이다. 콜로니 국가인 지온은 고유의 자원이 없다. 전쟁을 종결하기 위해서도 자원의 확보는 불가결의 문제이었다. 은밀히 진행된 지온 군의 지구 침공 작전은 개시된다. 함 밑에 HRSL ( 강하용 캡슐 ) 을 장착한 무사히 급 순양함이 다수 지구의 위성 궤도상에 집결했었지만 이것을 막을 만큼의 전력은 연방군에게는 없었다. 2월 7일, 위성 궤도상에서의 지온의 우주 전투정에 의해 미노프스키 입자가 살포되었다. 레이다를 사용할 수 없게 된 지구상의 연방군은 정확한 지온 군의 강하 지점을 잡을 수 없었고 유효한 요격도 불가능한 상황에서 지온의 강하 작전을 속수무책으로 당하게 된다. 지온 군은 [UNK] 중에 대규모적 강하 작전을 [UNK] 감행했다. 연방군 바이코멜 기지와 우랄 산맥 주변에 행해진 제1차 강하 작전, 캘리포니아 기지와 뉴욕 주변에 행해진 제2차 강하 작전, 그리고 제3차 강하 작전은 북경 주변, 말레이 반도 주변, 오스트레일리아 북쪽 해안이 선택되고 자크를 수용한 다수의 HRSL이 각 강하 포인트로 향하여 투하되었다. 이 일련의 강하 작전으로 지구상의 수많은 중요 거점이 지온 군의 지배하에 떨어졌다. 그중 연방군에 있어 최대의 상처가 됐던 것은 북아메리카의 캘리포니아 기지의 강탈이었다. 연방군에 있어 남미 자브로 다음 가는 대규모 군사 기지이고 해군 군항, 공군 기지, 우주 항, 각종 병기의 개발 생산 시설까지 갖추었던 일대 군사 거점이었던 것이다. 캘리포니아 기지는 점령 \n",
            "질문 : 지온 군의 강하 작전 때 지구상의 연방군이 쓸 수 없게 된 것은? [SEP]\n",
            "예측 : 레이다\n",
            "----------------------------------------\n",
            "본문 : [CLS] 전시 조약에 그쳤던 남극 조약의 체결에 의해 단기 결전에 의한 전쟁 종결, 독립 자치권의 획득이라는 지온 공국의 예측은 완전히 붕괴됐다. 이 단계에서 종전 협정을 맺고도 지온에 있어 유리한 조건은 없었고, 이제 남아 있는 것은 철저 항전에의 길뿐이었다. 이런 각오가 정해지자 지온의 대응은 빨랐다. 지구상의 군사 거점과 광물 자원, 화석 연료의 확보 때문에 진전되고 있었던 계획 지구 침공 작전을 실행에 옮겼던 것이다. 콜로니 국가인 지온은 고유의 자원이 없다. 전쟁을 종결하기 위해서도 자원의 확보는 불가결의 문제이었다. 은밀히 진행된 지온 군의 지구 침공 작전은 개시된다. 함 밑에 HRSL ( 강하용 캡슐 ) 을 장착한 무사히 급 순양함이 다수 지구의 위성 궤도상에 집결했었지만 이것을 막을 만큼의 전력은 연방군에게는 없었다. 2월 7일, 위성 궤도상에서의 지온의 우주 전투정에 의해 미노프스키 입자가 살포되었다. 레이다를 사용할 수 없게 된 지구상의 연방군은 정확한 지온 군의 강하 지점을 잡을 수 없었고 유효한 요격도 불가능한 상황에서 지온의 강하 작전을 속수무책으로 당하게 된다. 지온 군은 [UNK] 중에 대규모적 강하 작전을 [UNK] 감행했다. 연방군 바이코멜 기지와 우랄 산맥 주변에 행해진 제1차 강하 작전, 캘리포니아 기지와 뉴욕 주변에 행해진 제2차 강하 작전, 그리고 제3차 강하 작전은 북경 주변, 말레이 반도 주변, 오스트레일리아 북쪽 해안이 선택되고 자크를 수용한 다수의 HRSL이 각 강하 포인트로 향하여 투하되었다. 이 일련의 강하 작전으로 지구상의 수많은 중요 거점이 지온 군의 지배하에 떨어졌다. 그중 연방군에 있어 최대의 상처가 됐던 것은 북아메리카의 캘리포니아 기지의 강탈이었다. 연방군에 있어 남미 자브로 다음 가는 대규모 군사 기지이고 해군 군항, 공군 기지, 우주 항, 각종 병기의 개발 생산 시설까지 갖추었던 일대 군사 거점이었던 것이다. 캘리포니아 기지는 점령 후 지온 군의 지구 \n",
            "질문 : 연방군의 레이다를 무력화시킨 화학무기는? [SEP]\n",
            "예측 : 미노프스키 입자\n",
            "----------------------------------------\n",
            "본문 : [CLS] 연방군 수뇌는 「 지온에 시간을 주면, 다시 한번 솔라 레이를 사용할 기회를 주게 된다 」 하며 잔존 함대에 아 바오아 쿠 재진격을 명령했다. 12월 31일, 연방군은 전투함 마할, 화이트 베이스를 중심으로 잔존 함대를 재편성하고 아 바오아 쿠로의 진격을 재개했다. 지온 군도 솔라 레이의 위력으로 사기는 오르고 있었다. 연방군은 요새포를 무력하게 하기 위해 퍼블릭 돌격정, 우주 전투기를 여럿 투입했다. 그러나 솔로몬으로 교훈을 얻었던 지온 측은 대공 미사일로 응전, 돌격정은 차례차례로 격침되었다. 이미 요새 공략의 최후의 수단이었던 솔라 시스템 탑재 함정은 솔라 레이의 발사와 함께 잃어버려 대응 방법이 없는 연방군은 [UNK] 사출, 각 함정도 아 · 바오아 · 쿠로 돌입했다. 전국은 당초 지온 우위로 진행되었다. 그러나 전군을 지휘하고 있었던 기렌 총수가 키시리아 자비 소장의 손에 의해 암살되는 사건으로 국면이 변했다. 이에 일시적으로 지휘 계통의 혼란이 일어났고, 전선을 유지하고 있던 대형 항공 모함 도로스를 잃고 방위력이 저하되었다. 연방 함정은 차례차례 아 · 바오아 · 쿠에 접현, 싸움은 백병전화되었다. 이 격전 속에서 용명을 떨쳤던 화이트 베이스도 침몰되고 말았다. 정오를 지나는 무렵, 전세는 결정됐다. 지온 함정의 중에 불리함을 깨닫고 소행성 대의 우주 요새 액시즈나 암초 주역으로 멀리 달아나는 함도 나오기 시작했다. 전군을 지휘하고 있었던 키시리아 소장도 잔지발 급 기동 순양함으로 탈출을 꾀하려고 했지만, ( 기록상으로는 ) 사라미스 급 순양함의 포격에 의해 격침되어 전사, 이에 따라 아 바오아 쿠는 함락되었다. * 키시리아 자비가 전사한 실제 이유는 샤아 아즈나블이 함정 브릿지에 로켓 런쳐를 발사했기 때문. \n",
            "질문 : 기렌 총수가 살해당한 직후에 파괴된 군함은? \n",
            "예측 : 도로스\n",
            "----------------------------------------\n",
            "본문 : [CLS] 연방군 수뇌는 「 지온에 시간을 주면, 다시 한번 솔라 레이를 사용할 기회를 주게 된다 」 하며 잔존 함대에 아 바오아 쿠 재진격을 명령했다. 12월 31일, 연방군은 전투함 마할, 화이트 베이스를 중심으로 잔존 함대를 재편성하고 아 바오아 쿠로의 진격을 재개했다. 지온 군도 솔라 레이의 위력으로 사기는 오르고 있었다. 연방군은 요새포를 무력하게 하기 위해 퍼블릭 돌격정, 우주 전투기를 여럿 투입했다. 그러나 솔로몬으로 교훈을 얻었던 지온 측은 대공 미사일로 응전, 돌격정은 차례차례로 격침되었다. 이미 요새 공략의 최후의 수단이었던 솔라 시스템 탑재 함정은 솔라 레이의 발사와 함께 잃어버려 대응 방법이 없는 연방군은 [UNK] 사출, 각 함정도 아 · 바오아 · 쿠로 돌입했다. 전국은 당초 지온 우위로 진행되었다. 그러나 전군을 지휘하고 있었던 기렌 총수가 키시리아 자비 소장의 손에 의해 암살되는 사건으로 국면이 변했다. 이에 일시적으로 지휘 계통의 혼란이 일어났고, 전선을 유지하고 있던 대형 항공 모함 도로스를 잃고 방위력이 저하되었다. 연방 함정은 차례차례 아 · 바오아 · 쿠에 접현, 싸움은 백병전화되었다. 이 격전 속에서 용명을 떨쳤던 화이트 베이스도 침몰되고 말았다. 정오를 지나는 무렵, 전세는 결정됐다. 지온 함정의 중에 불리함을 깨닫고 소행성 대의 우주 요새 액시즈나 암초 주역으로 멀리 달아나는 함도 나오기 시작했다. 전군을 지휘하고 있었던 키시리아 소장도 잔지발 급 기동 순양함으로 탈출을 꾀하려고 했지만, ( 기록상으로는 ) 사라미스 급 순양함의 포격에 의해 격침되어 전사, 이에 따라 아 바오아 쿠는 함락되었다. * 키시리아 자비가 전사한 실제 이유는 샤아 아즈나블이 함정 브릿지에 로켓 런쳐를 발사했기 때문. \n",
            "질문 : 아 바오아 쿠를 다시 침략하도록 지휘한 사람은? \n",
            "예측 : 키시리아 자비 소장\n",
            "----------------------------------------\n",
            "본문 : [CLS] 자브로를 노린 브리티쉬 작전은 일단 실패했으므로, 지온공국군은 재차 자브로에 콜로니 떨어뜨리기 공격을 가하기 위해 사이드 5 ( 룸 ) 로 공격 목표를 정한다. 지구연방군은 이 정보를 입수, 1월 15일을 기해 출격 가능한 함정 전부를 동원해 레빌 장군 지휘 하에 지온공국군과의 함대결전에 임한다. 지온공국군은 사이드 5의 11반치'와트호트'에 추진용 핵펄스 엔진을 장착 중이었으나, 이를 호위하기 위한 부대를 차출함으로써 전력이 나뉘어 각개격파당할 것을 우려해 작업을 포기하고 전 부대를 지구연방군 함대 요격에 내보낸다. 연방의 함대전 사상에 기초한 전함 및 전투기 부대는 지온공국군의 주력인 MS 부대에 대해 유효한 요격 방법이 없었으며, 미노프스키 입자 산포 하에서 AMBAC을 이용한 기동력 있는 MS부대에 연방의 전함들은 차례차례 파괴당했고, 지구연방군 함대기함 마젤란급'아난케'마저 대파, 탈출하던 지휘관 레빌 장군의 셔틀은 지온의'검은 삼연성'에게 나포당한다. 이 싸움 와중에 우수한 전과를 거둔 많은 MS 파일럿들이 나왔으며, 특히 샤아 아즈나블 중위는 퍼스널 컬러로 칠해진 자크 II를 몰아 전함 5척을 격침하는 전과를 올리기도 했다. 지온 공국은 이 전과에 대해 2계급 특진과 함께 대대적인 선전에 이용했고, 이후 샤아 소좌는 지구연방군에게'붉은 혜성'이라는 이름으로 공포의 대상이 된다. \n",
            "질문 : 지구연방군이 붉은 혜성이라 부르는 인물은? \n",
            "예측 : 샤아 소좌\n",
            "----------------------------------------\n",
            "본문 : [CLS] 《 맥스 페인 2 》 에서 모나의 시각 배우는 할리우드 모델 캐시 통이다 첫 두 게임의 작가 샘 레이크에 따르면, 그는 \" 모나로 전환을 하고 싶었어요 [... ] 하지만 거기에는 문제가 있었죠. 결국에 맥스는 나레이션을 곁들여 그 장면들을 표현하는데, 그는 무슨 일이 있던 것인지, 혹은 모나가 무엇을 하는지 잘 모르는 눈치에요. 하지만 무슨 일이 있었던 것은 확실해요. 다른 말로 하자면, 당신이 모나를 플레이하게 되면, 당신은 사실 일어난 사건을 짐작하는 맥스의 경험을 하고 있는 거예요. \" 《 맥스 페인 2 》 의 끝에서의 모나의 생존 가능성에 대해, 록스타의 댄 하우저는 《 맥스 페인 3 》 은 \" 그 측면의 줄거리는 계속하지 않을 겁니다. 저희는 해결할 방법을, 아니면 무언가 영리하게 만들 궁리했어요. 그리고 나서'아냐, 아냐, 그런 식의 줄거리에서 벗어날 필요가 있어'[ 라고 결정했어요. ] 이건 정말 맞지가 않는 일인데, 왜냐면 누군가가 만든 그 선택지를 알 수 있는 방법이 없거든요. \" 매소드 연기한 쿠니스가 스스로를 묘사하기로, \" 자신의 일에 진지하게 임 \" 했고 \" 많은 것을 고집스럽게 연습 \" 했지만 영화의 복장은 게임에서의 복장과 달랐기 때문에 싫어했다. \" 옷들은 구렸어요. 세상에나, 끔찍했다구요. 마크는 재킷과 잠수복과 코트와 [UNK] 치장했는데 저는 가죽 비스튀에와 검은 바지와 5인치짜리 힐을 착용해야 했어요. \" \n",
            "질문 : 본인의 일에 진중하게 임했고 많은 것을 연습했지만, 자신의 옷차림에 불만을 제기했던 인물은? \n",
            "예측 : 쿠니스\n",
            "----------------------------------------\n",
            "본문 : [CLS] “ 코오롱의 기술과 아커솔루션의 경험을 더해 3년 내에 국내 석유 · 가스플랜트 정제 시장 점유율 10 % 를 달성하겠습니다. ” 이수영 코오롱워터앤에너지 대표는 8일 서울 소공동 웨스틴조선호텔에서 열린 ‘ 코오롱워터앤에너지 · 아커솔루션 합작법인 협약식 ’ 에서 이 같은 목표를 제시했다. 이 대표는 2012년 11월 코오롱그룹 최초의 여성 최고경영자 ( CEO ) 로 발탁됐으며 그룹의 신성장동력인 수 ( 水 ) 처리 사업을 주도하고 있다. ○ “ 아커의 수주 경력 적극 활용 ” 코오롱워터앤에너지는 전국에 650여개 하수처리 사업장을 운영하고 있는 수처리 · 환경관리 전문업체다. 코오롱그룹은 2010년 고부가가치 수처리 사업인 석유 · 가스플랜트 정제시스템업체 코오롱프로세스시스템을 설립했다. 이 대표는 “ 석유 · 가스플랜트에서 뽑아내는 원유에는 물, 가스, 석유가 섞여 있어서 정제 과정이 필수 ” 라며 “ 정제 시설에 이상이 생기면 플랜트 전체가 멈춰야 하기 때문에 높은 기술력과 안정성이 요구되는 분야 ” 라고 설명했다. 일반 하수처리 단가는 t당 300원 수준이지만 석유 · 가스 정제는 t당 3만원에 이른다. 이 대표는 “ 국내 3대 조선업체와 5대 건설사가 연간 70조원 규모의 석유 · 가스플랜트를 수주하지만 그중 2조 ~ 3조원을 차지하는 정제시스템은 아커나 카메론 같은 북미 · 유럽 업체들이 독점하다시피 하고 있다 ” 며 “ 기술력과 가격 경쟁력만큼이나 트랙 레코드 ( 업력 ) 가 중요한 평가 기준이 되기 때문 ” 이라고 말했다. 코오롱그룹은 이 사업에 본격 진출하기 위해 노르웨이 아커솔루션을 파트너로 맞이했다. 기존 코오롱프로세스시스템에 아커의 투자를 유치해 지분 50 % 씩을 갖는 합작법인을 만드는 것이다. 1841년 설립된 아커솔루션은 석유 · 가스플랜트 정제와 유전 관리 등 플랜트 엔지니어링 전문 기업이다. 이 대표는 “ 합작법인은 아커의 업력을 그대로 활용할 수 있기 때문에 코오롱의 기술과 가격 경쟁력을 더해 빠르게 성장할 수 있을 것 \n",
            "질문 : 코오롱프로세스시스템의 지분 절반 이상을 가지고 있는 회사는 어디인가? [SEP]\n",
            "예측 : 코오롱워터앤에너지는 전국에 650여개 하수처리 사업장을 운영하고 있는 수처리 · 환경관리 전문업체다. 코오롱그룹은 2010년 고부가가치 수처리 사업인 석유 · 가스플랜트 정제시스템업체 코오롱프로세스시스템을 설립했다. 이 대표는 “ 석유 · 가스플랜트에서 뽑아내는 원유에는 물, 가스, 석유가 섞여 있어서 정제 과정이 필수 ” 라며 “ 정제 시설에 이상이 생기면 플랜트 전체가 멈춰야 하기 때문에 높은 기술력과 안정성이 요구되는 분야 ” 라고 설명했다. 일반 하수처리 단가는 t당 300원 수준이지만 석유 · 가스 정제는 t당 3만원에 이른다. 이 대표는 “ 국내 3대 조선업체와 5대 건설사가 연간 70조원 규모의 석유 · 가스플랜트를 수주하지만 그중 2조 ~ 3조원을 차지하는 정제시스템은 아커나 카메론 같은 북미 · 유럽 업체들이 독점하다시피 하고 있다 ” 며 “ 기술력과 가격 경쟁력만큼이나 트랙 레코드 ( 업력 ) 가 중요한 평가 기준이 되기 때문 ” 이라고 말했다. 코오롱그룹은 이 사업에 본격 진출하기 위해 노르웨이 아커솔루션\n",
            "----------------------------------------\n",
            "본문 : [CLS] 문화체육관광부 ( 장관 박양우 ) 와 한국관광공사 ( 사장 안영배 ) 는 오는 10월23일 ( 금 ) 한국관광공사 서울센터에서 국내 대형 여행사인 하나투어와 관광스타트업간 협업의 장을 마련하고자 관광스타트업 비즈니스상담회 ( Meet - up Day ) 를 개최한다. 이 행사는 코로나19로 심각한 어려움에 빠진 관광스타트업들에게 시장에 대한 노하우와 인프라를 보유한 대형 여행사와의 협업 기회를 통해 포스트코로나 시대를 대비한 새로운 사업추진 동력을 확보토록 하는 데 목적이 있다. 협업 분야는 여행 콘텐츠, 서비스 플랫폼, IT, 신사업 분야이며, 관광분야 사업을 추진하고 있는 스타트업이면 누구나 지원 가능하다. 접수 기간은 9. 17. ~ 10. 5. 이고, 설문 작성과 협업제안서를 첨부해 지원하면 된다. 하나투어의 1차 제안서 검토 후 참가기업으로 선정되면 다양한 협업 기회가 제공된다. 하나투어와 여행콘텐츠 제휴 및 하나투어의 B2B / B2C 채널을 통한 상품 홍보와 판매, 기술제휴, 신사업 공동기획 및 테스트베드 제공 등과 함께, 공사의 국내외 지사 및 온라인 홍보채널을 통해 상품과 서비스를 홍보할 수 있는 기회와 BM, 마케팅, IR피칭 등 맞춤형 전문 컨설팅 지원 등을 기대해볼 수 있다. 참가 신청 및 세부내용은 신청 전용 페이지에서 확인할 수 있고, 공사 관광창업지원팀으로 문의할 수도 있다. 공사 안덕수 관광기업지원실장은 “ 이번 하나투어와 스타트업간 협업 프로젝트를 시작으로 앞으로 대중소기업간 다양한 협업도 이어갈 예정이며, 여행업계가 협업을 통해 새로운 시장과 파트너를 찾아 관광산업이 활력을 되찾길 바란다 ” 고 밝혔다. \n",
            "질문 : 관광스타트업 비즈니스상담회와 관련해 언급한 한국관광공사 소속 직원은? \n",
            "예측 : 안덕수\n",
            "----------------------------------------\n",
            "본문 : [CLS] 최근 기업들의 신제품 홍보수단으로 ‘ 래핑버스 ’ 가 많이 쓰인다. 45인승 버스 전체를 제품이나 공연 광고판으로 활용해 도심을 운행하면 소비자들의 시선을 확 사로잡을 수 있어서다. 삼성전자, 현대자동차 등 대기업을 비롯해 연예기획사나 공연기획사 등도 래핑버스를 자주 활용한다. 그런데 래핑버스는 현행 법상 ‘ 불법 ’ 이다. 옥외광고물 관리법은 교통수단에 광고물을 표시할 때 창문이 아닌 차체 옆면의 2분의 1에만 부착하도록 규정하고 있다. 기업들이 “ 승객을 태우지도 않는 광고홍보용 버스에 일반 차량과 동일한 규제를 적용하는 건 지나치다 ” 고 불만을 토로하지만 소관 부처인 안전행정부는 꿈쩍도 않고 있다. 전국경제인연합회가 12일 발표한 서비스산업 분야에서 기업 경영을 옥죄는 주요 규제만 94건에 달한다. 세부 내용을 들여다보면 ‘ 이런 규제도 있나 ’ 싶을 정도로 황당한 법 · 제도가 많다. 대표적인 게 승마장 설치 규제다. 농림축산식품부는 2010년 승마산업 육성을 위해 농촌 지역에 승마장 310개소를 짓는다는 계획을 내놨다. 그런데 승마장은 아무 데나 지을 수 없다. 현행 초지법 시행규칙에 따르면 승마장은 건축법상 운동시설로 분류돼 이미 조성된 농촌 지역 초지 ( [UNK] 地 ) 에는 지을 수 없다. 골프장 그린 주변에 음식조리를 할 수 있는 야외 캠핑존을 설치하는 것도 규제 대상이다. ‘ 시설 내에 이미 신고된 음식점 외에 옥외에서 음식을 제공할 수 없다 ’ 는 식품위생법 때문이다. 전경련 관계자는 “ 최근 골프장 수가 급증하면서 일부 골프장은 그린 주변에 캠핑존, 바비큐 시설을 갖춰 가족 단위 캠핑족을 유치하려는데 법 규정 때문에 사업 추진을 못하는 사례가 적지 않다 ” 고 귀띔했다. 의료 분야에선 이런 규제도 있다. 미국 등 선진국에선 척추교정 치료기법인 ‘ 카이로프랙틱 ’ 시술을 정식 의료행위로 인정해준다. 국내에서도 한서대가 척추교정 치료 학부를 두고 있다. 그러나 국내 의료법은 이 시술을 불법 의료 행위로 규정하고 있다. 이 때문 \n",
            "질문 : 요리에 관하여 골프장 안에서 적용되는 법률은? [SEP]\n",
            "예측 : 식품위생법\n",
            "----------------------------------------\n",
            "본문 : [CLS] IFC몰에서 여의도역 쪽으로 가는 서울 여의도 ‘ 국제금융로 2길 ’ 250m 구간에는 엔제리너스, 카페베네, 스타벅스, 파스쿠찌 등 유명 프랜차이즈 커피숍이 밀집해 있다. 이처럼 ‘ 한 집 건너 한 집 ’ 꼴로 자리 잡고 있는 탓에 커피전문점 시장은 포화 상태라는 주장이 많다. 하지만 10대 커피 프랜차이즈 매장은 지난 한 해 1000개가량 새로 생겼다. 창업 아이템으로 여전히 인기를 누리고 있는 것이다. 19일 관련 업계에 따르면 이디야 카페베네 엔제리너스 스타벅스 투썸플레이스 할리스커피 탐앤탐스 파스쿠찌 카페드롭탑 커피빈 등 10대 ( 매장 수 기준 ) 커피전문점은 지난 한 해 매장을 999개 늘렸다. 이디야의 출점이 가장 많았다. 지난해 376곳을 열어 매장 수 1200개를 넘어섰다. CJ푸드빌의 투썸플레이스는 436개에서 600개로 매장이 늘었다. 두 번째로 많은 증가다. 스타벅스 121곳, 엔제리너스 82곳이 새로 문을 열었다. 지방 출점과 고급화가 요즘 커피 시장의 특징으로 꼽힌다. 문창기 이디야 회장은 “ 경기도만 둘러봐도 매장을 열 곳이 많다 ” 며 “ 지방 상권을 공략해 올해는 400개 이상 출점할 계획 ” 이라고 말했다. 투썸플레이스는 영남권 공략을 강화하고 있다. 이화선 CJ푸드빌 부장은 “ 대구 부산 등 지방 대도시 건물 소유자들이 1층에 입점을 요청하는 사례가 많다 ” 고 설명했다. CJ푸드빌은 영남지역 진출을 확대하기 위해 가맹점 교육기관인 CJ푸드빌 아카데미를 지난 10일 부산 부전동에 열었다. 이 부장은 “ 서울을 방문하는 가맹점주의 불편을 줄이기 위해서 ” 라며 “ 연말까지 대전 · 충청에도 교육 거점을 마련할 계획 ” 이라고 전했다. 할리스커피와 스타벅스는 원두 품질을 높인 고급 매장을 늘리고 있다. 할리스 커피클럽, 스타벅스 리저브 등 고급화 매장에서는 세계 유명 산지에서 재배한 ‘ 스페셜티 커피 ’ 를 판다. 할리스커피 관계자는 “ 고급화 매장은 기존 매장과의 차별화가 \n",
            "질문 : 10대 커피전문점 중 작년에 매장 수 증가 1위 브랜드는? [SEP]\n",
            "예측 : 이디야\n",
            "----------------------------------------\n",
            "본문 : [CLS] 일조권 침해를 둘러싸고 소송에 휘말렸던 서울 강남 청실아파트 재건축 사업에 대해 법원이 일부 건물의 공사를 중단하라는 결정을 내렸다. 조합측은 당초 계획을 일부 수정해 공사를 재개해야 할 것으로 보여 사업 계획 및 일정에 일부 차질이 빚어질 전망이다. 서울중앙지법 민사50부 ( 수석 부장판사 강형주 ) 는 학교법인 단국대가 청실아파트 조합 측을 상대로 낸 공사중지 가처분 신청을 일부 인용, 학교와 인근 아파트 2개 동에 대해 공사중지 결정을 내렸다고 13일 밝혔다. 이에 따라 23 ~ 30층 높이로 설계된 107동은 14 ~ 18층 이상, 34층 예정이었던 112동은 15층을 초과할 수 없게 됐다. 청실아파트 바로 옆에 단국대 부속중 · 고와 단국공업고를 운영하고 있는 단국학원 측은 당초 “ 청실아파트가 재건축되면 학교 일조권이 거의 사라진다 ” 며 청실아파트 17개 동 가운데 8개 동의 공사를 중지해달라는 취지의 가처분신청을 법원에 냈다. 재판부는 이 중 2개 동에 대해서는 학원 측의 주장을 받아들여 공사 중지를 명령했으나 나머지 6개 동에 대해서는 기각했다. 재판부는 “ 청실아파트가 원래 설계안대로 지어질 경우 단국공고는 10여개의 창을 제외한 모든 창이 건물에 가려져 낮 시간 연속 30분 이상의 일조도 확보하지 못할 가능성이 크다 ” 며 “ 단국공고 남쪽에 신축 예정인 107동, 112동에 한정해 가처분을 명한다 ” 고 설명했다. 또 교사와 학생들이 같은 취지로 낸 가처분 신청에 대해서는 “ 거주자에 해당하지 않아 일조권의 주체가 되지 않는다 ” 며 기각했다. 앞서 단국학원과 청실아파트 조합은 ‘ 일조권 ’ 을 두고 지속적으로 공방을 벌여왔다. 단국학원 측은 학교와 아파트의 거리가 48 ~ 86m에 불과해 초반 계획을 강행한다면 일조권 침해가 클 것이라며 조합 측에 설계변경을 요구했으나 조합 측은 받아들이지 않았다. 이후 금전적 보상이나 대체 교실 신설 등 절충안을 마련하 \n",
            "질문 : 단국학원이 청실아파트를 상대로 공사중지 가처분신청을 낸 동은 몇 개인가? [SEP]\n",
            "예측 : 17개\n",
            "----------------------------------------\n",
            "본문 : [CLS] 의사 치과의사 한의사 약사 변호사 등 고소득 전문직 종사자들이 거액의 빚을 감당하지 못해 법원을 찾는 사례가 속출하고 있다. 7일 서울중앙지방법원에 따르면 2009년부터 올 6월까지 일반회생을 신청한 1327명 가운데 전문직 종사자가 41. 3 % 인 548명이었다. 전문직 종사자의 일반회생 신청은 2009년 93건, 2010년 83건, 2011년 108건, 2012년 114건, 2013년 99건 등이다. 올 상반기에만 벌써 51명이 일반회생을 신청했다. 일반회생은 서민이 주로 이용하는 ‘ 개인회생 ’ 과 달리 거액의 빚을 진 사람이 이용하는 제도다. 개인회생은 담보가 있는 빚이 10억원 이하, 담보 없는 빚이 5억원 이하인 사람이 대상이며, 채권자의 동의는 필요하지 않다. 개인회생을 신청할 수 있는 채무 액수를 초과한 사람이 찾는 게 일반회생이다. 과거 개인사업자 등 회사 관계자들이 주로 신청했지만 불황이 길어지고 전문직 종사자 간 생존 경쟁이 치열해지면서 고소득 전문직 종사자들의 일반회생 신청이 늘어나고 있다. 의료계 종사자들이 경제적 어려움에 빠지는 이유는 병원 개원 비용이 많이 드는 데다 병원이 늘면서 경쟁이 치열해졌기 때문이다. 의사 A씨는 서울 압구정동에 미용 전문 성형외과를 열었다. 자금이 부족했던 A씨는 은행에서 대출을 받고 고가의 의료장비는 장기 대여 계약을 맺어 해결했다. 은행이자와 의료장비 비용 등 한 달에 갚아야 할 돈은 8000만원. A씨는 투자비를 금세 회수할 것으로 판단했지만 불과 3년 만에 10여억원의 빚을 졌다. A3면에 계속 \n",
            "질문 : 개인회생 신청 대상이 되려면 무담보 대출금액이 최고 얼마를 넘지 않아야 되는가? \n",
            "예측 : 5억원\n",
            "----------------------------------------\n",
            "본문 : [CLS] 국순당이 주력 제품인 백세주와 국순당 생막걸리를 환경 친화 용기로 변경하여 출시하는 등 친환경 경영을 활발하게 펼치고 있다. 국순당은 지난 6월 말 우리나라 대표 약주인 백세주 용기를 기존 불투명 병에서 깨끗한 투명 병으로 변경했다. 투명 병은 불투명 병을 만드는 제작과정을 제거해 환경오염 물질의 배출을 절감할 수 있다. 또, 이번 달 초에는 막걸리 대표 상품인 ‘ 국순당 생막걸리 ’ 를 기존 녹색 패트병에서 친환경 투명 용기로 변경하고 수분리성 점착식 라벨을 사용해 용기에 라벨을 붙인 채로 분리 배출해도 재활용 공정에서 물로 쉽게 분리돼 재활용이 쉽게 했다. 라벨 디자인도 변경해 ‘ 강원도의 청정한 새벽을 담다 ’ 라는 문구와 함께 설명을 넣어 강원도에서 빚은 청정한 생막걸리라는 점을 강조했다. 이외에도 국순당은 향후 4년간 ㈜금비 및 한국세라믹기술원 등과 공동으로 산업통상자원부에서 실시한 “ 미세플라스틱 저감을 위한 초경량 고강도 유리 용기 제조기술 개발 과제 ” 를 진행하는 등 환경보호를 위한 기술개발에도 적극적으로 참여하고 있다. 국순당은 그동안 꾸준하게 환경에 많은 투자를 해왔다. 지난 2004년에 술 빚기 적합한 좋은 물과 청정환경을 찾아서 한강 발원지 중 한 곳으로 우리나라 대표적인 청정지역인 강원도 횡성으로 양조장을 이전했다. 양조장은 해발 500m에 위치해 있으며 맑은술이 샘솟았다는 전설이 있는 주천강 인근 지하 340m의 청정수로 술을 빚는다. 술을 빚는 제법도 이산화탄소 발생이 적은 ‘ 생쌀발효법 ’ 을 사용한다. 가루 낸 생쌀과상온의 물을 그대로 사용해 쌀을 쪄서 만드는 일반적인 방법에 비해 이산화탄소 발생을 줄일 수 있는 친환경 제조공법이다. 쌀을 쪄서 만든 약주와 달리 영양소 파괴가 적을 뿐 아니라 필수 아미노산과 비타민이 다량 함유되어 있다. 이런 노력으로 지난 2007년 전통주 업계 최초로 환경부에서 선정한 녹색기업으로 지정된 이후 \n",
            "질문 : 국순당이 주천강 부근에서 술을 빚기 시작한 년도는? [SEP]\n",
            "예측 : 2004년\n",
            "----------------------------------------\n",
            "본문 : [CLS] 올해 마지막 달을 향해 가면서 내년 한국 · 세계 경제와 트렌드를 전망하는 책들이 쏟아지고 있다. 사업과 투자의 방향성을 잡고 전략을 세우는 데 도움이 될 경제 및 트렌드 전망서 네 권을 소개한다. 《 대전망 2014 》 ( 한경BUSINESS · Money 엮음, 한국경제신문, 484쪽, 1만9000원 ) 는 한국과 세계 경제 전문가 110명이 분야별로 내년 경제를 심층 진단한 보고서다. △한국 경제 전반 △금융 △정치 · 사회 △글로벌 이슈 △산업 · 과학기술 △기업 경영 △재테크 등의 7개 [UNK] 109개의 분야로 잘게 분류해 각 전문가가 집중 진단한다. 또 특별기획으로 2014년을 주도할 8개의 트렌드를 제시한다. 책에서 전문가들은 한국 경제가 전반적으로 올해보다 나아질 가능성이 높은 것으로 전망하고 있다. 작년과 올해 2 % 대에 그쳤던 경제성장률이 내년엔 3 % 후반으로 높아질 것으로 보인다. 자동차가 끌고 스마트폰과 반도체가 밀며 산업을 견인할 전망이다. 실물경기가 완만하게 회복세를 보이면 금융시장도 조금 나아질 것으로 예측했다. 미국 유럽 일본 등 선진국 시장이 회복할 것이라는 기대도 크다. 다만 정책 리스크가 변수다. 주식시장도 상승 흐름을 이어갈 수 있다. KOTRA는 세계 각지 주재원이 현장에서 직접 보고 전망한 《 2014 KOTRA 세계경제 전망 》 ( 행성 : B웨이브, 384쪽, 2만원 ) 과 《 2014 한국을 사로잡을 12가지 트렌드 》 ( 알키, 424쪽, 2만원 ) 를 동시에 펴냈다. KOTRA 역시 내년 세계 경제가 기지개를 [UNK] 것으로 예측한다. 미국 경제가 계속 회복세를 유지하고 있고 유럽도 플러스 성장으로 돌아섰다는 것이다. 주춤거리는 신흥국 대신 아프리카가 기회의 땅으로 떠오르고 있다는 전망도 내놓는다. KOTRA는 또 보지 않아도 손으로 느낄 수 있는 ‘ 점자 스마트폰 ’ 과 같이 사회적 약자를 대상으로 한 사업, 마음속의 피터팬을 찾아 나선 ‘ 키덜트 ’ 를 대상으로 한 사업 등이 인기를 얻을 것으로 예측한다. 또 커피를 사면 커피머신을 무료로 주는 것처럼 싸게 산 것 같은 심리를 \n",
            "질문 : 2014년을 선도할 트렌드를 8가지로 예측한 책은? [SEP]\n",
            "예측 : 대전망 2014\n",
            "----------------------------------------\n",
            "본문 : [CLS] 2008년 3월 31일 동거녀의 신고로 용의자 이명철이 검거되었다. 경찰은 사건 당일 이명철이 지하철 3호선 수서역에서 내린 사실을 확인하였다. 수서역 부근 상점 등을 집중적으로 수색하여 오후 8시 30분쯤 서울특별시 대치동 한 사우나에서 용의자를 검거하였다. 이명철은 사건 당일 술을 마시고 무작정 지하철을 탔으며, 종점인 대화역에서 내려 인근 아파트 단지까지 들어갔다고 말하였다. 아파트 단지를 배회하다 마주친 피해 어린이가 여러 차례 힐끗 쳐다보자 성폭행을 할 목적으로 뒤쫓아가 폭행하며 납치를 시도했다고 진술하였다. 한편 이명철은 미성년자를 상습적으로 강간한 혐의로 징역 10년을 선고받고 2년 전 출소한 것으로 알려졌다. 이 후, 이명철은 의정부지방법원 고양지원으로부터 징역 15년을 선고받고 구속 수감되었으나, 이후 서울고등법원에서 열린 항소심 선고 공판에서 징역 8년으로 감형되었다. 그리고 2009년 2월 12일 대법원은 그에게 징역 8년을 선고한 원심을 확정하였다. 이명철은 2016년 4월 2일 출소한 것으로 알려지며, 재판 당시는 전자발찌 제도 도입 바로 직전이라 전자발찌 착용 명령이 떨어지지 않았지만, 지금은 전자발찌 소급제도가 생겨서 현재 착용하고 있을 가능성도 있다. \n",
            "질문 : 의정부법원의 판결로 구속 수감된 범죄자는 몇년도에 체포되었나? \n",
            "예측 : 15년\n",
            "----------------------------------------\n",
            "본문 : [CLS] 1950년 6월 25일 새벽, 조선인민군 10개 사단이 대한민국의 침략을 목표로 남하하였다. 8만 9000명이 6개 열로 움직이며 대한민국 육군을 기습적으로 붙잡아 궤멸하였다. 소규모였던 한국군은 전체적으로 부족한 인원과 장비의 부족, 그리고 전쟁에 대한 준비가 되어 있지 않았고, 결국 수적으로 우세했던 인민군이 3만 8000명이서 지키던 한국군의 저항을 없애고 계속해서 남진하였다. 한국의 붕괴를 막기 위하여 유엔 안전 보장 이사회는 군사 파견을 의결하였다. 제7함대는 중형항공모함 USS 밸리포지가 이끄는 태스크 포스 77를 급파하였고, 영국의 극동함대는 HMS 트라이엄프를 포함한 함정을 파견하여 항공 및 해군을 지원하였다. 그리고 6월 27일 한국으로 이동하는 해군과 공군은 북한의 침략을 격퇴하는 것을 도와준다는 목표로 북한을 공격할 수 있는 허가를 받았다. 미군이 북한의 공격을 전쟁으로 받아들였고, 남북의 군대가 한반도 전역에서 전투를 벌이고 있었기 때문에 한국에서 민간인과 외교관을 대피시키는 것이 시급해졌다. 6월 27일 한국군이 제1차 서울 전투에서 패하고 있었고, 군인 대부분이 후퇴하였다. 다음날 북한이 남한 정부와 한국군이 더 남쪽으로 후퇴하도록 하며 서울을 점령하였다. 그 사이 미 해군과 공군은 어떤 방법을 써서라도 민간인을 국외로 내보내기를 소원하며 외교관과 군인 부양가족, 민간인들을 배와 항공 수송으로 대피시키고 있었다. 이때 항공으로 서울의 수원 비행장과 김포비행장에 민간인을 모았다가 인천이나 해외로 이동하였다. 이 항공기와 호송대는 일본 기지에서 운용하던 미국 항공기의 호위를 받았다 북한 소유의 항공기 132기가 제1항공 사단으로 편성되는 것과 같이 남북한은 자체 공군의 규모가 매우 작았다. 전쟁 초반 북한에서는 이 항공기가 북한 사람들에게 유리하게 이용됐다. \n",
            "질문 : 외교관과 함께 빨리 전쟁으로부터 대피시켜야 했던 사람들은? \n",
            "예측 : 민간인과 외교관을 대피시키는 것이 시급해졌다. 6월 27일 한국군이 제1차 서울 전투에서 패하고 있었고, 군인 대부분이 후퇴하였다. 다음날 북한이 남한 정부와 한국군이 더 남쪽으로 후퇴하도록 하며 서울을 점령하였다. 그 사이 미 해군과 공군은 어떤 방법을 써서라도 민간인을 국외로 내보내기를 소원하며 외교관과 군인 부양가족, 민간인들\n",
            "----------------------------------------\n",
            "본문 : [CLS] 동해안의 습기를 잔뜩 머금은 동풍이 태백산맥과 만나 생긴 눈구름의 영향으로 강원 영동과 경북 울진 지역에 나흘간 최고 90㎝가 넘는 눈폭탄이 쏟아졌다. 이번 폭설로 도로가 끊겨 산간마을이 고립되고 휴교에 들어가거나 개학과 졸업식을 연기하는 학교가 속출했다. 기상청에 따르면 지난 6일부터 9일 오후 11시30분까지 나흘간 내린 눈은 진부령 · 미시령 98. 5㎝, 강릉 90. 5㎝, 속초 57㎝, 동해 51㎝ 등이다. 경북 지역에서도 울진에 60㎝가 넘는 폭설이 쏟아지는 등 곳곳에 40㎝ 안팎의 많은 눈이 내렸다. 허진호 기상청 통보관은 “ 한반도 주변으로 기압계가 조밀해지면서 동풍의 강도가 세져 강원 영동과 경북 산간 지역에 눈폭탄이 내렸다 ” 고 설명했다. 소방방재청에 따르면 나흘간 폭설로 인해 강원 영동과 경북 지역에서 비닐하우스 100여동 등 크고 작은 시설물의 붕괴 신고가 속출했으나 인명 피해는 없었다. 이날 미시령동서관통도로 미시령터널 전방 300여ｍ 지점에서 3t 가량의 눈이 쏟아져 내리면서 양방향 통행이 모두 통제됐다. 폭설 피해 규모는 눈이 그치고 각 시 · 군의 피해조사가 이뤄지면 크게 늘어날 전망이다. 이번 폭설로 강원 산간마을을 오가는 시내버스 30여개 노선이 단축 운행됐다. 장비와 인력이 부족한 산간 지역은 제설작업이 더디게 진행돼 고립된 산간마을이 늘어나고 있다. 강원도와 동해안 지역 각 시 · 군은 1000여명의 인력과 장비를 투입해 제설작업을 벌이고 있지만 쌓인 눈의 양이 많아 어려움을 겪고 있다. 이에 따라 강릉 양양 속초 고성 삼척 등 5개 시 · 군 41개 초 · 중 · 고는 10일 휴교하기로 했다. 강릉 율곡중과 삼척 장원초교 등 10개 학교는 개학과 졸업식을 연기했다. \n",
            "질문 : 폭설로 인해 휴교에 돌입한 학교의 수는? \n",
            "예측 : 10개\n",
            "----------------------------------------\n",
            "본문 : [CLS] 글리세르알데하이드 3 - 인산 탈수소효소는 그 자체로 전사를 활성화시킬 수 있다. OCA - S 전사 공동활성화제 복합체는 글리세르알데하이드 3 - 인산 탈수소효소 및 젖산 탈수소효소를 함유하는 데, 이 두 단백질은 이전에는 대사에만 관여하는 것으로 생각되어 왔다. 글리세르알데하이드 3 - 인산 탈수소효소는 세포질과 세포핵 사이를 이동하여 대사 상태를 유전자 전사와 연결시킬 수 있다. 2005년에 하라 ( Hara ) 외 연구진들은 글리세르알데하이드 3 - 인산 탈수소효소가 [UNK] 일으킨다는 것을 보여주었다. 이것은 제3의 기능은 아니지만, 위에서 서술한 전사 활성화에서와 같이 DNA에 글리세르알데하이드 3 - 인산 탈수소효소가 결합하는 것에 의해 매개되는 활성으로 볼 수 있다. 이 연구는 글리세르알데하이드 3 - 인산 탈수소효소가 세포 스트레스에 반응하여 일산화 탄소에 의해 S - 나이트로실화되어 유비퀴틴 연결효소인 SIAH1 단백질에 결합하는 것을 입증했다. 복합체는 핵으로 이동하여 SIAH1은 분해를 위해 핵 단백질을 표적으로 하여 조절된 세포 [UNK] 개시한다. 후속 연구에서 연구팀은 파킨슨병을 치료하기 위해 임상적으로 사용된 데프레닐이 S - 나이트로실화를 방지함으로써 글리세르알데하이드 3 - 인산 탈수소효소의 [UNK] 작용을 강하게 감소시켜 약물로 사용될 수 있음을 보여주었다. \n",
            "질문 : 세포 [UNK] 실행해야하는 단백질은 어디에 있는가? \n",
            "예측 : 핵 단백질\n",
            "----------------------------------------\n",
            "본문 : [CLS] 글리세르알데하이드 3 - 인산 탈수소효소는 그 자체로 전사를 활성화시킬 수 있다. OCA - S 전사 공동활성화제 복합체는 글리세르알데하이드 3 - 인산 탈수소효소 및 젖산 탈수소효소를 함유하는 데, 이 두 단백질은 이전에는 대사에만 관여하는 것으로 생각되어 왔다. 글리세르알데하이드 3 - 인산 탈수소효소는 세포질과 세포핵 사이를 이동하여 대사 상태를 유전자 전사와 연결시킬 수 있다. 2005년에 하라 ( Hara ) 외 연구진들은 글리세르알데하이드 3 - 인산 탈수소효소가 [UNK] 일으킨다는 것을 보여주었다. 이것은 제3의 기능은 아니지만, 위에서 서술한 전사 활성화에서와 같이 DNA에 글리세르알데하이드 3 - 인산 탈수소효소가 결합하는 것에 의해 매개되는 활성으로 볼 수 있다. 이 연구는 글리세르알데하이드 3 - 인산 탈수소효소가 세포 스트레스에 반응하여 일산화 탄소에 의해 S - 나이트로실화되어 유비퀴틴 연결효소인 SIAH1 단백질에 결합하는 것을 입증했다. 복합체는 핵으로 이동하여 SIAH1은 분해를 위해 핵 단백질을 표적으로 하여 조절된 세포 [UNK] 개시한다. 후속 연구에서 연구팀은 파킨슨병을 치료하기 위해 임상적으로 사용된 데프레닐이 S - 나이트로실화를 방지함으로써 글리세르알데하이드 3 - 인산 탈수소효소의 [UNK] 작용을 강하게 감소시켜 약물로 사용될 수 있음을 보여주었다. \n",
            "질문 : 2005년에 하라 연구진들이 발견한 작용을 줄일 수 있는 물질은? \n",
            "예측 : 글리세르알데하이드 3 - 인산 탈수소효소\n",
            "----------------------------------------\n",
            "본문 : [CLS] 머리카락은 사람의 머리에 나는 털, 즉 머리털의 낱개이며, 머리칼 또는 간단히 머리라고 말하기도 한다. 불교에서는 머리카락을 무명초 ( 無 明 [UNK] ) 라고도 한다. 머리카락은 단백질의 일종인 케라틴으로 이루어져 있다. 머리카락은 모간과 모낭으로 구성되어 있으며, 개인에 따라 곱슬거리는 정도나 색깔이 다르다. 탈모 증상이 일어나는 사람도 있다. 머리카락의 성장 속도는 인종에 따라 다르다. 동양인의 경우 하루 평균 0. 3mm가 자라는 것으로 알려져 있다. 이는 한 사람이 12만개의 머리카락을 가지고 있다고 할 때 36m가 된다. 사람들의 머리카락은 동물들의 털의 기능인 보온의 기능과 별도로 미용이 가장 크며, 그래서 사람은 머리카락을 기르거나 자르거나 염색하거나 머리 모양을 만드는 등의 관리를 함으로써 자신을 꾸민다. 이때 이러한 일을 전문적으로 하는 사람을 주로 남자의 머리카락을 관리하는 사람은 이발사, 주로 여자의 머리카락을 관리하는 사람은 미용사라고 하며, 이발사와 미용사가 사람들의 머리를 다듬는 곳을 이발소와 미용실이라 한다. ( 하지만 요즘 2000년대에 들어서는 이발소와 미용실의 차이점이 모호해졌다. ) 탈모 증상이 일어난 사람을 대머리라고 하며, 대머리를 감추기 위해 혹은 장식을 위해 머리에 쓰는 것을 가발이라고 한다. 머리를 감기 위해 쓰는 세제는 샴푸라고 한다. 또한 사람은 나이가 들면 머리카락이 하얗게 된다. 나이와 무관하게 머리카락이 하얀 경우를 새치라 한다. 머리카락으로부터 개개인을 식별할 수 있는 유전 정보를 알아낼 수 있기 때문에 범죄 현장에서는 주요 단서로 활용된다. \n",
            "질문 : 사람의 머리카락이 하는 가장 큰 기능은? \n",
            "예측 : 미용\n",
            "----------------------------------------\n",
            "본문 : [CLS] 이마트가 기존 제품의 절반 수준 가격에 내놓은 ‘ 반값 비타민 ’ 이 품질 논란에 휘말렸다. 약사들의 이익단체인 대한약사회가 값싼 중국산 비타민이 원료로 쓰였다고 문제를 제기하면서다. 제품에 원료 원산지를 표기하지 않은 점도 지적하고 있다. 이마트는 이에 대해 “ 중국산 비타민이라고 해서 비타민의 효능이나 품질이 떨어지는 것은 아니며 원산지 표기가 의무사항은 아니다 ” 고 반박하고 있다. 이마트는 국내 비타민제제 시장 1위 기업인 고려은단과 공동 개발한 ‘ 이마트 비타민C ’ 를 지난달 27일 내놓았다. 이마트 비타민C는 한 상자 ( 200정 ) 에 9900원으로 한 정당 가격이 약국에서 판매하는 비타민 제제보다 35 ~ 40 % 저렴하다. 약국에서는 ‘ 고려은단 비타민C ’ ( 300정 ) 를 상자당 2만3000 ~ 2만5000원에 팔고 있다. 약사회가 문제 삼고 있는 것은 이마트 비타민C의 원료가 중국산이라는 점이다. 약사회는 지난 14일 발표한 성명에서 “ 고려은단이 값싼 저질 원료를 사용해 약국의 반값에 비타민을 대형마트에 공급했다 ” 며 “ 동일한 제품을 저렴하게 판매하는 것처럼 속이고 있다 ” 고 밝혔다. 약사회는 또 “ 제품에 원료 원산지를 표기하지 않은 것은 소비자를 속이려는 것 ” 이라고 지적했다. 그동안 고려은단이 약국에 공급한 비타민 제제는 영국산을 원료로 쓰고 있으며 제품 겉면에 원산지가 표시돼 있다. 이마트는 즉각 반박하고 나섰다. 중국산 비타민이라고 해서 품질이 뒤떨어지지는 않는다는 점을 강조하고 있다. 이마트는 15일 “ 영국 등 유럽산 비타민이 중국산보다 비싼 것은 브랜드 인지도에서 차이가 나기 때문 ” 이라며 “ 품질에는 큰 차이가 없다 ” 고 주장했다. 또 원료 원산지 표기와 관련해서도 법적으로 비타민의 원료 원산지를 표기할 의무는 없다고 해명했다. 다만 논란이 일자 앞으로는 제품에 원산지를 표기하기로 했다. 약사회가 이마트 비타민의 원료를 문제 삼은 배경에는 매출 감소에 대한 우려가 자리잡고 있다. 약사회 관계자는 “ 이마트 비타민이 나온 뒤 비타민 제제 \n",
            "질문 : 이마트와 함께 비타민 제품을 출시한 업체는? [SEP]\n",
            "예측 : 고려은단\n",
            "----------------------------------------\n",
            "본문 : [CLS] 이 문서는 브르타뉴 공국의 통치자 목록이다. 브르타뉴 군주들은 왕, 제후, 공작 등 시대 별로 달랐다. 브르타뉴 통치자들은 어쩔 때는 선출되기도 하고, 어쩔 때는 정복이나 계략, 상속권을 통해 자리에 올랐다. 세습 공작 중에는 때로는 여성 통치자가 있기도 했으며, 브르타뉴 여공작이라는 작위를 지녔다. 주요 도시들과 지역들은 브르타뉴 통치자들과 자주 분쟁을 벌이거나 브르타뉴 통치자가 된 백작들의 지배를 받았다. 로마 제국이 쇠퇴해가던 시절에, 갈리아내 초기 브르타뉴인은 코르누아이와 돔노니아 등의 작은 왕국들의 왕이라고 자청했다. 이런 왕들 중에 일부는 아르모리카 반도내에 브리튼족들에 대한 헤게모니를 형성했을 것이고, 요르다네스에 대해 연대기 작가 요르다네스는 브리튼족의 왕이라 칭해다. 그럼에도 브르타뉴 전체에 대한 통치자는 없었으며, 브르타뉴는 지역 백작들의 영지들로 나누어졌다. 브르타뉴 공국은 939년 트랑라포레 전투에서 기원을 했으며, 브르타뉴와 노르망디 간에 경계인 쿠에농강에 세워졌다. 942년, 알랑 2세는 루이 4세에게 충성을 서약했으나, 브르타뉴 공국은 루이 6세가 낭트 주교가 된 1123년까지 프랑스 왕가의 관심을 갖기 못했다. 다른 어떤 브르타뉴 공작들도 아르튀르 1세가 1202년에 필리프 2세를 주군이라 인정할 때까지 알랑 2세의 충성 맹세를 되풀이하지 않았다. 브르타뉴 지역은 흔히 공국이라 불렸고, 브르타뉴의 통치자도 독립 주권을 지닌 공작으로서 여겨졌다. 하지만 한 역사적 관점은 12세기 중반 이전에 당시 프랑스 왕국은 브르타뉴를 더 이상 영지라고 보지 않았기에 브르타뉴 공작들을 프랑스 왕들이 백작이라 불렀다고도 본다. 날짜 = 2018 - 10 - 30 1297년에 브르타뉴는 프랑스의 대귀족제에서 공국으로 승격되었다. 이런 태도는 샤를 8세, 그 다음에는 루이 12세가 브르타 \n",
            "질문 : 브르타뉴와 노르망디를 구분짓는 것은? [SEP]\n",
            "예측 : 쿠에농강\n",
            "----------------------------------------\n",
            "본문 : [CLS] # 1. 지난 14일 서울 양천구 신영시장에서 만난 정육점 주인 박선종 씨. 8년째 이곳에서 장사하고 있는 그는 무척 밝은 표정이었다. 그는 “ 이번 설 명절만큼 매상이 많이 오른 적이 없었다. 이제야 경기가 좀 풀리는 것 같다 ” 고 말했다. ‘ 대형마트 때문에 고전하는 것 아니냐 ’ 는 기자의 질문엔 “ ‘ 장사가 안된다 ’ 는 말은 1960년대부터 있었던 말 아니냐 ” 고 일축했다. # 2. 국내 택배업계는 설 연휴를 앞둔 지난달 하순에 총 8100만건의 택배 물량을 처리했다. 작년 같은 기간보다 15 % 가량 늘어난 수치다. CJ대한통운 관계자는 “ 설 명절 영향을 받았다고는 하지만 지난해 택배물량이 전년 대비 약 7 % 증가한 점을 감안하면 기대 이상의 실적 ” 이라며 “ 소비 심리가 좋아지고 있다는 느낌 ” 이라고 전했다. 백화점 매출 증가세로 반전현장에서 느끼는 소비 경기가 살아날 조짐을 보이고 있다. 회복세가 강하다고 단정할 수는 없지만 곳곳에서 호전되는 신호가 나타나고 있다. 지난달 대형마트 매출이 1년 전 같은 기간과 비교할 때 18. 4 % 증가한 게 대표적이다. 전자제품 판매점인 롯데하이마트는 올 들어 지난 13일까지 대형 가전판매가 작년 같은 기간보다 100 ~ 200 % 가량 급증했다. 50인치 TV 판매가 작년 같은 기간보다 200 % 늘었고 프리미엄급 냉장고와 17㎏ 이상 대형 드럼 세탁기 판매는 각각 100 % 와 110 % 증가했다. 백화점 매출도 저점을 찍고 반등하고 있는 모습이다. 롯데백화점은 올 들어 지난 13일까지 매출이 전년 동기 대비 7. 5 % 늘었다. 작년 이맘때는 매출이 1. 9 % 줄었지만 올해는 회복세를 보이고 있는 것. 현대백화점과 신세계도 각각 6 % 이상 매출이 증가했다. 윤형진 롯데백화점 잠실점 남성스포츠팀장은 “ 아웃도어 분야에서 판매가 빠르게 늘고 있고 봄을 앞두고 청바지 매출도 좋은 편 ” 이라고 분위기를 전했다. 지난달 고속도로 통행량도 전년 동월 대비 10. 9 % 늘어 10년 만에 최고 증가 \n",
            "질문 : 하이마트 제품 중 작년 같은 기간 대비 매출량이 두 배 성장한 제품은? [SEP]\n",
            "예측 : 50인치 TV\n",
            "----------------------------------------\n",
            "본문 : [CLS] 한국제약협회는 정부에 시장형 실거래가 제도 폐지에 따른 후속 조치로 ‘ 약품비 절감을 위한 장려금 제도 ’ 를 시행해달라고 촉구했다. 이경호 제약협회 회장 ( 사진 ) 은 31일 서울 방배동 제약협회회관에서 기자회견을 열고 “ 시장형 실거래가 폐지를 합의한 지 한 달이 넘었지만 보건복지부의 공식 발표나 입법예고가 이뤄지지 않아 시장 혼란이 가중되고 있다 ” 고 말했다. 시장형 실거래가제는 병원 등이 건강보험이 적용되는 의약품을 정부가 고시한 상한가보다 싼 값에 사면 차액의 70 % 를 인센티브로 받는 제도다. 지난 2월 복지부와 병원, 제약사가 참여한 협의체는 실거래가제를 폐지하고, 저가구매 연동뿐 아니라 병원의 과잉처방 등 잘못된 진료행태 개선과 연계해 약품비 절감 장려금 제도를 시행할 것을 제안했다. 약품비 절감 장려금 제도는 병원이 고시가보다 싸게 약을 샀을 때 평균 사용량과 저가약 대체비율 등을 따져 차액의 10 ~ 40 % 를 인센티브로 지급하는 안이다. 이 회장은 “ 약품비 절감 장려금 제도가 병원의 저가구매 강요 횡포를 재발하는 방향으로 설계돼서는 안 된다 ” 며 “ 이름만 바꾼 시장형 실거래가 제도가 되는 일은 없어야 한다 ” 고 강조했다. 한편 제약협회가 닐슨리서치에 의뢰해 전국 성인 1500명을 대상으로 실시한 여론조사에서 응답자들은 제약강국이 되기 위한 조건으로 ‘ 의약품 연구개발 투자 확대 ’ ( 46 % ), ‘ 기업 간 공정경쟁 · 투명한 유통시장 형성 ’ ( 28. 9 % ), ‘ 우수한 인력 확보 ’ ( 25 % ) 등을 최우선 과제로 꼽았다. \n",
            "질문 : 약품비 절감 장려금 제도를 우려한 인물이 속한 곳은? \n",
            "예측 : 제약협회 회장 ( 사진 ) 은 31일 서울 방배동 제약협회회관에서 기자회견을 열고 “ 시장형 실거래가 폐지를 합의한 지 한 달이 넘었지만 보건복지부의 공식 발표나 입법예고가 이뤄지지 않아 시장 혼란이 가중되고 있다 ” 고 말했다. 시장형 실거래가제는 병원 등이 건강보험이 적용되는 의약품을 정부가 고시한 상한가보다 싼 값에 사면 차액의 70 % 를 인센티브로 받는 제도다. 지난 2월 복지부와 병원, 제약사가 참여한 협의체\n",
            "----------------------------------------\n",
            "본문 : [CLS] 이교주 ( [UNK] [UNK] [UNK], 생몰년 미상 ) 는 고려 말기 사람이자 조선의 왕족이다. 생몰년은 전하지 않으며 조선 건국 전에 사망한 것으로 추정된다. 할아버지와 아버지가 연이어 사망하자 어린 나이에 원나라 천호 직을 세습받았지만 숙부 환조 이자춘에 의해 축출되었다. 태조 이성계, 의안대군 이화, 이원계, 이천계의 사촌 형이 된다. 한때 사촌간인 이천계와 동일 인물로 혼동되기도 했다. 이교주는 도조의 장남인 완창대군 이자흥과 박씨 ( 朴 氏 ) 부인의 아들로 태어났다. 1342년 7월 24일에 원나라의 천호였던 할아버지 도조가 사망하고 천호직을 세습받은 아버지 완창대군 이자흥도 그해 9월에 갑자기 사망하였다. 그는 어린 나이에 원나라 천호직을 세습받았지만, 배다른 삼촌으로 할아버지 도조의 후처 조씨 ( [UNK] 氏 ) 의 아들 나해 ( [UNK] 海 ) 가 천호직을 넘보았다. 이때 삼촌인 환조 이자춘은 이복동생 이나해를 죽인 뒤 조카가 어리다는 것을 이유로, 조카가 성장할 때까지만 자신이 천호직을 세습하겠다 하고, 자신이 천호직에 오르게 된다. 조선왕조실록 태조 1권에 의하면 환조는 그가 성장한 뒤에 천호직을 돌려주겠다고 하였지만, 그에게 천호직이 돌아가지는 않았다. \n",
            "질문 : 이교주 어머니의 성씨는? \n",
            "예측 : 박씨 ( 朴 氏\n",
            "----------------------------------------\n",
            "본문 : [CLS] 추석을 앞두고 하는 벌초는 풀베기와 육체노동에 익숙하지 않은 도시민에게는 체력적으로 매우 부담이 큰 작업이다. 산에 올라 풀을 베는 고된 일로 어깨나 허리 무릎 등에 크고 작은 통증이 생길 수 있다. 추석 성묘길도 무거운 짐을 들고 산을 오르게 되는 경우가 많다. 무리하게 짐을 들고 산을 오르면 작은 충격에도 크게 부상을 입을 수 있어 주의해야 한다. ▲ 성묘 길, 어떻게 하면 부담 줄일 수 있을까? 성묘를 위해 산을 오를 때는 가파른 길이나 돌길이 펼쳐지기도 하는데, 등산 스틱을 구비해 무릎 관절이 받는 충격을 최대한 분산시켜주는 것이 좋다. 오르막길에서는 평지를 걸을 때의 절반 정도로 속도로 가되, 상체를 약간 앞으로 숙이면서 발바닥 전체를 지면에 붙이는 듯한 자세로 평지보다 보폭을 좁게 하여 걸어야 한다. 또 몸을 충분히 풀어준 후 움직이고, 성묘할 때 많이 사용하는 무릎과 손목에 보호대를 착용하거나 발목의 안정성을 높여주는 등산화나 운동화를 착용하면 낙상 등으로 인한 큰 부상을 예방할 수 있다. 평소 요통이 있다면 무거운 물건을 들고 산을 오르는 것은 최대한 피해야 한다. 특히 허리디스크가 있는 중장년층이라면 산에 오를 때 허리를 숙이는 자세가 디스크를 압박, 통증이 심해질 수 있다. 특히 허리를 숙인 채 뒤를 돌아보는 등의 자세는 척추뼈를 뒤틀어지게 해 허리디스크 환자에게 매우 해로운 자세인 점을 기억하자. 성묘를 마치고 내려올 때는 더 조심해야 한다. 하산할 때 지름길이라도 길이 험하고 경사가 높으면 피하는 것이 좋고, 조금 돌아가더라도 완만하고 지면이 고른 길을 택해 내려가야 한다. ▲ 벌초, 허리와 무릎 통증 줄이는 자세 변경 필수! 묘지에 무성하게 자란 풀을 정리하는데도 요령이 필요하다. 묘지의 봉분 위에 자란 잡초를 정리할 때는 허리를 깊이 숙이거나 구부려 작업을 하게 되는데 낫이나 갈퀴로 풀을 베고 모으는 작업도 계속 \n",
            "질문 : 무릎에 무리가 가는 것을 최소화 하기 위해 성묘 갈때 챙겨가면 좋은 것은? [SEP]\n",
            "예측 : 등산 스틱\n",
            "----------------------------------------\n",
            "본문 : [CLS] 현대자동차가 만든 국산차 1호 ‘ 포니 ’, 박정희 전 대통령이 강력 추진한 ‘ 경부고속도로 ’ 등이 국민이 꼽은 광복 이후 대표적인 과학기술 성과로 선정됐다. 미래창조과학부는 22일 ‘ 광복 70년, 과학기술 대표 성과 70선 ’ 에 대해 국민 선호도 조사를 벌인 결과를 발표했다. 분야별로 △포니 ( 기계소재 ) △경부고속도로 ( 건설환경에너지 ) △통일벼 ( 농림수산 ) △D램 메모리반도체 ( 전기전자 ) △남극 세종과학기지 ( 생명해양 ) △포항 방사광가속기 ( 기초과학 ) △초음속고등훈련기 T - 50 ( 국방 · 우주항공 ) 등이 1위를 차지했다. 시대별 대표 성과로는 △1940 ~ 1950년대 기계식 한글 타자기 ( 공병우 타자기 ) △1960년대 국내 최초 원자로 ( 트리가 마크 - Ⅱ ) △1970년대 경부고속도로 △1980년대 D램 메모리반도체 △1990년대 한국형 표준 원자력발전소 △2000년대 초음속고등훈련기 T - 50 △2010년대 우주발사체 나로호 등이 꼽혔다. 이번 조사는 지난달 24일부터 이달 17일까지 온라인 투표로 진행됐다. 총 1만7567명이 참여했다. 미래부는 이들 과학기술 70선을 오는 28일부터 경기 고양시 킨텍스에서 열리는 ‘ 과학창조한국대전 ’ 에서 전시할 예정이다. \n",
            "질문 : 28일 킨텍스에서 개최될 전시회에서 미래부가 선보일 과학기술의 수는? \n",
            "예측 : 70선\n",
            "----------------------------------------\n",
            "본문 : [CLS] 현대자동차가 만든 국산차 1호 ‘ 포니 ’, 박정희 전 대통령이 강력 추진한 ‘ 경부고속도로 ’ 등이 국민이 꼽은 광복 이후 대표적인 과학기술 성과로 선정됐다. 미래창조과학부는 22일 ‘ 광복 70년, 과학기술 대표 성과 70선 ’ 에 대해 국민 선호도 조사를 벌인 결과를 발표했다. 분야별로 △포니 ( 기계소재 ) △경부고속도로 ( 건설환경에너지 ) △통일벼 ( 농림수산 ) △D램 메모리반도체 ( 전기전자 ) △남극 세종과학기지 ( 생명해양 ) △포항 방사광가속기 ( 기초과학 ) △초음속고등훈련기 T - 50 ( 국방 · 우주항공 ) 등이 1위를 차지했다. 시대별 대표 성과로는 △1940 ~ 1950년대 기계식 한글 타자기 ( 공병우 타자기 ) △1960년대 국내 최초 원자로 ( 트리가 마크 - Ⅱ ) △1970년대 경부고속도로 △1980년대 D램 메모리반도체 △1990년대 한국형 표준 원자력발전소 △2000년대 초음속고등훈련기 T - 50 △2010년대 우주발사체 나로호 등이 꼽혔다. 이번 조사는 지난달 24일부터 이달 17일까지 온라인 투표로 진행됐다. 총 1만7567명이 참여했다. 미래부는 이들 과학기술 70선을 오는 28일부터 경기 고양시 킨텍스에서 열리는 ‘ 과학창조한국대전 ’ 에서 전시할 예정이다. \n",
            "질문 : 22일 발표된 내용의 조사 마감일은? \n",
            "예측 : 이달 17일\n",
            "----------------------------------------\n",
            "본문 : [CLS] 일본 도쿄 최고의 도시 문화 중심지 시부야에 어피치가 떴다! 카카오IX ( 대표 권승조 ) 의 캐릭터 브랜드 카카오프렌즈는 오는 6월 30일까지 일본의 대표적인 번화가이자 일본 트렌드의 정점을 이끌어가고 있는 시부야 츠타야에 팝업스토어를 오픈한다고 3일 밝혔다. 도쿄 다이칸야마 츠타야 티사이트와 오사카 츠타야 에비스바시 지점에 이어 세 번째로 선보이는 이번 팝업스토어는 도쿄 최고의 핫플레이스와 최근 가장 핫한 K - 캐릭터와의 만남이라는 점에서 주목된다. 도쿄를 대표하는 상업지구인 시부야에 자리하게 되는 이번 팝업스토어에서는 기존에 볼 수 없었던 색다른 차별화 포인트로 방문객들의 눈길을 사로잡을 전망이다. 특히, 고객이 직접 모델이 되어 SNS용 사진을 찍을 수 있는 포토 부스와 어피치 대형 구조물과 함께 핑크빛 어피치의 사랑스러운 모습을 담은 포토월을 구비해 흥미를 더했다. 시부야 츠타야에서 판매되는 상품수는 200여 종으로, 어피치 오모테산도 매장 및 오사카 츠타야에서 인기를 끌었던 키링, 문구류, 스티커 제품들을 포함하고 있다. 또한, 어피치의 사랑스러운 매력을 한껏 부각시킨 휴대폰케이스 3종을 시부야 츠타야 팝업스토어 한정으로 선 발매해 카카오프렌즈 마니아들의 발걸음을 단숨에 끌겠다는 전략이다. 시부야 츠타야 팝업스토어의 운영시간은 유동인구가 많은 도시의 특성을 반영해 오전 10시부터 익일 오전 2시까지 폭 넓은 시간대로 운영되며 일본의 낮과 밤을 밝힐 예정이다. 카카오IX 관계자는 “ 어피치가 도쿄와 오사카에 이어 시부야까지 성공적으로 진출하면서 일본 현지에서 인기를 더해가고 있다 ” 며, “ 국민 캐릭터 브랜드를 넘어 글로벌 무대에서도 인정받는 K - 캐릭터로 자리매김해 나갈 수 있도록 계속해서 활발한 해외 활동을 이어나갈 것 ” 이라고 말했다. 한편, 카카오프렌즈는 지난해 12월 일본 진출을 공식화 한 이후 2개의 정규 매장과 3개의 츠타야 \n",
            "질문 : 일본에서 어피치 팝업스토어가 처음으로 열린 장소는? [SEP]\n",
            "예측 : 다이칸야마 츠타야 티사이트\n",
            "----------------------------------------\n",
            "본문 : [CLS] 국가정보원의 정치 개입 의혹 사건을 수사 중인 검찰이 30일 국정원 건물을 전격 압수수색했다. 원세훈 전 국정원장을 소환 조사한 지 하루 만으로, 관련 수사가 급물살을 탈 전망이다. 서울중앙지검 특별수사팀 윤석열 팀장 ( 여주지청장 ) 과 박형철 부장검사를 포함한 검사 7명, 디지털포렌식 요원 10여명 등 총 25명은 이날 오전 8시50분부터 오후 10시25분까지 13시간 35분 동안 서울 내곡동 국정원에 대한 압수수색을 진행했다. 이들은 ‘ 댓글 지시 ’ 등이 이뤄졌다고 지목된 국정원 3차장 산하 옛 심리정보국 사무실 등을 중심으로 내부 지시 · 보고 문건과 컴퓨터 서버, 인트라넷 등을 확보했다. 심리정보국 소속이었던 일부 직원의 휴대폰과 노트북 등도 압수수색 대상에 포함된 것으로 전해졌다. 압수수색은 △ ‘ 댓글 지시 ’ 가 어느 선부터 이뤄진 것인지 △ ‘ 원장님 지시 · 강조 말씀 ’ 의 배경과 의도는 무엇인지 등 핵심 의혹을 파헤치는 데 필요한 증거를 수집하기 위한 것으로 알려졌다. 검찰은 이날 압수한 물품을 확보 · 분석한 뒤 원 전 원장 등 관계자들을 필요에 따라 추가 소환할 계획이다. 검찰이 국정원을 압수수색한 것은 2005년 ‘ 안기부 X파일 ’ 사건 이후 8년 만으로, 사상 두 번째다. 형사소송법상 공무원의 직무상 비밀에 관한 물품 등에 관해서는 해당 기관 승낙이 없으면 압수할 수 없어 국정원이 거부하면 압수수색이 어려울 수 있다. 검찰 관계자는 “ 임의제출 형식으로 할 수도 있었지만 국민적 관심이 큰 만큼 ( 의혹을 불식시키기 위해 ) 법과 원칙에 따라 처리하는 게 맞다고 판단했다 ” 고 말했다. 국정원 측도 지난 주말께 검찰 측 요청을 받고 적극 협조한 것으로 알려졌다. \n",
            "질문 : 검찰이 처음 국정원을 압수수색을 한 때로부터 이번 수사까지 흐른 시간은? \n",
            "예측 : \n",
            "----------------------------------------\n",
            "본문 : [CLS] “ 합성고무와 합성수지 등에 집중돼 있는 주력 사업에 에너지를 추가하려 합니다. ” 박찬구 금호석유화학 회장 ( 사진 ) 은 “ 올해 열병합발전과 관련한 투자 3000억원을 계획하고 있다 ” 며 “ 에너지 부문에서 나온 수익이 캐시카우 역할을 톡톡히 할 것 ” 이라고 말했다. 그는 2013년의 의미는 특별하다고 했다. 지난달 금호석유화학이 3년 만에 채권은행 공동관리절차 ( 자율협약 ) 에서 벗어났기 때문이다. 박 회장은 기자와 만나 신규 투자 계획 등 사업 구상을 들려줬다. 2009년 말 금호아시아나그룹이 유동성 위기로 어려움에 처한 뒤 금호석유화학은 글로벌 경기 침체 속에서 돌파구를 찾으며 자율협약 졸업을 준비해왔다. 2010년과 2011년 2년 연속 역대 최고 실적을 올렸고, 지난해에도 만족스럽지는 않지만 나름대로 ‘ 선방 ’ 했다. 박 회장은 “ 합성고무 시장도 정체 상태 ” 라며 “ 경기가 빠른 시일 내 회복되진 않을 것 같다 ” 고 전망했다. 그럼에도 올해 목표를 공격적으로 잡았다. “ 경기 침체에 업황이 좋지 않아 지난해 영업이익은 2400억원으로 전년도의 3분의 1 수준이었다 ” 며 “ 어려운 가운데서도 올해는 매출 8조원, 영업이익 4000억원을 목표로 잡았다 ” 고 말했다. 원유를 정제하는 과정에서 나오는 나프타 등 기존 원료 외에 대체 원료를 개발하는 방식 등으로 비용을 절감하는 방안도 고민 중이다. 안정적인 수익을 위해 추진하고 있는 것은 에너지사업 확장이다. 금호석유화학은 열병합발전소인 여수제2에너지에 시간당 400의 스팀을 생산하는 보일러 2기, 시간당 [UNK] 발전기 1기를 추가 설치할 계획이다. 박 회장은 “ 열병합발전으로 생산한 스팀은 금호석유화학과 계열사에서 제품을 생산하는 공정에 사용하고 전기는 전력거래소에 판다 ” 며 “ 아직 전체 매출에서 차지하는 비중은 낮은 수준이지만 내실화에 큰 도움이 된다 ” 고 말했다. 석유화학 제조 공정에 필요한 에너지를 자체 충당, 원가를 크게 낮출 수 있어 수익성 개선이 기대된다는 \n",
            "질문 : 금호석유화학의 올해 열병합 발전 분야에 대한 투자 계획 액수는? [SEP]\n",
            "예측 : 3000억원\n",
            "----------------------------------------\n",
            "본문 : [CLS] 변호사들이 시행하는 ‘ 법관 평가 설문조사 ’ 가 이르면 이번주부터 스마트폰으로도 가능해진다. 시스템을 만든 서울지방변호사회는 “ 막말 등 법관의 부적절한 언행을 목격하면 현장에서 바로 평가에 반영하도록 하자는 취지 ” 라고 설명했다. 설문 결과는 비공개이지만 법관 당사자와 해당 법원장에게는 통보된다. 이처럼 변호사단체는 최근 수년간 회원들의 의견을 수렴해 법원에 반영하도록 노력해왔고 일정 부분 성과도 거뒀다. 그런데 이들의 의견 수렴은 모두 일반 시민이 아닌 변호사가 대상이어서 아쉬운 면도 있다. 그렇다면 변호사가 아닌 원 · 피고, 증인, 방청객 등 일반 시민의 의견은 얼마나 수렴되고 있을까. 확인해본 결과 아직 걸음마 수준을 벗어나지 못하고 있었다. 법원이 일반 시민을 대상으로 하는 유일한 의견 수렴은 상시적인 설문조사다. 그러나 이 설문조사조차 어느새 요식행위가 돼 버렸다. 각 법원의 재판부는 수년 전부터 법정에 설문지를 비치해 방문객이 작성하도록 하고 있다. 그런데 의견 수렴을 할지 말지 여부는 재판장 재량이고 설문 수거와 열람도 재판부가 알아서 한다. 대법원은 이를 실시하는 재판부가 얼마나 되는지, 설문지 활용도가 얼마나 되는지 알지 못한다. 상황이 이렇다 보니 시민의 쓴소리는 재판 업무에 반영되기 어렵다. 설문조사의 존재감이 없다 보니 시민단체 ‘ 법률소비자연맹 ’ 도 법원이 이런 일을 하고 있는지 모르고 있었다. 기자도 취재를 위해 법정에 수차례 들락거렸지만 설문지가 보이는 곳에 비치된 걸 본 기억이 없다. 여론은 어떤 방식으로든 결국 사법부에 반영된다. ‘ 황제노역 ’ 등 일련의 사건을 보면 최근에는 사법부를 ‘ 압박 ’ 하는 방식이 일반화된 것 같다. 하지만 이런 방식은 즉흥적이고 다소 위험한 면도 있다. 법원이 나서서 상시적이고 효과적인 의견 수렴 창구를 만드는 게 더 나을 것이다. 양병훈 법조팀 기자 \n",
            "질문 : 법관 평가 설문조사를 만든 단체의 이름은? \n",
            "예측 : 서울지방변호사회\n",
            "----------------------------------------\n",
            "본문 : [CLS] 커피숍이나 식당의 적립 포인트를 챙기는 것도 이제는 상당히 번거로운 일이 돼버렸다. 너무나 많은 매장에서 종이 또는 플라스틱 멤버십 카드를 발급해주고 있기 때문이다. 지갑에 멤버십 카드를 넣고 다니는 것조차 힘들어졌다. 2012년 9월 설립된 스타트업 터치웍스는 누구나 갖고 있는 신용카드 교통카드 사원증이나 근접무선통신 ( NFC ) 기능이 있는 스마트폰 등으로 이를 해결하는 방법을 고안해 ‘ 터칭 ’ 이란 서비스를 지난해 3월 내놓았다. 지난 10일 서울 청담동 사무실에서 만난 강승훈 터치웍스 대표는 “ 교통카드나 사원증을 갖다 대기만 하면 매장의 포인트를 적립할 수 있는 서비스 ” 라며 “ 매장 입장에서도 이 서비스를 도입하는 데 큰 돈이 들지 않아 중소 상공인들이 간편하게 쿠폰을 발행하고 고객관리를 할 수 있게 된다 ” 고 설명했다. ○카드로 찍고 앱으로 확인터칭을 쓰기 위해서는 교통카드처럼 무선주파수 ( RF ) 방식으로 터치 기능이 되는 카드만 들고 있으면 된다. 강 대표는 기자에게 교통카드 기능이 있는 신용카드를 빌려 어떻게 작동하는지 직접 보여줬다. RF리더기에 카드를 갖다 대자 노트북에 ‘ 등록이 안 된 카드 ’ 라며 전화번호를 입력하고 등록할 것을 요구하는 화면이 떴다. 전화번호를 입력하면 그 매장의 회원이 되고, 앞으로는 카드를 갖다 대기만 하면 포인트가 적립된다. 한 전화번호로 여러 카드를 등록해 쓸 수 있어 만약 사원증을 놔두고 왔다면 교통카드를 내밀어도 마찬가지로 적립이 된다. 이용자가 자신의 포인트나 쿠폰 적립 현황을 보고 싶으면 스마트폰에 터칭 앱을 깔면 된다. 강 대표는 “ 기존의 멤버십 시스템이 갖고 있던 두 가지 불편을 해소했다 ” 고 말했다. 그가 말하는 불편이란 멤버십 카드를 들고 다녀야 하는 점과 포인트를 적립하기 위해서 도장을 찍거나 바코드를 읽어야 하는 점이다. 최근에는 SK플래닛의 ‘ 스마트월렛 ’, 나인플라바의 ‘ 위패스 ’, 스포카의 ‘ 도도 ’, 티켓몬스터의 ‘ 티몬플러스 ’ 등 \n",
            "질문 : 매장 주인이 터칭 서비스를 이용하려면 얼마가 필요한가? [SEP]\n",
            "예측 : 큰 돈\n",
            "----------------------------------------\n",
            "본문 : [CLS] 커피숍이나 식당의 적립 포인트를 챙기는 것도 이제는 상당히 번거로운 일이 돼버렸다. 너무나 많은 매장에서 종이 또는 플라스틱 멤버십 카드를 발급해주고 있기 때문이다. 지갑에 멤버십 카드를 넣고 다니는 것조차 힘들어졌다. 2012년 9월 설립된 스타트업 터치웍스는 누구나 갖고 있는 신용카드 교통카드 사원증이나 근접무선통신 ( NFC ) 기능이 있는 스마트폰 등으로 이를 해결하는 방법을 고안해 ‘ 터칭 ’ 이란 서비스를 지난해 3월 내놓았다. 지난 10일 서울 청담동 사무실에서 만난 강승훈 터치웍스 대표는 “ 교통카드나 사원증을 갖다 대기만 하면 매장의 포인트를 적립할 수 있는 서비스 ” 라며 “ 매장 입장에서도 이 서비스를 도입하는 데 큰 돈이 들지 않아 중소 상공인들이 간편하게 쿠폰을 발행하고 고객관리를 할 수 있게 된다 ” 고 설명했다. ○카드로 찍고 앱으로 확인터칭을 쓰기 위해서는 교통카드처럼 무선주파수 ( RF ) 방식으로 터치 기능이 되는 카드만 들고 있으면 된다. 강 대표는 기자에게 교통카드 기능이 있는 신용카드를 빌려 어떻게 작동하는지 직접 보여줬다. RF리더기에 카드를 갖다 대자 노트북에 ‘ 등록이 안 된 카드 ’ 라며 전화번호를 입력하고 등록할 것을 요구하는 화면이 떴다. 전화번호를 입력하면 그 매장의 회원이 되고, 앞으로는 카드를 갖다 대기만 하면 포인트가 적립된다. 한 전화번호로 여러 카드를 등록해 쓸 수 있어 만약 사원증을 놔두고 왔다면 교통카드를 내밀어도 마찬가지로 적립이 된다. 이용자가 자신의 포인트나 쿠폰 적립 현황을 보고 싶으면 스마트폰에 터칭 앱을 깔면 된다. 강 대표는 “ 기존의 멤버십 시스템이 갖고 있던 두 가지 불편을 해소했다 ” 고 말했다. 그가 말하는 불편이란 멤버십 카드를 들고 다녀야 하는 점과 포인트를 적립하기 위해서 도장을 찍거나 바코드를 읽어야 하는 점이다. 최근에는 SK플래닛의 ‘ 스마트월렛 ’, 나인플라바의 ‘ 위패스 ’, 스포카의 ‘ 도도 ’, 티켓몬스터의 ‘ 티몬플러스 \n",
            "질문 : 코나아이에서 스마트카드 개발팀장으로 근무했던 사람의 이름은? [SEP]\n",
            "예측 : 강승훈\n",
            "----------------------------------------\n",
            "본문 : [CLS] 칠곡 · 울산 계모의 의붓딸 폭행치사 사건에 대해 “ 법원이 지나치게 가벼운 형을 선고했다 ” 는 비판 여론이 확산되면서 인터넷에서는 판사 ‘ 신상 털기 ’ 가 벌어지고 있다. 칠곡 사건 재판장의 이름이 한때 대형 포털 사이트의 실시간 이슈 검색어 1위에 오른 것도 이런 이유에서다. 법원 일각에서는 “ 양형기준 등을 준수했는데도 판사 개인 신상을 거론하며 위협하는 것은 문제 ” 라며 “ 여론재판을 하라는 얘기냐 ” 는 반론도 나온다. 서울시내 한 법원의 A판사는 “ 이번 판결은 판사 입장에서는 재량권을 억제하고 관련 규정을 최대한 준수해 내린 것으로 본다 ” 며 “ 그럼에도 판사 신상을 털면 앞으로 여론조사를 해서 판결하는 수밖에 없다 ” 고 말했다. B판사도 “ 헌법이 ‘ 법관의 독립 ’ 을 규정하고 있지만 판사의 신상이 나돌면 이를 의식하지 않을 도리가 없다 ” 고 우려했다. C부장판사는 “ 군사정권 시절에 권력 눈치를 보느라 법원이 국민에게 큰 잘못을 지었는데 여론의 눈치를 보느라 인민재판을 하면 같은 잘못을 또 저지르는 것 ” 이라고 지적했다. 법원 주변에서는 “ 이번 판결이 법률과 양형기준, 판례를 모두 준수해 내려졌다 ” 는 여론이 상당하다. 법률과 양형기준을 고려하면 상해치사죄의 형량 상한은 가중 처벌했을 때 징역 10년6개월이다. 칠곡 계모는 이 상한선에 가까운 징역 10년을 받았다. 울산 계모는 아이가 죽기 전에도 상습 학대한 사실이 인정돼 상해죄를 추가 적용했다. 이 경우 13년6개월까지 선고할 수 있다. 재판부는 범행 수법의 잔혹성 등을 이유로 약간의 형을 더해 징역 15년을 선고했다. 살인죄가 아닌 상해치사죄를 적용한 것도 또 다른 논란거리로 대법원 판례를 고려한 결과라는 지적이 나온다. 죽이려는 고의가 있었으면 살인죄가 인정되지만 그렇지 않으면 상해치사죄를 적용해야 한다. 대법원은 살인과 상해치사를 구분할 때 “ 범행에 이르게 된 경위, 범행의 동기, 사용 흉기의 유무 · 종류 · 용법, 공격의 부위 \n",
            "질문 : 15년형을 선고 받은 사람이 살던 곳은? [SEP]\n",
            "예측 : 울산\n",
            "----------------------------------------\n",
            "본문 : [CLS] “ 똑같은 성과를 냈으면 어느 나라 직원이든 상관없이 똑같은 월급을 받아야 한다. ” 일본 SPA ( 제조 · 유통 일괄형 의류 ) 브랜드 유니클로의 모기업 패스트리테일링의 야나이 다다시 회장 ( 사진 ) 이 해외 시장 개척과 인재 유치를 위해 ‘ 세계 동일임금 시스템 ’ 을 추진하겠다고 밝혔다. 선진국과 신흥국 간 임금 차이만을 따져 봉급을 차등 지급한다면, 앞으로 신흥국의 우수 인력을 놓칠 우려가 있다는 게 유니클로 측 설명이다. 대다수 대기업의 신흥국 진출 확대 이유가 인건비 절감 차원이란 점을 감안하면 매우 이례적이다. 야나이 회장은 23일 아사히신문과 가진 인터뷰에서 “ 개발도상국에서 훌륭한 성과를 내는 직원이 단지 개도국 출신이라는 이유만으로 선진국 출신 직원보다 돈을 적게 받는다는 건 있을 수 없는 일 ” 이라고 말했다. 또 “ 일본의 전자업계가 실패한 가장 큰 원인은 일본에 생산공장을 세우는 걸 고집했기 때문 ” 이라며 “ 저임금이면서도 젊고 능력 있는 근로자들이 신흥국에는 많다 ” 고 지적했다. 현재 패스트리테일링은 한국과 미국, 중국 등 세계 13개국에서 정규직 사원을 뽑고 있다. 패스트리테일링은 이달부터 직급을 총 19단계로 분류, 상위 7단계 직급 소속 임원 51명의 임금 및 보너스를 통일했다. 이들의 평균 연봉은 2000만엔 ( 약 2억3000만원 ) 으로, 세계에서 평균 임금이 가장 높은 미국 · 유럽권 수준에 맞췄다. 또 8 ~ 14단계에 속한 부장, 점장급 직원들의 연봉은 각국 물가 수준을 고려한 실질 동일 임금을 적용할 예정이다. 나머지 15 ~ 19등급의 일반 직원들은 당분간 평가 기준만 통일할 방침이다. 아사히신문은 “ 야나이 회장의 이번 조치가 신흥국 인재 유치와 해외 시장 확대에는 큰 효과를 발휘하겠지만 자칫 선진국 출신 역차별 논란과 직원 간 경쟁이 격화될 가능성도 있다 ” 고 지적했다. 또 “ 신흥국 측 직원의 인건비 증가와 선진국 출신 인재의 지원 부족이 겹치는 딜레마에 빠질 수 있다는 주장도 나온다 ” 고 덧붙였다. 이미아 기자 \n",
            "질문 : 세계 13개국에서 정규직 사원을 뽑고 있는 기업은 직급을 몇 단계로 나눴는가? \n",
            "예측 : 7단계\n",
            "----------------------------------------\n",
            "본문 : [CLS] 남편의 유언에 따라 탄압받던 바리사이파와 화해하여 민중에게 영향력을 미치던 바리사이파의 권세는 날로 높아졌다. 이집트에 망명해 있던 시몬 · 벤 · 셰타하를 불러들여, 산헤드린의 의장으로 임명했다. 하스몬 왕조를 적대시하던 바리사이파와의 화해는 일단 국내에 안정을 가져왔지만 아들들의 권력다툼과 중세에 대한 민중의 불만은 증폭되고 있었다. 기록에 의하면 간만한 크기의 보리이삭, 올리브열매만한 보리열매, 금알만한 렌즈콩 등 풍부한 수확물로 부유한 생활을 했다고 하며 곡물의 3분의 1, 과수원 포도밭 수확의 절반을 받을 권리가 있어 염세 등 간접세에 의한 부담도 민중에게는 고통스러웠을 것으로 생각된다. 바리사이파는 얀나이오스 시절 자신들을 탄압한 사람들을 보복하고 디오게네스 등을 살해했다. 이에 반바리사이파는 아리스토불로스를 앞세워 반발했고 이들에게 휴르카니아, 알렉산드레이온, 마카이로스를 제외한 요새의 수비를 맡겼다. 아르메니아의 왕 티그라네스 2세가 시리아의 셀레우코스 왕조 지배를 목표로 진군해 오자, 사신을 보내 우호 관계를 확인했다. 결국 티그라네스는 공화정 로마와의 전쟁 때문에 귀국하여 무사히 끝났다 ( 기원전 69년경 ). \n",
            "질문 : 디오게네스는 누구에 의해 죽임을 당했나요? \n",
            "예측 : 바리사이파\n",
            "----------------------------------------\n",
            "본문 : [CLS] 1894년 ( 고종 31년 ) 11월 김홍집의 친일 내각이 구성되어 갑오경장을 단행하면서 박영효와 함께 10년 만에 귀국할 수 있었다. 귀국 직후 통위영 정령관 ( 統 [UNK] [UNK] 正 [UNK] 官 ) 이 되고 곧 경무청 경무관 ( [UNK] 務 [UNK] [UNK] 務 官 ) 으로 발탁되었다. 11월 13일 박영효가 복권되면서 그도 복권되었다. 11월 13일 고종은 금릉위 박영효의 직첩을 되돌려주, 아울러 갑신정변에 관련되었던 대역죄인들도 모두 사면한다고 선언했다. 이미 국내에 잠입해있던 서광범, 이규완, 정란교 등은 거리를 활보하게 되었다 12월 10일 3품으로 승진하여 경무관이 되었다. 김학우 암살 사건이 터지자 박영효의 집사 출신 이규완 ( [UNK] [UNK] [UNK] ) 이 체포와 수사를 맡았다 흥선대원군과 동학군이 손잡고 민씨 정권 타도를 계획하자 그는 이준용을 직접 체포하기도 했다. 1895년 3월 23일 경무관 이규완이 지휘하는 30여 명의 순검은 지체없이 대원군의 사저인 운현궁을 덮쳤다. 대원군은 이규완의 말을 듣고 진노하였다. 이런 못된 것이 다 있나. 그걸 말이라고 하느냐. 궁내부의 종정경이 무엇이 답답하여 역모를 꾀한다더냐. 너희는 종정경이 주상과 숙질간임을 정녕 모르느냐? 당장 물러가렸다. 이규완은 물러서지 않고, 흥선대원군에게 김학우를 암살하고 개혁당을 일망타진하려 한 자가 이준용이라고 대들었다. 이규완은 대원군 부부가 보는 앞에서 이준용을 두들겨 패면서 포박했다. 이준용은 체포를 거절하고 거칠게 저항했고, 이규완은 직접 이준용을 구타하여 쓰러뜨렸다. 시생은 어명을 시행하고 있사옵니다 네 이놈, 뉘 앞에서 그따위 터무늬없는 말을 입에 담느냐. 당장 물러가지 못할까 그는 흥선대원군이 호통쳤지만 굴하지 않고, 체포를 거부하는 이준용을 대원군 면전에서 구타했다 \n",
            "질문 : 이규완이 김학우를 죽인 사람이라고 지목한 인물은? [SEP]\n",
            "예측 : 이준용\n",
            "----------------------------------------\n",
            "본문 : [CLS] 1910년 한일 합방 조약 체결 직후부터 그는 조선인의 참정권 허용과 자치권 허용을 주장하였다. 그는 일본이 조선을 병합했다면 조선의 백성들 역시 차별하지 말고, 동등한 일본의 국민으로 인정하라고 요구했다. 그는 조선인 역시 일본의 국민임을 인정하고, 일본인과 동등한 권리를 얻기 위해 스스로 분발해야 한다고 덧붙였다. 또한 그는 조선인이 일본인과 동등한 대접을 받으려면, 조선인 역시 일본 정부에 세금을 납부하고 동일한 의무를 이행해야 한다고 덧붙였다. 이규완은 특혜란 있어서 안되며, 똑같이 의무를 이행해야 역시 동등한 권리를 주장할 자격이 생긴다 하였다. 특혜는 부당한 혜택이니 또다른 차별을 불러온다는 것이었다. 그의 조선인 참정권 요구, 자치권 요구 및 조선인도 내지인 ( 일본인 ) 과 동등한 대우 요구는 민원식, 김명준, 박중양 등에게도 영향을 주었다. 그의 영향에 감화된 일부 지식인들은 1919년 3. 1 만세 운동을 계기로 조선인 참정권, 자치권 운동 단체를 조직하여 조선총독부와 일본 본국 정부 및 정계, 지식인들에게 조선인도 동등한 국민 권리를 요구하게 된다. 1916년 4월에는 매일신보 기자와의 공개 인터뷰를 하였다. 이때 그는 \" 조선인의 부력 ( 富 力 ) 이 내지인과 필적하게 납세 및 기타 국민된 의무를 행하게 된다면, 어찌 내지인과 똑같이 동등한 권리를 향유하지 못하겠는가. 참정권을 획득함은 물론이고, 비록 국무대신이나 주외 ( [UNK] 外 ) 의 외교사신을 조선인이라고 못할 자가 없다고 믿는다 \" 고 답하였다. 그는 조선인이 일본인과 동등한 권리를 누릴 수 있는 참정권과 국민의 권리를 부여해줄 것을 촉구했다. 그는 이후로도 꾸준히 총독부에 꾸준히 조선인 참정권 허용, 자치권 허용, 조선인과 내지인의 동등한 권리를 요구, 건의했다. 총독부에서 귀찮게 여기고 묵살했음에도 그는 꾸준히 조선인도 일본인과 같은 국민으로 인정하라고 끈질기게 요구했다. 한편으로 이규완은 조선인들에게도 부당한 \n",
            "질문 : 일제강점기 당시 조선 지식인들이 일본 정부에게 일본인과 동등한 권리를 요구하는 계기가 된 사건은? [SEP]\n",
            "예측 : 3. 1 만세 운동\n",
            "----------------------------------------\n",
            "본문 : [CLS] 1898년 10월부터 이규완은 황철, 강성형, 윤세용 등 박영효 추종자들과 일본에서 몰래 귀국하여 한성 진고개에 잠복, 일본 공사관측이 제공하는 자금으로써 친위대 소속 군인 150명과 자객 30여 명을 규합하여 고종을 폐위시키고 박영효를 총리대신으로 추대하려는 음모를 진행시키고 있었다. 10월말 다시 일본으로 돌아갔다가 11월 9일 다시 국내에 입국하여 독립협회를 지원하였다. 이 기간 중 이규완은 매부 강성형, 독립협회원 이승만, 이민칙 ( [UNK] [UNK] [UNK] ) 그밖에 최정덕, 윤세용, 이규승, 강호선 ( [UNK] [UNK] 善 ), 신창희 ( [UNK] [UNK] [UNK] ) 등과 접촉하였다. 1898년 11월 이규완은 황철, 강성형 등을 중심으로 황제 폐위와 박영효 추대 운동을 추진했다. 이규완은 이승만을 포섭하는데 성공한다. 독립협회와 만민공동회로 박해받던 이승만은 독립협회와 민권 운동을 탄압하는 조선에서는 더이상 견디지 못하겠다고 호소하였다. 이규완은 이승만을 곧 고종 폐위 운동에 포섭하는데 성공한다. 이승만은 이규완을 찾아가서 타국에 의탁하는 길을 부탁하고 이곳에서는 오래 머물지 못하겠다는 뜻으로 언급하였으니 그 마음가짐을 헤아리기 어려우니 강성형과 대질할 때에는 그러한 일이 없다고 극구 꾸며대기에 바빴지만 역명 ( [UNK] 名 ) 에 이름이 든 사람을 일부러 찾아가서 자신의 거취에 대하여 설명한 것은 극히 해괴하온 바. | 1899년 1월 11일자 경무사 이근용의 법무부 대신 이도재 앞으로 보낸 보고서에서 당시의 한 보고서에 의하면 \" 박영효의 지시로 서울에 잠입해 있던 이규완 등에게 포섭 당한 최정덕과 이승만 의관은 12월 16일에 개최된 중추 원회 의에서 정부대신급에 임명할 인재 11명을 추천할 것올 발의, 통과시키면서 박영효와 서재필 등을 투표로 선출하려 선동하였다. \" 한다. 한편 이승만, 이상재 등은 체포되어 의금부에 투옥당했다. \n",
            "질문 : 이규완은 고종 황제를 폐위시킨 이후에 누구를 올리려고 했나요? [SEP]\n",
            "예측 : 박영효\n",
            "----------------------------------------\n",
            "본문 : [CLS] 한일 합방 1910년 ( 융희 4년 ) 4월 29일 공립 춘천실업학교가 개교하자 강원도 관찰사인 이규완이 초대 교장을 겸임하고, 사립 측량학교를 가교사로 빌려 1년제로 개교했다. 그 해 9월 2년제로 개편됐고, 교명도 춘천공립농업학교로 변경했다. 10월 1일까지 춘천실업학교 교장직을 겸임하다가 한일 합방으로 관제가 개정되면서 춘천실업학교 교장직에서 물러났다. 춘천실업학교 교장직에서 물러난 그는 청량리의 자신의 땅에 농업, 축산, 목공, 건축시공을 가르치는 실업학교를 개설하려 하였으나 한국통감부와 조선총독부 학무국의 불허로 번번히 실패하였다. 강원도관찰사로 재임 당시 그는 춘천을 중심으로 한 경성 ( 서울 ) ∼양양과 원주∼금화 ( 철원 ) 를 잇는 열십자 ( 十 ) 형 철도 부설 계획을 세웠다. 그러나 한일 합방 조약으로 그의 계획은 수포로 돌아간다. 1910년 ( 융희 4년 ) 10월 1일 한일 합방이 되자 그는 이를 당연한 것으로 여겼다. 평소'게으른 본성'을 가진 조선민족에게 독립될 자격이 없다고 확신했던 그는, 한일 합방을 조선인의 게으름과 탐욕, 부패함이 불러낸 당연한 결과물로 인식하였다. 10월 1일 한일 합방 조약 체결과 동시에 그는 조선총독부고등관에 임용되고 강원도도장관로 발령되었다. 그는 도장관에 임명되자, 학식의 짧음을 들어 사양하였으나 행정 실무는 실무 관원들이 처리하고 결제만 하면 된다 하여 애써 만류하였다. 한일합방 직후부터 조선총독부 내무부와 지방행정국에 강원도 철도 개설을 직접 건의하였으나 번번히 무산되었다. \n",
            "질문 : 이규완이 강원도에 철도 건설을 제안할 당시 직책은 무엇이었는가? \n",
            "예측 : \n",
            "----------------------------------------\n",
            "본문 : [CLS] 이규완은 1862년 ( 철종 13년 ) 11월 15일 한성부 뚝섬에서 나무 장수와 장터 행상을 하던 이기혁과 유씨의 둘째 아들로 태어났다. 그의 집안은 세종대왕의 넷째 아들 임영대군 ( [UNK] [UNK] 大 君 ) 의 후손으로, 임영대군의 여섯째 아들 영양군 함 ( 英 陽 君 [UNK] ) 의 14대손이 된다. 아버지 이기혁은 임영대군의 14대손이었지만 한성부 뚝섬에서 나무 장수와 행상 등으로 생계를 영위했다. 본적지는 경기도 광주군 남종면 분원리 노루메기 마을이었다. 한성 뚝섬의 나무 장수의 아들로 태어난 그는 배우지도 못하고 어려운 생활을 하였다. 1905년 무렵 그는 주소지를 강원도 춘천군 부내면 위천리 ( 府 內 面 [UNK] 川 [UNK] ) 로 옮겼다. 이규완은 조선의 제4대 국왕 세종대왕의 4남 임영대군 ( [UNK] [UNK] 大 君 ) 의 후손이었지만 이미 몰락한 집안이었기에 집안 배경이나 성장 과정에 대해서는 그다지 알려진 바 없다. 위로 형 이윤필 ( [UNK] [UNK] [UNK] ) 이 있었고, 강성형에게 출가한 누나, 남동생 두 명과, 여동생 한 명이 더 있었다. 9살에 어머니 유씨를 잃고 계모 슬하에서 자랐으나 1876년에 새어머니도 사망하였다. 소년기 때는 광주군 남종면 분원리의 숙부 집에서 거처하다가 다시 상경, 박영효의 행차 모습을 보고 그의 집을 방문, 초라한 행색을 보고 쫓아내는 박영효집 하인들과 몇번의 실랑이 끝에 박영효 집의 출입을 허락받았다. 이후 박영효 가문에 출입하다가 그의 식객이 되었다. 그는 젊은 시절 박영효의 식객이 되었다가 박영효 집의 청지기가 되었으며 그의 수하에 들어가면서 개화파에 가담하게 되었다. 박영효는 이규완보다 불과 한 살 위였지만 철종의 사위로 당시 이미 촉망받는 젊은 관료였다. 이때까지도 그는 어려운 가정 형편 때문에 무학이었는데, 박영효가 특별히 집에 데리고 있으면서 글을 가르쳐 일본으로 유학까지 보내주었다. 이후로 그는 평생에 걸쳐 박영효의 심복으로 활동 \n",
            "질문 : 이윤필의 아버지는 누구인가? [SEP]\n",
            "예측 : 임영대군\n",
            "----------------------------------------\n",
            "본문 : [CLS] 이규완은 1862년 ( 철종 13년 ) 11월 15일 한성부 뚝섬에서 나무 장수와 장터 행상을 하던 이기혁과 유씨의 둘째 아들로 태어났다. 그의 집안은 세종대왕의 넷째 아들 임영대군 ( [UNK] [UNK] 大 君 ) 의 후손으로, 임영대군의 여섯째 아들 영양군 함 ( 英 陽 君 [UNK] ) 의 14대손이 된다. 아버지 이기혁은 임영대군의 14대손이었지만 한성부 뚝섬에서 나무 장수와 행상 등으로 생계를 영위했다. 본적지는 경기도 광주군 남종면 분원리 노루메기 마을이었다. 한성 뚝섬의 나무 장수의 아들로 태어난 그는 배우지도 못하고 어려운 생활을 하였다. 1905년 무렵 그는 주소지를 강원도 춘천군 부내면 위천리 ( 府 內 面 [UNK] 川 [UNK] ) 로 옮겼다. 이규완은 조선의 제4대 국왕 세종대왕의 4남 임영대군 ( [UNK] [UNK] 大 君 ) 의 후손이었지만 이미 몰락한 집안이었기에 집안 배경이나 성장 과정에 대해서는 그다지 알려진 바 없다. 위로 형 이윤필 ( [UNK] [UNK] [UNK] ) 이 있었고, 강성형에게 출가한 누나, 남동생 두 명과, 여동생 한 명이 더 있었다. 9살에 어머니 유씨를 잃고 계모 슬하에서 자랐으나 1876년에 새어머니도 사망하였다. 소년기 때는 광주군 남종면 분원리의 숙부 집에서 거처하다가 다시 상경, 박영효의 행차 모습을 보고 그의 집을 방문, 초라한 행색을 보고 쫓아내는 박영효집 하인들과 몇번의 실랑이 끝에 박영효 집의 출입을 허락받았다. 이후 박영효 가문에 출입하다가 그의 식객이 되었다. 그는 젊은 시절 박영효의 식객이 되었다가 박영효 집의 청지기가 되었으며 그의 수하에 들어가면서 개화파에 가담하게 되었다. 박영효는 이규완보다 불과 한 살 위였지만 철종의 사위로 당시 이미 촉망받는 젊은 관료였다. 이때까지도 그는 어려운 가정 형편 때문에 무학이었는데, 박영효가 특별히 집에 데리고 있으면서 글을 가르쳐 일본으로 유학까지 보내주었다. 이후로 그는 평생에 걸쳐 박영효의 심복으로 \n",
            "질문 : 박영효와 이규완의 나이 차이는? [SEP]\n",
            "예측 : 9살에 어머니 유씨를 잃고 계모 슬하에서 자랐으나 1876년에 새어머니도 사망하였다. 소년기 때는 광주군 남종면 분원리의 숙부 집에서 거처하다가 다시 상경, 박영효의 행차 모습을 보고 그의 집을 방문, 초라한 행색을 보고 쫓아내는 박영효집 하인들과 몇번의 실랑이 끝에 박영효 집의 출입을 허락받았다. 이후 박영효 가문에 출입하다가 그의 식객이 되었다. 그는 젊은 시절 박영효의 식객이 되었다가 박영효 집의 청지기가 되었으며 그의 수하에 들어가면서 개화파에 가담하게 되었다. 박영효는 이규완보다 불과 한 살\n",
            "----------------------------------------\n",
            "본문 : [CLS] 인터랙션 디자인 ( interaction design, IxD ) 은 인간이 제품이나 서비스를 사용하면서 상호간 작용하는 것을 용이하게 하는 디자인분야이다. 주로 인간과 컴퓨터 상호작용을 디자인 하는 것으로 동적인 예술 전시물을 관람객과 상호작용하게 하는 예술인 인터랙티브 아트 ( 인터랙션 디자인과는 다름 ) 혹은 미디어 아트와는 구분된다. 보다 좁게는 컴퓨터에 의해 작동되는 전자 제품, 시스템의 행동과 사용자의 행동간의 상호작용을 용이하게 하는 기술이자 응용예술 분야이다. 컴퓨터의 발달에 따라 그래픽 사용자 인터페이스 ( GUI ) 가 등장한 이후 급속도로 발전되었으며 1990년 디자인 회사인 IDEO의 사장 빌 모그리지에 의해 용어가 사용되면서 널리 퍼지게 되었다. 모그리지는 디자인 작업을 하며 이전의 제품디자인, 커뮤니케이션디자인이나 그래픽디자인으로는 구분되기 힘들고 과학과 기술만으로는 해결하기 힘든 여러 디자인 문제에 부딪히게 되었으며 이를 해결하기 위한 새로운 디자인 분야로서 인터랙션 디자인이 필요하다고 주장하였다. 많은 부분에 있어 물리적인 디자인 영역보다는 소프트웨어와 전산학의 영역과 같이 일하게 되었으며 무엇보다 사용자에 대한 이해가 가장 필요한 부분이다. 기본적인 바탕학문으로는 인지 심리학, 전산학과 관련이 깊으며 이러한 분야에서 나온 멘탈 모델, 매핑, 메타포, 어포던스등의 개념들이 인터랙션 디자인을 구성하는 기본이 되었다. 인간 중심의 디자인, 사용성과 접근성은 인터랙션 디자인이 추구하는 주요 목표이며 좋은 인터랙션 디자인을 하기 위해 사용자 조사등을 통한 연구와 테스트를 거쳐서 완성된다. \n",
            "질문 : 인터랙션 디자인은 무엇의 등장으로 빠르게 발전되었나요? \n",
            "예측 : 그래픽 사용자 인터페이스 ( GUI )\n",
            "----------------------------------------\n",
            "본문 : [CLS] 삼단논법 ( 三 [UNK] 論 法 ) 은 미리 알려진 두 판단에서 그것들과는 다른 하나의 새로운 판단으로 이끄는 추론 방법이다. 2개의 명제를 전제로 결론을 내는 대표적인 간접추론 형식이자 연역추론이다. 모든 사람은 죽는다. 소크라테스는 사람이다. 그러므로 소크라테스는 죽는다. 같은 추리가 대표적인 것이다. 결론에서 주어'인간'을 소개념, 술어'죽어야만 하는 것'을 대개념이라 하고, 소개념을 포함한 전제를 소전제 ( 小 前 [UNK] ), 대개념을 포함한 전제를 대전제 ( 大 前 [UNK] ) 라 한다. 두 전제에는 대소개념과는 다른 제3의 개념'동물'이 포함되어 있다. 이는 두 전제를 결부시켜 결론으로 이끌기 위한 매개적 작용을 나타내는 것으로서 매개념 ( [UNK] [UNK] [UNK] ) 이라고 한다. 일반화하자면, 대전제는 결론의 술어 개념인 대개념을 포함한 전제이고, 소전제는 결론의 주어 개념인 소개념을 포함한 전제이며, 매개념은 두 전제에서만 나타나며 결론에서는 나타나지 않는다. 소개념을 S, 매개념을 M, 대개념을 D로 나타내는 것이 보통이다. 표준형식삼단논법에서는 대전제가 먼저 진술되고 그 다음에 소전제가 진술된다. 그러나 대전제와 소전제는 위치에 따라 정해지는 것이 아니라 대개념과 소개념의 포함 여부로 결정된다. \n",
            "질문 : 소전제와 대전제에서 나타나는 제3의 개념을 무엇이라고 부르는가? \n",
            "예측 : 동물 '\n",
            "----------------------------------------\n",
            "본문 : [CLS] 결혼한 여성 다섯 명 가운데 한 명은 육아 출산 등을 이유로 직장을 그만둔 것으로 나타났다. 27일 통계청이 발표한 ‘ 2013년 경력단절 여성 통계 ’ 에 따르면 결혼 전에는 직장을 다니다 결혼 후 임신 · 출산, 육아, 자녀 교육 등의 이유로 일을 그만둔 여성은 195만5000명이었다. 15 ~ 54세 기혼 여성 ( 971만3000명 ) 의 20. 1 % 수준이다. 경력단절 여성은 집계를 시작한 2011년 190만명을 기록한 이후 지난해 197만8000명으로 증가했다가 올해는 2만3000명 ( 1. 2 % ) 줄었다. 직장을 그만둔 이유는 △결혼 89만8000만명 ( 45. 9 % ) △육아 57만1000명 ( 29. 2 % ) △임신 · 출산 41만4000명 ( 21. 2 % ) △자녀교육 7만2000명 ( 3. 7 % ) 등의 순이었다. 육아를 이유로 직장을 그만둔 여성은 전년 대비 7만8000명 ( 15. 8 % ) 증가했다. 공미숙 통계청 고용통계과장은 “ 올해부터 어린이집에 가지 않는 0 ~ 5세 영 · 유아도 가정양육수당을 받으면서 일을 그만둔 여성이 늘어났다 ” 고 설명했다. \n",
            "질문 : 올해 경력단절 여성의 수는? \n",
            "예측 : 2만3000명\n",
            "----------------------------------------\n",
            "본문 : [CLS] 당시 중국에 유학중이던 여운형과 신규식 등은 이 선언과 뒤이은 파리 강화 회의가 조선 독립의 달성 여부를 떠나서 앞으로 조선의 미래를 결정짓는 중요한 사건이 될 것이라고 판단하고 신한청년당이라는 단체를 문서상으로 조직해 파리 강화 회의에 불어를 잘하는 김규식을 파견하고, 조선쪽에는 일본어에 유능한 장덕수를 파견한다. 이러한 소식은 조선 안팎의 독립운동가들을 상당히 고무하는 소식이었다. 그리고 여운형 자신은 중국 길림 성으로 가서 활동하여 무오독립선언의 촉매역할을 했다. 만주 지린 ( 간도 ) 에 있는 독립운동가 김약연등과 만나서 파리강화회의와 민족자결주의 원칙등 상황을 설명하였고, 이는 무오 독립선언에 영향을 주었다. 1919년 출국 전 김규식은 상하이의 신한청년당 당원들에게 다음과 같이 독립 시위의 주문을 하였다. 김규식의 독립 시위 주문은 3 · 1운동이 벌어지는 계기가 되었다. 파리에 파견되더라도 서구인들이 내가 누군지 알리가 없다. 일제의 학정을 폭로하고 선전하기 위해서는 누군가 국내에서 독립을 선언해야 된다. 파견되는 사람은 희생당하겠지만 국내에서 무슨 사건이 발생해야 내가 맡은 사명이 잘 수행될 것이다. 또한 때마침 발생한 고종의 갑작스러운 죽음 역시 일본인들이 고종을 독살 하였다는 이야기가 나돌아 절묘하게 만세시위 확산에 기여하였다. 윤치호는 자신의 일기에 고종의 죽음 역시 국민적 감정을 자극해서 만세시위가 확산되는 계기를 마련했다고 기록하고 있다. 고종황제가 이 왕세자와 나시모토 공주의 결혼식을 꼭 나흘 앞두고 승하하는 바람에, 스스로 목숨을 끊은 것이라는 소문이 나돌고 있다. 정말이지 얼토당토 않은 얘기다. 예전에 이미 굴욕을 감수한 고종황제가 이제 와서 하찮은 일에 억장이 무너져 자살했다는 게 말이 되나? 더구나 어린 왕세자의 일본 공주의 결혼이야말로 왕실의 입장에서는 경사스런 일이 아닌가? 이 결혼을 통해서 두 왕실간의 우호관계가 증진될 것이고, 왕세자는 조선의 어떤 여성 \n",
            "질문 : 1919년 독립 시위 주문을 한 인물이 능통했던 언어는? [SEP]\n",
            "예측 : 일본어\n",
            "----------------------------------------\n"
          ]
        }
      ]
    },
    {
      "cell_type": "code",
      "source": [
        ""
      ],
      "metadata": {
        "id": "30tlU2NZ0a2y"
      },
      "execution_count": null,
      "outputs": []
    }
  ]
}