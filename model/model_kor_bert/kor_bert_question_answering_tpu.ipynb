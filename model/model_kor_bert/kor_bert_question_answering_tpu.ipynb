{
  "nbformat": 4,
  "nbformat_minor": 0,
  "metadata": {
    "colab": {
      "name": "kor_bert_question_answering_tpu.ipynb",
      "provenance": [],
      "collapsed_sections": [],
      "machine_shape": "hm"
    },
    "kernelspec": {
      "name": "python3",
      "display_name": "Python 3"
    },
    "language_info": {
      "name": "python"
    },
    "accelerator": "TPU",
    "widgets": {
      "application/vnd.jupyter.widget-state+json": {
        "73386d1cfb024ce8b1f096c2dc5b338b": {
          "model_module": "@jupyter-widgets/controls",
          "model_name": "HBoxModel",
          "model_module_version": "1.5.0",
          "state": {
            "_dom_classes": [],
            "_model_module": "@jupyter-widgets/controls",
            "_model_module_version": "1.5.0",
            "_model_name": "HBoxModel",
            "_view_count": null,
            "_view_module": "@jupyter-widgets/controls",
            "_view_module_version": "1.5.0",
            "_view_name": "HBoxView",
            "box_style": "",
            "children": [
              "IPY_MODEL_36d190b9205943628e88f69e7f2527c7",
              "IPY_MODEL_247bb8485f384999b411dae8f8245d1c",
              "IPY_MODEL_4ba97ceaf2874a45b821c73e3b2141dd"
            ],
            "layout": "IPY_MODEL_02c6262759434165b928b74f1d8301fb"
          }
        },
        "36d190b9205943628e88f69e7f2527c7": {
          "model_module": "@jupyter-widgets/controls",
          "model_name": "HTMLModel",
          "model_module_version": "1.5.0",
          "state": {
            "_dom_classes": [],
            "_model_module": "@jupyter-widgets/controls",
            "_model_module_version": "1.5.0",
            "_model_name": "HTMLModel",
            "_view_count": null,
            "_view_module": "@jupyter-widgets/controls",
            "_view_module_version": "1.5.0",
            "_view_name": "HTMLView",
            "description": "",
            "description_tooltip": null,
            "layout": "IPY_MODEL_a138d963f6c741e1bc9d1673c02d9146",
            "placeholder": "​",
            "style": "IPY_MODEL_0b58c488e7b2450b90be3539cfb6fb72",
            "value": "Downloading: 100%"
          }
        },
        "247bb8485f384999b411dae8f8245d1c": {
          "model_module": "@jupyter-widgets/controls",
          "model_name": "FloatProgressModel",
          "model_module_version": "1.5.0",
          "state": {
            "_dom_classes": [],
            "_model_module": "@jupyter-widgets/controls",
            "_model_module_version": "1.5.0",
            "_model_name": "FloatProgressModel",
            "_view_count": null,
            "_view_module": "@jupyter-widgets/controls",
            "_view_module_version": "1.5.0",
            "_view_name": "ProgressView",
            "bar_style": "success",
            "description": "",
            "description_tooltip": null,
            "layout": "IPY_MODEL_8378da44f1314d169511a017ece88afb",
            "max": 289,
            "min": 0,
            "orientation": "horizontal",
            "style": "IPY_MODEL_df91efe95f974702a7be1a79dd83e7dd",
            "value": 289
          }
        },
        "4ba97ceaf2874a45b821c73e3b2141dd": {
          "model_module": "@jupyter-widgets/controls",
          "model_name": "HTMLModel",
          "model_module_version": "1.5.0",
          "state": {
            "_dom_classes": [],
            "_model_module": "@jupyter-widgets/controls",
            "_model_module_version": "1.5.0",
            "_model_name": "HTMLModel",
            "_view_count": null,
            "_view_module": "@jupyter-widgets/controls",
            "_view_module_version": "1.5.0",
            "_view_name": "HTMLView",
            "description": "",
            "description_tooltip": null,
            "layout": "IPY_MODEL_d40ee4483a8c4cf88c45dda4d99e5130",
            "placeholder": "​",
            "style": "IPY_MODEL_b725e696b8df4caf9915ea7b8d80c711",
            "value": " 289/289 [00:00&lt;00:00, 9.26kB/s]"
          }
        },
        "02c6262759434165b928b74f1d8301fb": {
          "model_module": "@jupyter-widgets/base",
          "model_name": "LayoutModel",
          "model_module_version": "1.2.0",
          "state": {
            "_model_module": "@jupyter-widgets/base",
            "_model_module_version": "1.2.0",
            "_model_name": "LayoutModel",
            "_view_count": null,
            "_view_module": "@jupyter-widgets/base",
            "_view_module_version": "1.2.0",
            "_view_name": "LayoutView",
            "align_content": null,
            "align_items": null,
            "align_self": null,
            "border": null,
            "bottom": null,
            "display": null,
            "flex": null,
            "flex_flow": null,
            "grid_area": null,
            "grid_auto_columns": null,
            "grid_auto_flow": null,
            "grid_auto_rows": null,
            "grid_column": null,
            "grid_gap": null,
            "grid_row": null,
            "grid_template_areas": null,
            "grid_template_columns": null,
            "grid_template_rows": null,
            "height": null,
            "justify_content": null,
            "justify_items": null,
            "left": null,
            "margin": null,
            "max_height": null,
            "max_width": null,
            "min_height": null,
            "min_width": null,
            "object_fit": null,
            "object_position": null,
            "order": null,
            "overflow": null,
            "overflow_x": null,
            "overflow_y": null,
            "padding": null,
            "right": null,
            "top": null,
            "visibility": null,
            "width": null
          }
        },
        "a138d963f6c741e1bc9d1673c02d9146": {
          "model_module": "@jupyter-widgets/base",
          "model_name": "LayoutModel",
          "model_module_version": "1.2.0",
          "state": {
            "_model_module": "@jupyter-widgets/base",
            "_model_module_version": "1.2.0",
            "_model_name": "LayoutModel",
            "_view_count": null,
            "_view_module": "@jupyter-widgets/base",
            "_view_module_version": "1.2.0",
            "_view_name": "LayoutView",
            "align_content": null,
            "align_items": null,
            "align_self": null,
            "border": null,
            "bottom": null,
            "display": null,
            "flex": null,
            "flex_flow": null,
            "grid_area": null,
            "grid_auto_columns": null,
            "grid_auto_flow": null,
            "grid_auto_rows": null,
            "grid_column": null,
            "grid_gap": null,
            "grid_row": null,
            "grid_template_areas": null,
            "grid_template_columns": null,
            "grid_template_rows": null,
            "height": null,
            "justify_content": null,
            "justify_items": null,
            "left": null,
            "margin": null,
            "max_height": null,
            "max_width": null,
            "min_height": null,
            "min_width": null,
            "object_fit": null,
            "object_position": null,
            "order": null,
            "overflow": null,
            "overflow_x": null,
            "overflow_y": null,
            "padding": null,
            "right": null,
            "top": null,
            "visibility": null,
            "width": null
          }
        },
        "0b58c488e7b2450b90be3539cfb6fb72": {
          "model_module": "@jupyter-widgets/controls",
          "model_name": "DescriptionStyleModel",
          "model_module_version": "1.5.0",
          "state": {
            "_model_module": "@jupyter-widgets/controls",
            "_model_module_version": "1.5.0",
            "_model_name": "DescriptionStyleModel",
            "_view_count": null,
            "_view_module": "@jupyter-widgets/base",
            "_view_module_version": "1.2.0",
            "_view_name": "StyleView",
            "description_width": ""
          }
        },
        "8378da44f1314d169511a017ece88afb": {
          "model_module": "@jupyter-widgets/base",
          "model_name": "LayoutModel",
          "model_module_version": "1.2.0",
          "state": {
            "_model_module": "@jupyter-widgets/base",
            "_model_module_version": "1.2.0",
            "_model_name": "LayoutModel",
            "_view_count": null,
            "_view_module": "@jupyter-widgets/base",
            "_view_module_version": "1.2.0",
            "_view_name": "LayoutView",
            "align_content": null,
            "align_items": null,
            "align_self": null,
            "border": null,
            "bottom": null,
            "display": null,
            "flex": null,
            "flex_flow": null,
            "grid_area": null,
            "grid_auto_columns": null,
            "grid_auto_flow": null,
            "grid_auto_rows": null,
            "grid_column": null,
            "grid_gap": null,
            "grid_row": null,
            "grid_template_areas": null,
            "grid_template_columns": null,
            "grid_template_rows": null,
            "height": null,
            "justify_content": null,
            "justify_items": null,
            "left": null,
            "margin": null,
            "max_height": null,
            "max_width": null,
            "min_height": null,
            "min_width": null,
            "object_fit": null,
            "object_position": null,
            "order": null,
            "overflow": null,
            "overflow_x": null,
            "overflow_y": null,
            "padding": null,
            "right": null,
            "top": null,
            "visibility": null,
            "width": null
          }
        },
        "df91efe95f974702a7be1a79dd83e7dd": {
          "model_module": "@jupyter-widgets/controls",
          "model_name": "ProgressStyleModel",
          "model_module_version": "1.5.0",
          "state": {
            "_model_module": "@jupyter-widgets/controls",
            "_model_module_version": "1.5.0",
            "_model_name": "ProgressStyleModel",
            "_view_count": null,
            "_view_module": "@jupyter-widgets/base",
            "_view_module_version": "1.2.0",
            "_view_name": "StyleView",
            "bar_color": null,
            "description_width": ""
          }
        },
        "d40ee4483a8c4cf88c45dda4d99e5130": {
          "model_module": "@jupyter-widgets/base",
          "model_name": "LayoutModel",
          "model_module_version": "1.2.0",
          "state": {
            "_model_module": "@jupyter-widgets/base",
            "_model_module_version": "1.2.0",
            "_model_name": "LayoutModel",
            "_view_count": null,
            "_view_module": "@jupyter-widgets/base",
            "_view_module_version": "1.2.0",
            "_view_name": "LayoutView",
            "align_content": null,
            "align_items": null,
            "align_self": null,
            "border": null,
            "bottom": null,
            "display": null,
            "flex": null,
            "flex_flow": null,
            "grid_area": null,
            "grid_auto_columns": null,
            "grid_auto_flow": null,
            "grid_auto_rows": null,
            "grid_column": null,
            "grid_gap": null,
            "grid_row": null,
            "grid_template_areas": null,
            "grid_template_columns": null,
            "grid_template_rows": null,
            "height": null,
            "justify_content": null,
            "justify_items": null,
            "left": null,
            "margin": null,
            "max_height": null,
            "max_width": null,
            "min_height": null,
            "min_width": null,
            "object_fit": null,
            "object_position": null,
            "order": null,
            "overflow": null,
            "overflow_x": null,
            "overflow_y": null,
            "padding": null,
            "right": null,
            "top": null,
            "visibility": null,
            "width": null
          }
        },
        "b725e696b8df4caf9915ea7b8d80c711": {
          "model_module": "@jupyter-widgets/controls",
          "model_name": "DescriptionStyleModel",
          "model_module_version": "1.5.0",
          "state": {
            "_model_module": "@jupyter-widgets/controls",
            "_model_module_version": "1.5.0",
            "_model_name": "DescriptionStyleModel",
            "_view_count": null,
            "_view_module": "@jupyter-widgets/base",
            "_view_module_version": "1.2.0",
            "_view_name": "StyleView",
            "description_width": ""
          }
        },
        "aab5121f1698408eb07846f8c2cefd19": {
          "model_module": "@jupyter-widgets/controls",
          "model_name": "HBoxModel",
          "model_module_version": "1.5.0",
          "state": {
            "_dom_classes": [],
            "_model_module": "@jupyter-widgets/controls",
            "_model_module_version": "1.5.0",
            "_model_name": "HBoxModel",
            "_view_count": null,
            "_view_module": "@jupyter-widgets/controls",
            "_view_module_version": "1.5.0",
            "_view_name": "HBoxView",
            "box_style": "",
            "children": [
              "IPY_MODEL_38935ad09c0645098b7d3ee06429230d",
              "IPY_MODEL_45ad3ebd134842f5a26bce92a85dfefc",
              "IPY_MODEL_e39bbbce864c4976a7825de0d609aa47"
            ],
            "layout": "IPY_MODEL_32a71e9292164d2e9e9ba167f3f0af63"
          }
        },
        "38935ad09c0645098b7d3ee06429230d": {
          "model_module": "@jupyter-widgets/controls",
          "model_name": "HTMLModel",
          "model_module_version": "1.5.0",
          "state": {
            "_dom_classes": [],
            "_model_module": "@jupyter-widgets/controls",
            "_model_module_version": "1.5.0",
            "_model_name": "HTMLModel",
            "_view_count": null,
            "_view_module": "@jupyter-widgets/controls",
            "_view_module_version": "1.5.0",
            "_view_name": "HTMLView",
            "description": "",
            "description_tooltip": null,
            "layout": "IPY_MODEL_c9901ec5f00b47f7acbe44b39fafafcf",
            "placeholder": "​",
            "style": "IPY_MODEL_8a3f8af987474e0d862686220635d060",
            "value": "Downloading: 100%"
          }
        },
        "45ad3ebd134842f5a26bce92a85dfefc": {
          "model_module": "@jupyter-widgets/controls",
          "model_name": "FloatProgressModel",
          "model_module_version": "1.5.0",
          "state": {
            "_dom_classes": [],
            "_model_module": "@jupyter-widgets/controls",
            "_model_module_version": "1.5.0",
            "_model_name": "FloatProgressModel",
            "_view_count": null,
            "_view_module": "@jupyter-widgets/controls",
            "_view_module_version": "1.5.0",
            "_view_name": "ProgressView",
            "bar_style": "success",
            "description": "",
            "description_tooltip": null,
            "layout": "IPY_MODEL_88161db36cb94e19b69a62a49831fc7a",
            "max": 248477,
            "min": 0,
            "orientation": "horizontal",
            "style": "IPY_MODEL_16e8e5fbda264e26a0dfac62abd98423",
            "value": 248477
          }
        },
        "e39bbbce864c4976a7825de0d609aa47": {
          "model_module": "@jupyter-widgets/controls",
          "model_name": "HTMLModel",
          "model_module_version": "1.5.0",
          "state": {
            "_dom_classes": [],
            "_model_module": "@jupyter-widgets/controls",
            "_model_module_version": "1.5.0",
            "_model_name": "HTMLModel",
            "_view_count": null,
            "_view_module": "@jupyter-widgets/controls",
            "_view_module_version": "1.5.0",
            "_view_name": "HTMLView",
            "description": "",
            "description_tooltip": null,
            "layout": "IPY_MODEL_7916b3245a6e407c9031eb71403ceeea",
            "placeholder": "​",
            "style": "IPY_MODEL_54dd12786e9a4c858c4275c3c8da33fb",
            "value": " 243k/243k [00:00&lt;00:00, 2.71MB/s]"
          }
        },
        "32a71e9292164d2e9e9ba167f3f0af63": {
          "model_module": "@jupyter-widgets/base",
          "model_name": "LayoutModel",
          "model_module_version": "1.2.0",
          "state": {
            "_model_module": "@jupyter-widgets/base",
            "_model_module_version": "1.2.0",
            "_model_name": "LayoutModel",
            "_view_count": null,
            "_view_module": "@jupyter-widgets/base",
            "_view_module_version": "1.2.0",
            "_view_name": "LayoutView",
            "align_content": null,
            "align_items": null,
            "align_self": null,
            "border": null,
            "bottom": null,
            "display": null,
            "flex": null,
            "flex_flow": null,
            "grid_area": null,
            "grid_auto_columns": null,
            "grid_auto_flow": null,
            "grid_auto_rows": null,
            "grid_column": null,
            "grid_gap": null,
            "grid_row": null,
            "grid_template_areas": null,
            "grid_template_columns": null,
            "grid_template_rows": null,
            "height": null,
            "justify_content": null,
            "justify_items": null,
            "left": null,
            "margin": null,
            "max_height": null,
            "max_width": null,
            "min_height": null,
            "min_width": null,
            "object_fit": null,
            "object_position": null,
            "order": null,
            "overflow": null,
            "overflow_x": null,
            "overflow_y": null,
            "padding": null,
            "right": null,
            "top": null,
            "visibility": null,
            "width": null
          }
        },
        "c9901ec5f00b47f7acbe44b39fafafcf": {
          "model_module": "@jupyter-widgets/base",
          "model_name": "LayoutModel",
          "model_module_version": "1.2.0",
          "state": {
            "_model_module": "@jupyter-widgets/base",
            "_model_module_version": "1.2.0",
            "_model_name": "LayoutModel",
            "_view_count": null,
            "_view_module": "@jupyter-widgets/base",
            "_view_module_version": "1.2.0",
            "_view_name": "LayoutView",
            "align_content": null,
            "align_items": null,
            "align_self": null,
            "border": null,
            "bottom": null,
            "display": null,
            "flex": null,
            "flex_flow": null,
            "grid_area": null,
            "grid_auto_columns": null,
            "grid_auto_flow": null,
            "grid_auto_rows": null,
            "grid_column": null,
            "grid_gap": null,
            "grid_row": null,
            "grid_template_areas": null,
            "grid_template_columns": null,
            "grid_template_rows": null,
            "height": null,
            "justify_content": null,
            "justify_items": null,
            "left": null,
            "margin": null,
            "max_height": null,
            "max_width": null,
            "min_height": null,
            "min_width": null,
            "object_fit": null,
            "object_position": null,
            "order": null,
            "overflow": null,
            "overflow_x": null,
            "overflow_y": null,
            "padding": null,
            "right": null,
            "top": null,
            "visibility": null,
            "width": null
          }
        },
        "8a3f8af987474e0d862686220635d060": {
          "model_module": "@jupyter-widgets/controls",
          "model_name": "DescriptionStyleModel",
          "model_module_version": "1.5.0",
          "state": {
            "_model_module": "@jupyter-widgets/controls",
            "_model_module_version": "1.5.0",
            "_model_name": "DescriptionStyleModel",
            "_view_count": null,
            "_view_module": "@jupyter-widgets/base",
            "_view_module_version": "1.2.0",
            "_view_name": "StyleView",
            "description_width": ""
          }
        },
        "88161db36cb94e19b69a62a49831fc7a": {
          "model_module": "@jupyter-widgets/base",
          "model_name": "LayoutModel",
          "model_module_version": "1.2.0",
          "state": {
            "_model_module": "@jupyter-widgets/base",
            "_model_module_version": "1.2.0",
            "_model_name": "LayoutModel",
            "_view_count": null,
            "_view_module": "@jupyter-widgets/base",
            "_view_module_version": "1.2.0",
            "_view_name": "LayoutView",
            "align_content": null,
            "align_items": null,
            "align_self": null,
            "border": null,
            "bottom": null,
            "display": null,
            "flex": null,
            "flex_flow": null,
            "grid_area": null,
            "grid_auto_columns": null,
            "grid_auto_flow": null,
            "grid_auto_rows": null,
            "grid_column": null,
            "grid_gap": null,
            "grid_row": null,
            "grid_template_areas": null,
            "grid_template_columns": null,
            "grid_template_rows": null,
            "height": null,
            "justify_content": null,
            "justify_items": null,
            "left": null,
            "margin": null,
            "max_height": null,
            "max_width": null,
            "min_height": null,
            "min_width": null,
            "object_fit": null,
            "object_position": null,
            "order": null,
            "overflow": null,
            "overflow_x": null,
            "overflow_y": null,
            "padding": null,
            "right": null,
            "top": null,
            "visibility": null,
            "width": null
          }
        },
        "16e8e5fbda264e26a0dfac62abd98423": {
          "model_module": "@jupyter-widgets/controls",
          "model_name": "ProgressStyleModel",
          "model_module_version": "1.5.0",
          "state": {
            "_model_module": "@jupyter-widgets/controls",
            "_model_module_version": "1.5.0",
            "_model_name": "ProgressStyleModel",
            "_view_count": null,
            "_view_module": "@jupyter-widgets/base",
            "_view_module_version": "1.2.0",
            "_view_name": "StyleView",
            "bar_color": null,
            "description_width": ""
          }
        },
        "7916b3245a6e407c9031eb71403ceeea": {
          "model_module": "@jupyter-widgets/base",
          "model_name": "LayoutModel",
          "model_module_version": "1.2.0",
          "state": {
            "_model_module": "@jupyter-widgets/base",
            "_model_module_version": "1.2.0",
            "_model_name": "LayoutModel",
            "_view_count": null,
            "_view_module": "@jupyter-widgets/base",
            "_view_module_version": "1.2.0",
            "_view_name": "LayoutView",
            "align_content": null,
            "align_items": null,
            "align_self": null,
            "border": null,
            "bottom": null,
            "display": null,
            "flex": null,
            "flex_flow": null,
            "grid_area": null,
            "grid_auto_columns": null,
            "grid_auto_flow": null,
            "grid_auto_rows": null,
            "grid_column": null,
            "grid_gap": null,
            "grid_row": null,
            "grid_template_areas": null,
            "grid_template_columns": null,
            "grid_template_rows": null,
            "height": null,
            "justify_content": null,
            "justify_items": null,
            "left": null,
            "margin": null,
            "max_height": null,
            "max_width": null,
            "min_height": null,
            "min_width": null,
            "object_fit": null,
            "object_position": null,
            "order": null,
            "overflow": null,
            "overflow_x": null,
            "overflow_y": null,
            "padding": null,
            "right": null,
            "top": null,
            "visibility": null,
            "width": null
          }
        },
        "54dd12786e9a4c858c4275c3c8da33fb": {
          "model_module": "@jupyter-widgets/controls",
          "model_name": "DescriptionStyleModel",
          "model_module_version": "1.5.0",
          "state": {
            "_model_module": "@jupyter-widgets/controls",
            "_model_module_version": "1.5.0",
            "_model_name": "DescriptionStyleModel",
            "_view_count": null,
            "_view_module": "@jupyter-widgets/base",
            "_view_module_version": "1.2.0",
            "_view_name": "StyleView",
            "description_width": ""
          }
        },
        "c14d98b676cc4099b3fced678be25882": {
          "model_module": "@jupyter-widgets/controls",
          "model_name": "HBoxModel",
          "model_module_version": "1.5.0",
          "state": {
            "_dom_classes": [],
            "_model_module": "@jupyter-widgets/controls",
            "_model_module_version": "1.5.0",
            "_model_name": "HBoxModel",
            "_view_count": null,
            "_view_module": "@jupyter-widgets/controls",
            "_view_module_version": "1.5.0",
            "_view_name": "HBoxView",
            "box_style": "",
            "children": [
              "IPY_MODEL_7b114c59b4144e2a8d5d1f16c3c36a4c",
              "IPY_MODEL_43a4ebadf945407d9432fafe103ac3a2",
              "IPY_MODEL_f8b7692f0d354dd5ba20183c4acd7d80"
            ],
            "layout": "IPY_MODEL_ea7c8a435d64479295a70eae9e7e4dc2"
          }
        },
        "7b114c59b4144e2a8d5d1f16c3c36a4c": {
          "model_module": "@jupyter-widgets/controls",
          "model_name": "HTMLModel",
          "model_module_version": "1.5.0",
          "state": {
            "_dom_classes": [],
            "_model_module": "@jupyter-widgets/controls",
            "_model_module_version": "1.5.0",
            "_model_name": "HTMLModel",
            "_view_count": null,
            "_view_module": "@jupyter-widgets/controls",
            "_view_module_version": "1.5.0",
            "_view_name": "HTMLView",
            "description": "",
            "description_tooltip": null,
            "layout": "IPY_MODEL_8246a2817bd543b7b366594938b91b64",
            "placeholder": "​",
            "style": "IPY_MODEL_dc938adc7ae14c76b706305dccb60ff6",
            "value": "Downloading: 100%"
          }
        },
        "43a4ebadf945407d9432fafe103ac3a2": {
          "model_module": "@jupyter-widgets/controls",
          "model_name": "FloatProgressModel",
          "model_module_version": "1.5.0",
          "state": {
            "_dom_classes": [],
            "_model_module": "@jupyter-widgets/controls",
            "_model_module_version": "1.5.0",
            "_model_name": "FloatProgressModel",
            "_view_count": null,
            "_view_module": "@jupyter-widgets/controls",
            "_view_module_version": "1.5.0",
            "_view_name": "ProgressView",
            "bar_style": "success",
            "description": "",
            "description_tooltip": null,
            "layout": "IPY_MODEL_d3ec425b55b94707943d7ea8db45f71b",
            "max": 494860,
            "min": 0,
            "orientation": "horizontal",
            "style": "IPY_MODEL_a1fb290e989541d7af31156f66b47c4d",
            "value": 494860
          }
        },
        "f8b7692f0d354dd5ba20183c4acd7d80": {
          "model_module": "@jupyter-widgets/controls",
          "model_name": "HTMLModel",
          "model_module_version": "1.5.0",
          "state": {
            "_dom_classes": [],
            "_model_module": "@jupyter-widgets/controls",
            "_model_module_version": "1.5.0",
            "_model_name": "HTMLModel",
            "_view_count": null,
            "_view_module": "@jupyter-widgets/controls",
            "_view_module_version": "1.5.0",
            "_view_name": "HTMLView",
            "description": "",
            "description_tooltip": null,
            "layout": "IPY_MODEL_2e6ad8f6ab254b93a67f40f88d2789a1",
            "placeholder": "​",
            "style": "IPY_MODEL_f55f1c1519254ba3949a26bd6210f0b6",
            "value": " 483k/483k [00:00&lt;00:00, 1.51MB/s]"
          }
        },
        "ea7c8a435d64479295a70eae9e7e4dc2": {
          "model_module": "@jupyter-widgets/base",
          "model_name": "LayoutModel",
          "model_module_version": "1.2.0",
          "state": {
            "_model_module": "@jupyter-widgets/base",
            "_model_module_version": "1.2.0",
            "_model_name": "LayoutModel",
            "_view_count": null,
            "_view_module": "@jupyter-widgets/base",
            "_view_module_version": "1.2.0",
            "_view_name": "LayoutView",
            "align_content": null,
            "align_items": null,
            "align_self": null,
            "border": null,
            "bottom": null,
            "display": null,
            "flex": null,
            "flex_flow": null,
            "grid_area": null,
            "grid_auto_columns": null,
            "grid_auto_flow": null,
            "grid_auto_rows": null,
            "grid_column": null,
            "grid_gap": null,
            "grid_row": null,
            "grid_template_areas": null,
            "grid_template_columns": null,
            "grid_template_rows": null,
            "height": null,
            "justify_content": null,
            "justify_items": null,
            "left": null,
            "margin": null,
            "max_height": null,
            "max_width": null,
            "min_height": null,
            "min_width": null,
            "object_fit": null,
            "object_position": null,
            "order": null,
            "overflow": null,
            "overflow_x": null,
            "overflow_y": null,
            "padding": null,
            "right": null,
            "top": null,
            "visibility": null,
            "width": null
          }
        },
        "8246a2817bd543b7b366594938b91b64": {
          "model_module": "@jupyter-widgets/base",
          "model_name": "LayoutModel",
          "model_module_version": "1.2.0",
          "state": {
            "_model_module": "@jupyter-widgets/base",
            "_model_module_version": "1.2.0",
            "_model_name": "LayoutModel",
            "_view_count": null,
            "_view_module": "@jupyter-widgets/base",
            "_view_module_version": "1.2.0",
            "_view_name": "LayoutView",
            "align_content": null,
            "align_items": null,
            "align_self": null,
            "border": null,
            "bottom": null,
            "display": null,
            "flex": null,
            "flex_flow": null,
            "grid_area": null,
            "grid_auto_columns": null,
            "grid_auto_flow": null,
            "grid_auto_rows": null,
            "grid_column": null,
            "grid_gap": null,
            "grid_row": null,
            "grid_template_areas": null,
            "grid_template_columns": null,
            "grid_template_rows": null,
            "height": null,
            "justify_content": null,
            "justify_items": null,
            "left": null,
            "margin": null,
            "max_height": null,
            "max_width": null,
            "min_height": null,
            "min_width": null,
            "object_fit": null,
            "object_position": null,
            "order": null,
            "overflow": null,
            "overflow_x": null,
            "overflow_y": null,
            "padding": null,
            "right": null,
            "top": null,
            "visibility": null,
            "width": null
          }
        },
        "dc938adc7ae14c76b706305dccb60ff6": {
          "model_module": "@jupyter-widgets/controls",
          "model_name": "DescriptionStyleModel",
          "model_module_version": "1.5.0",
          "state": {
            "_model_module": "@jupyter-widgets/controls",
            "_model_module_version": "1.5.0",
            "_model_name": "DescriptionStyleModel",
            "_view_count": null,
            "_view_module": "@jupyter-widgets/base",
            "_view_module_version": "1.2.0",
            "_view_name": "StyleView",
            "description_width": ""
          }
        },
        "d3ec425b55b94707943d7ea8db45f71b": {
          "model_module": "@jupyter-widgets/base",
          "model_name": "LayoutModel",
          "model_module_version": "1.2.0",
          "state": {
            "_model_module": "@jupyter-widgets/base",
            "_model_module_version": "1.2.0",
            "_model_name": "LayoutModel",
            "_view_count": null,
            "_view_module": "@jupyter-widgets/base",
            "_view_module_version": "1.2.0",
            "_view_name": "LayoutView",
            "align_content": null,
            "align_items": null,
            "align_self": null,
            "border": null,
            "bottom": null,
            "display": null,
            "flex": null,
            "flex_flow": null,
            "grid_area": null,
            "grid_auto_columns": null,
            "grid_auto_flow": null,
            "grid_auto_rows": null,
            "grid_column": null,
            "grid_gap": null,
            "grid_row": null,
            "grid_template_areas": null,
            "grid_template_columns": null,
            "grid_template_rows": null,
            "height": null,
            "justify_content": null,
            "justify_items": null,
            "left": null,
            "margin": null,
            "max_height": null,
            "max_width": null,
            "min_height": null,
            "min_width": null,
            "object_fit": null,
            "object_position": null,
            "order": null,
            "overflow": null,
            "overflow_x": null,
            "overflow_y": null,
            "padding": null,
            "right": null,
            "top": null,
            "visibility": null,
            "width": null
          }
        },
        "a1fb290e989541d7af31156f66b47c4d": {
          "model_module": "@jupyter-widgets/controls",
          "model_name": "ProgressStyleModel",
          "model_module_version": "1.5.0",
          "state": {
            "_model_module": "@jupyter-widgets/controls",
            "_model_module_version": "1.5.0",
            "_model_name": "ProgressStyleModel",
            "_view_count": null,
            "_view_module": "@jupyter-widgets/base",
            "_view_module_version": "1.2.0",
            "_view_name": "StyleView",
            "bar_color": null,
            "description_width": ""
          }
        },
        "2e6ad8f6ab254b93a67f40f88d2789a1": {
          "model_module": "@jupyter-widgets/base",
          "model_name": "LayoutModel",
          "model_module_version": "1.2.0",
          "state": {
            "_model_module": "@jupyter-widgets/base",
            "_model_module_version": "1.2.0",
            "_model_name": "LayoutModel",
            "_view_count": null,
            "_view_module": "@jupyter-widgets/base",
            "_view_module_version": "1.2.0",
            "_view_name": "LayoutView",
            "align_content": null,
            "align_items": null,
            "align_self": null,
            "border": null,
            "bottom": null,
            "display": null,
            "flex": null,
            "flex_flow": null,
            "grid_area": null,
            "grid_auto_columns": null,
            "grid_auto_flow": null,
            "grid_auto_rows": null,
            "grid_column": null,
            "grid_gap": null,
            "grid_row": null,
            "grid_template_areas": null,
            "grid_template_columns": null,
            "grid_template_rows": null,
            "height": null,
            "justify_content": null,
            "justify_items": null,
            "left": null,
            "margin": null,
            "max_height": null,
            "max_width": null,
            "min_height": null,
            "min_width": null,
            "object_fit": null,
            "object_position": null,
            "order": null,
            "overflow": null,
            "overflow_x": null,
            "overflow_y": null,
            "padding": null,
            "right": null,
            "top": null,
            "visibility": null,
            "width": null
          }
        },
        "f55f1c1519254ba3949a26bd6210f0b6": {
          "model_module": "@jupyter-widgets/controls",
          "model_name": "DescriptionStyleModel",
          "model_module_version": "1.5.0",
          "state": {
            "_model_module": "@jupyter-widgets/controls",
            "_model_module_version": "1.5.0",
            "_model_name": "DescriptionStyleModel",
            "_view_count": null,
            "_view_module": "@jupyter-widgets/base",
            "_view_module_version": "1.2.0",
            "_view_name": "StyleView",
            "description_width": ""
          }
        },
        "9aca05e460b34c85a26c9759527a7b88": {
          "model_module": "@jupyter-widgets/controls",
          "model_name": "HBoxModel",
          "model_module_version": "1.5.0",
          "state": {
            "_dom_classes": [],
            "_model_module": "@jupyter-widgets/controls",
            "_model_module_version": "1.5.0",
            "_model_name": "HBoxModel",
            "_view_count": null,
            "_view_module": "@jupyter-widgets/controls",
            "_view_module_version": "1.5.0",
            "_view_name": "HBoxView",
            "box_style": "",
            "children": [
              "IPY_MODEL_007a258d23434af18bd9bafa8a8ab175",
              "IPY_MODEL_5261f0760548445d93db1e67100247cf",
              "IPY_MODEL_abba76d761294c749dcb11e7281ec7d3"
            ],
            "layout": "IPY_MODEL_e20ea6611ef545a3985265b92da960d3"
          }
        },
        "007a258d23434af18bd9bafa8a8ab175": {
          "model_module": "@jupyter-widgets/controls",
          "model_name": "HTMLModel",
          "model_module_version": "1.5.0",
          "state": {
            "_dom_classes": [],
            "_model_module": "@jupyter-widgets/controls",
            "_model_module_version": "1.5.0",
            "_model_name": "HTMLModel",
            "_view_count": null,
            "_view_module": "@jupyter-widgets/controls",
            "_view_module_version": "1.5.0",
            "_view_name": "HTMLView",
            "description": "",
            "description_tooltip": null,
            "layout": "IPY_MODEL_9ee274a76fe541e6ac875cdd9615d3a2",
            "placeholder": "​",
            "style": "IPY_MODEL_a2f2d21108d24f50bc1c39f3b533c6be",
            "value": "Downloading: 100%"
          }
        },
        "5261f0760548445d93db1e67100247cf": {
          "model_module": "@jupyter-widgets/controls",
          "model_name": "FloatProgressModel",
          "model_module_version": "1.5.0",
          "state": {
            "_dom_classes": [],
            "_model_module": "@jupyter-widgets/controls",
            "_model_module_version": "1.5.0",
            "_model_name": "FloatProgressModel",
            "_view_count": null,
            "_view_module": "@jupyter-widgets/controls",
            "_view_module_version": "1.5.0",
            "_view_name": "ProgressView",
            "bar_style": "success",
            "description": "",
            "description_tooltip": null,
            "layout": "IPY_MODEL_7708c36358dd4dff983831c2e0d529c3",
            "max": 125,
            "min": 0,
            "orientation": "horizontal",
            "style": "IPY_MODEL_9abb0252132b49938a8a1859961b268b",
            "value": 125
          }
        },
        "abba76d761294c749dcb11e7281ec7d3": {
          "model_module": "@jupyter-widgets/controls",
          "model_name": "HTMLModel",
          "model_module_version": "1.5.0",
          "state": {
            "_dom_classes": [],
            "_model_module": "@jupyter-widgets/controls",
            "_model_module_version": "1.5.0",
            "_model_name": "HTMLModel",
            "_view_count": null,
            "_view_module": "@jupyter-widgets/controls",
            "_view_module_version": "1.5.0",
            "_view_name": "HTMLView",
            "description": "",
            "description_tooltip": null,
            "layout": "IPY_MODEL_1030a90876574c13b7f6210c21e0c626",
            "placeholder": "​",
            "style": "IPY_MODEL_9c7f31087cee48bc8dbd278943ebc816",
            "value": " 125/125 [00:00&lt;00:00, 4.25kB/s]"
          }
        },
        "e20ea6611ef545a3985265b92da960d3": {
          "model_module": "@jupyter-widgets/base",
          "model_name": "LayoutModel",
          "model_module_version": "1.2.0",
          "state": {
            "_model_module": "@jupyter-widgets/base",
            "_model_module_version": "1.2.0",
            "_model_name": "LayoutModel",
            "_view_count": null,
            "_view_module": "@jupyter-widgets/base",
            "_view_module_version": "1.2.0",
            "_view_name": "LayoutView",
            "align_content": null,
            "align_items": null,
            "align_self": null,
            "border": null,
            "bottom": null,
            "display": null,
            "flex": null,
            "flex_flow": null,
            "grid_area": null,
            "grid_auto_columns": null,
            "grid_auto_flow": null,
            "grid_auto_rows": null,
            "grid_column": null,
            "grid_gap": null,
            "grid_row": null,
            "grid_template_areas": null,
            "grid_template_columns": null,
            "grid_template_rows": null,
            "height": null,
            "justify_content": null,
            "justify_items": null,
            "left": null,
            "margin": null,
            "max_height": null,
            "max_width": null,
            "min_height": null,
            "min_width": null,
            "object_fit": null,
            "object_position": null,
            "order": null,
            "overflow": null,
            "overflow_x": null,
            "overflow_y": null,
            "padding": null,
            "right": null,
            "top": null,
            "visibility": null,
            "width": null
          }
        },
        "9ee274a76fe541e6ac875cdd9615d3a2": {
          "model_module": "@jupyter-widgets/base",
          "model_name": "LayoutModel",
          "model_module_version": "1.2.0",
          "state": {
            "_model_module": "@jupyter-widgets/base",
            "_model_module_version": "1.2.0",
            "_model_name": "LayoutModel",
            "_view_count": null,
            "_view_module": "@jupyter-widgets/base",
            "_view_module_version": "1.2.0",
            "_view_name": "LayoutView",
            "align_content": null,
            "align_items": null,
            "align_self": null,
            "border": null,
            "bottom": null,
            "display": null,
            "flex": null,
            "flex_flow": null,
            "grid_area": null,
            "grid_auto_columns": null,
            "grid_auto_flow": null,
            "grid_auto_rows": null,
            "grid_column": null,
            "grid_gap": null,
            "grid_row": null,
            "grid_template_areas": null,
            "grid_template_columns": null,
            "grid_template_rows": null,
            "height": null,
            "justify_content": null,
            "justify_items": null,
            "left": null,
            "margin": null,
            "max_height": null,
            "max_width": null,
            "min_height": null,
            "min_width": null,
            "object_fit": null,
            "object_position": null,
            "order": null,
            "overflow": null,
            "overflow_x": null,
            "overflow_y": null,
            "padding": null,
            "right": null,
            "top": null,
            "visibility": null,
            "width": null
          }
        },
        "a2f2d21108d24f50bc1c39f3b533c6be": {
          "model_module": "@jupyter-widgets/controls",
          "model_name": "DescriptionStyleModel",
          "model_module_version": "1.5.0",
          "state": {
            "_model_module": "@jupyter-widgets/controls",
            "_model_module_version": "1.5.0",
            "_model_name": "DescriptionStyleModel",
            "_view_count": null,
            "_view_module": "@jupyter-widgets/base",
            "_view_module_version": "1.2.0",
            "_view_name": "StyleView",
            "description_width": ""
          }
        },
        "7708c36358dd4dff983831c2e0d529c3": {
          "model_module": "@jupyter-widgets/base",
          "model_name": "LayoutModel",
          "model_module_version": "1.2.0",
          "state": {
            "_model_module": "@jupyter-widgets/base",
            "_model_module_version": "1.2.0",
            "_model_name": "LayoutModel",
            "_view_count": null,
            "_view_module": "@jupyter-widgets/base",
            "_view_module_version": "1.2.0",
            "_view_name": "LayoutView",
            "align_content": null,
            "align_items": null,
            "align_self": null,
            "border": null,
            "bottom": null,
            "display": null,
            "flex": null,
            "flex_flow": null,
            "grid_area": null,
            "grid_auto_columns": null,
            "grid_auto_flow": null,
            "grid_auto_rows": null,
            "grid_column": null,
            "grid_gap": null,
            "grid_row": null,
            "grid_template_areas": null,
            "grid_template_columns": null,
            "grid_template_rows": null,
            "height": null,
            "justify_content": null,
            "justify_items": null,
            "left": null,
            "margin": null,
            "max_height": null,
            "max_width": null,
            "min_height": null,
            "min_width": null,
            "object_fit": null,
            "object_position": null,
            "order": null,
            "overflow": null,
            "overflow_x": null,
            "overflow_y": null,
            "padding": null,
            "right": null,
            "top": null,
            "visibility": null,
            "width": null
          }
        },
        "9abb0252132b49938a8a1859961b268b": {
          "model_module": "@jupyter-widgets/controls",
          "model_name": "ProgressStyleModel",
          "model_module_version": "1.5.0",
          "state": {
            "_model_module": "@jupyter-widgets/controls",
            "_model_module_version": "1.5.0",
            "_model_name": "ProgressStyleModel",
            "_view_count": null,
            "_view_module": "@jupyter-widgets/base",
            "_view_module_version": "1.2.0",
            "_view_name": "StyleView",
            "bar_color": null,
            "description_width": ""
          }
        },
        "1030a90876574c13b7f6210c21e0c626": {
          "model_module": "@jupyter-widgets/base",
          "model_name": "LayoutModel",
          "model_module_version": "1.2.0",
          "state": {
            "_model_module": "@jupyter-widgets/base",
            "_model_module_version": "1.2.0",
            "_model_name": "LayoutModel",
            "_view_count": null,
            "_view_module": "@jupyter-widgets/base",
            "_view_module_version": "1.2.0",
            "_view_name": "LayoutView",
            "align_content": null,
            "align_items": null,
            "align_self": null,
            "border": null,
            "bottom": null,
            "display": null,
            "flex": null,
            "flex_flow": null,
            "grid_area": null,
            "grid_auto_columns": null,
            "grid_auto_flow": null,
            "grid_auto_rows": null,
            "grid_column": null,
            "grid_gap": null,
            "grid_row": null,
            "grid_template_areas": null,
            "grid_template_columns": null,
            "grid_template_rows": null,
            "height": null,
            "justify_content": null,
            "justify_items": null,
            "left": null,
            "margin": null,
            "max_height": null,
            "max_width": null,
            "min_height": null,
            "min_width": null,
            "object_fit": null,
            "object_position": null,
            "order": null,
            "overflow": null,
            "overflow_x": null,
            "overflow_y": null,
            "padding": null,
            "right": null,
            "top": null,
            "visibility": null,
            "width": null
          }
        },
        "9c7f31087cee48bc8dbd278943ebc816": {
          "model_module": "@jupyter-widgets/controls",
          "model_name": "DescriptionStyleModel",
          "model_module_version": "1.5.0",
          "state": {
            "_model_module": "@jupyter-widgets/controls",
            "_model_module_version": "1.5.0",
            "_model_name": "DescriptionStyleModel",
            "_view_count": null,
            "_view_module": "@jupyter-widgets/base",
            "_view_module_version": "1.2.0",
            "_view_name": "StyleView",
            "description_width": ""
          }
        },
        "674a616d5a04478dba2d89d5eaaec0e8": {
          "model_module": "@jupyter-widgets/controls",
          "model_name": "HBoxModel",
          "model_module_version": "1.5.0",
          "state": {
            "_dom_classes": [],
            "_model_module": "@jupyter-widgets/controls",
            "_model_module_version": "1.5.0",
            "_model_name": "HBoxModel",
            "_view_count": null,
            "_view_module": "@jupyter-widgets/controls",
            "_view_module_version": "1.5.0",
            "_view_name": "HBoxView",
            "box_style": "",
            "children": [
              "IPY_MODEL_8aa44faa35b3448181afa54a2ab0d825",
              "IPY_MODEL_3b53068220f142c89e7c39e3c46ab5f8",
              "IPY_MODEL_13251fa803e0434191d6a5356e82435e"
            ],
            "layout": "IPY_MODEL_d3f0405a39234fd8a345508992845097"
          }
        },
        "8aa44faa35b3448181afa54a2ab0d825": {
          "model_module": "@jupyter-widgets/controls",
          "model_name": "HTMLModel",
          "model_module_version": "1.5.0",
          "state": {
            "_dom_classes": [],
            "_model_module": "@jupyter-widgets/controls",
            "_model_module_version": "1.5.0",
            "_model_name": "HTMLModel",
            "_view_count": null,
            "_view_module": "@jupyter-widgets/controls",
            "_view_module_version": "1.5.0",
            "_view_name": "HTMLView",
            "description": "",
            "description_tooltip": null,
            "layout": "IPY_MODEL_f19a144ad2e94f028a383eb905bc2f05",
            "placeholder": "​",
            "style": "IPY_MODEL_75de3df3cfab41f6b8181a2e272f4c44",
            "value": "Downloading: 100%"
          }
        },
        "3b53068220f142c89e7c39e3c46ab5f8": {
          "model_module": "@jupyter-widgets/controls",
          "model_name": "FloatProgressModel",
          "model_module_version": "1.5.0",
          "state": {
            "_dom_classes": [],
            "_model_module": "@jupyter-widgets/controls",
            "_model_module_version": "1.5.0",
            "_model_name": "FloatProgressModel",
            "_view_count": null,
            "_view_module": "@jupyter-widgets/controls",
            "_view_module_version": "1.5.0",
            "_view_name": "ProgressView",
            "bar_style": "success",
            "description": "",
            "description_tooltip": null,
            "layout": "IPY_MODEL_1ffc21061588492fbb3d3639b8d5f9ac",
            "max": 425,
            "min": 0,
            "orientation": "horizontal",
            "style": "IPY_MODEL_6f94bb5ee1c249c2ae236eb654dfa866",
            "value": 425
          }
        },
        "13251fa803e0434191d6a5356e82435e": {
          "model_module": "@jupyter-widgets/controls",
          "model_name": "HTMLModel",
          "model_module_version": "1.5.0",
          "state": {
            "_dom_classes": [],
            "_model_module": "@jupyter-widgets/controls",
            "_model_module_version": "1.5.0",
            "_model_name": "HTMLModel",
            "_view_count": null,
            "_view_module": "@jupyter-widgets/controls",
            "_view_module_version": "1.5.0",
            "_view_name": "HTMLView",
            "description": "",
            "description_tooltip": null,
            "layout": "IPY_MODEL_8410fa32b4914fc48ac6b13b8eafa521",
            "placeholder": "​",
            "style": "IPY_MODEL_994a0e6570cb4282a0c55024a50e68d3",
            "value": " 425/425 [00:00&lt;00:00, 15.1kB/s]"
          }
        },
        "d3f0405a39234fd8a345508992845097": {
          "model_module": "@jupyter-widgets/base",
          "model_name": "LayoutModel",
          "model_module_version": "1.2.0",
          "state": {
            "_model_module": "@jupyter-widgets/base",
            "_model_module_version": "1.2.0",
            "_model_name": "LayoutModel",
            "_view_count": null,
            "_view_module": "@jupyter-widgets/base",
            "_view_module_version": "1.2.0",
            "_view_name": "LayoutView",
            "align_content": null,
            "align_items": null,
            "align_self": null,
            "border": null,
            "bottom": null,
            "display": null,
            "flex": null,
            "flex_flow": null,
            "grid_area": null,
            "grid_auto_columns": null,
            "grid_auto_flow": null,
            "grid_auto_rows": null,
            "grid_column": null,
            "grid_gap": null,
            "grid_row": null,
            "grid_template_areas": null,
            "grid_template_columns": null,
            "grid_template_rows": null,
            "height": null,
            "justify_content": null,
            "justify_items": null,
            "left": null,
            "margin": null,
            "max_height": null,
            "max_width": null,
            "min_height": null,
            "min_width": null,
            "object_fit": null,
            "object_position": null,
            "order": null,
            "overflow": null,
            "overflow_x": null,
            "overflow_y": null,
            "padding": null,
            "right": null,
            "top": null,
            "visibility": null,
            "width": null
          }
        },
        "f19a144ad2e94f028a383eb905bc2f05": {
          "model_module": "@jupyter-widgets/base",
          "model_name": "LayoutModel",
          "model_module_version": "1.2.0",
          "state": {
            "_model_module": "@jupyter-widgets/base",
            "_model_module_version": "1.2.0",
            "_model_name": "LayoutModel",
            "_view_count": null,
            "_view_module": "@jupyter-widgets/base",
            "_view_module_version": "1.2.0",
            "_view_name": "LayoutView",
            "align_content": null,
            "align_items": null,
            "align_self": null,
            "border": null,
            "bottom": null,
            "display": null,
            "flex": null,
            "flex_flow": null,
            "grid_area": null,
            "grid_auto_columns": null,
            "grid_auto_flow": null,
            "grid_auto_rows": null,
            "grid_column": null,
            "grid_gap": null,
            "grid_row": null,
            "grid_template_areas": null,
            "grid_template_columns": null,
            "grid_template_rows": null,
            "height": null,
            "justify_content": null,
            "justify_items": null,
            "left": null,
            "margin": null,
            "max_height": null,
            "max_width": null,
            "min_height": null,
            "min_width": null,
            "object_fit": null,
            "object_position": null,
            "order": null,
            "overflow": null,
            "overflow_x": null,
            "overflow_y": null,
            "padding": null,
            "right": null,
            "top": null,
            "visibility": null,
            "width": null
          }
        },
        "75de3df3cfab41f6b8181a2e272f4c44": {
          "model_module": "@jupyter-widgets/controls",
          "model_name": "DescriptionStyleModel",
          "model_module_version": "1.5.0",
          "state": {
            "_model_module": "@jupyter-widgets/controls",
            "_model_module_version": "1.5.0",
            "_model_name": "DescriptionStyleModel",
            "_view_count": null,
            "_view_module": "@jupyter-widgets/base",
            "_view_module_version": "1.2.0",
            "_view_name": "StyleView",
            "description_width": ""
          }
        },
        "1ffc21061588492fbb3d3639b8d5f9ac": {
          "model_module": "@jupyter-widgets/base",
          "model_name": "LayoutModel",
          "model_module_version": "1.2.0",
          "state": {
            "_model_module": "@jupyter-widgets/base",
            "_model_module_version": "1.2.0",
            "_model_name": "LayoutModel",
            "_view_count": null,
            "_view_module": "@jupyter-widgets/base",
            "_view_module_version": "1.2.0",
            "_view_name": "LayoutView",
            "align_content": null,
            "align_items": null,
            "align_self": null,
            "border": null,
            "bottom": null,
            "display": null,
            "flex": null,
            "flex_flow": null,
            "grid_area": null,
            "grid_auto_columns": null,
            "grid_auto_flow": null,
            "grid_auto_rows": null,
            "grid_column": null,
            "grid_gap": null,
            "grid_row": null,
            "grid_template_areas": null,
            "grid_template_columns": null,
            "grid_template_rows": null,
            "height": null,
            "justify_content": null,
            "justify_items": null,
            "left": null,
            "margin": null,
            "max_height": null,
            "max_width": null,
            "min_height": null,
            "min_width": null,
            "object_fit": null,
            "object_position": null,
            "order": null,
            "overflow": null,
            "overflow_x": null,
            "overflow_y": null,
            "padding": null,
            "right": null,
            "top": null,
            "visibility": null,
            "width": null
          }
        },
        "6f94bb5ee1c249c2ae236eb654dfa866": {
          "model_module": "@jupyter-widgets/controls",
          "model_name": "ProgressStyleModel",
          "model_module_version": "1.5.0",
          "state": {
            "_model_module": "@jupyter-widgets/controls",
            "_model_module_version": "1.5.0",
            "_model_name": "ProgressStyleModel",
            "_view_count": null,
            "_view_module": "@jupyter-widgets/base",
            "_view_module_version": "1.2.0",
            "_view_name": "StyleView",
            "bar_color": null,
            "description_width": ""
          }
        },
        "8410fa32b4914fc48ac6b13b8eafa521": {
          "model_module": "@jupyter-widgets/base",
          "model_name": "LayoutModel",
          "model_module_version": "1.2.0",
          "state": {
            "_model_module": "@jupyter-widgets/base",
            "_model_module_version": "1.2.0",
            "_model_name": "LayoutModel",
            "_view_count": null,
            "_view_module": "@jupyter-widgets/base",
            "_view_module_version": "1.2.0",
            "_view_name": "LayoutView",
            "align_content": null,
            "align_items": null,
            "align_self": null,
            "border": null,
            "bottom": null,
            "display": null,
            "flex": null,
            "flex_flow": null,
            "grid_area": null,
            "grid_auto_columns": null,
            "grid_auto_flow": null,
            "grid_auto_rows": null,
            "grid_column": null,
            "grid_gap": null,
            "grid_row": null,
            "grid_template_areas": null,
            "grid_template_columns": null,
            "grid_template_rows": null,
            "height": null,
            "justify_content": null,
            "justify_items": null,
            "left": null,
            "margin": null,
            "max_height": null,
            "max_width": null,
            "min_height": null,
            "min_width": null,
            "object_fit": null,
            "object_position": null,
            "order": null,
            "overflow": null,
            "overflow_x": null,
            "overflow_y": null,
            "padding": null,
            "right": null,
            "top": null,
            "visibility": null,
            "width": null
          }
        },
        "994a0e6570cb4282a0c55024a50e68d3": {
          "model_module": "@jupyter-widgets/controls",
          "model_name": "DescriptionStyleModel",
          "model_module_version": "1.5.0",
          "state": {
            "_model_module": "@jupyter-widgets/controls",
            "_model_module_version": "1.5.0",
            "_model_name": "DescriptionStyleModel",
            "_view_count": null,
            "_view_module": "@jupyter-widgets/base",
            "_view_module_version": "1.2.0",
            "_view_name": "StyleView",
            "description_width": ""
          }
        },
        "1e2273f555aa46cca0c68db0a1527a4e": {
          "model_module": "@jupyter-widgets/controls",
          "model_name": "HBoxModel",
          "model_module_version": "1.5.0",
          "state": {
            "_dom_classes": [],
            "_model_module": "@jupyter-widgets/controls",
            "_model_module_version": "1.5.0",
            "_model_name": "HBoxModel",
            "_view_count": null,
            "_view_module": "@jupyter-widgets/controls",
            "_view_module_version": "1.5.0",
            "_view_name": "HBoxView",
            "box_style": "",
            "children": [
              "IPY_MODEL_5399450a92d445d2bd1cfb2ef2e65820",
              "IPY_MODEL_f897b2ecf2f64b30a23ecc75ea3d9083",
              "IPY_MODEL_4b2addab944745f1b2ad5c8d04d35829"
            ],
            "layout": "IPY_MODEL_2a8021cceea54f50b6ee5ab07cb2a4fe"
          }
        },
        "5399450a92d445d2bd1cfb2ef2e65820": {
          "model_module": "@jupyter-widgets/controls",
          "model_name": "HTMLModel",
          "model_module_version": "1.5.0",
          "state": {
            "_dom_classes": [],
            "_model_module": "@jupyter-widgets/controls",
            "_model_module_version": "1.5.0",
            "_model_name": "HTMLModel",
            "_view_count": null,
            "_view_module": "@jupyter-widgets/controls",
            "_view_module_version": "1.5.0",
            "_view_name": "HTMLView",
            "description": "",
            "description_tooltip": null,
            "layout": "IPY_MODEL_ad6eca00d53740aba38931ae4c0eecbf",
            "placeholder": "​",
            "style": "IPY_MODEL_61de1d71a95943d9be60bd843a6ff439",
            "value": "Downloading: 100%"
          }
        },
        "f897b2ecf2f64b30a23ecc75ea3d9083": {
          "model_module": "@jupyter-widgets/controls",
          "model_name": "FloatProgressModel",
          "model_module_version": "1.5.0",
          "state": {
            "_dom_classes": [],
            "_model_module": "@jupyter-widgets/controls",
            "_model_module_version": "1.5.0",
            "_model_name": "FloatProgressModel",
            "_view_count": null,
            "_view_module": "@jupyter-widgets/controls",
            "_view_module_version": "1.5.0",
            "_view_name": "ProgressView",
            "bar_style": "success",
            "description": "",
            "description_tooltip": null,
            "layout": "IPY_MODEL_7ebbbc8f06ef4cd0bbcb03bca57d9a29",
            "max": 445025130,
            "min": 0,
            "orientation": "horizontal",
            "style": "IPY_MODEL_6a2fb81332fc4bd789c32544d1827e94",
            "value": 445025130
          }
        },
        "4b2addab944745f1b2ad5c8d04d35829": {
          "model_module": "@jupyter-widgets/controls",
          "model_name": "HTMLModel",
          "model_module_version": "1.5.0",
          "state": {
            "_dom_classes": [],
            "_model_module": "@jupyter-widgets/controls",
            "_model_module_version": "1.5.0",
            "_model_name": "HTMLModel",
            "_view_count": null,
            "_view_module": "@jupyter-widgets/controls",
            "_view_module_version": "1.5.0",
            "_view_name": "HTMLView",
            "description": "",
            "description_tooltip": null,
            "layout": "IPY_MODEL_cfee4a391f2244d78bf3d20c81081b45",
            "placeholder": "​",
            "style": "IPY_MODEL_ca9572205d5d4e54867956bfde5c5183",
            "value": " 424M/424M [00:08&lt;00:00, 53.6MB/s]"
          }
        },
        "2a8021cceea54f50b6ee5ab07cb2a4fe": {
          "model_module": "@jupyter-widgets/base",
          "model_name": "LayoutModel",
          "model_module_version": "1.2.0",
          "state": {
            "_model_module": "@jupyter-widgets/base",
            "_model_module_version": "1.2.0",
            "_model_name": "LayoutModel",
            "_view_count": null,
            "_view_module": "@jupyter-widgets/base",
            "_view_module_version": "1.2.0",
            "_view_name": "LayoutView",
            "align_content": null,
            "align_items": null,
            "align_self": null,
            "border": null,
            "bottom": null,
            "display": null,
            "flex": null,
            "flex_flow": null,
            "grid_area": null,
            "grid_auto_columns": null,
            "grid_auto_flow": null,
            "grid_auto_rows": null,
            "grid_column": null,
            "grid_gap": null,
            "grid_row": null,
            "grid_template_areas": null,
            "grid_template_columns": null,
            "grid_template_rows": null,
            "height": null,
            "justify_content": null,
            "justify_items": null,
            "left": null,
            "margin": null,
            "max_height": null,
            "max_width": null,
            "min_height": null,
            "min_width": null,
            "object_fit": null,
            "object_position": null,
            "order": null,
            "overflow": null,
            "overflow_x": null,
            "overflow_y": null,
            "padding": null,
            "right": null,
            "top": null,
            "visibility": null,
            "width": null
          }
        },
        "ad6eca00d53740aba38931ae4c0eecbf": {
          "model_module": "@jupyter-widgets/base",
          "model_name": "LayoutModel",
          "model_module_version": "1.2.0",
          "state": {
            "_model_module": "@jupyter-widgets/base",
            "_model_module_version": "1.2.0",
            "_model_name": "LayoutModel",
            "_view_count": null,
            "_view_module": "@jupyter-widgets/base",
            "_view_module_version": "1.2.0",
            "_view_name": "LayoutView",
            "align_content": null,
            "align_items": null,
            "align_self": null,
            "border": null,
            "bottom": null,
            "display": null,
            "flex": null,
            "flex_flow": null,
            "grid_area": null,
            "grid_auto_columns": null,
            "grid_auto_flow": null,
            "grid_auto_rows": null,
            "grid_column": null,
            "grid_gap": null,
            "grid_row": null,
            "grid_template_areas": null,
            "grid_template_columns": null,
            "grid_template_rows": null,
            "height": null,
            "justify_content": null,
            "justify_items": null,
            "left": null,
            "margin": null,
            "max_height": null,
            "max_width": null,
            "min_height": null,
            "min_width": null,
            "object_fit": null,
            "object_position": null,
            "order": null,
            "overflow": null,
            "overflow_x": null,
            "overflow_y": null,
            "padding": null,
            "right": null,
            "top": null,
            "visibility": null,
            "width": null
          }
        },
        "61de1d71a95943d9be60bd843a6ff439": {
          "model_module": "@jupyter-widgets/controls",
          "model_name": "DescriptionStyleModel",
          "model_module_version": "1.5.0",
          "state": {
            "_model_module": "@jupyter-widgets/controls",
            "_model_module_version": "1.5.0",
            "_model_name": "DescriptionStyleModel",
            "_view_count": null,
            "_view_module": "@jupyter-widgets/base",
            "_view_module_version": "1.2.0",
            "_view_name": "StyleView",
            "description_width": ""
          }
        },
        "7ebbbc8f06ef4cd0bbcb03bca57d9a29": {
          "model_module": "@jupyter-widgets/base",
          "model_name": "LayoutModel",
          "model_module_version": "1.2.0",
          "state": {
            "_model_module": "@jupyter-widgets/base",
            "_model_module_version": "1.2.0",
            "_model_name": "LayoutModel",
            "_view_count": null,
            "_view_module": "@jupyter-widgets/base",
            "_view_module_version": "1.2.0",
            "_view_name": "LayoutView",
            "align_content": null,
            "align_items": null,
            "align_self": null,
            "border": null,
            "bottom": null,
            "display": null,
            "flex": null,
            "flex_flow": null,
            "grid_area": null,
            "grid_auto_columns": null,
            "grid_auto_flow": null,
            "grid_auto_rows": null,
            "grid_column": null,
            "grid_gap": null,
            "grid_row": null,
            "grid_template_areas": null,
            "grid_template_columns": null,
            "grid_template_rows": null,
            "height": null,
            "justify_content": null,
            "justify_items": null,
            "left": null,
            "margin": null,
            "max_height": null,
            "max_width": null,
            "min_height": null,
            "min_width": null,
            "object_fit": null,
            "object_position": null,
            "order": null,
            "overflow": null,
            "overflow_x": null,
            "overflow_y": null,
            "padding": null,
            "right": null,
            "top": null,
            "visibility": null,
            "width": null
          }
        },
        "6a2fb81332fc4bd789c32544d1827e94": {
          "model_module": "@jupyter-widgets/controls",
          "model_name": "ProgressStyleModel",
          "model_module_version": "1.5.0",
          "state": {
            "_model_module": "@jupyter-widgets/controls",
            "_model_module_version": "1.5.0",
            "_model_name": "ProgressStyleModel",
            "_view_count": null,
            "_view_module": "@jupyter-widgets/base",
            "_view_module_version": "1.2.0",
            "_view_name": "StyleView",
            "bar_color": null,
            "description_width": ""
          }
        },
        "cfee4a391f2244d78bf3d20c81081b45": {
          "model_module": "@jupyter-widgets/base",
          "model_name": "LayoutModel",
          "model_module_version": "1.2.0",
          "state": {
            "_model_module": "@jupyter-widgets/base",
            "_model_module_version": "1.2.0",
            "_model_name": "LayoutModel",
            "_view_count": null,
            "_view_module": "@jupyter-widgets/base",
            "_view_module_version": "1.2.0",
            "_view_name": "LayoutView",
            "align_content": null,
            "align_items": null,
            "align_self": null,
            "border": null,
            "bottom": null,
            "display": null,
            "flex": null,
            "flex_flow": null,
            "grid_area": null,
            "grid_auto_columns": null,
            "grid_auto_flow": null,
            "grid_auto_rows": null,
            "grid_column": null,
            "grid_gap": null,
            "grid_row": null,
            "grid_template_areas": null,
            "grid_template_columns": null,
            "grid_template_rows": null,
            "height": null,
            "justify_content": null,
            "justify_items": null,
            "left": null,
            "margin": null,
            "max_height": null,
            "max_width": null,
            "min_height": null,
            "min_width": null,
            "object_fit": null,
            "object_position": null,
            "order": null,
            "overflow": null,
            "overflow_x": null,
            "overflow_y": null,
            "padding": null,
            "right": null,
            "top": null,
            "visibility": null,
            "width": null
          }
        },
        "ca9572205d5d4e54867956bfde5c5183": {
          "model_module": "@jupyter-widgets/controls",
          "model_name": "DescriptionStyleModel",
          "model_module_version": "1.5.0",
          "state": {
            "_model_module": "@jupyter-widgets/controls",
            "_model_module_version": "1.5.0",
            "_model_name": "DescriptionStyleModel",
            "_view_count": null,
            "_view_module": "@jupyter-widgets/base",
            "_view_module_version": "1.2.0",
            "_view_name": "StyleView",
            "description_width": ""
          }
        }
      }
    }
  },
  "cells": [
    {
      "cell_type": "code",
      "metadata": {
        "colab": {
          "base_uri": "https://localhost:8080/"
        },
        "id": "vihmV4FNjj_s",
        "outputId": "74b63fe5-cb46-43aa-d66b-961076173e0c"
      },
      "source": [
        "! pip install transformers"
      ],
      "execution_count": 1,
      "outputs": [
        {
          "output_type": "stream",
          "name": "stdout",
          "text": [
            "Collecting transformers\n",
            "  Downloading transformers-4.18.0-py3-none-any.whl (4.0 MB)\n",
            "\u001b[K     |████████████████████████████████| 4.0 MB 5.1 MB/s \n",
            "\u001b[?25hRequirement already satisfied: numpy>=1.17 in /usr/local/lib/python3.7/dist-packages (from transformers) (1.21.5)\n",
            "Requirement already satisfied: regex!=2019.12.17 in /usr/local/lib/python3.7/dist-packages (from transformers) (2019.12.20)\n",
            "Requirement already satisfied: requests in /usr/local/lib/python3.7/dist-packages (from transformers) (2.23.0)\n",
            "Requirement already satisfied: filelock in /usr/local/lib/python3.7/dist-packages (from transformers) (3.6.0)\n",
            "Collecting tokenizers!=0.11.3,<0.13,>=0.11.1\n",
            "  Downloading tokenizers-0.11.6-cp37-cp37m-manylinux_2_12_x86_64.manylinux2010_x86_64.whl (6.5 MB)\n",
            "\u001b[K     |████████████████████████████████| 6.5 MB 67.1 MB/s \n",
            "\u001b[?25hRequirement already satisfied: importlib-metadata in /usr/local/lib/python3.7/dist-packages (from transformers) (4.11.3)\n",
            "Requirement already satisfied: tqdm>=4.27 in /usr/local/lib/python3.7/dist-packages (from transformers) (4.63.0)\n",
            "Collecting huggingface-hub<1.0,>=0.1.0\n",
            "  Downloading huggingface_hub-0.5.1-py3-none-any.whl (77 kB)\n",
            "\u001b[K     |████████████████████████████████| 77 kB 7.2 MB/s \n",
            "\u001b[?25hCollecting pyyaml>=5.1\n",
            "  Downloading PyYAML-6.0-cp37-cp37m-manylinux_2_5_x86_64.manylinux1_x86_64.manylinux_2_12_x86_64.manylinux2010_x86_64.whl (596 kB)\n",
            "\u001b[K     |████████████████████████████████| 596 kB 75.9 MB/s \n",
            "\u001b[?25hRequirement already satisfied: packaging>=20.0 in /usr/local/lib/python3.7/dist-packages (from transformers) (21.3)\n",
            "Collecting sacremoses\n",
            "  Downloading sacremoses-0.0.49-py3-none-any.whl (895 kB)\n",
            "\u001b[K     |████████████████████████████████| 895 kB 72.8 MB/s \n",
            "\u001b[?25hRequirement already satisfied: typing-extensions>=3.7.4.3 in /usr/local/lib/python3.7/dist-packages (from huggingface-hub<1.0,>=0.1.0->transformers) (3.10.0.2)\n",
            "Requirement already satisfied: pyparsing!=3.0.5,>=2.0.2 in /usr/local/lib/python3.7/dist-packages (from packaging>=20.0->transformers) (3.0.7)\n",
            "Requirement already satisfied: zipp>=0.5 in /usr/local/lib/python3.7/dist-packages (from importlib-metadata->transformers) (3.7.0)\n",
            "Requirement already satisfied: idna<3,>=2.5 in /usr/local/lib/python3.7/dist-packages (from requests->transformers) (2.10)\n",
            "Requirement already satisfied: urllib3!=1.25.0,!=1.25.1,<1.26,>=1.21.1 in /usr/local/lib/python3.7/dist-packages (from requests->transformers) (1.24.3)\n",
            "Requirement already satisfied: chardet<4,>=3.0.2 in /usr/local/lib/python3.7/dist-packages (from requests->transformers) (3.0.4)\n",
            "Requirement already satisfied: certifi>=2017.4.17 in /usr/local/lib/python3.7/dist-packages (from requests->transformers) (2021.10.8)\n",
            "Requirement already satisfied: joblib in /usr/local/lib/python3.7/dist-packages (from sacremoses->transformers) (1.1.0)\n",
            "Requirement already satisfied: six in /usr/local/lib/python3.7/dist-packages (from sacremoses->transformers) (1.15.0)\n",
            "Requirement already satisfied: click in /usr/local/lib/python3.7/dist-packages (from sacremoses->transformers) (7.1.2)\n",
            "Installing collected packages: pyyaml, tokenizers, sacremoses, huggingface-hub, transformers\n",
            "  Attempting uninstall: pyyaml\n",
            "    Found existing installation: PyYAML 3.13\n",
            "    Uninstalling PyYAML-3.13:\n",
            "      Successfully uninstalled PyYAML-3.13\n",
            "Successfully installed huggingface-hub-0.5.1 pyyaml-6.0 sacremoses-0.0.49 tokenizers-0.11.6 transformers-4.18.0\n"
          ]
        }
      ]
    },
    {
      "cell_type": "code",
      "metadata": {
        "colab": {
          "base_uri": "https://localhost:8080/"
        },
        "id": "E825y86bjrhk",
        "outputId": "353e7581-b54e-49fa-f54f-456263ca395d"
      },
      "source": [
        "!wget https://korquad.github.io/dataset/KorQuAD_v1.0_train.json -O KorQuAD_v1.0_train.json\n",
        "!wget https://korquad.github.io/dataset/KorQuAD_v1.0_dev.json -O KorQuAD_v1.0_dev.json"
      ],
      "execution_count": 2,
      "outputs": [
        {
          "output_type": "stream",
          "name": "stdout",
          "text": [
            "--2022-04-07 05:26:15--  https://korquad.github.io/dataset/KorQuAD_v1.0_train.json\n",
            "Resolving korquad.github.io (korquad.github.io)... 185.199.110.153, 185.199.108.153, 185.199.109.153, ...\n",
            "Connecting to korquad.github.io (korquad.github.io)|185.199.110.153|:443... connected.\n",
            "HTTP request sent, awaiting response... 200 OK\n",
            "Length: 38527475 (37M) [application/json]\n",
            "Saving to: ‘KorQuAD_v1.0_train.json’\n",
            "\n",
            "KorQuAD_v1.0_train. 100%[===================>]  36.74M   197MB/s    in 0.2s    \n",
            "\n",
            "2022-04-07 05:26:15 (197 MB/s) - ‘KorQuAD_v1.0_train.json’ saved [38527475/38527475]\n",
            "\n",
            "--2022-04-07 05:26:15--  https://korquad.github.io/dataset/KorQuAD_v1.0_dev.json\n",
            "Resolving korquad.github.io (korquad.github.io)... 185.199.110.153, 185.199.108.153, 185.199.109.153, ...\n",
            "Connecting to korquad.github.io (korquad.github.io)|185.199.110.153|:443... connected.\n",
            "HTTP request sent, awaiting response... 200 OK\n",
            "Length: 3881058 (3.7M) [application/json]\n",
            "Saving to: ‘KorQuAD_v1.0_dev.json’\n",
            "\n",
            "KorQuAD_v1.0_dev.js 100%[===================>]   3.70M  --.-KB/s    in 0.07s   \n",
            "\n",
            "2022-04-07 05:26:15 (53.3 MB/s) - ‘KorQuAD_v1.0_dev.json’ saved [3881058/3881058]\n",
            "\n"
          ]
        }
      ]
    },
    {
      "cell_type": "code",
      "metadata": {
        "id": "sUbbJaGVjyYz"
      },
      "source": [
        "import os\n",
        "import json\n",
        "import numpy as np\n",
        "from tqdm import tqdm\n",
        "from pathlib import Path\n",
        "from transformers import BertTokenizerFast\n",
        "import tensorflow as tf"
      ],
      "execution_count": 3,
      "outputs": []
    },
    {
      "cell_type": "code",
      "metadata": {
        "id": "4jr575y8j7vb"
      },
      "source": [
        "# KorQuAD\n",
        "# def read_squad(path):\n",
        "#     path = Path(path)\n",
        "#     with open(path, 'rb') as f:\n",
        "#         squad_dict = json.load(f)\n",
        "# \n",
        "#     contexts = []\n",
        "#     questions = []\n",
        "#     answers = []\n",
        "#     for group in squad_dict['data']:\n",
        "#         for passage in group['paragraphs']:\n",
        "#             context = passage['context']\n",
        "#             for qa in passage['qas']:\n",
        "#                 question = qa['question']\n",
        "#                 for answer in qa['answers']:\n",
        "#                     contexts.append(context)\n",
        "#                     questions.append(question)\n",
        "#                     answers.append(answer)\n",
        "\n",
        "#     return contexts, questions, answers\n",
        "\n",
        "# train_contexts, train_questions, train_answers = read_squad('KorQuAD_v1.0_train.json')\n",
        "# val_contexts, val_questions, val_answers = read_squad('KorQuAD_v1.0_dev.json')"
      ],
      "execution_count": 5,
      "outputs": []
    },
    {
      "cell_type": "code",
      "source": [
        "def read_squad(path):\n",
        "    path = Path(path)\n",
        "    with open(path, 'rb') as f:\n",
        "        squad_dict = json.load(f)\n",
        "\n",
        "    contexts = []\n",
        "    questions = []\n",
        "    answers = []\n",
        "    for group in squad_dict['data']:\n",
        "        for passage in group['paragraphs']:\n",
        "            context = passage['context']\n",
        "            for qa in passage['qas']:\n",
        "                question = qa['question']\n",
        "                answer = qa['answers']\n",
        "                for answer in qa['answers']:\n",
        "                    contexts.append(context)\n",
        "                    questions.append(question)\n",
        "                    answers.append(answer)\n",
        "\n",
        "    return contexts, questions, answers\n",
        "\n",
        "train_contexts, train_questions, train_answers = read_squad('train.json')"
      ],
      "metadata": {
        "id": "gdfrPOHvmtd6"
      },
      "execution_count": 6,
      "outputs": []
    },
    {
      "cell_type": "code",
      "source": [
        "def read_squad(path):\n",
        "    path = Path(path)\n",
        "    with open(path, 'rb') as f:\n",
        "        squad_dict = json.load(f)\n",
        "\n",
        "    contexts = []\n",
        "    questions = []\n",
        "    guids = []\n",
        "    for group in squad_dict['data']:\n",
        "        for passage in group['paragraphs']:\n",
        "            context = passage['context']\n",
        "            for qa in passage['qas']:\n",
        "                question = qa['question']\n",
        "                guid = qa['guid']\n",
        "                contexts.append(context)\n",
        "                questions.append(question)\n",
        "                guids.append(guid)\n",
        "\n",
        "    return contexts, questions, guids\n",
        "\n",
        "test_contexts, test_questions, test_guids = read_squad('test.json')"
      ],
      "metadata": {
        "id": "ICu0cqF-1AOr"
      },
      "execution_count": 7,
      "outputs": []
    },
    {
      "cell_type": "code",
      "metadata": {
        "colab": {
          "base_uri": "https://localhost:8080/"
        },
        "id": "maMFzg6ukBtH",
        "outputId": "5a94a87a-c595-4a81-8406-429763f32fcf"
      },
      "source": [
        "print('훈련 데이터의 본문 개수 :', len(train_contexts))\n",
        "print('훈련 데이터의 질문 개수 :', len(train_questions))\n",
        "print('훈련 데이터의 답변 개수 :', len(train_answers))\n",
        "print('테스트 데이터의 본문 개수 :', len(test_contexts))\n",
        "print('테스트 데이터의 질문 개수 :', len(test_questions))\n",
        "print('테스트 데이터의 아이디 개수 :', len(test_guids))"
      ],
      "execution_count": 8,
      "outputs": [
        {
          "output_type": "stream",
          "name": "stdout",
          "text": [
            "훈련 데이터의 본문 개수 : 17663\n",
            "훈련 데이터의 질문 개수 : 17663\n",
            "훈련 데이터의 답변 개수 : 17663\n",
            "테스트 데이터의 본문 개수 : 4008\n",
            "테스트 데이터의 질문 개수 : 4008\n",
            "테스트 데이터의 아이디 개수 : 4008\n"
          ]
        }
      ]
    },
    {
      "cell_type": "code",
      "metadata": {
        "colab": {
          "base_uri": "https://localhost:8080/"
        },
        "id": "ALWaWmqDkLuz",
        "outputId": "85715dfe-cd87-4dcd-8fab-0d0e77688dd2"
      },
      "source": [
        "print('첫번째 샘플의 본문')\n",
        "print('-----------------')\n",
        "print(train_contexts[0])"
      ],
      "execution_count": 9,
      "outputs": [
        {
          "output_type": "stream",
          "name": "stdout",
          "text": [
            "첫번째 샘플의 본문\n",
            "-----------------\n",
            "올여름 장마가 17일 제주도에서 시작됐다. 서울 등 중부지방은 예년보다 사나흘 정도 늦은 이달 말께 장마가 시작될 전망이다.17일 기상청에 따르면 제주도 남쪽 먼바다에 있는 장마전선의 영향으로 이날 제주도 산간 및 내륙지역에 호우주의보가 내려지면서 곳곳에 100㎜에 육박하는 많은 비가 내렸다. 제주의 장마는 평년보다 2~3일, 지난해보다는 하루 일찍 시작됐다. 장마는 고온다습한 북태평양 기단과 한랭 습윤한 오호츠크해 기단이 만나 형성되는 장마전선에서 내리는 비를 뜻한다.장마전선은 18일 제주도 먼 남쪽 해상으로 내려갔다가 20일께 다시 북상해 전남 남해안까지 영향을 줄 것으로 보인다. 이에 따라 20~21일 남부지방에도 예년보다 사흘 정도 장마가 일찍 찾아올 전망이다. 그러나 장마전선을 밀어올리는 북태평양 고기압 세력이 약해 서울 등 중부지방은 평년보다 사나흘가량 늦은 이달 말부터 장마가 시작될 것이라는 게 기상청의 설명이다. 장마전선은 이후 한 달가량 한반도 중남부를 오르내리며 곳곳에 비를 뿌릴 전망이다. 최근 30년간 평균치에 따르면 중부지방의 장마 시작일은 6월24~25일이었으며 장마기간은 32일, 강수일수는 17.2일이었다.기상청은 올해 장마기간의 평균 강수량이 350~400㎜로 평년과 비슷하거나 적을 것으로 내다봤다. 브라질 월드컵 한국과 러시아의 경기가 열리는 18일 오전 서울은 대체로 구름이 많이 끼지만 비는 오지 않을 것으로 예상돼 거리 응원에는 지장이 없을 전망이다.\n"
          ]
        }
      ]
    },
    {
      "cell_type": "code",
      "metadata": {
        "colab": {
          "base_uri": "https://localhost:8080/"
        },
        "id": "bNAR6TkbkV4D",
        "outputId": "b4e0f305-4030-4c33-d9be-8f496d7d9b70"
      },
      "source": [
        "print('첫번째 샘플의 질문')\n",
        "print('-----------------')\n",
        "print(train_questions[0])"
      ],
      "execution_count": 10,
      "outputs": [
        {
          "output_type": "stream",
          "name": "stdout",
          "text": [
            "첫번째 샘플의 질문\n",
            "-----------------\n",
            "북태평양 기단과 오호츠크해 기단이 만나 국내에 머무르는 기간은?\n"
          ]
        }
      ]
    },
    {
      "cell_type": "code",
      "metadata": {
        "colab": {
          "base_uri": "https://localhost:8080/"
        },
        "id": "d3Lab_wnkcEk",
        "outputId": "8e275b21-dead-4491-a063-757942754cc4"
      },
      "source": [
        "print('첫번째 샘플의 답변')\n",
        "print('-----------------')\n",
        "print(train_answers[0])"
      ],
      "execution_count": 11,
      "outputs": [
        {
          "output_type": "stream",
          "name": "stdout",
          "text": [
            "첫번째 샘플의 답변\n",
            "-----------------\n",
            "{'text': '한 달가량', 'answer_start': 478}\n"
          ]
        }
      ]
    },
    {
      "cell_type": "code",
      "source": [
        "print('첫번째 테스트트 데이터터 본문')\n",
        "print('-----------------')\n",
        "print(test_contexts[0])"
      ],
      "metadata": {
        "colab": {
          "base_uri": "https://localhost:8080/"
        },
        "id": "qM5obE7uvHSQ",
        "outputId": "2cae3bb8-3d35-4f78-e864-0948f67d3d1a"
      },
      "execution_count": 12,
      "outputs": [
        {
          "output_type": "stream",
          "name": "stdout",
          "text": [
            "첫번째 테스트트 데이터터 본문\n",
            "-----------------\n",
            "BMW 코리아(대표 한상윤)는 창립 25주년을 기념하는 ‘BMW 코리아 25주년 에디션’을 한정 출시한다고 밝혔다. 이번 BMW 코리아 25주년 에디션(이하 25주년 에디션)은 BMW 3시리즈와 5시리즈, 7시리즈, 8시리즈 총 4종, 6개 모델로 출시되며, BMW 클래식 모델들로 선보인 바 있는 헤리티지 컬러가 차체에 적용돼 레트로한 느낌과 신구의 조화가 어우러진 차별화된 매력을 자랑한다. 먼저 뉴 320i 및 뉴 320d 25주년 에디션은 트림에 따라 옥스포드 그린(50대 한정) 또는 마카오 블루(50대 한정) 컬러가 적용된다. 럭셔리 라인에 적용되는 옥스포드 그린은 지난 1999년 3세대 3시리즈를 통해 처음 선보인 색상으로 짙은 녹색과 풍부한 펄이 오묘한 조화를 이루는 것이 특징이다. M 스포츠 패키지 트림에 적용되는 마카오 블루는 1988년 2세대 3시리즈를 통해 처음 선보인 바 있으며, 보랏빛 감도는 컬러감이 매력이다. 뉴 520d 25주년 에디션(25대 한정)은 프로즌 브릴리언트 화이트 컬러로 출시된다. BMW가 2011년에 처음 선보인 프로즌 브릴리언트 화이트는 한층 더 환하고 깊은 색감을 자랑하며, 특히 표면을 무광으로 마감해 특별함을 더했다. 뉴 530i 25주년 에디션(25대 한정)은 뉴 3시리즈 25주년 에디션에도 적용된 마카오 블루 컬러가 조합된다. 뉴 740Li 25주년 에디션(7대 한정)에는 말라카이트 그린 다크 색상이 적용된다. 잔잔하면서도 오묘한 깊은 녹색을 발산하는 말라카이트 그린 다크는 장식재로 활용되는 광물 말라카이트에서 유래됐다. 뉴 840i xDrive 그란쿠페 25주년 에디션(8대 한정)은 인도양의 맑고 투명한 에메랄드 빛을 연상케 하는 몰디브 블루 컬러로 출시된다. 특히 몰디브 블루는 지난 1993년 1세대 8시리즈에 처음으로 적용되었던 만큼 이를 오마주하는 의미를 담고 있다.\n"
          ]
        }
      ]
    },
    {
      "cell_type": "code",
      "source": [
        "print('첫번째 테스트트 데이터터 질문')\n",
        "print('-----------------')\n",
        "print(test_questions[0])"
      ],
      "metadata": {
        "colab": {
          "base_uri": "https://localhost:8080/"
        },
        "id": "Gcg-FDAD_LqC",
        "outputId": "8b7ddb0b-ebc0-4854-bbab-b614439eb470"
      },
      "execution_count": 13,
      "outputs": [
        {
          "output_type": "stream",
          "name": "stdout",
          "text": [
            "첫번째 테스트트 데이터터 질문\n",
            "-----------------\n",
            "말라카이트에서 나온 색깔을 사용한 에디션은?\n"
          ]
        }
      ]
    },
    {
      "cell_type": "code",
      "metadata": {
        "id": "iFOAz29Ckgpj"
      },
      "source": [
        "def add_end_idx(answers, contexts):\n",
        "    for answer, context in zip(answers, contexts):\n",
        "        answer['text'] = answer['text'].rstrip()\n",
        "        gold_text = answer['text']\n",
        "        start_idx = answer['answer_start']\n",
        "        end_idx = start_idx + len(gold_text)\n",
        "        assert context[start_idx:end_idx] == gold_text, \"end_index 계산에 에러가 있습니다.\"\n",
        "        answer['answer_end'] = end_idx\n",
        "\n",
        "add_end_idx(train_answers, train_contexts)"
      ],
      "execution_count": 15,
      "outputs": []
    },
    {
      "cell_type": "code",
      "source": [
        "print('첫번째 샘플의 답변')\n",
        "print('-----------------')\n",
        "print(train_answers[1])"
      ],
      "metadata": {
        "colab": {
          "base_uri": "https://localhost:8080/"
        },
        "id": "_YsASPfnuMx3",
        "outputId": "5846d657-b640-422d-f2d0-438f3c10bdba"
      },
      "execution_count": 14,
      "outputs": [
        {
          "output_type": "stream",
          "name": "stdout",
          "text": [
            "첫번째 샘플의 답변\n",
            "-----------------\n",
            "{'text': '한 달', 'answer_start': 478}\n"
          ]
        }
      ]
    },
    {
      "cell_type": "code",
      "source": [
        "train_contexts[0][478]"
      ],
      "metadata": {
        "colab": {
          "base_uri": "https://localhost:8080/",
          "height": 37
        },
        "id": "wNV9Wp3zDRPI",
        "outputId": "e30e5bbc-9146-49bd-b0aa-be38a14cb22a"
      },
      "execution_count": 16,
      "outputs": [
        {
          "output_type": "execute_result",
          "data": {
            "text/plain": [
              "'한'"
            ],
            "application/vnd.google.colaboratory.intrinsic+json": {
              "type": "string"
            }
          },
          "metadata": {},
          "execution_count": 16
        }
      ]
    },
    {
      "cell_type": "code",
      "source": [
        "train_contexts[0][479]"
      ],
      "metadata": {
        "colab": {
          "base_uri": "https://localhost:8080/",
          "height": 37
        },
        "id": "6W72nVbmDUa5",
        "outputId": "174a1e01-d38d-44fb-c168-511d48942a0b"
      },
      "execution_count": 17,
      "outputs": [
        {
          "output_type": "execute_result",
          "data": {
            "text/plain": [
              "' '"
            ],
            "application/vnd.google.colaboratory.intrinsic+json": {
              "type": "string"
            }
          },
          "metadata": {},
          "execution_count": 17
        }
      ]
    },
    {
      "cell_type": "code",
      "source": [
        "train_contexts[0][480]"
      ],
      "metadata": {
        "colab": {
          "base_uri": "https://localhost:8080/",
          "height": 37
        },
        "id": "IvHSPjTIDSDY",
        "outputId": "a406525c-558e-4524-a8c7-cc4ca5e8f087"
      },
      "execution_count": 18,
      "outputs": [
        {
          "output_type": "execute_result",
          "data": {
            "text/plain": [
              "'달'"
            ],
            "application/vnd.google.colaboratory.intrinsic+json": {
              "type": "string"
            }
          },
          "metadata": {},
          "execution_count": 18
        }
      ]
    },
    {
      "cell_type": "code",
      "source": [
        "train_contexts[0][481]"
      ],
      "metadata": {
        "colab": {
          "base_uri": "https://localhost:8080/",
          "height": 37
        },
        "id": "wsYJd_z9p5Eo",
        "outputId": "10694953-42c5-49ac-ee12-8579a236f4a9"
      },
      "execution_count": 19,
      "outputs": [
        {
          "output_type": "execute_result",
          "data": {
            "text/plain": [
              "'가'"
            ],
            "application/vnd.google.colaboratory.intrinsic+json": {
              "type": "string"
            }
          },
          "metadata": {},
          "execution_count": 19
        }
      ]
    },
    {
      "cell_type": "code",
      "source": [
        "train_contexts[0][482]"
      ],
      "metadata": {
        "colab": {
          "base_uri": "https://localhost:8080/",
          "height": 37
        },
        "id": "iupJx4CRp74R",
        "outputId": "b9561655-1935-4a6b-a4ad-51e20967347b"
      },
      "execution_count": 20,
      "outputs": [
        {
          "output_type": "execute_result",
          "data": {
            "text/plain": [
              "'량'"
            ],
            "application/vnd.google.colaboratory.intrinsic+json": {
              "type": "string"
            }
          },
          "metadata": {},
          "execution_count": 20
        }
      ]
    },
    {
      "cell_type": "code",
      "metadata": {
        "colab": {
          "base_uri": "https://localhost:8080/",
          "height": 37
        },
        "id": "YpUdq0ZJlmzy",
        "outputId": "1a48ad87-46e4-41a8-f247-2088302c7d70"
      },
      "source": [
        "train_contexts[0][478:483]"
      ],
      "execution_count": 21,
      "outputs": [
        {
          "output_type": "execute_result",
          "data": {
            "text/plain": [
              "'한 달가량'"
            ],
            "application/vnd.google.colaboratory.intrinsic+json": {
              "type": "string"
            }
          },
          "metadata": {},
          "execution_count": 21
        }
      ]
    },
    {
      "cell_type": "code",
      "metadata": {
        "colab": {
          "base_uri": "https://localhost:8080/",
          "height": 233,
          "referenced_widgets": [
            "73386d1cfb024ce8b1f096c2dc5b338b",
            "36d190b9205943628e88f69e7f2527c7",
            "247bb8485f384999b411dae8f8245d1c",
            "4ba97ceaf2874a45b821c73e3b2141dd",
            "02c6262759434165b928b74f1d8301fb",
            "a138d963f6c741e1bc9d1673c02d9146",
            "0b58c488e7b2450b90be3539cfb6fb72",
            "8378da44f1314d169511a017ece88afb",
            "df91efe95f974702a7be1a79dd83e7dd",
            "d40ee4483a8c4cf88c45dda4d99e5130",
            "b725e696b8df4caf9915ea7b8d80c711",
            "aab5121f1698408eb07846f8c2cefd19",
            "38935ad09c0645098b7d3ee06429230d",
            "45ad3ebd134842f5a26bce92a85dfefc",
            "e39bbbce864c4976a7825de0d609aa47",
            "32a71e9292164d2e9e9ba167f3f0af63",
            "c9901ec5f00b47f7acbe44b39fafafcf",
            "8a3f8af987474e0d862686220635d060",
            "88161db36cb94e19b69a62a49831fc7a",
            "16e8e5fbda264e26a0dfac62abd98423",
            "7916b3245a6e407c9031eb71403ceeea",
            "54dd12786e9a4c858c4275c3c8da33fb",
            "c14d98b676cc4099b3fced678be25882",
            "7b114c59b4144e2a8d5d1f16c3c36a4c",
            "43a4ebadf945407d9432fafe103ac3a2",
            "f8b7692f0d354dd5ba20183c4acd7d80",
            "ea7c8a435d64479295a70eae9e7e4dc2",
            "8246a2817bd543b7b366594938b91b64",
            "dc938adc7ae14c76b706305dccb60ff6",
            "d3ec425b55b94707943d7ea8db45f71b",
            "a1fb290e989541d7af31156f66b47c4d",
            "2e6ad8f6ab254b93a67f40f88d2789a1",
            "f55f1c1519254ba3949a26bd6210f0b6",
            "9aca05e460b34c85a26c9759527a7b88",
            "007a258d23434af18bd9bafa8a8ab175",
            "5261f0760548445d93db1e67100247cf",
            "abba76d761294c749dcb11e7281ec7d3",
            "e20ea6611ef545a3985265b92da960d3",
            "9ee274a76fe541e6ac875cdd9615d3a2",
            "a2f2d21108d24f50bc1c39f3b533c6be",
            "7708c36358dd4dff983831c2e0d529c3",
            "9abb0252132b49938a8a1859961b268b",
            "1030a90876574c13b7f6210c21e0c626",
            "9c7f31087cee48bc8dbd278943ebc816",
            "674a616d5a04478dba2d89d5eaaec0e8",
            "8aa44faa35b3448181afa54a2ab0d825",
            "3b53068220f142c89e7c39e3c46ab5f8",
            "13251fa803e0434191d6a5356e82435e",
            "d3f0405a39234fd8a345508992845097",
            "f19a144ad2e94f028a383eb905bc2f05",
            "75de3df3cfab41f6b8181a2e272f4c44",
            "1ffc21061588492fbb3d3639b8d5f9ac",
            "6f94bb5ee1c249c2ae236eb654dfa866",
            "8410fa32b4914fc48ac6b13b8eafa521",
            "994a0e6570cb4282a0c55024a50e68d3"
          ]
        },
        "id": "t8r9Dg5wlwRY",
        "outputId": "ca4eb118-4c88-4b79-8ca1-0bc2ce0a2f97"
      },
      "source": [
        "tokenizer = BertTokenizerFast.from_pretrained('klue/bert-base')\n",
        "\n",
        "train_encodings = tokenizer(train_contexts, train_questions, truncation=True, padding=True)\n",
        "test_encodings = tokenizer(test_contexts, test_questions, truncation=True, padding=True)"
      ],
      "execution_count": 22,
      "outputs": [
        {
          "output_type": "display_data",
          "data": {
            "text/plain": [
              "Downloading:   0%|          | 0.00/289 [00:00<?, ?B/s]"
            ],
            "application/vnd.jupyter.widget-view+json": {
              "version_major": 2,
              "version_minor": 0,
              "model_id": "73386d1cfb024ce8b1f096c2dc5b338b"
            }
          },
          "metadata": {}
        },
        {
          "output_type": "display_data",
          "data": {
            "text/plain": [
              "Downloading:   0%|          | 0.00/243k [00:00<?, ?B/s]"
            ],
            "application/vnd.jupyter.widget-view+json": {
              "version_major": 2,
              "version_minor": 0,
              "model_id": "aab5121f1698408eb07846f8c2cefd19"
            }
          },
          "metadata": {}
        },
        {
          "output_type": "display_data",
          "data": {
            "text/plain": [
              "Downloading:   0%|          | 0.00/483k [00:00<?, ?B/s]"
            ],
            "application/vnd.jupyter.widget-view+json": {
              "version_major": 2,
              "version_minor": 0,
              "model_id": "c14d98b676cc4099b3fced678be25882"
            }
          },
          "metadata": {}
        },
        {
          "output_type": "display_data",
          "data": {
            "text/plain": [
              "Downloading:   0%|          | 0.00/125 [00:00<?, ?B/s]"
            ],
            "application/vnd.jupyter.widget-view+json": {
              "version_major": 2,
              "version_minor": 0,
              "model_id": "9aca05e460b34c85a26c9759527a7b88"
            }
          },
          "metadata": {}
        },
        {
          "output_type": "display_data",
          "data": {
            "text/plain": [
              "Downloading:   0%|          | 0.00/425 [00:00<?, ?B/s]"
            ],
            "application/vnd.jupyter.widget-view+json": {
              "version_major": 2,
              "version_minor": 0,
              "model_id": "674a616d5a04478dba2d89d5eaaec0e8"
            }
          },
          "metadata": {}
        }
      ]
    },
    {
      "cell_type": "code",
      "metadata": {
        "id": "CBi_gkfJmz8a"
      },
      "source": [
        "def add_token_positions(encodings, answers):\n",
        "    start_positions = []\n",
        "    end_positions = []\n",
        "    deleting_list = []\n",
        "\n",
        "    for i in tqdm(range(len(answers))):\n",
        "        start_positions.append(encodings.char_to_token(i, answers[i]['answer_start']))\n",
        "        end_positions.append(encodings.char_to_token(i, answers[i]['answer_end'] - 1))\n",
        "\n",
        "        if start_positions[-1] is None:\n",
        "            start_positions[-1] = tokenizer.model_max_length\n",
        "            deleting_list.append(i)\n",
        "\n",
        "        if end_positions[-1] is None:\n",
        "            end_positions[-1] = tokenizer.model_max_length\n",
        "            if i not in deleting_list:\n",
        "              deleting_list.append(i)\n",
        "\n",
        "    encodings.update({'start_positions': start_positions, 'end_positions': end_positions})\n",
        "    return deleting_list"
      ],
      "execution_count": 24,
      "outputs": []
    },
    {
      "cell_type": "code",
      "metadata": {
        "colab": {
          "base_uri": "https://localhost:8080/"
        },
        "id": "1jTSl_b-nKrK",
        "outputId": "ff51c911-0f7f-42f1-e955-0e72ab3d45a0"
      },
      "source": [
        "deleting_list_for_train = add_token_positions(train_encodings, train_answers)"
      ],
      "execution_count": 25,
      "outputs": [
        {
          "output_type": "stream",
          "name": "stderr",
          "text": [
            "100%|██████████| 17663/17663 [00:00<00:00, 155301.93it/s]\n"
          ]
        }
      ]
    },
    {
      "cell_type": "code",
      "metadata": {
        "id": "DOMeaI-pnxnS"
      },
      "source": [
        "def delete_samples(encodings, deleting_list):\n",
        "  input_ids = np.delete(np.array(encodings['input_ids']), deleting_list, axis=0)\n",
        "  attention_masks = np.delete(np.array(encodings['attention_mask']), deleting_list, axis=0)\n",
        "  start_positions = np.delete(np.array(encodings['start_positions']), deleting_list, axis=0)\n",
        "  end_positions = np.delete(np.array(encodings['end_positions']), deleting_list, axis=0)\n",
        "\n",
        "  X_data = [input_ids, attention_masks]\n",
        "  y_data = [start_positions, end_positions]\n",
        "\n",
        "  return X_data, y_data"
      ],
      "execution_count": 26,
      "outputs": []
    },
    {
      "cell_type": "code",
      "source": [
        "def for_test(encodings):\n",
        "  input_ids = np.array(encodings['input_ids'])\n",
        "  attention_masks = np.array(encodings['attention_mask'])\n",
        "\n",
        "  X_data = [input_ids, attention_masks]\n",
        "\n",
        "  return X_data"
      ],
      "metadata": {
        "id": "38wAwqjFWl8Y"
      },
      "execution_count": 27,
      "outputs": []
    },
    {
      "cell_type": "code",
      "source": [
        "X_test = for_test(test_encodings)"
      ],
      "metadata": {
        "id": "3ImO8GnGXAI_"
      },
      "execution_count": 28,
      "outputs": []
    },
    {
      "cell_type": "code",
      "metadata": {
        "id": "-Vm7xymqoR76"
      },
      "source": [
        "X_train, y_train = delete_samples(train_encodings, deleting_list_for_train)"
      ],
      "execution_count": 29,
      "outputs": []
    },
    {
      "cell_type": "code",
      "metadata": {
        "colab": {
          "base_uri": "https://localhost:8080/"
        },
        "id": "ap-kRqsjzyQ-",
        "outputId": "b07a4c8a-84b6-400a-9c83-067692b328c2"
      },
      "source": [
        "# TPU 작동을 위한 코드 TPU 작동을 위한 코드\n",
        "resolver = tf.distribute.cluster_resolver.TPUClusterResolver(tpu='grpc://' + os.environ['COLAB_TPU_ADDR'])\n",
        "tf.config.experimental_connect_to_cluster(resolver)\n",
        "tf.tpu.experimental.initialize_tpu_system(resolver)"
      ],
      "execution_count": 31,
      "outputs": [
        {
          "output_type": "stream",
          "name": "stdout",
          "text": [
            "INFO:tensorflow:Deallocate tpu buffers before initializing tpu system.\n"
          ]
        },
        {
          "output_type": "stream",
          "name": "stderr",
          "text": [
            "INFO:tensorflow:Deallocate tpu buffers before initializing tpu system.\n"
          ]
        },
        {
          "output_type": "stream",
          "name": "stdout",
          "text": [
            "INFO:tensorflow:Initializing the TPU system: grpc://10.126.210.146:8470\n"
          ]
        },
        {
          "output_type": "stream",
          "name": "stderr",
          "text": [
            "INFO:tensorflow:Initializing the TPU system: grpc://10.126.210.146:8470\n"
          ]
        },
        {
          "output_type": "stream",
          "name": "stdout",
          "text": [
            "INFO:tensorflow:Finished initializing TPU system.\n"
          ]
        },
        {
          "output_type": "stream",
          "name": "stderr",
          "text": [
            "INFO:tensorflow:Finished initializing TPU system.\n"
          ]
        },
        {
          "output_type": "execute_result",
          "data": {
            "text/plain": [
              "<tensorflow.python.tpu.topology.Topology at 0x7f8f6d253f50>"
            ]
          },
          "metadata": {},
          "execution_count": 31
        }
      ]
    },
    {
      "cell_type": "code",
      "metadata": {
        "colab": {
          "base_uri": "https://localhost:8080/"
        },
        "id": "6brgax5s0EgV",
        "outputId": "8df27122-806e-4a91-b1a5-25e8b6000718"
      },
      "source": [
        "strategy = tf.distribute.TPUStrategy(resolver)"
      ],
      "execution_count": 32,
      "outputs": [
        {
          "output_type": "stream",
          "name": "stdout",
          "text": [
            "INFO:tensorflow:Found TPU system:\n"
          ]
        },
        {
          "output_type": "stream",
          "name": "stderr",
          "text": [
            "INFO:tensorflow:Found TPU system:\n"
          ]
        },
        {
          "output_type": "stream",
          "name": "stdout",
          "text": [
            "INFO:tensorflow:*** Num TPU Cores: 8\n"
          ]
        },
        {
          "output_type": "stream",
          "name": "stderr",
          "text": [
            "INFO:tensorflow:*** Num TPU Cores: 8\n"
          ]
        },
        {
          "output_type": "stream",
          "name": "stdout",
          "text": [
            "INFO:tensorflow:*** Num TPU Workers: 1\n"
          ]
        },
        {
          "output_type": "stream",
          "name": "stderr",
          "text": [
            "INFO:tensorflow:*** Num TPU Workers: 1\n"
          ]
        },
        {
          "output_type": "stream",
          "name": "stdout",
          "text": [
            "INFO:tensorflow:*** Num TPU Cores Per Worker: 8\n"
          ]
        },
        {
          "output_type": "stream",
          "name": "stderr",
          "text": [
            "INFO:tensorflow:*** Num TPU Cores Per Worker: 8\n"
          ]
        },
        {
          "output_type": "stream",
          "name": "stdout",
          "text": [
            "INFO:tensorflow:*** Available Device: _DeviceAttributes(/job:localhost/replica:0/task:0/device:CPU:0, CPU, 0, 0)\n"
          ]
        },
        {
          "output_type": "stream",
          "name": "stderr",
          "text": [
            "INFO:tensorflow:*** Available Device: _DeviceAttributes(/job:localhost/replica:0/task:0/device:CPU:0, CPU, 0, 0)\n"
          ]
        },
        {
          "output_type": "stream",
          "name": "stdout",
          "text": [
            "INFO:tensorflow:*** Available Device: _DeviceAttributes(/job:worker/replica:0/task:0/device:CPU:0, CPU, 0, 0)\n"
          ]
        },
        {
          "output_type": "stream",
          "name": "stderr",
          "text": [
            "INFO:tensorflow:*** Available Device: _DeviceAttributes(/job:worker/replica:0/task:0/device:CPU:0, CPU, 0, 0)\n"
          ]
        },
        {
          "output_type": "stream",
          "name": "stdout",
          "text": [
            "INFO:tensorflow:*** Available Device: _DeviceAttributes(/job:worker/replica:0/task:0/device:TPU:0, TPU, 0, 0)\n"
          ]
        },
        {
          "output_type": "stream",
          "name": "stderr",
          "text": [
            "INFO:tensorflow:*** Available Device: _DeviceAttributes(/job:worker/replica:0/task:0/device:TPU:0, TPU, 0, 0)\n"
          ]
        },
        {
          "output_type": "stream",
          "name": "stdout",
          "text": [
            "INFO:tensorflow:*** Available Device: _DeviceAttributes(/job:worker/replica:0/task:0/device:TPU:1, TPU, 0, 0)\n"
          ]
        },
        {
          "output_type": "stream",
          "name": "stderr",
          "text": [
            "INFO:tensorflow:*** Available Device: _DeviceAttributes(/job:worker/replica:0/task:0/device:TPU:1, TPU, 0, 0)\n"
          ]
        },
        {
          "output_type": "stream",
          "name": "stdout",
          "text": [
            "INFO:tensorflow:*** Available Device: _DeviceAttributes(/job:worker/replica:0/task:0/device:TPU:2, TPU, 0, 0)\n"
          ]
        },
        {
          "output_type": "stream",
          "name": "stderr",
          "text": [
            "INFO:tensorflow:*** Available Device: _DeviceAttributes(/job:worker/replica:0/task:0/device:TPU:2, TPU, 0, 0)\n"
          ]
        },
        {
          "output_type": "stream",
          "name": "stdout",
          "text": [
            "INFO:tensorflow:*** Available Device: _DeviceAttributes(/job:worker/replica:0/task:0/device:TPU:3, TPU, 0, 0)\n"
          ]
        },
        {
          "output_type": "stream",
          "name": "stderr",
          "text": [
            "INFO:tensorflow:*** Available Device: _DeviceAttributes(/job:worker/replica:0/task:0/device:TPU:3, TPU, 0, 0)\n"
          ]
        },
        {
          "output_type": "stream",
          "name": "stdout",
          "text": [
            "INFO:tensorflow:*** Available Device: _DeviceAttributes(/job:worker/replica:0/task:0/device:TPU:4, TPU, 0, 0)\n"
          ]
        },
        {
          "output_type": "stream",
          "name": "stderr",
          "text": [
            "INFO:tensorflow:*** Available Device: _DeviceAttributes(/job:worker/replica:0/task:0/device:TPU:4, TPU, 0, 0)\n"
          ]
        },
        {
          "output_type": "stream",
          "name": "stdout",
          "text": [
            "INFO:tensorflow:*** Available Device: _DeviceAttributes(/job:worker/replica:0/task:0/device:TPU:5, TPU, 0, 0)\n"
          ]
        },
        {
          "output_type": "stream",
          "name": "stderr",
          "text": [
            "INFO:tensorflow:*** Available Device: _DeviceAttributes(/job:worker/replica:0/task:0/device:TPU:5, TPU, 0, 0)\n"
          ]
        },
        {
          "output_type": "stream",
          "name": "stdout",
          "text": [
            "INFO:tensorflow:*** Available Device: _DeviceAttributes(/job:worker/replica:0/task:0/device:TPU:6, TPU, 0, 0)\n"
          ]
        },
        {
          "output_type": "stream",
          "name": "stderr",
          "text": [
            "INFO:tensorflow:*** Available Device: _DeviceAttributes(/job:worker/replica:0/task:0/device:TPU:6, TPU, 0, 0)\n"
          ]
        },
        {
          "output_type": "stream",
          "name": "stdout",
          "text": [
            "INFO:tensorflow:*** Available Device: _DeviceAttributes(/job:worker/replica:0/task:0/device:TPU:7, TPU, 0, 0)\n"
          ]
        },
        {
          "output_type": "stream",
          "name": "stderr",
          "text": [
            "INFO:tensorflow:*** Available Device: _DeviceAttributes(/job:worker/replica:0/task:0/device:TPU:7, TPU, 0, 0)\n"
          ]
        },
        {
          "output_type": "stream",
          "name": "stdout",
          "text": [
            "INFO:tensorflow:*** Available Device: _DeviceAttributes(/job:worker/replica:0/task:0/device:TPU_SYSTEM:0, TPU_SYSTEM, 0, 0)\n"
          ]
        },
        {
          "output_type": "stream",
          "name": "stderr",
          "text": [
            "INFO:tensorflow:*** Available Device: _DeviceAttributes(/job:worker/replica:0/task:0/device:TPU_SYSTEM:0, TPU_SYSTEM, 0, 0)\n"
          ]
        },
        {
          "output_type": "stream",
          "name": "stdout",
          "text": [
            "INFO:tensorflow:*** Available Device: _DeviceAttributes(/job:worker/replica:0/task:0/device:XLA_CPU:0, XLA_CPU, 0, 0)\n"
          ]
        },
        {
          "output_type": "stream",
          "name": "stderr",
          "text": [
            "INFO:tensorflow:*** Available Device: _DeviceAttributes(/job:worker/replica:0/task:0/device:XLA_CPU:0, XLA_CPU, 0, 0)\n"
          ]
        }
      ]
    },
    {
      "cell_type": "code",
      "metadata": {
        "id": "lJz0XjqxGIQH"
      },
      "source": [
        "from transformers import TFBertModel"
      ],
      "execution_count": 33,
      "outputs": []
    },
    {
      "cell_type": "code",
      "metadata": {
        "id": "QEnN8hK9EM6G"
      },
      "source": [
        "class TFBertForQuestionAnswering(tf.keras.Model):\n",
        "    def __init__(self, model_name):\n",
        "        super(TFBertForQuestionAnswering, self).__init__()\n",
        "        self.bert = TFBertModel.from_pretrained(model_name, from_pt=True)\n",
        "        self.qa_outputs = tf.keras.layers.Dense(2,\n",
        "                                                kernel_initializer=tf.keras.initializers.TruncatedNormal(0.02),\n",
        "                                                name='qa_outputs')\n",
        "        self.softmax = tf.keras.layers.Activation(tf.keras.activations.softmax)\n",
        "\n",
        "    def call(self, inputs):\n",
        "        input_ids, attention_mask = inputs\n",
        "        outputs = self.bert(input_ids, attention_mask=attention_mask)\n",
        "    \n",
        "        sequence_output = outputs[0]\n",
        "        logits = self.qa_outputs(sequence_output)\n",
        "        start_logits, end_logits = tf.split(logits, 2, axis=-1)\n",
        "\n",
        "        # start_logits = (batch_size, sequence_length,)\n",
        "        # end_logits = (batch_size, sequence_length,)\n",
        "        start_logits = tf.squeeze(start_logits, axis=-1)\n",
        "        end_logits = tf.squeeze(end_logits, axis=-1)\n",
        "\n",
        "        start_probs = self.softmax(start_logits)\n",
        "        end_probs = self.softmax(end_logits)\n",
        "\n",
        "        return start_probs, end_probs"
      ],
      "execution_count": 34,
      "outputs": []
    },
    {
      "cell_type": "code",
      "metadata": {
        "colab": {
          "base_uri": "https://localhost:8080/",
          "height": 182,
          "referenced_widgets": [
            "1e2273f555aa46cca0c68db0a1527a4e",
            "5399450a92d445d2bd1cfb2ef2e65820",
            "f897b2ecf2f64b30a23ecc75ea3d9083",
            "4b2addab944745f1b2ad5c8d04d35829",
            "2a8021cceea54f50b6ee5ab07cb2a4fe",
            "ad6eca00d53740aba38931ae4c0eecbf",
            "61de1d71a95943d9be60bd843a6ff439",
            "7ebbbc8f06ef4cd0bbcb03bca57d9a29",
            "6a2fb81332fc4bd789c32544d1827e94",
            "cfee4a391f2244d78bf3d20c81081b45",
            "ca9572205d5d4e54867956bfde5c5183"
          ]
        },
        "id": "8Y3NwpKCF4b9",
        "outputId": "86044cc0-d888-4471-e483-32a8a3734bcf"
      },
      "source": [
        "# 신규\n",
        "with strategy.scope():\n",
        "  model = TFBertForQuestionAnswering(\"klue/bert-base\")\n",
        "  optimizer = tf.keras.optimizers.Adam(learning_rate=5e-5)\n",
        "  loss = tf.keras.losses.SparseCategoricalCrossentropy(from_logits=False)\n",
        "  model.compile(optimizer=optimizer, loss=loss)"
      ],
      "execution_count": 35,
      "outputs": [
        {
          "output_type": "display_data",
          "data": {
            "text/plain": [
              "Downloading:   0%|          | 0.00/424M [00:00<?, ?B/s]"
            ],
            "application/vnd.jupyter.widget-view+json": {
              "version_major": 2,
              "version_minor": 0,
              "model_id": "1e2273f555aa46cca0c68db0a1527a4e"
            }
          },
          "metadata": {}
        },
        {
          "output_type": "stream",
          "name": "stderr",
          "text": [
            "Some weights of the PyTorch model were not used when initializing the TF 2.0 model TFBertModel: ['cls.predictions.decoder.weight', 'cls.seq_relationship.weight', 'cls.predictions.bias', 'cls.predictions.transform.LayerNorm.bias', 'cls.predictions.transform.dense.weight', 'cls.predictions.decoder.bias', 'bert.embeddings.position_ids', 'cls.predictions.transform.dense.bias', 'cls.seq_relationship.bias', 'cls.predictions.transform.LayerNorm.weight']\n",
            "- This IS expected if you are initializing TFBertModel from a PyTorch model trained on another task or with another architecture (e.g. initializing a TFBertForSequenceClassification model from a BertForPreTraining model).\n",
            "- This IS NOT expected if you are initializing TFBertModel from a PyTorch model that you expect to be exactly identical (e.g. initializing a TFBertForSequenceClassification model from a BertForSequenceClassification model).\n",
            "All the weights of TFBertModel were initialized from the PyTorch model.\n",
            "If your task is similar to the task the model of the checkpoint was trained on, you can already use TFBertModel for predictions without further training.\n"
          ]
        }
      ]
    },
    {
      "cell_type": "code",
      "metadata": {
        "colab": {
          "base_uri": "https://localhost:8080/"
        },
        "id": "C4xS9Zii2qIK",
        "outputId": "e927984e-803d-4532-8887-bbfd65b13ace"
      },
      "source": [
        "history = model.fit(\n",
        "    X_train,\n",
        "    y_train,\n",
        "    epochs=3,\n",
        "    verbose=1,\n",
        "    batch_size=16,\n",
        ")"
      ],
      "execution_count": 36,
      "outputs": [
        {
          "output_type": "stream",
          "name": "stdout",
          "text": [
            "Epoch 1/3\n",
            "WARNING:tensorflow:Gradients do not exist for variables ['tf_bert_model/bert/pooler/dense/kernel:0', 'tf_bert_model/bert/pooler/dense/bias:0'] when minimizing the loss. If you're using `model.compile()`, did you forget to provide a `loss`argument?\n"
          ]
        },
        {
          "output_type": "stream",
          "name": "stderr",
          "text": [
            "WARNING:tensorflow:Gradients do not exist for variables ['tf_bert_model/bert/pooler/dense/kernel:0', 'tf_bert_model/bert/pooler/dense/bias:0'] when minimizing the loss. If you're using `model.compile()`, did you forget to provide a `loss`argument?\n"
          ]
        },
        {
          "output_type": "stream",
          "name": "stdout",
          "text": [
            "WARNING:tensorflow:Gradients do not exist for variables ['tf_bert_model/bert/pooler/dense/kernel:0', 'tf_bert_model/bert/pooler/dense/bias:0'] when minimizing the loss. If you're using `model.compile()`, did you forget to provide a `loss`argument?\n"
          ]
        },
        {
          "output_type": "stream",
          "name": "stderr",
          "text": [
            "WARNING:tensorflow:Gradients do not exist for variables ['tf_bert_model/bert/pooler/dense/kernel:0', 'tf_bert_model/bert/pooler/dense/bias:0'] when minimizing the loss. If you're using `model.compile()`, did you forget to provide a `loss`argument?\n"
          ]
        },
        {
          "output_type": "stream",
          "name": "stdout",
          "text": [
            "1013/1013 [==============================] - 174s 98ms/step - loss: 3.2957 - output_1_loss: 1.5288 - output_2_loss: 1.7669\n",
            "Epoch 2/3\n",
            "1013/1013 [==============================] - 99s 97ms/step - loss: 1.7710 - output_1_loss: 0.7855 - output_2_loss: 0.9855\n",
            "Epoch 3/3\n",
            "1013/1013 [==============================] - 98s 97ms/step - loss: 1.3513 - output_1_loss: 0.5756 - output_2_loss: 0.7756\n"
          ]
        }
      ]
    },
    {
      "cell_type": "code",
      "source": [
        "# 예측하는 함수\n",
        "def predict_test_data_by_idx(idx):\n",
        "  context = tokenizer.decode(X_test[0][idx]).split('[SEP] ')[0]\n",
        "  question = tokenizer.decode(X_test[0][idx]).split('[SEP] ')[1]\n",
        "  print('본문 :', context)\n",
        "  print('질문 :', question)\n",
        "  output = model([tf.constant(X_test[0][idx])[None, :], tf.constant(X_test[1][idx])[None, :]])\n",
        "  start = tf.math.argmax(tf.squeeze(output[0]))\n",
        "  end = tf.math.argmax(tf.squeeze(output[1]))+1\n",
        "  answer_encoded = X_test[0][idx][start:end]\n",
        "  print('예측 :',tokenizer.decode(answer_encoded))\n",
        "  print('----------------------------------------')"
      ],
      "metadata": {
        "id": "wBmFl-MYXRZ8"
      },
      "execution_count": 37,
      "outputs": []
    },
    {
      "cell_type": "code",
      "source": [
        "tokenizer.decode(X_test[0][3242]).split('[SEP] ')[0]"
      ],
      "metadata": {
        "colab": {
          "base_uri": "https://localhost:8080/",
          "height": 207
        },
        "id": "tpi_75HSkyxe",
        "outputId": "b68ff188-9318-44fd-b34e-2a2ca8cc6091"
      },
      "execution_count": 46,
      "outputs": [
        {
          "output_type": "execute_result",
          "data": {
            "text/plain": [
              "'[CLS] 미국 의회가 유전자변형 ( GMO ) 식품의 포함 여부를 표시하도록 의무화하는 법안 마련을 추진 중이다. 미국에선 최근 오리건주에서 미승인 GMO 밀이 발견돼 국제적으로 파문이 확산되고 있다. 바버라 박서 민주당 의원 ( 캘리포니아 ) 을 비롯한 미 상원의원 11명은 지난달 말 GMO 식품 및 GMO 원료가 들어간 제품에 GMO 표기를 강제하는 내용의 ‘ 유전자변형 식품 알 권리 법안 ’ 을 발의했다. 또 하원에서도 피터 드파지오 의원 ( 민주당 · 오리건주 ) 주도로 비슷한 내용의 법안이 하원 보건위원회에 제출됐다. 박서 의원은 “ 한국을 비롯해 유럽연합 ( EU ) 일본 등 60개 이상의 핵심 무역 상대국들이 유전자변형 식품의 표기를 법제화했다 ” 며 “ 미국 국민은 건강과 경제, 환경과 종교 등 여러 가지 이유에서 자신들이 소비하는 식품에 유전자변형 기술이 이용됐는지를 알 권리가 있다 ” 고 설명했다. 미국에선 지난달 29일 오리건주의 한 밀밭에서 GMO 밀이 발견돼 논란이 일고 있다. 미국은 세계 최대 밀 수출국이며, 오리건주에서 생산되는 밀의 90 % 가 해외로 수출된다. 일본은 지난달 31일부터 미국산 밀 수입을 잠정 중단했으며, EU도 미국산 밀에 대한 검사를 강화했다. '"
            ],
            "application/vnd.google.colaboratory.intrinsic+json": {
              "type": "string"
            }
          },
          "metadata": {},
          "execution_count": 46
        }
      ]
    },
    {
      "cell_type": "code",
      "source": [
        "# [SEP]가 없는 question에 [SEP]추가\n",
        "ln = len(test_questions)\n",
        "for i in tqdm(range(0, ln)):\n",
        "  question = tokenizer.decode(X_test[0][i]).split('[SEP]')[1]\n",
        "  if question.endswith('[SEP] '):\n",
        "    pass\n",
        "  else:\n",
        "    question = question + '[SEP] '"
      ],
      "metadata": {
        "colab": {
          "base_uri": "https://localhost:8080/"
        },
        "id": "EsK_vAo14-N0",
        "outputId": "cb765a71-f3cc-4487-85d7-5ea74eb72a55"
      },
      "execution_count": 62,
      "outputs": [
        {
          "output_type": "stream",
          "name": "stderr",
          "text": [
            "100%|██████████| 4008/4008 [00:01<00:00, 2985.09it/s]\n"
          ]
        }
      ]
    },
    {
      "cell_type": "code",
      "source": [
        "import pandas as pd\n",
        "\n",
        "# 예측을 저장하는 함수\n",
        "def save_csv(X_test):\n",
        "    ln = len(test_questions)\n",
        "    submission = pd.DataFrame(columns = ['Id','Predicted'])\n",
        "    for i in tqdm(range(0,ln)):\n",
        "          output = model([tf.constant(X_test[0][i])[None, :], tf.constant(X_test[1][i])[None, :]])\n",
        "          start = tf.math.argmax(tf.squeeze(output[0]))\n",
        "          end = tf.math.argmax(tf.squeeze(output[1]))+1\n",
        "          answer_encoded = X_test[0][i][start:end]\n",
        "          submission.loc[i] = [test_guids[i], tokenizer.decode(answer_encoded)]    \n",
        "    return submission.to_csv('submission.csv', index=False, encoding='utf-8')\n",
        "\n",
        "save_csv(X_test)"
      ],
      "metadata": {
        "colab": {
          "base_uri": "https://localhost:8080/"
        },
        "id": "30tlU2NZ0a2y",
        "outputId": "71305ab6-460a-4c32-f100-05dfb665d494"
      },
      "execution_count": 80,
      "outputs": [
        {
          "output_type": "stream",
          "name": "stderr",
          "text": [
            "100%|██████████| 4008/4008 [1:06:15<00:00,  1.01it/s]\n"
          ]
        }
      ]
    },
    {
      "cell_type": "code",
      "source": [
        "df1 = pd.DataFrame(columns = ['Id','Predicted'])"
      ],
      "metadata": {
        "id": "jiumbu4A_6LD"
      },
      "execution_count": 110,
      "outputs": []
    },
    {
      "cell_type": "code",
      "source": [
        "new_data = ['0012jfoin03093r', tokenizer.decode(X_test[0][1]).split('[SEP]')[1]]\n",
        "df1.loc[0] = new_data\n",
        "df1"
      ],
      "metadata": {
        "colab": {
          "base_uri": "https://localhost:8080/",
          "height": 80
        },
        "id": "zrfMaGxIHLnp",
        "outputId": "b35732d2-e10e-4023-b549-f4b074ced542"
      },
      "execution_count": 111,
      "outputs": [
        {
          "output_type": "execute_result",
          "data": {
            "text/plain": [
              "                Id        Predicted\n",
              "0  0012jfoin03093r   사고 비행기의 목적지는? "
            ],
            "text/html": [
              "\n",
              "  <div id=\"df-b050582d-d80f-4693-b1af-fce115be1d46\">\n",
              "    <div class=\"colab-df-container\">\n",
              "      <div>\n",
              "<style scoped>\n",
              "    .dataframe tbody tr th:only-of-type {\n",
              "        vertical-align: middle;\n",
              "    }\n",
              "\n",
              "    .dataframe tbody tr th {\n",
              "        vertical-align: top;\n",
              "    }\n",
              "\n",
              "    .dataframe thead th {\n",
              "        text-align: right;\n",
              "    }\n",
              "</style>\n",
              "<table border=\"1\" class=\"dataframe\">\n",
              "  <thead>\n",
              "    <tr style=\"text-align: right;\">\n",
              "      <th></th>\n",
              "      <th>Id</th>\n",
              "      <th>Predicted</th>\n",
              "    </tr>\n",
              "  </thead>\n",
              "  <tbody>\n",
              "    <tr>\n",
              "      <th>0</th>\n",
              "      <td>0012jfoin03093r</td>\n",
              "      <td>사고 비행기의 목적지는?</td>\n",
              "    </tr>\n",
              "  </tbody>\n",
              "</table>\n",
              "</div>\n",
              "      <button class=\"colab-df-convert\" onclick=\"convertToInteractive('df-b050582d-d80f-4693-b1af-fce115be1d46')\"\n",
              "              title=\"Convert this dataframe to an interactive table.\"\n",
              "              style=\"display:none;\">\n",
              "        \n",
              "  <svg xmlns=\"http://www.w3.org/2000/svg\" height=\"24px\"viewBox=\"0 0 24 24\"\n",
              "       width=\"24px\">\n",
              "    <path d=\"M0 0h24v24H0V0z\" fill=\"none\"/>\n",
              "    <path d=\"M18.56 5.44l.94 2.06.94-2.06 2.06-.94-2.06-.94-.94-2.06-.94 2.06-2.06.94zm-11 1L8.5 8.5l.94-2.06 2.06-.94-2.06-.94L8.5 2.5l-.94 2.06-2.06.94zm10 10l.94 2.06.94-2.06 2.06-.94-2.06-.94-.94-2.06-.94 2.06-2.06.94z\"/><path d=\"M17.41 7.96l-1.37-1.37c-.4-.4-.92-.59-1.43-.59-.52 0-1.04.2-1.43.59L10.3 9.45l-7.72 7.72c-.78.78-.78 2.05 0 2.83L4 21.41c.39.39.9.59 1.41.59.51 0 1.02-.2 1.41-.59l7.78-7.78 2.81-2.81c.8-.78.8-2.07 0-2.86zM5.41 20L4 18.59l7.72-7.72 1.47 1.35L5.41 20z\"/>\n",
              "  </svg>\n",
              "      </button>\n",
              "      \n",
              "  <style>\n",
              "    .colab-df-container {\n",
              "      display:flex;\n",
              "      flex-wrap:wrap;\n",
              "      gap: 12px;\n",
              "    }\n",
              "\n",
              "    .colab-df-convert {\n",
              "      background-color: #E8F0FE;\n",
              "      border: none;\n",
              "      border-radius: 50%;\n",
              "      cursor: pointer;\n",
              "      display: none;\n",
              "      fill: #1967D2;\n",
              "      height: 32px;\n",
              "      padding: 0 0 0 0;\n",
              "      width: 32px;\n",
              "    }\n",
              "\n",
              "    .colab-df-convert:hover {\n",
              "      background-color: #E2EBFA;\n",
              "      box-shadow: 0px 1px 2px rgba(60, 64, 67, 0.3), 0px 1px 3px 1px rgba(60, 64, 67, 0.15);\n",
              "      fill: #174EA6;\n",
              "    }\n",
              "\n",
              "    [theme=dark] .colab-df-convert {\n",
              "      background-color: #3B4455;\n",
              "      fill: #D2E3FC;\n",
              "    }\n",
              "\n",
              "    [theme=dark] .colab-df-convert:hover {\n",
              "      background-color: #434B5C;\n",
              "      box-shadow: 0px 1px 3px 1px rgba(0, 0, 0, 0.15);\n",
              "      filter: drop-shadow(0px 1px 2px rgba(0, 0, 0, 0.3));\n",
              "      fill: #FFFFFF;\n",
              "    }\n",
              "  </style>\n",
              "\n",
              "      <script>\n",
              "        const buttonEl =\n",
              "          document.querySelector('#df-b050582d-d80f-4693-b1af-fce115be1d46 button.colab-df-convert');\n",
              "        buttonEl.style.display =\n",
              "          google.colab.kernel.accessAllowed ? 'block' : 'none';\n",
              "\n",
              "        async function convertToInteractive(key) {\n",
              "          const element = document.querySelector('#df-b050582d-d80f-4693-b1af-fce115be1d46');\n",
              "          const dataTable =\n",
              "            await google.colab.kernel.invokeFunction('convertToInteractive',\n",
              "                                                     [key], {});\n",
              "          if (!dataTable) return;\n",
              "\n",
              "          const docLinkHtml = 'Like what you see? Visit the ' +\n",
              "            '<a target=\"_blank\" href=https://colab.research.google.com/notebooks/data_table.ipynb>data table notebook</a>'\n",
              "            + ' to learn more about interactive tables.';\n",
              "          element.innerHTML = '';\n",
              "          dataTable['output_type'] = 'display_data';\n",
              "          await google.colab.output.renderOutput(dataTable, element);\n",
              "          const docLink = document.createElement('div');\n",
              "          docLink.innerHTML = docLinkHtml;\n",
              "          element.appendChild(docLink);\n",
              "        }\n",
              "      </script>\n",
              "    </div>\n",
              "  </div>\n",
              "  "
            ]
          },
          "metadata": {},
          "execution_count": 111
        }
      ]
    },
    {
      "cell_type": "code",
      "source": [
        "data = pd.read_csv(\"submission_bert-base-multilingual-cased-korquad.csv\", sep=\",\", encoding='euc-kr')"
      ],
      "metadata": {
        "id": "c4YBxjp8ITk2"
      },
      "execution_count": 112,
      "outputs": []
    },
    {
      "cell_type": "code",
      "source": [
        "data"
      ],
      "metadata": {
        "id": "JvnRbsTwSPXH",
        "outputId": "95ca809d-da55-4ccb-8afc-55da7e6ec229",
        "colab": {
          "base_uri": "https://localhost:8080/",
          "height": 463
        }
      },
      "execution_count": 107,
      "outputs": [
        {
          "output_type": "execute_result",
          "data": {
            "text/plain": [
              "      Column1                                Id               Predicted\n",
              "0           0  6727d61923604c60b41d864c00c1a89a  . 공연은 내달 7일까지, 6만~14만원\n",
              "1           1  d14cb73158624cf094c546d856fd3c80          프로즌 브릴리언트 화이트는\n",
              "2           2  906631384e91493ebe1c7f34aea6f241             프랑스 남부 알프스에\n",
              "3           3  35e61dcb479643448a2cb7d326ae50a6                    트위터에\n",
              "4           4  075e761b370040cb9041eecd39afc27c                    트위터에\n",
              "...       ...                               ...                     ...\n",
              "4003     4003  05fcb8054dc44dab8683579c2cf5e465                  4만달러에서\n",
              "4004     4004  cc7f826b66724ce9b39e3a974ca15661              중동 건설 현장으로\n",
              "4005     4005  3282034aa41e4fab980851ffd4a868dd              아시아~유럽 노선의\n",
              "4006     4006  0a73550b36df4baf82ac2f98619d22e7                     사흘간\n",
              "4007     4007  dfe6ef25f84f461e89e54d370e4521d5                     벨기에\n",
              "\n",
              "[4008 rows x 3 columns]"
            ],
            "text/html": [
              "\n",
              "  <div id=\"df-9d56a118-7713-431a-a115-917366b04c43\">\n",
              "    <div class=\"colab-df-container\">\n",
              "      <div>\n",
              "<style scoped>\n",
              "    .dataframe tbody tr th:only-of-type {\n",
              "        vertical-align: middle;\n",
              "    }\n",
              "\n",
              "    .dataframe tbody tr th {\n",
              "        vertical-align: top;\n",
              "    }\n",
              "\n",
              "    .dataframe thead th {\n",
              "        text-align: right;\n",
              "    }\n",
              "</style>\n",
              "<table border=\"1\" class=\"dataframe\">\n",
              "  <thead>\n",
              "    <tr style=\"text-align: right;\">\n",
              "      <th></th>\n",
              "      <th>Column1</th>\n",
              "      <th>Id</th>\n",
              "      <th>Predicted</th>\n",
              "    </tr>\n",
              "  </thead>\n",
              "  <tbody>\n",
              "    <tr>\n",
              "      <th>0</th>\n",
              "      <td>0</td>\n",
              "      <td>6727d61923604c60b41d864c00c1a89a</td>\n",
              "      <td>. 공연은 내달 7일까지, 6만~14만원</td>\n",
              "    </tr>\n",
              "    <tr>\n",
              "      <th>1</th>\n",
              "      <td>1</td>\n",
              "      <td>d14cb73158624cf094c546d856fd3c80</td>\n",
              "      <td>프로즌 브릴리언트 화이트는</td>\n",
              "    </tr>\n",
              "    <tr>\n",
              "      <th>2</th>\n",
              "      <td>2</td>\n",
              "      <td>906631384e91493ebe1c7f34aea6f241</td>\n",
              "      <td>프랑스 남부 알프스에</td>\n",
              "    </tr>\n",
              "    <tr>\n",
              "      <th>3</th>\n",
              "      <td>3</td>\n",
              "      <td>35e61dcb479643448a2cb7d326ae50a6</td>\n",
              "      <td>트위터에</td>\n",
              "    </tr>\n",
              "    <tr>\n",
              "      <th>4</th>\n",
              "      <td>4</td>\n",
              "      <td>075e761b370040cb9041eecd39afc27c</td>\n",
              "      <td>트위터에</td>\n",
              "    </tr>\n",
              "    <tr>\n",
              "      <th>...</th>\n",
              "      <td>...</td>\n",
              "      <td>...</td>\n",
              "      <td>...</td>\n",
              "    </tr>\n",
              "    <tr>\n",
              "      <th>4003</th>\n",
              "      <td>4003</td>\n",
              "      <td>05fcb8054dc44dab8683579c2cf5e465</td>\n",
              "      <td>4만달러에서</td>\n",
              "    </tr>\n",
              "    <tr>\n",
              "      <th>4004</th>\n",
              "      <td>4004</td>\n",
              "      <td>cc7f826b66724ce9b39e3a974ca15661</td>\n",
              "      <td>중동 건설 현장으로</td>\n",
              "    </tr>\n",
              "    <tr>\n",
              "      <th>4005</th>\n",
              "      <td>4005</td>\n",
              "      <td>3282034aa41e4fab980851ffd4a868dd</td>\n",
              "      <td>아시아~유럽 노선의</td>\n",
              "    </tr>\n",
              "    <tr>\n",
              "      <th>4006</th>\n",
              "      <td>4006</td>\n",
              "      <td>0a73550b36df4baf82ac2f98619d22e7</td>\n",
              "      <td>사흘간</td>\n",
              "    </tr>\n",
              "    <tr>\n",
              "      <th>4007</th>\n",
              "      <td>4007</td>\n",
              "      <td>dfe6ef25f84f461e89e54d370e4521d5</td>\n",
              "      <td>벨기에</td>\n",
              "    </tr>\n",
              "  </tbody>\n",
              "</table>\n",
              "<p>4008 rows × 3 columns</p>\n",
              "</div>\n",
              "      <button class=\"colab-df-convert\" onclick=\"convertToInteractive('df-9d56a118-7713-431a-a115-917366b04c43')\"\n",
              "              title=\"Convert this dataframe to an interactive table.\"\n",
              "              style=\"display:none;\">\n",
              "        \n",
              "  <svg xmlns=\"http://www.w3.org/2000/svg\" height=\"24px\"viewBox=\"0 0 24 24\"\n",
              "       width=\"24px\">\n",
              "    <path d=\"M0 0h24v24H0V0z\" fill=\"none\"/>\n",
              "    <path d=\"M18.56 5.44l.94 2.06.94-2.06 2.06-.94-2.06-.94-.94-2.06-.94 2.06-2.06.94zm-11 1L8.5 8.5l.94-2.06 2.06-.94-2.06-.94L8.5 2.5l-.94 2.06-2.06.94zm10 10l.94 2.06.94-2.06 2.06-.94-2.06-.94-.94-2.06-.94 2.06-2.06.94z\"/><path d=\"M17.41 7.96l-1.37-1.37c-.4-.4-.92-.59-1.43-.59-.52 0-1.04.2-1.43.59L10.3 9.45l-7.72 7.72c-.78.78-.78 2.05 0 2.83L4 21.41c.39.39.9.59 1.41.59.51 0 1.02-.2 1.41-.59l7.78-7.78 2.81-2.81c.8-.78.8-2.07 0-2.86zM5.41 20L4 18.59l7.72-7.72 1.47 1.35L5.41 20z\"/>\n",
              "  </svg>\n",
              "      </button>\n",
              "      \n",
              "  <style>\n",
              "    .colab-df-container {\n",
              "      display:flex;\n",
              "      flex-wrap:wrap;\n",
              "      gap: 12px;\n",
              "    }\n",
              "\n",
              "    .colab-df-convert {\n",
              "      background-color: #E8F0FE;\n",
              "      border: none;\n",
              "      border-radius: 50%;\n",
              "      cursor: pointer;\n",
              "      display: none;\n",
              "      fill: #1967D2;\n",
              "      height: 32px;\n",
              "      padding: 0 0 0 0;\n",
              "      width: 32px;\n",
              "    }\n",
              "\n",
              "    .colab-df-convert:hover {\n",
              "      background-color: #E2EBFA;\n",
              "      box-shadow: 0px 1px 2px rgba(60, 64, 67, 0.3), 0px 1px 3px 1px rgba(60, 64, 67, 0.15);\n",
              "      fill: #174EA6;\n",
              "    }\n",
              "\n",
              "    [theme=dark] .colab-df-convert {\n",
              "      background-color: #3B4455;\n",
              "      fill: #D2E3FC;\n",
              "    }\n",
              "\n",
              "    [theme=dark] .colab-df-convert:hover {\n",
              "      background-color: #434B5C;\n",
              "      box-shadow: 0px 1px 3px 1px rgba(0, 0, 0, 0.15);\n",
              "      filter: drop-shadow(0px 1px 2px rgba(0, 0, 0, 0.3));\n",
              "      fill: #FFFFFF;\n",
              "    }\n",
              "  </style>\n",
              "\n",
              "      <script>\n",
              "        const buttonEl =\n",
              "          document.querySelector('#df-9d56a118-7713-431a-a115-917366b04c43 button.colab-df-convert');\n",
              "        buttonEl.style.display =\n",
              "          google.colab.kernel.accessAllowed ? 'block' : 'none';\n",
              "\n",
              "        async function convertToInteractive(key) {\n",
              "          const element = document.querySelector('#df-9d56a118-7713-431a-a115-917366b04c43');\n",
              "          const dataTable =\n",
              "            await google.colab.kernel.invokeFunction('convertToInteractive',\n",
              "                                                     [key], {});\n",
              "          if (!dataTable) return;\n",
              "\n",
              "          const docLinkHtml = 'Like what you see? Visit the ' +\n",
              "            '<a target=\"_blank\" href=https://colab.research.google.com/notebooks/data_table.ipynb>data table notebook</a>'\n",
              "            + ' to learn more about interactive tables.';\n",
              "          element.innerHTML = '';\n",
              "          dataTable['output_type'] = 'display_data';\n",
              "          await google.colab.output.renderOutput(dataTable, element);\n",
              "          const docLink = document.createElement('div');\n",
              "          docLink.innerHTML = docLinkHtml;\n",
              "          element.appendChild(docLink);\n",
              "        }\n",
              "      </script>\n",
              "    </div>\n",
              "  </div>\n",
              "  "
            ]
          },
          "metadata": {},
          "execution_count": 107
        }
      ]
    },
    {
      "cell_type": "code",
      "source": [
        "predata = data.values.tolist()"
      ],
      "metadata": {
        "id": "2otkAIwlSRCR"
      },
      "execution_count": 113,
      "outputs": []
    },
    {
      "cell_type": "code",
      "source": [
        "predata"
      ],
      "metadata": {
        "id": "D2QrRHb5ahcB",
        "outputId": "f012b531-3479-47ff-ec5e-b0e0454ccf73",
        "colab": {
          "base_uri": "https://localhost:8080/"
        }
      },
      "execution_count": 114,
      "outputs": [
        {
          "output_type": "execute_result",
          "data": {
            "text/plain": [
              "[[0, '6727d61923604c60b41d864c00c1a89a', '. 공연은 내달 7일까지, 6만~14만원'],\n",
              " [1, 'd14cb73158624cf094c546d856fd3c80', '프로즌 브릴리언트 화이트는'],\n",
              " [2, '906631384e91493ebe1c7f34aea6f241', '프랑스 남부 알프스에'],\n",
              " [3, '35e61dcb479643448a2cb7d326ae50a6', '트위터에'],\n",
              " [4, '075e761b370040cb9041eecd39afc27c', '트위터에'],\n",
              " [5, 'e67ed38f3dd944be94d5b4c53731f334', '마드리드에'],\n",
              " [6, '80cacfdfe76442b0b39568e8b193d066', '국제 원자재값 하락은'],\n",
              " [7, '78a80cca941c46379a5c65b2f1392f7c', '2조7000억원의'],\n",
              " [8, '5c19b9781f8a4f0faa9045274c38a8b4', '‘운영허가 인증서’'],\n",
              " [9, 'd2844b7141cb4a2594d433e9c1e5cd0c', '37-38℃의'],\n",
              " [10, 'be39b91f52a04b0aaafc96ff505cb2fc', '노르웨이로'],\n",
              " [11, '98fe72c173f642e29f9284f1769fd4f6', '22개'],\n",
              " [12, '1756f8a643124b52aa773a0f38b7b6fa', '필리핀'],\n",
              " [13, '1f1ef695105049079e093bae6f4ad8e7', '김교성과'],\n",
              " [14, 'acbc4be5f9d04b76a30451f8c6baf277', '1118.3원으로'],\n",
              " [15, '393657048abd435b9059b00ed54dcc47', '존 위클리프는'],\n",
              " [16, '08ee8dae9f6744cf91d79e0782426d33', '존 위클리프는'],\n",
              " [17, '0fd8aca8b9844e3d85e0379272600e3b', '신성 로마 제국의 황제 지기스문트가'],\n",
              " [18, 'fa773f05fd224cbab0327d1459e38f8a', '복정역과'],\n",
              " [19, '89810801a2f446ef9ea0b74cdc478f3c', '한살림을'],\n",
              " [20, '30a8f6b62fa142209b241d35e308002b', '한예종'],\n",
              " [21, '4957b7070c3a463aaac97f0255ed0ab0', '로사다운자켓’'],\n",
              " [22, '28b135ddc9374d0083abb9cf3d804017', '코르퓨 섬에'],\n",
              " [23, 'f544beba8dcb47f18d736f0ce69e28c0', '독일의'],\n",
              " [24, 'f7404b2ebbe64cdb803ab288ab0cf2d3', '상자에서'],\n",
              " [25, 'c9a926ce025a45fa9ba655be4e613c8e', '귈리엘모 왕에게'],\n",
              " [26, 'c2d94349ad524ef9acefbd092d75395b', '조상 물고기들로부터'],\n",
              " [27, '7a7d300bdf114e328e5731ce8cb460c5', '프리오노수쿠스는'],\n",
              " [28, '7d65311b295c450eb58a9abffd178f97', '혈중 탄산 농도에'],\n",
              " [29, '962e13268ecd46be82f1bbe431b4e939', '척추뼈와'],\n",
              " [30, '841f03730b08435b9dd3ad98d1bd32c4', '분류학적 접근이'],\n",
              " [31, '618afa926b90404da7780815c5f20d94', '게로바트라쿠스의 분지학적 분석에'],\n",
              " [32, 'd644d5af17ff4c45bad483099735f791', '손병석'],\n",
              " [33, '53b26110732243d5ba1e8c74aea31890', '나인힐스'],\n",
              " [34, 'f7846dedab094e7084e76803920655b4', '취업 제한을'],\n",
              " [35, 'f6a7e2d5748149e4b35315f3b2741893', '20일부터'],\n",
              " [36, '6d4f9ce3236a4d26bbbb872e2e227891', '가상 색상\"'],\n",
              " [37, '7ae1f3d111ab4a30817469814b1df466', '19조원가량'],\n",
              " [38, 'c1f164bec5174ff1bdbdec67fe5c0c53', '9월22일'],\n",
              " [39, 'f117ddf79ac942e8a36d085f04c5a187', '소련 헌법에'],\n",
              " [40, 'e48630c806314c8eb7a6d5d33eee1cc8', '인도의'],\n",
              " [41, '6ebf82f3c71b435ea05dfee2c928407b', 'Uraniborg에서'],\n",
              " [42, 'da61c942aa3a4d1aace17bede8589d9b', '갈릴레오는'],\n",
              " [43, '43c2176877564e0e9d6a3e0eb75cc09e', '프라하로'],\n",
              " [44, '2a5012ee1b3c4c9eaa84d2452eeef485', '히파르코스'],\n",
              " [45, '0552a0dd25154503b017e6247045ff35', '‘오이제비우스’'],\n",
              " [46, '21d569cd27bb4cf18085c5f94ea2bf23', '258편'],\n",
              " [47, '2a032687135a4b288a281ad6d8e2c5d0', '각막 궤양이'],\n",
              " [48, 'b945c52cd6644fe3bc92a6cb1c2803c4', '셀레우키아크테시폰의 주교가'],\n",
              " [49, '03c9a81a94da47c4a891ee673f325544', '2000만원은'],\n",
              " [50, '3302f6e9bc59434090a8f81d24e5514b', '개혁파로부터'],\n",
              " [51, '6eb7feed3c0046ba813182abe4f81b96', '조개류'],\n",
              " [52, '2258707f6c644858bdd447c902d93afd', '아드레날린을'],\n",
              " [53, '7f6ac4e382a040aa80ae0fc99361f98d', '6일'],\n",
              " [54, '09d747535dc04ceea4ad49430653621f', '레이다를'],\n",
              " [55, '24af21f6308943468f3bab391500a9fe', '자크를'],\n",
              " [56, '839f8fbdb65143eb8a033ed7aee31038', '도로스를'],\n",
              " [57, 'd6e94191b5964358be8520cad202cf29', '연방군 수뇌는'],\n",
              " [58, 'c1ac377dd25a44cb8978c13830a89e95', '샤아 아즈나블'],\n",
              " [59, 'ea0ff4a5d8e8473e87ff84b53199a028', '쿠니스가'],\n",
              " [60, '9c5ff47bac9f470e86f1b6132978c7c3', '노르웨이 아커솔루션을'],\n",
              " [61, 'f99d14fb4223418ca2233201cc43dd8b', '사장'],\n",
              " [62, '98ca087afa874cd38a8ee8844857513c', '의료법은'],\n",
              " [63, '8e1e40f545794756b6fd4c71f2639c8b', '스타벅스'],\n",
              " [64, '457f9d8816724c9586e1a3f7d47030a1', '6개'],\n",
              " [65, 'ecc1f6c85d90410cbda01a60beb21d58', '5억원'],\n",
              " [66, '4ef2e01ee93f4233803d0328f72b6bab', '2004년'],\n",
              " [67, 'a7f8e082a70f492abe90a436c278cae4', '《대전망 2014'],\n",
              " [68, '2e7965220b794c128f5799588f78df0f', '2009년'],\n",
              " [69, '3e95f9648c4d4c33b4321bad59af1bd5', '남북의 군대가'],\n",
              " [70, 'a55267f176db4de5a38320367ed1dd55', '10개'],\n",
              " [71, 'db654100d3224b709c2f295e3a443c55', '핵으로'],\n",
              " [72, '70e8ba63f75d4210872eba40593cf859', '아폽토시스를'],\n",
              " [73, 'cc97a7df4a2a49089d0af03f9ba52fe5', '보온의'],\n",
              " [74, '892ae41317c5454da1508bc485ca06bf', '고려은단과'],\n",
              " [75, 'da9406d63b7e472693f6808f4a9510a6', '쿠에농강에'],\n",
              " [76, '118ec0d35f7e4229adf395697548441b', '기아차는'],\n",
              " [77, 'ce4cdee1f91e40d893b6921093f80a88', '제약협회가'],\n",
              " [78, '1afb1f27b7d045e1be95dd695ed0d122', '박씨(朴氏)'],\n",
              " [79, '56244d02af244a0f9e53f93e360c4daf', '등산 스틱을'],\n",
              " [80, 'd767477d74884f6e9b4b00c7af02775b', '70선을'],\n",
              " [81, 'd03d1ee0450d4df1bf9ac084b16a6de7', '이달 17일까지'],\n",
              " [82, '66e29b2327cc421bb31d37be0ca66cbc', '시부야 츠타야에'],\n",
              " [83, 'dd0ab12d9a114116b48632301d7a887d', '8년'],\n",
              " [84, 'd1289e59884343199ab8f1d4206fdd8b', '3000억원을'],\n",
              " [85, 'ff5d575b472e4262a46baf7da37bdd03', '서울지방변호사회는'],\n",
              " [86, 'b0b46c54c04049638eac9d9800636165', '3만원짜리'],\n",
              " [87, '8987a4c74cf147c7b9849cea566ce85e', '나준채'],\n",
              " [88, 'd7bcf607c6d34b5baa2b6fb636c78bfc', '울산'],\n",
              " [89, '5adf4dccc7d2406dadf2f5b25c16257b', '19단계로'],\n",
              " [90, '78b9ab3ae85841afb3a09b9d8ed5a248', '남편의'],\n",
              " [91, '33e30ec59a724e68939a0977bccc864d', '이준용을'],\n",
              " [92, '24c6e791a5b84c40a3c33fd3d677328f', '3.1 만세 운동을'],\n",
              " [93, 'd2631aedb48b476383ed0b9468d78c6f', '총리대신으로'],\n",
              " [94, '82f42d9aa2d94b3ab591c9843258dcfd', '강원도관찰사로'],\n",
              " [95, 'a2f0258f0b5548af8fe5f3855263fd93', '강성형에게'],\n",
              " [96, '0b753b632aa746a7ba8c104ba19bd5f8', '한 살'],\n",
              " [97, '2b7fdce1f6b649d2b0168ad515899fd6', '컴퓨터의'],\n",
              " [98, 'e8e5b121a57346a08b832b57fab72eda', '동물'],\n",
              " [99, '41d5bc55e1b74a9a90e735146ad6fda0', '2만3000명'],\n",
              " [100, '53820f0e83f04ee0ab37650fd5b92769', '일본어에'],\n",
              " [101, '0dfaed376831484b9f8dc64c06f8f562', '정석용에'],\n",
              " [102, '5c1a55177709416591a3903fedeaaaed', '이집트 원정에'],\n",
              " [103, '0031e1338b1b4c31bbf9e099f68f398d', '3.3%'],\n",
              " [104, '54dbbc4eb7674832a12915e770562639', '23일'],\n",
              " [105, 'a55ba03e6f2348608890bb1a5e4f9679', '고사카 마코토에게'],\n",
              " [106, 'd6f8f9a372f3451488f62a9f3e58e0be', '에스타디오 아스테카에서'],\n",
              " [107, '5123bb80ff12415196205c47b3678f26', '비교언어학'],\n",
              " [108, '7fddd3f93e1e4c94a84a1b88eb1e6ea0', '무함마드는'],\n",
              " [109, 'cfd95c25de75468d8497e2a1995d0116', '봉건제의'],\n",
              " [110, '6137bfc0e1ad409cbb2b6d5e2f1cf4f8', '위원장에'],\n",
              " [111, '6f46d341bfa44a7894bdb44e998023bd', '일본 도쿄에서'],\n",
              " [112, '23497ee0f236415282ce307934ceefea', '현대해상화재보험이'],\n",
              " [113, 'f12b3cceb4d9435eaebef990b6453705', '독일인민당'],\n",
              " [114, '54e3f0fc460543d387680d0bfd36569a', '245%'],\n",
              " [115, 'ba0baa7950b44d719007ed9b4dca40ea', '초저녁이나'],\n",
              " [116, 'ca1b726647564317b085d7959f8ccb0f', '14건'],\n",
              " [117, 'f58a332425bc4cfaa94f12637b67fdb4', '2016년'],\n",
              " [118, 'e2536556f3644f7e89e885baab6e487b', '콘테스트 포스트시즌'],\n",
              " [119, 'fa7c91f5281c46b29baa3c2d37e31a54', '바라크루드는'],\n",
              " [120, 'ec64f6eca6ad46a3978ca0fef7a577fd', '일본'],\n",
              " [121, '00fd8ee0574640b891cdd7c36d871555', '청산염이'],\n",
              " [122, '0a961cb0b35f4d6ab4b06057bdcf6a5c', '회복세를'],\n",
              " [123, '85dc4ac3b6f3480c814f19406bc49cb0', '납중독의 위험을 방지하기 위해'],\n",
              " [124, '11f72ac0b9e84c658f6ed3683939326b', '2016년 3월 1일에'],\n",
              " [125, '0edee34fe2aa43718bff69c2e8c2da3c', '심리학자인'],\n",
              " [126, '07bad6c932554ef7b323634003d5fa19', '상호집단관계에 관한 문헌'],\n",
              " [127, 'c4d7cdc471e64f2799d44aba93c98178', '10년으로'],\n",
              " [128, '5760b28efdc8448289ed5d2756adfa34', '19.8%'],\n",
              " [129, 'b2347c6893f64f76bb91143813503ada', '박성훈'],\n",
              " [130, '201f27cf406544869dcc2b2fb9c4f8b6', '이른 패배로'],\n",
              " [131, '212e0672b50d4d91b3cc01d4b008b17b', '37.5㎑의'],\n",
              " [132, '76a4edcd2fa74814b522e313e3b24c3a', '보수 이행이'],\n",
              " [133, 'c823b23f30ea4267a2fa6246c6c93a3c', '1954년 12월 21일'],\n",
              " [134, 'b54a7c56cc0745b196b254c5faae1659', '피터 케스카트 왓슨으로'],\n",
              " [135, '3cb8ed32d05f46b2835d6d354180c566', '13시간이나'],\n",
              " [136, '0eff442422cb46d9bac9dff27a7003e5', '베트남의'],\n",
              " [137, 'cdab288dc16140138cd44b92af841ee1', '56만원이나'],\n",
              " [138, 'd7bc00bd288f4d98a13e72cbad1e2fc8', '아르딜레스 플릭'],\n",
              " [139, '8318245d866c4853ad84cb39b5a0bc67', '63.7%'],\n",
              " [140, '3ae8295488ed454f86a9bfbfe02d28d5', '2012년'],\n",
              " [141, '61d1137800514fa281b559dadb22e8da', 'HSBC가'],\n",
              " [142, 'f114a5ecc25e44cdb2c4230b39d4b8a8', '5도에서'],\n",
              " [143, '526af8ec2a814328858440d26d6ec7ed', '야기옐론 대학이라'],\n",
              " [144, 'f7847570c872434ca26c0ba9edf433a4', '파비안 루찬스키가'],\n",
              " [145, '8def78ef76354fd389cf30dd0fa1794d', '2부로'],\n",
              " [146, '0b071589b7a04248b746cf91ca629246', '550억달러로'],\n",
              " [147, '71be5e947b0e4608ac1d2590d33a50e0', '1만건의'],\n",
              " [148, 'c147740f29d64631aa285448794760a3', '사회문화'],\n",
              " [149, '1681cf29f10c44f39c1ae1ac6b0507f6', '1997년부터'],\n",
              " [150, '161931539b074fa9b6478cafc3e7de46', '발전기라고'],\n",
              " [151, '43645972bec0477b8a69280ad8304cb6', '진주의료원을'],\n",
              " [152, 'd5de17f7ea8f4478abf65e08012fd29c', '인터넷도'],\n",
              " [153, '6489a01bea9a4a03ae9be02ee924d0bf', '버락 오바마'],\n",
              " [154, '72abcff83d054cc89bb673bf0ac81625', '1억원'],\n",
              " [155, '505860311acb42a38e0dcda8e7e2d64b', '51개'],\n",
              " [156, 'a7c21be7c40841a8bc585435984cac8d', '보험약관의'],\n",
              " [157, '22414ffcf1c74f63a7127ccff4b0870c', '쉴드 빔'],\n",
              " [158, '3abd05d039c7443f85cb25c7f8e55a59', '외판의 더러움을 제거하기 위한'],\n",
              " [159, '5933901a960843e6a2bb198e795bd655', '정책보좌관은'],\n",
              " [160, '0d78a1dbe18c46ec8b9736be2033d68d', '박춘섭'],\n",
              " [161, '97773a3f3b254d3a823fbcab0e88e935', '평택'],\n",
              " [162, 'dad39c851e784bc780a9fd7f1a6d21f5', '25일'],\n",
              " [163, '6dbe801c28114a319f591f05af47b4ba', 'AKP가'],\n",
              " [164, '0e34ca71d594403b914f6495ae55c7d1', '43%'],\n",
              " [165, 'bacf3e44b37d49ad9d4a63810bb571cc', '신테카바이오'],\n",
              " [166, 'c49fcb1836654753a4822f86b1cc3381', '조지 닐센은'],\n",
              " [167, '8dcef04b80164e86bdd901d4fa92e2ca', '지니퍼 굿윈'],\n",
              " [168, '211f00f2adac4e4dab99c8693abfb543', '지난 1월'],\n",
              " [169, '5f95af3cfec247d2a673e530b8ef37cb', '제13대'],\n",
              " [170, '07485303641241a884b9c18aeb339903', '베트남'],\n",
              " [171, '054fc6cb018749b793e8f1695fc04a1d', '기독교의 확산과'],\n",
              " [172, '038100b1cdfc4cd2868d1419128529aa', '1930년대 초반에'],\n",
              " [173, '4e3447f9cfec446a916c6a21768d2a14', '네덜란드가'],\n",
              " [174, '832c63f772b34f919744e17e1e79c539', '고태용'],\n",
              " [175, '2f8f77b51ea3493a9a3c68699a2637f9', '2009년 12월'],\n",
              " [176, 'fb38d5d0aae04718bdcf8e12f5504d87', '빨대족'],\n",
              " [177, 'e0bea968f2b7429dbe0896fe4de1fb88', '라위스달'],\n",
              " [178, 'f657a16a58084f478e757adaf8baefcd', '카이저는'],\n",
              " [179, '85c4155e55a74c87b04efb19f5eb5b42', 'KDB캐피탈'],\n",
              " [180, '82d0d0c2232340a1954623f820e5431c', '2011년'],\n",
              " [181, 'c834a2382f0b4bcfa663c3773e79cb09', '홍기택'],\n",
              " [182, '184f957c5ff34677aa28c787fa506f60', '30권의'],\n",
              " [183, '3a74b7af573341ae97813cf4dd51a1f7', '펜트하우스로'],\n",
              " [184, '0b61759afeaa4b3898b40f7aafb1b964', '에베소에서'],\n",
              " [185, '0b0835cee34741708b35f4532892dbf4', '5만2000원'],\n",
              " [186, 'e28c92d8f26449c484c1cd6a862c7547', '스위스'],\n",
              " [187, '0d72518ed5374e26ade5368c6866f589', '1시간'],\n",
              " [188, '139d095460cc4f2689705048b1bb1ec3', '5일'],\n",
              " [189, '9e56bb135906409b8bc0b1657e5b44ab', '세아특수강'],\n",
              " [190, '68af9621281d4defa1ff8969f0085dc9', '2500억원'],\n",
              " [191, '26977c1ecdb947cab8f1af1f95c77f5c', '34개'],\n",
              " [192, '3eb5d5eb08494d15a73ffcb853ca9544', '호교론이'],\n",
              " [193, '6d2052a0fb0e4333b031686e0e8f5d6b', '증권업이'],\n",
              " [194, 'cca4cc6f0b794e1b8462bfbaed63d2d6', '절도사에'],\n",
              " [195, '8fbe0dc8c8084c5a9aa817fb133f80c6', '요새를'],\n",
              " [196, 'd02863f59b414daf8b1be12ee563a4d1', '28일에는'],\n",
              " [197, '4eac2c9833ba452db1922cd42abcee9f', '박근혜'],\n",
              " [198, '0fa73d294f4a4f3989415bbd88c36076', '글로벌 금융위기'],\n",
              " [199, '93d82f7049d641ad97705de3cb430870', '레이프 에이릭손의'],\n",
              " [200, 'df944721bcba4a2e8d179d66d3e4ff08', '배터리'],\n",
              " [201, '499ed4972ad94a1584292d0649d84f6a', '864년'],\n",
              " [202, 'cdd18a3f21584c8eb9e1512429ed0cba', '4.7%'],\n",
              " [203, 'fb2e09c5a80d4374b9bd7d9949c2d086', '점수를'],\n",
              " [204, '29382cf6855e4d8a9760ed634b4ae99e', '펠로피다스 일파에'],\n",
              " [205, 'b21d149eae704a8184c6d394eef4c680', '아우토슈타트'],\n",
              " [206, '4d61553e8c8144689b5ac50ef61e15d9', '렌딩클럽은'],\n",
              " [207, '62f9d1f2d7214a9c84d3a7b891a3e1ea', '유화제는'],\n",
              " [208, 'c8c1e217f2de4ffc8c6c57ea3d811140', '2년'],\n",
              " [209, '5d0c4ef9194145609e9d55afa452d49a', '32주'],\n",
              " [210, '8d9dc4fce2db41398c63920dfbe3d18d', '웹사이트를'],\n",
              " [211, 'b230fb56503142748bfc34ec7503acab', '일반대화는'],\n",
              " [212, 'fec74f352faa408ca8db014a0c0be589', '극작가였던'],\n",
              " [213, 'af02ba883bde420ba489452c18057fb4', '경제부총리는'],\n",
              " [214, '1f1e1b849102434db4711c9daf276331', '한국은행이'],\n",
              " [215, '3d850dd0a913401f8b51e122eb915e7e', '1,500 mg의'],\n",
              " [216, '76ad7998b9734e098996fd6c81f09505', '개혁을'],\n",
              " [217, '45841ac452284d678ec9b8eb5d2bad0d', '2006년에'],\n",
              " [218, '90ef5ee9ec104291b1c13cf11327540d', '낙농업 법안을'],\n",
              " [219, '0ea4d05a9bc942bd94cb3f445fb07acb', '6월부터는'],\n",
              " [220, 'dcd65569aafe48e697d1a381d5e0f509', '김동식'],\n",
              " [221, '3eaa049dbc104f25b00736c0da238cad', '공공택지 신규 분양 물량이라고'],\n",
              " [222, '2c61e60083d54bce964474732a792558', '1848년'],\n",
              " [223, 'cef62314d8bf4235a3a7388f9839359f', '1817년'],\n",
              " [224, '83017d39e6b143c5bf53ced58ddf4f7d', '영국은'],\n",
              " [225, '36321d16506644e79cc9ab1307b09694', '1676'],\n",
              " [226, '2bcf529ee6fe449aa36fcaa8936d9840', '왕건을'],\n",
              " [227, '23593fa75a8445609c6e0d5409d194ad', '견훤이'],\n",
              " [228, '464ff62fb231440ab87e3e0d288e27ff', '김강자'],\n",
              " [229, '9aea3cdc8966498f8b9294dbc4867063', '‘갤러리아 포레’'],\n",
              " [230, 'bcb31847802643d5ad5c630641d9b05f', '1993년'],\n",
              " [231, 'f81c22521b3b42aeb8359307abe38760', '2009년'],\n",
              " [232, 'e4d5d0c8b4bf4f1ca812ede967529d79', '여름'],\n",
              " [233, 'cba211075a024d049bba62d1bf97a5e8', '2002년'],\n",
              " [234, '3620354275dd47fc8b27bc1f7e5bd090', 'HOBM이란'],\n",
              " [235, '04c126fb841f44928fff4d684074061c', '이란에서'],\n",
              " [236, '2a1fd6c3eecd4dd1b0d607a4f9109064', '박재욱'],\n",
              " [237, 'f845aaf791ec428f88ca775ed52a6bd1', '히타치를'],\n",
              " [238, '294577974ccc46a1a940af8aacce254f', '기상 악화로'],\n",
              " [239, '440dfaad60654b788677d47c043801f3', '노르웨이항공은'],\n",
              " [240, '707ba9db6a514bbfac1eca3e39184848', '장면은'],\n",
              " [241, 'd8026eb9c6194a05a505bf4956855e45', '하원의'],\n",
              " [242, 'd345814b765a45698af3ee7d43300f86', '1960년'],\n",
              " [243, 'c84cc391df154eadb64761bf6e69f9bb', '카르멜 수녀원으로'],\n",
              " [244, 'bb2f72f5c0a447f09cae9919c1818496', '카르멜 수녀원으로'],\n",
              " [245, 'a9fef1ad012e4f068d97338b232187c8', '김수환은'],\n",
              " [246, 'bd1fcd272d7b4ed5baecaf02cbd9e05e', '이승만은'],\n",
              " [247, '647cb6204c3641a9b5051cabb5706b7f', '5.16 군사정변으로'],\n",
              " [248, '32e0b99a0a85459e88cd118058f3ff42', '장 모씨에게'],\n",
              " [249, 'd0e0a615a7d24e1486dc6ec92872ec61', '젊은 과격파들에게'],\n",
              " [250, '9ab3b3bde2a046dda8671a2506720af8', '김두한이'],\n",
              " [251, '0382f94903804df0b1501cb00895e6cb', '6.5 이상의'],\n",
              " [252, '2035312e22fe499abc85438fa36c4c77', '제너럴모터스'],\n",
              " [253, '15936bbc0b88459a95f732a45f2c86ad', '달이'],\n",
              " [254, '72c4b72e89a64532b46acc745b279d89', '국회 의원회관을'],\n",
              " [255, '337f850df7084cbeab43509a6d772a4b', 'GIGABYTE'],\n",
              " [256, '2365ac6de47e485fb4fa8759fa4c561f', '9월'],\n",
              " [257, '89546342a7c04e2991c0b7de289c5b89', '30%'],\n",
              " [258, 'cc00fc98e2e541c28639ee9385990021', '독일이'],\n",
              " [259, '9111156d62304034a22f051890be93d0', '자아에'],\n",
              " [260, 'a5082da17b1c47009cfc5747df39de0f', '헬룰란드이고'],\n",
              " [261, 'e8a42285f0014191b7fc6bf285bb69a9', '안상환'],\n",
              " [262, 'e725e4d759b843de962f6a1d98573b9b', '11세기 중엽의'],\n",
              " [263, '8c42ffb71b704b918b1336e1b6d140ab', '가즈사 부수의 난'],\n",
              " [264, 'bf85e92f35d34054a4abe0eaadb6f3cd', '국립중앙박물관'],\n",
              " [265, '21c05370403a49dea3c5becbc1db9518', '프랑스의'],\n",
              " [266, '07ef8a8389bb46f381e5d0d44753ef4b', '엘리옥스로'],\n",
              " [267, '6cb93a2212474a05807d38472c3aa839', '392달러에'],\n",
              " [268, '050c4b587287412e8854153f12c34cf8', '엔저도'],\n",
              " [269, '81c8643708c74492a8ed616cce1a47af', '알렉산드로스 1세는'],\n",
              " [270, 'd625d85fa07844149d62afc706d88343', '키루스 2세가'],\n",
              " [271, '2b916e27bfd4430980e594092ad53ca3', '존 리'],\n",
              " [272, '721239f7ab3d4b2ea88a54c1fd5e55b6', '중종을'],\n",
              " [273, 'c43b0b33a5da461db94a19933e30f85f', '문안차 대비전에'],\n",
              " [274, 'ef0ba40b5be94a948d66dfbbdd486be5', '12세의'],\n",
              " [275, '7a91d132ef8142cda418d88f33056b20', 'CEO가'],\n",
              " [276, 'b26b6ef60d2c4c7aa98c2724caa4ad6a', '머나먼 다리'],\n",
              " [277, 'c8982d7799644790bfded7dab79b5718', '요한 B. 크라머가'],\n",
              " [278, '20dbea42651a49c7b5deadadeeb02ffc', '런던에서의'],\n",
              " [279, '4a8d744d9c514af992840be505127bed', '황제'],\n",
              " [280, 'aef50f17595a4455a7a4e20eb74e9e60', '2월'],\n",
              " [281, '101869015bde4606a3590b96e2e373f3', '40~52시간을'],\n",
              " [282, '5ba763895b6446919db0900eb1562a4d', '10일'],\n",
              " [283, 'c647932c9b61444ca2dc1b80a8473ee7', '대웅제약'],\n",
              " [284, '9870ca619ced40d9aa4acf17a135176f', '도버 밀에'],\n",
              " [285, '1af4c27d3ae04c6db4e9eb9b2d06a707', '흑인요소가'],\n",
              " [286, 'adb57f1bc9884c11a8afcfddc45ba0fc', '민성은행의'],\n",
              " [287, 'e0d9947680514ca592213b71d9814a0a', '교수로'],\n",
              " [288, '512eef1a668741c2b14d97e53c7dd077', '25g'],\n",
              " [289, '5a2f221d40d8468c94146d5568f2cf33', '1990년 9월 20일'],\n",
              " [290, '21e601f6ac574ee3bba8ba4986dcd9ac', '지난해 12월'],\n",
              " [291, '8fea0e5530ff4f9aadfdbe9d2d46ead1', '30일'],\n",
              " [292, 'e2e110a1f4e44abd965f5ac5e509f715', '일본에서'],\n",
              " [293, 'ca71c63501314c5e8685d787ebd5db19', '2011년'],\n",
              " [294, 'ba69fe176c804fb3bdb93e4d7b816bcd', '안홍섭'],\n",
              " [295, 'd41304a320714c8bbe29a3a31aaba390', '국가안보상 필요할 경우'],\n",
              " [296, 'bbdaa55164bb4198b72bced634f50b3e', '지난해 7월'],\n",
              " [297, 'a8414ab0fe954317b2cd0e828b46c1c2', '3억~10억달러'],\n",
              " [298, '7bd9d3a7f3504af4ad2d9d43c269a81a', '3일부터'],\n",
              " [299, 'f8da6de06a1c49458fe68c5c0c1ac501', '광휘에의 각성'],\n",
              " [300, '249dda7964454856827822f3300852cf', '금융위원회의'],\n",
              " [301, '3cd84df120a94daab37acd0c3e70738b', '김부선'],\n",
              " [302, '2481aae020a24c40bbac5695866a368c', '2223대'],\n",
              " [303, '2d3cab93832a4a18a09c9ab6b05b2d49', '사실'],\n",
              " [304, '589cf54530544062b8c800809ba23d4c', '슬래브'],\n",
              " [305, 'df569c274dc443d98d7adc1bc9036279', '알렉산드로스 대왕이'],\n",
              " [306, 'fbecbcd47e3145a59207715b76da76a7', 'CDS는'],\n",
              " [307, '9b768f3b56254c2b9bc0649ab718f3ac', '민주당'],\n",
              " [308, '6dcfed206c8747a2a00f8f3e9036662a', '아테네올림픽도'],\n",
              " [309, '232172cbd6504e8982ba3d172d4dca09', '3일'],\n",
              " [310, 'c2be4cfcfaed4517bd6a6b1af0b9cd76', '그레고리오 7세는'],\n",
              " [311, '4c98821064934074b776dcf00321e63c', '토)'],\n",
              " [312, '5f997b33e18c48cca002fbcc96669868', '마술사들의'],\n",
              " [313, 'cbb68a805c3c43949286e4393c181642', '‘아크로힐스 논현’'],\n",
              " [314, '4eae3839527a4923ab0535d60dbbe028', '5월부터'],\n",
              " [315, '8e9e24d7a59c4aa4b05cc580d62ac3f6', '국제에너지기구(IEA)'],\n",
              " [316, '47f92746b80e413997a349fe5dcef69f', '헤이든 크리스턴슨이'],\n",
              " [317, '1e5834586f194ed28b5ba1debab78ccc', '사랑 부분은'],\n",
              " [318, '44c28d31d6a942399dd30fafb94e9d9c', '김용'],\n",
              " [319, '9bc1b79fb37d454ca3cb0d7acda1a06d', '김용'],\n",
              " [320, '26d1baefa9ee448784cad87af0220272', '백성들에게'],\n",
              " [321, 'fe73486858e640f3bf3cefb1b3d46562', '순치제'],\n",
              " [322, 'f324289ed1c3422ea8762aa4c5f82f79', '알뜰주유소에'],\n",
              " [323, '80c0ec699ca3416d8d2c809d4772d5e3', '애플'],\n",
              " [324, '04db2739901c480d9d1c1fa6714aaa96', '온타리오주'],\n",
              " [325, '313ec84b574e480ebee279f1da91ce5b', '두 시간'],\n",
              " [326, 'fb56640e421843a5a06b35cb242af541', 'KB스마트폰예금이'],\n",
              " [327, '4b22d25369934642b4f99d186d6b975d', '알코올에'],\n",
              " [328, '2a4caad041bf481a8ae53441fdae4a6a', '36%'],\n",
              " [329, 'a37d4c9223f04cd2a04acbbef5178b0b', '삼성동'],\n",
              " [330, '819122f4b49e431eac7fc83d1394d36c', '인도에서는'],\n",
              " [331, '3d2d6556a78a4fa4ab2fcecaa725e3e9', '이통사 영업정지도'],\n",
              " [332, 'fafb738db66142b08ffcf38cb8e61ca8', '전남 함평'],\n",
              " [333, '1d210d69448b46a99953720d90f4b264', '남성보다'],\n",
              " [334, '03ce2ca02b334bf69f2dc2514235fb0c', '샤오미에'],\n",
              " [335, '8359b1a634db448a9959c4201a9fc16e', '23일'],\n",
              " [336, '7306fd718f3148cb8b84d18315fc7715', '고객'],\n",
              " [337, '015354dbf9df47eab8a25d7bf5702a17', '관료 자본가'],\n",
              " [338, 'd57ebed21c004ae9b197e1802a1e1c83', '개성공단종합지원센터의'],\n",
              " [339, '74e13802f0734ec8b7424523d0410507', '프랑스에서'],\n",
              " [340, '08f43d7d189142198903c3f23e152018', '파로스'],\n",
              " [341, '45ad2be70bc04da8854da0bc85d1d215', '서예지와'],\n",
              " [342, '1e903f17e8b44673b97711cca9be302d', '김상태는'],\n",
              " [343, '0476d2ac10a04238b293d40d6063c2af', '기독교선교사들로부터도'],\n",
              " [344, '793df67f923d4c0dba63b42d22b261ed', '1916년'],\n",
              " [345, '8edfdd6c91d748508cc67bad1f8d9828', '김옥균'],\n",
              " [346, '2a058c7eadc1420ba7c7fd720d7b9f5f', '윤치영을'],\n",
              " [347, 'c6087360f39f4b5490f7edd0a4d9fe8e', '1934년에는'],\n",
              " [348, 'd918416331924cfb80db334a6a0372d8', '정약용을'],\n",
              " [349, 'ca5419c2d59e41acbf6bd3941f504b46', '일제의 통치를 찬양하는 일부 구 대한제국 대신들의'],\n",
              " [350, '12b4c64643574fcbbdf5df99e7992829', '가쓰라-태프트 밀약을'],\n",
              " [351, '346eadedbd2847eca50bee38aa5caead', '정용진 신세계 부회장이'],\n",
              " [352, '1fb5c47c366c4262810240fe647f2b86', '스파크 EV의'],\n",
              " [353, 'ddec425813cd4fe6a7f4f9e57a582208', '사람의 마음속 근심을 요괴 짓으로'],\n",
              " [354, 'b290c1a421b94da7b197fe59dd013e62', '79점에'],\n",
              " [355, '0c3e7c7ef0e84c41b944fe375a9c4df9', '‘카멜리아 힐'],\n",
              " [356, '9e555bee4c3740cea9423a3003e6dc78', '세라믹을'],\n",
              " [357, 'ee925c286c4242e7bc674d0e90d4835d', '8%'],\n",
              " [358, '00cdf1eee2cd48488c205530f87ca27b', '10%'],\n",
              " [359, 'b5356ef24859422d9dfd879967a5d494', '34.1%'],\n",
              " [360, '943b1d3d9257458d9916b5a40cc79c6a', '1978년'],\n",
              " [361, 'c85adcdc2dc34354a4efa9314c17a340', '8.2㎜로'],\n",
              " [362, '3faeeb679504463eab7d80b466e4a473', '권오준'],\n",
              " [363, '933d084ca5ae4fbca4e9a7fb798de315', '스노우'],\n",
              " [364, '24f154f03ad24f42bea024eedf429136', '15일'],\n",
              " [365, '72c3d8707db34a758b61297b9721a2f6', '니시자키 유키히로'],\n",
              " [366, '027b147550fe42c3b36a93e09ef217c0', '페라리의 스폰서 보다폰과'],\n",
              " [367, 'c80a069fc15441598ae91f78e88e18cd', '페라리의'],\n",
              " [368, 'b26b7be3e05d40bd901a2dc741383c22', '11월 14일'],\n",
              " [369, 'd7ce347b4beb4636a6291110712972ff', '4.3명에'],\n",
              " [370, '97dd6bb8847045d3b7d1fe092c928812', '지하 1층에'],\n",
              " [371, 'cb1395bfce6641d2ba68f7c3c18d3fa8', '타운 스퀘어’'],\n",
              " [372, 'd817330d9eb04f479a807529210bb94a', '관직(이조판서직)의 사퇴의 상소를'],\n",
              " [373, '2c0c46fedb954c4ebc0a6ee559ab1984', 'C5 에어크로스는'],\n",
              " [374, '10d0dc12028142b1aad0ef07b6b0993d', '2008년 하계 올림픽에'],\n",
              " [375, 'c077cc7ef6aa4559921124f141fe26f1', '대만 AUO와'],\n",
              " [376, 'b5c55823e1cd4700800872e0c428a42b', '뽕짝을'],\n",
              " [377, '2ca1d03480ae45c4b57ccc42a1cfed21', '김영하'],\n",
              " [378, '00dee6880e704a64a69ca8a9327fa790', '김연수'],\n",
              " [379, 'dca3497a9a9b4e4d832a31dbba5c2c55', '468.22달러로'],\n",
              " [380, '3c10af9e46704c08a89685370ca369cf', '나라살림연구소가'],\n",
              " [381, '78d4d663501d47399fc271157cc9e31c', '1994년'],\n",
              " [382, '1ea1ca84df3748ebbc5e544d90524775', '1988년'],\n",
              " [383, 'f90bd3c15911468f8b5e55272db135d8', '한국능률협회컨설팅(KMAC)'],\n",
              " [384, '43e04c35f7b24afcac914ac516e51bb5', '입법권에'],\n",
              " [385, '0b133ca3967a45eda697a147a8d42e7e', '3824명이'],\n",
              " [386, 'e4dc1eb3d3a04684916e1fa3dbff52ba', '선운 2차 EG더원'],\n",
              " [387, '5dd75f2c39814995b2e34bd6bd6a414a', '방송계에'],\n",
              " [388, '87be4faf88e54b33b72e05be3bd575f0', '2018년부터'],\n",
              " [389, 'b0dec37319dd4f06b5e103058ce1d557', '5명에게는'],\n",
              " [390, 'a4debeab15de46e2b8357eecad3adda3', '서사하라 국경에'],\n",
              " [391, 'ab39f3ae6b3548b4b141ce22ef3b8170', '177㎞'],\n",
              " [392, '44adb4a3e03843ff96e5187031cf5427', '《동국여지승람》'],\n",
              " [393, '26d61b10104542f69b2b7d8e3e6d6fe1', '[스위니토드]'],\n",
              " [394, '9d09643e745641fb831271886257e93f', '37.5%'],\n",
              " [395, '7fbf0fa5ceb045c79b8d94cbc53276e4', '타다는'],\n",
              " [396, '1200706851f24f839f46af5ca29eb837', '1만6009가구로'],\n",
              " [397, '8c2ce0fc7a454a55b16e7f2b66635f8d', '‘오줌 마을’'],\n",
              " [398, 'a45f8f22e3854dd5a971a2360e013741', '아이온택트 온라인’'],\n",
              " [399, 'd18ea678cd18431ba9dd8cf9ab044da3', '조영달'],\n",
              " [400, '5824a90a247e4d7db11b1c5858f98209', '2017년'],\n",
              " [401, 'c9b41ba6cde440288869b1a7bdde266e', '2017년'],\n",
              " [402, '79870d8968a14c2aa4f9a2d26d0a64b0', 'M1라인을'],\n",
              " [403, '03835ac18e164c79b62525fc34b042e8', '인증한'],\n",
              " [404, '9c3fe85fc47748bfa33572201a8abd5f', '독일'],\n",
              " [405, '92cfcb500ce540d58c9de63b5a7c09cc', \"하나님'의 존재는\"],\n",
              " [406, '7841163af82f4fdab902f197b80599b8', '21명과'],\n",
              " [407, '51607a9a479d4b1eb58c8f6f19b827dc', '46.3%'],\n",
              " [408, '2e65276ec05b470d9b4d1608944e75b7', '자율주행 전기버스 · 디젤버스'],\n",
              " [409, '2ce077b932724f95be0e053b0e52bce9', '지역'],\n",
              " [410, 'fa62dbe745bb4b97958691ba64e2fcf8', '홍콩'],\n",
              " [411, 'bd914399e6b4417f9a73f78b5c93b157', '1933년으로'],\n",
              " [412, 'dc1d38ce868b433ab75ca4780b3e5d73', '9월23일까지'],\n",
              " [413, 'dfb1075da10746199a2f7254888008de', '5억원으로'],\n",
              " [414, '816a0490d5114aadb42c8894a843193e', '▲맥도널드 빅맥세트'],\n",
              " [415, '36a4bb0f78c34432bff8eb1078ff55b8', '수석 부사장'],\n",
              " [416, '5899566fef6d470194038b60a5112a33', '서대문구청장을'],\n",
              " [417, 'c767e25dc7d045bfbab7ce84e2715aa0', '33.3%'],\n",
              " [418, '424e0efb25804b948f71c8d2862a2d32', '지난 10월'],\n",
              " [419, 'ef6e1ca52e5e4674a3128f64a162d599', '나노 소재'],\n",
              " [420, '325c2eb29593497892e15b4fd9af498c', '난징의'],\n",
              " [421, 'a68b4fc03d924326a4ba20e0ff92e18a', '프로듀서의'],\n",
              " [422, '0e24b4c789fa4d9d86d2050e4a374ba1', '노르만족과'],\n",
              " [423, 'b4a400f0c57b4c589561b730f01db8e0', '위도 대주교는'],\n",
              " [424, '8341dfeb7e674841bc2311e058ace9fb', '니케아를'],\n",
              " [425, 'bd280ef85e924bfebe2efe9278bf094b', '2천 달러'],\n",
              " [426, 'f0c545fe96a14144aeba6ef04d95ba13', '공동주택'],\n",
              " [427, 'e1e5281747b04740802ddfa27528f9f1', '서남부 지역에서'],\n",
              " [428, '811d3a8c24b14e4b8351cd6a714338e6', '410억원으로'],\n",
              " [429, '1cb078ac98d640ab9ccc49cef5fc331b', '410억원으로'],\n",
              " [430, '4864a9cfe6a547458432b23520ff4af4', '뉴욕을'],\n",
              " [431, '347afa4e98494d69a914a9c433515c52', '워싱턴포스트는'],\n",
              " [432, '698a931cb70247478130979ae81e8bd1', '엘디아 장수들에'],\n",
              " [433, '83ac38d5edbf4c1e8da240df07e74de6', '태초의 거인'],\n",
              " [434, '503f48c17113408b969ac905f95b586b', '박동창'],\n",
              " [435, 'a28305b2975e4905a1fc4713f6c52a38', '테슬라를'],\n",
              " [436, 'b855f0bc00894e65bfbdeca3cfc0b3f4', '개포동 주공1단지'],\n",
              " [437, '5d60e534db5141eabe50bb9f15c0605f', '월세라는'],\n",
              " [438, '1773392872e145c084043c7a2a5fd396', '1천원에'],\n",
              " [439, '476c7cc9ec344b1caf4c2177616f962d', '텔레콤 월드 2015'],\n",
              " [440, 'a04eb68ae8b1466bb41646385f2a3259', '24건'],\n",
              " [441, '64c898db13c441b8b87d200e564fb4f2', '탄광 환경 문제를'],\n",
              " [442, '3922d083bd844b02b1b7ffaa51549624', '교황 선출에'],\n",
              " [443, '8782be1227c74790a756dd96ea5e036b', '동로마 황제 포카스와의'],\n",
              " [444, '6e619e687c104e9baa9ecd12d71938e9', '미국은'],\n",
              " [445, '92e63708c68143eb92b2de82e3037969', '시리아 반정부군에'],\n",
              " [446, 'a1c6abb89b274f42a6f2a64dedec2460', '정교회의'],\n",
              " [447, 'd61b0e73857249e4a9d59d76202f4753', '카자흐스탄'],\n",
              " [448, '9dea794b4cd74e44b4f88cfca642eeb7', 'CDMA를'],\n",
              " [449, 'eb399036a7f84b2ba6c6d201bbce6b72', '표지훈'],\n",
              " [450, '9bf8c45199844b87b74aefaa85b8da5d', '퀀텀펀드를'],\n",
              " [451, '435adb9694ec49c6bd45007e9e920350', '2011년부터'],\n",
              " [452, '316fe06e9ef14dd5994fef62f9acdf5e', '청일 전쟁으로'],\n",
              " [453, 'e6132728b06345f284065509738699df', '장시성의'],\n",
              " [454, '1115a3ebee0645e68219942a01439aaf', '마오쩌둥은'],\n",
              " [455, '35ebf53665cf4b7585b00c149a47f6a7', '홈쇼핑을'],\n",
              " [456, '01a98ef91095404586ba506c05602e98', '2명을'],\n",
              " [457, '1fc969c4bdf94832a8ee44050d689e60', '공화파 민병대가'],\n",
              " [458, '812a620bf8b7415492e3efff883bfe99', '6시 45분까지'],\n",
              " [459, '0b1cfbe0ec09444ea08600cf0532c825', '현대전자에'],\n",
              " [460, '3b227f64f6354834bf7cea6c2697429a', '2020'],\n",
              " [461, 'e9b186f3866741b59e47f5cdc6bf8eb3', 'www.saramin.co.kr'],\n",
              " [462, '06cc3bff30d74e3ab9b1c5baba913180', '18일'],\n",
              " [463, 'd47500a94cab41b29534963190a1ec21', '짐 크래머는'],\n",
              " [464, 'd3ea4df4d9a14ccb992780bf2bd4512d', '대두식품'],\n",
              " [465, '722fedae3d934014ae266beb89495409', '김현주'],\n",
              " [466, 'c3b4f575ddd945a9897cbca010b0288b', '3월'],\n",
              " [467, 'a3dead7463054b97ac293d27061cf4a8', '5명'],\n",
              " [468, '9b3dd03f7a3942b1a5dea9ceb0b68fb0', '15개의'],\n",
              " [469, '27df8447ea4242ac9549384a31cfca23', 'DC형은'],\n",
              " [470, 'bf61da5160a74e69a988cd62362ba817', '2만4900원에'],\n",
              " [471, '5b04536455254b3199e34c55521e7d08', '모스크바로'],\n",
              " [472, '71668b25d34b4202ac9a6278532abe16', '핀란드'],\n",
              " [473, '8976b194dc424b37b57956d8ea58799d', '6000번대'],\n",
              " [474, '44b5cfb9823b498dba789443413b57be', '원창선에서'],\n",
              " [475, 'a5df67af7505466fbc6dbf2c146ab0d8', '8K 시네마는'],\n",
              " [476, 'c29fabe7fb2143a8b3b2d3fce2da1bc1', '1987년'],\n",
              " [477, 'e5b8d98e0f604db2ba58c50b793ec332', '지난해 9월'],\n",
              " [478, 'cc39a7b5a5ed413cae8c6ebceaf262d5', '임파워링(권한 위임)CFT도'],\n",
              " [479, 'c910664c44094564847e61f814df5d50', '삼성이'],\n",
              " [480, '161b8eda2eae45af93f71ad3752201d7', '‘금형 아카데미'],\n",
              " [481, '68527b554be54640b6ca762da6e1c82f', '2637 대 1에'],\n",
              " [482, '734f332c5cf74335946d83ecc7f1b11b', '기촉법에'],\n",
              " [483, '7b5e587029724cb085026f853058c153', '18.6%'],\n",
              " [484, 'e07bf7b386b14567b355faeb1f8e0d9b', '장성근'],\n",
              " [485, '6ca4e09b91414579a3323ee74489eb46', '천구 이론을'],\n",
              " [486, 'df6f53b162e04c68a85363d1ef8bfa7d', '미하일 스코벨레프로'],\n",
              " [487, 'af5c65f62a114624a62c19d4a5c934b2', '원주지방국토관리청에서'],\n",
              " [488, '0229e67ec57f48fe85b8c5b97e71ad8b', '코임브라의'],\n",
              " [489, 'baebfc788f1c4797971d4f926b58aa55', '6량으로'],\n",
              " [490, '22d037d7e2d74febad567405dbd5bed9', '존 토리는'],\n",
              " [491, '3b0945968b174a4a80f20374fe72275a', '김우수'],\n",
              " [492, '4759b7e45ac346abab9e6f141f089100', '앙리 블랑슈와'],\n",
              " [493, '2c2b1b7830324c78bded84b72b8dd457', '보수당의'],\n",
              " [494, '06f3ac4f27c64bf9a4c2fd8257c27ef1', '미래창조과학부는'],\n",
              " [495, 'c02eb757444d48ddba53b2900c72d136', '11일'],\n",
              " [496, 'ffd048f3f156445393876f4aef28dc7f', '우주팽창을'],\n",
              " [497, '07ea9e3e29ee48cf8bd235ef54b13417', '38%'],\n",
              " [498, 'e9eb92491dcb4cab95ff09e023608f68', '2009년'],\n",
              " [499, '323d7f4ec8584eeeb12e487c68050052', '‘디셈버’'],\n",
              " [500, '3dc7e9020c6b431493079e163ecfb0c8', '11일'],\n",
              " [501, '351d0cc931f0485e94eff71dfe4bf3b5', '민현준의'],\n",
              " [502, '3209d094483747e594346056dd40a8ef', '아르헨티나에서'],\n",
              " [503, '878b0c51b1c84e6fb04d8267a750722d', '30조베크렐로'],\n",
              " [504, 'e9c20a492b5547eeb1c83d86c556687c', '13개'],\n",
              " [505, 'abf5eb5f3cae4e1cac7dfc50f26ecd08', '포도 농장을'],\n",
              " [506, '6cd7a7dcb0fe49cbbd3a00a1e38af21d', '1992년'],\n",
              " [507, 'efc8495c69df4c6d91e4c567d30a09d0', '9일'],\n",
              " [508, '57c88d982c4c47b58c43e83f54c0d44c', '11일'],\n",
              " [509, '93586a998431439f9b0e61fca5dc55f3', '백악관'],\n",
              " [510, 'adbfaa62db974edda07a2f07a42e599f', '국영방송과의'],\n",
              " [511, '0933b93d6be941a6a11a9e25541f7984', '2층'],\n",
              " [512, '751b77a5f692435888af470693bd68ef', '항공청의 요청에'],\n",
              " [513, '538f39740d03489b98f2e82919628475', '2011년'],\n",
              " [514, 'af21d489262549109b2427a8891369e5', '17개'],\n",
              " [515, '70c76af9e0054043afb1698b01fe396f', '의무지원관이'],\n",
              " [516, '97d43c9eb77a484089999bf6dab22e92', '최병로'],\n",
              " [517, 'b3ebf529f55d4476bed070b45d8677ec', '블록딜'],\n",
              " [518, '26e584ccc3aa49139ebbb24c6b7ad7cd', '닌텐도는'],\n",
              " [519, '18c158bbd09541acb87c6e33a1a39c0b', '고연옥'],\n",
              " [520, '39036fe00d784b63b9636c02b1061e18', '한국'],\n",
              " [521, 'df510c0ddbe64b73bedd64533f919058', '정 총리의'],\n",
              " [522, 'd246943b4a3a439d94614bb0d43274b8', 'KOTRA는'],\n",
              " [523, '8551049cf4204a0ebfcd46d77155a55f', '20대'],\n",
              " [524, '928c24e135644b06911d1ee959789631', '‘CES 2020'],\n",
              " [525, '70d740f73cbd48d3820c8ded9035d1af', '리에주 전투에서'],\n",
              " [526, 'b601149c12d44362ad3c6337ef8853db', '나성린'],\n",
              " [527, '8f58209c8a5f46adbfb728b7e6d581dd', '이명수 새누리당 의원은'],\n",
              " [528, '064d4946dac540cdad120a7f61dcb595', '4일'],\n",
              " [529, '1ef327133eeb43f2af9dc87cd302fbe5', '자유주주의 이념'],\n",
              " [530, 'eb12ccdb695b451eb25f38addb734880', '영국에서'],\n",
              " [531, '34ec08c0843f4654b1b088a0141171f8', '진시황이'],\n",
              " [532, '2a67315898314773a4b70d39cc759b58', '여름'],\n",
              " [533, 'ebbe7cce268348a49ef4aae979446ebb', '퓨처플레이가'],\n",
              " [534, '7125ea2680474a998429baf8d1c5e8dd', '600㎞'],\n",
              " [535, '9b94ef889bcc4a6d995edf4056d9e9bb', '1922년'],\n",
              " [536, 'd2a4644882614b82bf364fa5344e8074', '2년'],\n",
              " [537, 'dbe449ca0f8041a78c5ebb82f9e74fe8', '30일'],\n",
              " [538, 'c77f45b24d8446d29295b4d86af8329d', '21%'],\n",
              " [539, 'f9c0b2ae8c07408c9c2b382ae3ef0f32', '1819년부터'],\n",
              " [540, '31419a29a3864038ba3412e704fd0229', '민담을'],\n",
              " [541, '4b0589b1ba34462f981db21752ba112a', '일자리지원센터는'],\n",
              " [542, 'ffbbad4dd4e449118986025b602ca8a5', '4척의'],\n",
              " [543, '918ee1c802f547fdb9248ffe8679b44e', '15일'],\n",
              " [544, '23b08455c44a4087a856529bcfe95728', '마르세유전에서'],\n",
              " [545, '43c6389c426e4887aeec7de84640c60b', '신종백'],\n",
              " [546, '5b50f7cdd3f74c8296d53d464b726892', '자산효과 본격화주택시장의'],\n",
              " [547, '1f1ec3dba4174b78abf225e06255624a', '859억원'],\n",
              " [548, 'b1a9373eee9e42b681300017a8f7951e', '한국여성의전화를'],\n",
              " [549, '8c16a1ce78d140e48f9238432ecac153', '근무기록이'],\n",
              " [550, 'c36fb83311874aeaa89491273de458fd', '기원전 45년에'],\n",
              " [551, '8b9cadb44f584b818a66fad75e56521a', '베르길리우스의'],\n",
              " [552, '3fabc92a552a4e62b012e8afd3adc01f', 'Gaius Maecenas)'],\n",
              " [553, '172cbc28a3064b6fb7fcd2fd7ee64c33', '하나은행이'],\n",
              " [554, 'd82a59401dcf4c558907f0cfa80fe65f', '웰컴저축은행'],\n",
              " [555, '9ba0833de55549968a5dbf6a5dc9e37c', '세한대'],\n",
              " [556, '2cc79508ca88477ca2618b92be84f417', '유리미인살'],\n",
              " [557, '761e048ce40541e29b6ea9bcf95b6cbe', '가브리엘 레예스와'],\n",
              " [558, '0b9aab11e16b42f282fac8b1ee492105', '한국인터넷진흥원'],\n",
              " [559, '4048692abc9442e7822bc46c21c931e1', '프라다 지아니니가'],\n",
              " [560, '2b3eece6e7f5458aac591c64382f58a9', '티레니아 해 방어 체제중'],\n",
              " [561, '57f6510d6a444c60bc2c31494ba1c784', '지난 25일에는'],\n",
              " [562, '91725db68b774ceca912057afb4d878b', '적발이'],\n",
              " [563, '5eb2eab7082e4d52a17760831241e693', '채제공'],\n",
              " [564, '3b3ff83314604f2292c7b446827c896f', '‘창조’'],\n",
              " [565, '17f5b1293d334a4e9e17a02db79d341b', '진청시티에서'],\n",
              " [566, 'c7ac22ca753744e49ffac9b61d09c68d', '김삼룡'],\n",
              " [567, '8ee0f87e718c493f8d26b3ac4f2ff049', '독성이'],\n",
              " [568, '62ad7036c24a4f5dadba6a911c7b9316', '‘모녀 로드무비’'],\n",
              " [569, '3c68769fb913424fba4216a5deb8d4a4', '1819년'],\n",
              " [570, 'b518603573fb486e9253476ff14a09f5', '포스코'],\n",
              " [571, 'e38208c512854ca1b8a8b670ceec0f12', '1953년'],\n",
              " [572, 'fff38ad40b104080b31508228f431f62', 'AM플러스자산개발에'],\n",
              " [573, 'cc8f3952a81842e2a4349e2a15f30f12', '17억원에'],\n",
              " [574, '4bb1df511d9e4d76b879d6fd5ab9404b', '중세의'],\n",
              " [575, '677c3a9aa28f41d2aaad49fd7b9f6f9d', '‘학교’'],\n",
              " [576, '5c9c875812c24721a4344678345e11ad', '미쓰히데 군의'],\n",
              " [577, '059a53c0a3384f18a3caa35b20d97bad', '성철'],\n",
              " [578, 'cf61a7691887496e91b11adcd84304e3', '퀸티아누스는'],\n",
              " [579, '62c6b73b5258484ab6ddd9df28909648', '갤럭시S4의'],\n",
              " [580, 'd86fbb7ce6914fbca698f3274ce125a2', '네오플 제주 사옥에서'],\n",
              " [581, 'fe4add8fb5044328a641f229053d8e0d', '4.08%'],\n",
              " [582, 'e45b8826c2c7447fa2ac432278fe40ab', '지배파충류에서'],\n",
              " [583, '3577178be0834d19a558b75d93655451', '‘아르떼비노’'],\n",
              " [584, '9e7984876a5b47e18689b16c9e4b7da7', '문호준'],\n",
              " [585, '9032638d74a045c5b5420aeb3401c289', '진솔에'],\n",
              " [586, '0910b42812aa4c029868caaef5684cde', '호텔숙박세’'],\n",
              " [587, 'a0c2704fb5c34149baa97cda5960d453', '카르마 오토모티브(Karma Automotive)'],\n",
              " [588, 'c37836f36fbf470f9bfdcef8cc2e87ed', '71만4000원으로'],\n",
              " [589, 'b80c7991e77243b1819c972965bd8b74', '2003년'],\n",
              " [590, 'fda19f7772d74a508d5c18580e8310f0', '155%'],\n",
              " [591, 'bf75b875b4fa4c5abb5363c9b884fd23', '생산라인을'],\n",
              " [592, 'f38ecb1a5aef4ec693de912ac51cc430', '교육부는'],\n",
              " [593, 'edd643a730f6406f931b8f6c124596fe', '0.2%'],\n",
              " [594, '22dbe73d45be446ca4fe525c4cec1497', '자필 서명을'],\n",
              " [595, 'ca59d7700a8d47c2a185a65edc71d9c5', '89곳'],\n",
              " [596, 'd31620b79ac54772b30a04f7b1668cc0', '뇌졸중으로'],\n",
              " [597, '703891c315c64fc687942efeaeb7542a', '쾨니히스베르크 대학교에서'],\n",
              " [598, 'f216eb74ae0c452c944bb09cb26cdeca', '아이폰 업그레이드 프로그램’'],\n",
              " [599, '068a7ff436804c3b80f6858f749d473d', '피자헛을'],\n",
              " [600, '03499b60c1b641588e8875f0ef3f07ee', '브리지 판을'],\n",
              " [601, '08a8b7db2e2c4d31b3758e0ebfb6d478', '1057원20전에'],\n",
              " [602, 'f0e41f0674ed458b8531c9381cd23e27', '대기원근법을'],\n",
              " [603, 'd59ea19fa77d4557af353a611b707513', '차주에게'],\n",
              " [604, '191fe1ca4d284efe95a6349e64a09c31', 'V낸드플래시는'],\n",
              " [605, 'e9105785b7f640ad9b6203244518bfc9', '1심 재판부는'],\n",
              " [606, '03f914c9977648f6a2d44a02ffc17ce9', '5건'],\n",
              " [607, '49f7e9103621443c8fdbbb3e8707b821', '내부 설계에'],\n",
              " [608, 'fdcf99eaa9024b82874a310055bb09c9', '수소 원자가'],\n",
              " [609, '11b07300d1da45578d29cc88a53591b8', '초나라 태자'],\n",
              " [610, 'c5e24f32e88b4751a38cc168d07ff683', '존 콜렛에'],\n",
              " [611, '289e1f3a14754bfe805d5327273ee160', '1200개사가'],\n",
              " [612, '2e11e95b0aa9403a842806cb1ac7e8ee', '영국은'],\n",
              " [613, '518bffb433b444dca0b40fb52c1d2846', '로렌스는'],\n",
              " [614, '7490d4e7c5cd4855b3fec49b2545be3a', '삼성카드는'],\n",
              " [615, '76fa5225d4634d4d925dd76ebf9d1634', '신한카드'],\n",
              " [616, '6dd28d5c25554e9f8bea52c64b39fc05', '2구의'],\n",
              " [617, '3ec544bb0f8c45ff9ccb606ae46b3ac6', '결제 서어비스'],\n",
              " [618, '0129bf9a7eb44e5fb16d0ea1acc9ae1d', '김용민'],\n",
              " [619, '4f8f47d499664370abcccfeb9e9d434c', '가르미슈파르텐키르헨에서'],\n",
              " [620, '677a21f9220e4722a5257c467b8fdd34', '2008년'],\n",
              " [621, '232d1eb3a160492687fdb3e25eb73055', '누마 폼필리우스는'],\n",
              " [622, '37e0e7da412f48868140e8ddf6469420', '유사·중복 사업은'],\n",
              " [623, '76aa3c83e7f847e6b2363631547864da', '20%'],\n",
              " [624, '59016a40a6244a3e8df2c990bbb69917', '2020년대'],\n",
              " [625, '41281debe6ee46c9b188d2fda2e38ebc', '20일'],\n",
              " [626, '26d9901dc3054e22a812cba7555572a6', '에틸렌'],\n",
              " [627, '0cc0117f1d95483690094153968d50f7', '1978년'],\n",
              " [628, 'ead513e045944889b77e905e8688fdd1', '안티트롬빈이'],\n",
              " [629, 'b0e29aa62ec74fc78392c540893b9503', '준융합성 천연두는'],\n",
              " [630, '2ea50fb848a84e9fb9e81aaba4445105', '청년세션에서는'],\n",
              " [631, 'e18dcea120a04d82a6d0e84f3d5a0ae4', '나사로의 부활에'],\n",
              " [632, 'b7c4bbd8508c41dbb86bbdec3edcefb1', 'LG디스플레이에서'],\n",
              " [633, '8af18a51f3054f8d8737ca76cc75a6fa', '37.6%'],\n",
              " [634, 'dfb550ac4bbd49c2a3164a3bad149499', '로웰 천문대에서'],\n",
              " [635, '33a34135195e453f9fc614dca05d9785', '현대자동차(12위), 현대중공업'],\n",
              " [636, '8105b44f13554ae9ab9376710e423968', '보상에'],\n",
              " [637, 'e5c90df1a7d74ab6b826edccf5698d12', '빌렘 3세'],\n",
              " [638, '9cfcbb9c3da04ce1a6b0d109c6691acc', '신경숙의'],\n",
              " [639, '15c03239153c41e5bebd77506a914654', '5조원'],\n",
              " [640, 'd60d4db66ef946ada191caa648469f72', '벨기에'],\n",
              " [641, '3f7f5ad062b1446c9e6aeea0528c68b9', '유황'],\n",
              " [642, '8c246d1b46fb476b8aaeeefe8ed824c9', '의회파에게'],\n",
              " [643, 'b63357fb8ac846d4802b4a57527f6e7f', '‘힐스테이트'],\n",
              " [644, '410e0a49a21e430dbf0913c84b325cd9', '42.3%'],\n",
              " [645, 'cc07ed7ec1364217ab7f5a1bfb44a7fe', '1985년'],\n",
              " [646, 'c232807f398f42318ea5398b39db0e06', '30%'],\n",
              " [647, '3cd4306232ac4251b249e45ddcec9899', '공장에'],\n",
              " [648, '11736ad7379f40fc9dab3835de5cabab', '이동근'],\n",
              " [649, 'd2c373b2f2334bb8a5cbc0591beb6da0', '남산1·3호터널'],\n",
              " [650, 'e5cf448a6d714526a2c1479badffff7d', '13일'],\n",
              " [651, '0c3aa07b989f41ff8b03b6a9a170dfd7', '광주은행이'],\n",
              " [652, 'c47177a4353848e9ab3eb353ac29cf6e', '7.7%'],\n",
              " [653, 'fdc2e4f69922440bb733d8b706c5481a', '임호텝이'],\n",
              " [654, 'ebdcf65e49814eddbff4de624d32b0ff', '紋織機'],\n",
              " [655, '5bb00f4b00e3412fad106cd520b4833b', '정신분석학에'],\n",
              " [656, '8388c1c4a7d040fc9fc8cef0113a66fb', '정신의 의식 영역으로'],\n",
              " [657, '8c1f95cb6cdc4f04a3168f17f5811a26', '최면술로'],\n",
              " [658, '2baf089902c74545a25869b3b4eb8bd0', '12일'],\n",
              " [659, 'f1c731e7df7545928ea86e350d07a250', '50억달러다'],\n",
              " [660, 'c4a0f2828f604ac681bcce0337c1a6ec', '‘한국 대표 명시선 100’'],\n",
              " [661, 'd872ed1a5ba549edb61b378781e094c4', '경주와'],\n",
              " [662, '04945fe0ee504363889c952250e83587', '김원홍'],\n",
              " [663, 'c5819c086e0c4492b1b76074836c65bb', '롯데자이언츠'],\n",
              " [664, '9f492440c6974297bfd22b0b3f64355a', '외무성'],\n",
              " [665, '801aec98f8c844ec85e039223cdaad3c', '문제해결 능력을'],\n",
              " [666, '5e133ff8bc3b4ddfafcbf37e533a4260', '소 루트비히가'],\n",
              " [667, 'c9e5ee1891da400db0e0b7798e61a6f0', '급감20일'],\n",
              " [668, '11a7c2c66540448382b0b6c5f04b0a11', '포스코는'],\n",
              " [669, '5a68829b79c941538aeb6bbbea94dedc', '부산고등법원에서'],\n",
              " [670, 'a3a3bdc9a08544d5b41d2063550de2d8', '광진상공은'],\n",
              " [671, '1286ba0ca8484effa681683cacc586ad', '이상호'],\n",
              " [672, '0a1fdd63b2b04a3cb000ef41ac7e2a4c', '맥스 버스타펜'],\n",
              " [673, '17cfb3fc968a4788bc85662e641084eb', '은성민'],\n",
              " [674, '211cad56ac884f21a296ce2e8f059fa1', '‘작은 것들을 위한 시’'],\n",
              " [675, 'd5d28f19944c445f910714fffabcbffe', '1803년'],\n",
              " [676, '15f542b00ed64cdaa282505f845d6a0f', '55만유로'],\n",
              " [677, 'a43803b1dd464023a3320bb81ee964b0', '60%'],\n",
              " [678, '483b4aa3e2da416aa6ed4fef2c750f75', '약 1만가구가'],\n",
              " [679, 'f9831f1345e349fd9efb1d4131a0437a', '부동산 경기침체로'],\n",
              " [680, 'ab883847f3aa4466b4acf58269bbed09', '1856년에'],\n",
              " [681, 'a7c703df09714077bad94481acbc887d', '공정위 고시는'],\n",
              " [682, 'a14394c97c98432ca71943b8e10d5b56', '50명이'],\n",
              " [683, 'c1bbbc79c4df4cbf8027ad50bb1c4248', '후쿠다 야스오 전 일본 총리는'],\n",
              " [684, 'eef993e04451464a9dedcffb425e69fb', '독일보다'],\n",
              " [685, '22e9ffceb61d4a1f9ebd4ed9f813ab5b', '흙에서 영양물의 밸런스를 유지하기'],\n",
              " [686, '4d747e83dc0d4abbad74bb3907106d08', '1945년과'],\n",
              " [687, '5841d8aaff50413095819ce4b0f2cf61', '9곳과'],\n",
              " [688, '4d1207e774c14b659f9912eb46ea0bb8', 'D등급으로'],\n",
              " [689, 'd44f40b7b01a46f185cde8540365dac2', '4층'],\n",
              " [690, '7125243178604b319f2937a2d5fdd2cd', '26일'],\n",
              " [691, 'ee45b8f805664142a607e8d70bb2cdc7', '수야왕을'],\n",
              " [692, '78b42d8fed634a94adfaf98b87074475', '정치인'],\n",
              " [693, '6334545745a448b8884fd574e648bd4a', '노르망디에'],\n",
              " [694, '8bdb57ae2a8b41dc8022743137ccaeab', '외투로'],\n",
              " [695, 'dbca26f9d5674a7a8fb2b3bb9416221b', '대관령을'],\n",
              " [696, '1e1d413900594ccdac7b98a957b2b3b8', '서남 방언에서도'],\n",
              " [697, '2e5c9bb1c1d14ed1a8279fb29985c4c8', '이오테크닉스는'],\n",
              " [698, '4e195eab4df54ffcaa9b835ef163c704', '4만3500원인'],\n",
              " [699, 'd6491833a5024641bccc2c72ac8925da', '7조9000억원'],\n",
              " [700, '45f7a30de88c4f9f9acd0236589756a2', '블루투스로'],\n",
              " [701, '3cb47dc3241640cfb69ba2f8a41d87b9', '임준현'],\n",
              " [702, '34cc4207bdbe41a9b0e2ee05f5056685', '필리핀'],\n",
              " [703, '66116e171e354893b5bf0bfb65a06f23', '대우증권'],\n",
              " [704, '5fd76b9edeb843c9a9ad85b7e5e06758', '환경청으로'],\n",
              " [705, 'b7a0682fe94847cf8c3bfcc712d38dcf', '나예를'],\n",
              " [706, '47353c1662cd48d096db52973903d422', '기원전 90년에'],\n",
              " [707, '29fe14cbce254c539fb22b723b04a1b5', '2008년엔'],\n",
              " [708, '0b7ec45f9ec745f790f08449ba5b6f38', '감광층이'],\n",
              " [709, '32debbaa117140c8b12c0d6bca707ded', '월트디즈니코리아'],\n",
              " [710, 'f8786392c615443aa239e18d63800716', '타이탄과'],\n",
              " [711, '2af7ef3407a8453fa8a4f31b6843518f', '리더 오카자키는'],\n",
              " [712, 'c5e49c0c055e4662a167a8083204aa44', '윌리엄 해서웨이'],\n",
              " [713, '01bded35e63340c49277fe424e2a920d', '제동거리 부족으로'],\n",
              " [714, '945fe971f162451dbd79ce5822fff4fe', '빅토르 하라'],\n",
              " [715, 'd0f9aaa287a9452a83f2c067ef8c4a63', '포트오소리티'],\n",
              " [716, 'fc0ef53f0f9146a7a46b1f2e893e34f4', '6개'],\n",
              " [717, '4de7ac4fc8fd472cbe957da6433b6a1a', '46.2%'],\n",
              " [718, '3f9a97ac12a54766b3e6ceb2a0a29b46', '유리로'],\n",
              " [719, '28bc7ab47c6e4704961725dc29ebd0e3', 'CTO가'],\n",
              " [720, '732203a5d0a64171871ce3126f4eec8a', '1039억달러로'],\n",
              " [721, '69b79db84c3e42a7b0b333f10470b37f', '물리학자로서'],\n",
              " [722, 'a131bf05c07c4d09bc5bd68c8da01e81', '물리학자로서'],\n",
              " [723, 'b90235d45e53470595cee3f40d367c7a', '45'],\n",
              " [724, 'c2b169a591a840fe877faed6534c5cd1', '무기징역+22년형이'],\n",
              " [725, '06263fc47c1845d8be9537aa11ec9bf3', '나쓰코를'],\n",
              " [726, '18543717d6504c74a81e99fc4778a2a1', '시진핑'],\n",
              " [727, 'c92ec1a4104b4109ae27520df6e3b28f', '스마트주문으로'],\n",
              " [728, 'cd6b027e68a745d3b9aa0cb7fdd9f7a3', 'LG디스플레이가'],\n",
              " [729, '324a64b80a3140d78d3f4bfe82d88f76', '알렉산더의'],\n",
              " [730, 'db83897d20d44501a774017fb3938157', '4년밖에'],\n",
              " [731, '7d7f294637ce4cb6b2a6315216cfc2ea', '서울대에서'],\n",
              " [732, 'a216a13932d94cbf82ab4301b9d5c514', '인터지스는'],\n",
              " [733, '2548857695c44971a06b6557fcaca7f0', '11시부터'],\n",
              " [734, '4e520e26a1784aff89e7b9ba84b7cef1', \"'그 정도의 소지라면 버려라'\"],\n",
              " [735, '7234699aa9b641c0ae9b40f95fca1584', '이탈리아'],\n",
              " [736, 'd650afb0bf3f4467974cd5ed3dbac3ae', '독일이'],\n",
              " [737, 'b638ef0120444454add286a5a19e4586', '미국 대통령 우드로 윌슨은'],\n",
              " [738, '108fd9a860bb4d85a8a57136f6f11422', '매각하기로'],\n",
              " [739, 'f0bddeb14ca64947bce2b00c8dd005bd', '드라라고'],\n",
              " [740, '95c6658fe46c41c09fde166318584be6', '그들은'],\n",
              " [741, '58592fbc65a04a72b60850ba3423b98f', '로마의 귀족들로부터'],\n",
              " [742, '6c475bc0339e4d98a807ae0682ae1024', '4월28일까지'],\n",
              " [743, '181a34c9e0c8471892a09ed78cd41880', '한국경제신문이'],\n",
              " [744, '54d703b045cb44d2aa0b88bab16ce226', '근대과학을'],\n",
              " [745, '0c12401fb5d24451b4ba622e0a9a4e81', '20개의'],\n",
              " [746, '14b5b4cabdcb4119b86e05371d2a44c1', '사이넨지(西念寺)'],\n",
              " [747, 'a025039b9c9943ebab3ffdf5e85c3f28', '명예훼손'],\n",
              " [748, 'cc457fd245a344efa7fb745b00c1d6f9', '마이트리팔라 시리세나'],\n",
              " [749, 'd322c91ac16c4e7bb433a90539fd9173', '100억원'],\n",
              " [750, '4e915c03d906476ca961511008a307f1', '다이애나 여신에게'],\n",
              " [751, '7974b37e413a40378a33fda4fd6da8aa', '‘임금·근로시간 특별위원회’'],\n",
              " [752, '56248d31d2ff4fa49f75d5d0a4c9f79f', '35%'],\n",
              " [753, 'a3c9cc1665d6469fa7030810858caf01', '탐험가의'],\n",
              " [754, '64569bdae6e14f3c82ec317a75abe3d8', '평양 부민들에게'],\n",
              " [755, '46a180c6a6404016b2b02ef08ca202b7', '화공이'],\n",
              " [756, 'bbd9925f3c7b4a39a9986d30e2430929', '미국'],\n",
              " [757, '9b1fa5555f284018a3c32aafe323177a', '페르시아 기병대를'],\n",
              " [758, '774bb15bbbbf46d99f3b34fa00f0d8e7', 'meeting'],\n",
              " [759, 'bd2ff050d4f64ce2b4143ce35699893d', '미터기'],\n",
              " [760, 'a635f4a8451f4f96858c88083eddd109', '이슬람 문화와'],\n",
              " [761, '9bda1810b9d440c3b9da3a6db8a3d96f', '보이저 2호는'],\n",
              " [762, 'b1b2fd50f9f04acb827890faa75f00c4', '제3의 물결은'],\n",
              " [763, '21d2f9a0d47c4339b7500e590f6887ee', '3인의'],\n",
              " [764, '7c05cf7ffa474d08b8681777efd97e82', '남성복'],\n",
              " [765, '394aed38e07e45969cdfae317e76a089', '강세황의'],\n",
              " [766, '7b2f7fa3b1384ab1bc073a4d354b88f0', '5단계'],\n",
              " [767, '86068a14b005492eae03fdf7a918ace9', '462건'],\n",
              " [768, '9dbd607ec8ac480cafccd5b670f770c5', '내수시장'],\n",
              " [769, '285f89de18d241e795a4b7db3292e861', '최진호'],\n",
              " [770, '4f5246c6b77d43268f53c7479d403a68', '어린이들이'],\n",
              " [771, '269bfc288278424487cbccc7c55b0185', '빈목 지역은'],\n",
              " [772, 'd088b583716c4d6f9872cbeccb8ea701', '금액형'],\n",
              " [773, 'e01ba108dce94f8591f1952bfba92307', '동해까지'],\n",
              " [774, '9b3884888c1e4f3ba844be24e3195abc', '한국암웨이 미래재단'],\n",
              " [775, '023bb802153f4d219818cae540e854c3', '임장옥'],\n",
              " [776, 'e16f451af03b4c1484ef50dfbbd4a697', '보테가베네타는'],\n",
              " [777, '4143e0ab60854ffda58607b953fa7601', '나로호 발사 성공의 관건이던'],\n",
              " [778, '860156cee2ea4eb49cad9a088b5b0d69', '1924년'],\n",
              " [779, '82d6f6a2c892406ba918f449c2268246', '가톨릭 교회는'],\n",
              " [780, '07fd713b650c4c0f9c7ac80404f0b200', '동남해안을'],\n",
              " [781, '009b6d55f3d14c6990e75442cb118f82', '1400만명'],\n",
              " [782, '9b13270f963747bbb89dbcf0484b8f4d', '50%'],\n",
              " [783, '8949ef921d5c4bee86e439fb33240491', '신동빈'],\n",
              " [784, '1a7cd4b21da14a5fa4b6b22627f05bac', '브릭링크'],\n",
              " [785, 'fb09869649894f0d9b96f7f517a1a298', '62.8kg의'],\n",
              " [786, 'c157f8a2e9154eac806655e06b0a1aac', '1000원일'],\n",
              " [787, '68a6d974ea614fe6bf070204c75fe53a', '승승장구했다'],\n",
              " [788, '682967e102374565b952881750f6b9bb', '시나위 대금보다'],\n",
              " [789, '96f55738ee2244df8774b733b1e28d59', '디즈니랜드로'],\n",
              " [790, 'a078b8359e2c46968b79498c7ba5ae5a', '1992년'],\n",
              " [791, 'd6cbe354ffb44a1c8417c553b6f9b4c5', '아에로페는'],\n",
              " [792, '64c47d920fbe474b908c4bf24b6fb078', '123억원을'],\n",
              " [793, '88d3935b994148cf9598e5e556d9d350', '후미추돌 사고'],\n",
              " [794, '7c1c1fa235ae46b489ddfd17fa695290', '6월'],\n",
              " [795, '8888eb3f4326467f969c859e54de9da2', '정의의 탄알로 처단'],\n",
              " [796, '98ddda11baf54cf99c6e905c647c70a0', '미국 서부해안항만노조는'],\n",
              " [797, '830039657c8e4c739541d76c33478b27', '13,258.65'],\n",
              " [798, '9d042ca2131c4b5ea700423960379eb1', '튀르고를'],\n",
              " [799, 'ae3b12d1b0284e1382ed54cd6f2da1aa', '17세기 전반에는'],\n",
              " [800, '9686603433a1463f9e4763dacd00ee04', '세계의 공장'],\n",
              " [801, '9413679a94f44589a50f1d2c0231f450', '프랑스에'],\n",
              " [802, 'ecc2291ca423491e953a5dab533659ba', '크리스 웨버를'],\n",
              " [803, '42e4d5f8295146238361ad160ce8e8d7', '3년이다'],\n",
              " [804, '640ab7e85f1b41618126a2c8c0f7237b', '아산정책연구원이'],\n",
              " [805, '0cc76b9ceae14f5c82feaa27977cfca1', '상품개발팀도'],\n",
              " [806, 'adfdb145fc754311bf9ffa0e02b05ed6', '‘프랑켄슈타인’'],\n",
              " [807, 'eb9f256c92214cef87abde305c687806', '윤호진'],\n",
              " [808, '8f40e9904a844995aaa1bb12fb7c7814', '외환죄'],\n",
              " [809, '6332b48d9e894c86bae67095a48604b9', '동아일보》'],\n",
              " [810, '44a02315b77c40079623bdf003005433', '임정 국무위원'],\n",
              " [811, '4d34ffd071004cc69730267104370be6', '왕첸의'],\n",
              " [812, '9634e74564ea4729a74843ee6a04b282', '51.4%'],\n",
              " [813, '27a217a5667b41a6881f675867a91bf8', '리'],\n",
              " [814, '1a6e36c0b06843b180cf47ce2ac92588', '의종관'],\n",
              " [815, '92f21168d87143e9bf9b9ef2d9fe7616', '중지회'],\n",
              " [816, 'de890475db6c4051ab728fe55edd2340', '김성수'],\n",
              " [817, '4bbbb370ecca494f8b987094d9382fd0', '도전TG앤컴퍼니는'],\n",
              " [818, 'ccd3c9270d43411cbddd9e6fcf1c361b', '유방에게'],\n",
              " [819, '26dda71572334e18abd097d56030f165', '11월 16일'],\n",
              " [820, '23f5ae8c9fab494f8be1e1277eee117c', '한·중 자유무역협정(FTA)'],\n",
              " [821, '9d7813cece694f4a94c008ab7cb2d235', '10월'],\n",
              " [822, '8c06a2307cbf486d816251c872082368', '그레이스 존스'],\n",
              " [823, '0992bf41b2cf483ea9bdcfcb334dcbe1', '독일'],\n",
              " [824, 'df265d6717b84dc3b8bf7f3a13b9ea9a', '23%'],\n",
              " [825, '5c69593bdc73441b9239a6ac41d3ee9e', '나일 도크는'],\n",
              " [826, '82375661c6a84d4bb4a043e70b749bf3', '20여분간'],\n",
              " [827, 'f38aa05973624213bffb727a03c9b413', '42.6%'],\n",
              " [828, '78fbe2535d054207914538853404cb41', '반도체사업부는'],\n",
              " [829, '677719e917fe43c2b0d7f4f7fc9a57b1', '2011년'],\n",
              " [830, 'be6635a68b3e48bbadb5fc1878bebc63', '화웨이 워치다'],\n",
              " [831, 'e9655831705741aca3af7a0ec8ca4f02', '철륵의'],\n",
              " [832, '63a5fcd998e144699f602d9f46643d8b', '당 고종은'],\n",
              " [833, 'd8c44b58dae142339f8e8b5f2bda9262', '중국도'],\n",
              " [834, '4d35a7ae36db4c08a77e4effcd3ea438', '\"그림 그리기\"'],\n",
              " [835, '401ab3c55d0f40b097ba2bcbfa0adc7e', '지난 4월'],\n",
              " [836, '7a933f5a1fe04dc59c5ccdddca15b5b0', '인도'],\n",
              " [837, '342f3558251148e9ad66d2f3d715c73d', '터빈 판사의'],\n",
              " [838, '1838dd386480435e8f60d487e7454c1e', '5개로'],\n",
              " [839, '7206dedf77ca45e1b3a7b00457fa564c', '청담동 삼익아파트는'],\n",
              " [840, 'edf05d5e68394cb08d1d960ad9b0c3fb', '동사무소에'],\n",
              " [841, '306966d4a435457e839a5d61600e0113', '9월'],\n",
              " [842, '7953e5700d71424695523fd9c736e2a5', '35년간이나'],\n",
              " [843, '71400010cb444c2a873bca527b517e04', '중국의'],\n",
              " [844, '94ec941f5de9467d988faa2a1ea3c3df', '10억 원을'],\n",
              " [845, '6a6ccc6c56cc4ea9968c02726072095a', '새누리당'],\n",
              " [846, 'fe569b9be41145298c30d76483632400', '랜덤으로'],\n",
              " [847, 'dad8fe1489e44722a7303d96a1eca9e9', '2021년부터'],\n",
              " [848, '153ccd2220514c1087f5f624846af021', 'CP0의 요원이라는것으로'],\n",
              " [849, 'df7fdf63ea1b4167b3e9e72ebd4aafa2', '경찰관이다'],\n",
              " [850, '8e11de42ea79438b983cf75470f17940', '아빠는'],\n",
              " [851, 'c6c66ff9d77442f48a5afa9fe50a9083', '호림박물관에'],\n",
              " [852, 'b58119ea6ceb4438ad482e6c5614ab19', '15분'],\n",
              " [853, 'df51f51e36114b5991d9366929fa475a', '감옥에서'],\n",
              " [854, '2260fa3a33214f1ba781af34fe160fee', '2억2200만원까지'],\n",
              " [855, '56f3742c0b3942459bff19fb16fde484', 'NFC는'],\n",
              " [856, '26dae8c5163946ca90ee4477e433fff9', 'B’ 엔진은'],\n",
              " [857, '18d461bc0832423cb9031457d239f8ba', '박맹우'],\n",
              " [858, '218f7b19f01b4634bc4f509ac93207c9', '65세'],\n",
              " [859, 'a8836fdb598844b09d990d30cce45c20', '유도요노'],\n",
              " [860, '79fe27d41d484a85b287fc2cadf846ad', '애드허스키를'],\n",
              " [861, '747a7845c4df4188919c8fde3f873c3e', '12일'],\n",
              " [862, '84d767999e1e46c49a09f3088174835d', '2년이다'],\n",
              " [863, '24438a6473cc40ed9ec5dae4a315f40e', '80만㎾'],\n",
              " [864, 'c12a5aa17a2e48dfb019ddbe52775cfd', '1800W'],\n",
              " [865, 'a945f07ff9ee4ff29b583fcb89857a20', '유키아이 역의'],\n",
              " [866, '16bb740fa76a48e99d1777afe06ad6d8', '김포'],\n",
              " [867, 'ca3bb854d86740448f794a853a84fc74', '235억원만'],\n",
              " [868, '082692ce8ef64536a8f4217ace126c81', '이달 18일까지'],\n",
              " [869, 'e766837c29a146bea3a1b58981e4f2a3', '서비스업'],\n",
              " [870, 'cbd4cfc0938c49708cea21960cb8a2c1', '1984년 8월'],\n",
              " [871, '8955b0d5951242218d0fdd5f29b5fed9', '1997년부터'],\n",
              " [872, '11f8e3de5ba64a6cb1c3b5330df9ebfc', '인천'],\n",
              " [873, 'c510a64ff7ef4e5a9d074873af0c920c', 'Somchai \"Sam\" Sriweawnetr'],\n",
              " [874, 'fe94d7a4b56842b791261aceb9ab3176', '일반 LED조명뿐'],\n",
              " [875, 'e4893f703bb94e609735a7474a2fa653', '만 2년'],\n",
              " [876, '1a17d31536fa444abc89f4ce089c4769', '미래에셋벤처투자가'],\n",
              " [877, 'd6365d66b3c748db94a15c48b64c1506', '지난 3월'],\n",
              " [878, '723ba3588a7049dd851d9ff4ff8d4cb3', '순천고'],\n",
              " [879, '1e2add91816e40f18d9e0b9ee35e206f', '소셜'],\n",
              " [880, 'c0161785317247d8af5fd88b661c71f8', '캠벨p=119은'],\n",
              " [881, '2f9e5c85c8e94b68928fd60822f5a99c', '서류전형을'],\n",
              " [882, 'b8c19a1c03044f52ac3e711570ecb06b', '매일'],\n",
              " [883, '2a39157c500f4924849bd19ad0baa022', '이억재의'],\n",
              " [884, '10e23740df184f378ece3201d444b73c', '10배'],\n",
              " [885, 'd0eacdf88b2c415bb13676e0ccbb836d', '힘이 가해지는 방향에'],\n",
              " [886, '347b9e20b02b4a59b7127dbe930d4af6', '이건희'],\n",
              " [887, '9379f9157b4d44189962b5c100e75e47', '‘핵 더 챌린지(Hack the Challenge)’'],\n",
              " [888, 'a1fc1460549e4c8d9e4e49705d1107f6', '11월 27일'],\n",
              " [889, 'a0b15ec77619421abdc9914bdee1339a', '신(新)제3기층도'],\n",
              " [890, 'dc67ca7cd7444af4b54302666f99c9be', '안대희'],\n",
              " [891, 'a5bf3adad4794fb19f8d1c08b4e0735f', '9510가구'],\n",
              " [892, '8b3f743ed1864d75914e25dd3728acba', '한국투자증권의'],\n",
              " [893, '60a3b6bea46c4e239ded1b63ee8e8d57', '스페인'],\n",
              " [894, 'dcb5fb36b35a4ba48630f065a1425ded', '군사 헬리콥터'],\n",
              " [895, 'e1df0d73f29c4dc5bf7e8fd1ec3a3c2f', \"너는 여기 있다'\"],\n",
              " [896, '28256d48d9fa4f8aa5278c09fe6bfe1b', '중국'],\n",
              " [897, '6f6ee8cdd52e45b88d1becc67cea4881', '설 연휴 직후'],\n",
              " [898, 'f3dce096180141ee9314291499afc83b', '1%포인트'],\n",
              " [899, 'd4b2e3aca71c41328ea08ff541e2a842', '9년'],\n",
              " [900, '35688088395a4d87a036cb8397890e56', '25대'],\n",
              " [901, 'b44e3af6dfd04aeb9c4f4807b2e8802e', '14가구까지'],\n",
              " [902, '3c5705e3379141a8bb87be8e864a5603', '@design이'],\n",
              " [903, 'a8af76337e404796b44fa8569e934357', '관광빅데이터센터에서'],\n",
              " [904, 'dd082d777726488c8e394e1bedf8d82e', '와쇼쿠'],\n",
              " [905, '9d0b6816bf8e4c1bbf2f2de9ae5d7b54', '존 레이놀즈'],\n",
              " [906, '1319c557a6d84ba9883f0d48f93468c8', '임옥상'],\n",
              " [907, 'b636ff68d2074bc697ae1e379b8c6e69', '삼성전자'],\n",
              " [908, 'ea0ac3ae9d5f4614b431c63aac531a8a', '상하이에서'],\n",
              " [909, '5ab81af711034a1bbe36d2cfab9e55bf', '1935년에'],\n",
              " [910, '595127d8eaae4157aaf17a7a7d273b9f', '1만개'],\n",
              " [911, 'cb8ad0eed0c14e1ab324a08935876d21', '35개'],\n",
              " [912, '4b1a5114b66a492d9fd3a383efdf854c', '최정빈'],\n",
              " [913, 'dbe0b028e0e5451f9fe886fd2e732281', '1997년 1월 3일에'],\n",
              " [914, '576ddd8e595243f5a1f6a58cf4dcf1c1', '기해일에'],\n",
              " [915, '0d95b95ffe674ea48f94fc25a39705ca', '105인치의'],\n",
              " [916, '4006db2f3f424f39bb2de61581998368', '50%'],\n",
              " [917, '0d764f22ec13493ebc091b6466a17f4f', '최씨담'],\n",
              " [918, '11640d76c9544da9a896a925622b6a70', '볼바라고'],\n",
              " [919, 'f1bcb2140775410da3f3b667f4a7e6c6', '머터리얼스 스퀘어를'],\n",
              " [920, '0991dc2adc9d492ebf16450e3e02992c', '‘찾아가는 시상식’'],\n",
              " [921, '5870cc5673364ca9af40d65cc8daef9e', '‘포맷프리2.0’'],\n",
              " [922, '752455ba9f0840aa9306be14e5005d3f', '19일로'],\n",
              " [923, '7edf0d83f2914d47b2d082e9fb39f8bc', '쇼스타코비치의 교향곡 11번이다'],\n",
              " [924, '7dab7a4b22044d0e824ec51a3199574c', '셀주크인들에게도'],\n",
              " [925, '264909648c794e36a630e22a47b08c38', '정 전무의'],\n",
              " [926, 'b578015357054cb6aab84e93551605f0', '2012년'],\n",
              " [927, '83c90dfef8fc4a198a97d9a6e0682c28', 'TV 셋톱박스'],\n",
              " [928, 'ede2761b178d40868f80f9c403a821b8', '139만원이다'],\n",
              " [929, '8c26ced687ec46f1a7b9637868539a95', '11.7%'],\n",
              " [930, '6263f9f823724a6db9c0350441940c10', '조동규'],\n",
              " [931, '0ac72863d5974221895ee3d796e40424', '경성법학전문학교'],\n",
              " [932, 'a4735ffcaa2e4d5b8f025731aed3a779', '존 로크는'],\n",
              " [933, 'f901cf75a41c4abca304cc62b37ca4bd', '트루먼은'],\n",
              " [934, 'cf054967f5db4c01befa7963c87998c2', '1896년 3월28일'],\n",
              " [935, 'a2e49f7d5723438c81c90272d51d5411', '1965년'],\n",
              " [936, '815721a021284586b71b59761e826541', '‘포레스트 파크'],\n",
              " [937, '025a1f54ddc342e39b2254cf295fd8af', '15일'],\n",
              " [938, '6327cb2840d04aa7805a41949e02a1e9', '자사고의 신입생 선발권한을 제한하는'],\n",
              " [939, 'cef437e440c14c93abc74d8c334964ae', '초중등교육법 시행령의'],\n",
              " [940, '9c0c1f4b3e8744b68b1320fa5010740e', '15명의'],\n",
              " [941, '80a3bfbb571d4536939874d1e7f9512b', '1763년에'],\n",
              " [942, 'eef05e93ae2e48e5893c7cebdfb1ef2d', '제5보병대가'],\n",
              " [943, 'b68637ea389c46f89d04440446cd8f89', '‘3포인트 크로스빔 에리어센서’'],\n",
              " [944, '8ec7eae54a6d46c0a7f910aaec9bc9c8', '등유는'],\n",
              " [945, '197284af6ef24726b5bcccffbd5f0aee', '훈고학이'],\n",
              " [946, '3c0d7bef5a7a47aaa4178ffd5c918bc5', '559,400원으로'],\n",
              " [947, 'db2bdcd8d6f547ad984f53be598da60e', '영국군은'],\n",
              " [948, 'a5282ae70e704694947350f5356c038e', '포트해필턴이라'],\n",
              " [949, '75571695c7464541843bde0f7ed9037f', '천주교'],\n",
              " [950, '961e23762c2749ebb58689dd698bdc43', '이토 히로부미 조선통감은'],\n",
              " [951, 'f2e84cfbc26f45c8b2b35b341bc1dbfc', '기름을'],\n",
              " [952, '2b48a417e2cd441bb6804ebae670f921', '공무원은'],\n",
              " [953, 'ac294ac2cb97457dac5fd823ded5c8ae', '1만4896원'],\n",
              " [954, 'd82c34a80046496c971457042dc4175c', '1만4896원'],\n",
              " [955, 'fceecba89f94435ab433f16b5b64f801', '1839년'],\n",
              " [956, '4215ad3eadb04f87b8536323413ae04a', '포드 극장에서'],\n",
              " [957, '3da9d0a7832c412f9756d799ac198f0d', '칼리스토 프로토콜’'],\n",
              " [958, 'e61287777f71404fa68eba7841857d02', '온미디어는'],\n",
              " [959, 'c45151d41afd4e3d92786ddd44b65f03', '2017년'],\n",
              " [960, '11dd73ec298440fda81f2456fdd7fa02', '좌익은'],\n",
              " [961, '2c99de5c0688471c80c3ed1aaed5bc8d', '동아일보가'],\n",
              " [962, 'ab4f539ae0cc4297a289216391dbd69e', '가빛섬에는'],\n",
              " [963, '405e67b79bd449059448dbd13c86021a', '2011년'],\n",
              " [964, '7b6a39988c6f4d48a1dabd61e3de1cde', '최신 인공지능 트렌드를'],\n",
              " [965, 'dabd4153b2e744b789c5de0ba2f4b362', '44원'],\n",
              " [966, '3ef884bcf71c4b5eae50ea9720f8c5a3', '버트런드 러셀이'],\n",
              " [967, 'f46fe5ffcd7b4180900463207d0843e9', '화이트워터 사건'],\n",
              " [968, 'd0e9321e3a40428d8721eb5888946d59', '130 대 1을'],\n",
              " [969, '66c25ea5caf8401eab7ca6d7ed12b17f', '리먼브러더스의'],\n",
              " [970, '5c970fa26ca94ee083c209f97ebd838b', '3.70달러로'],\n",
              " [971, '99329596e8364699b72279d1dd5283bb', '김한조 행장은'],\n",
              " [972, 'a5b5da59e4cb4203b2c6c11a9d6df525', '감소하는'],\n",
              " [973, '74376241831a404f88f8b779917a4fa5', '2016년'],\n",
              " [974, '6b4800d809074b1fbda3eaa3fd434e9d', '광주의'],\n",
              " [975, 'ebff8b93600048b29a6e69d22b6abfa8', '필 플린'],\n",
              " [976, 'ba44eab528944803a6c7e18838915d28', '고교'],\n",
              " [977, '2e35a226b4434eefa42f3517aa8d98d6', '11일까지'],\n",
              " [978, 'ce2132f935684c808cace4c9cbc7c718', '소형차 야리스를'],\n",
              " [979, '91342d156d0b44b28fd6dace31e3bd0a', '롯데마트는'],\n",
              " [980, '7598e6f94e5b44868f395f22d6babe1b', '호메이니를'],\n",
              " [981, 'dbf063700ff54c5fbc684a8212e38071', '교육'],\n",
              " [982, 'fef1289794da4027974d782200d2865b', '5명에게'],\n",
              " [983, '6f500fdfe1f44dc9ac12e51c6aeb874a', '2개사를'],\n",
              " [984, 'c6d34435ed904e848bb269d94baa472c', '1396명이다'],\n",
              " [985, '88b95f5eeed043d38ba8047ee3cb2619', '2001년에'],\n",
              " [986, '447f5de732234ff6af8b983a09e37497', '15일'],\n",
              " [987, '2b9afd9a08dc43909f429c18796a1482', '아내의'],\n",
              " [988, '6ff31e1ae9e44ce29a58ff19469d319c', '데이비드 캐머런'],\n",
              " [989, '6a41a3d4c3cd4356aa55aca08af5db4d', '오리온의'],\n",
              " [990, 'b82fa26a0b3543b8833a17bcc752a09d', '12일부터'],\n",
              " [991, 'b2e00bbcc53948608e5b90d8828adaf6', '보육료가'],\n",
              " [992, '3e55b62d1c79419f8fd6bffe796c8c83', '8만대를'],\n",
              " [993, '2aebc522971f47b7b581168ee560d218', '로버트 달은'],\n",
              " [994, 'df5fcfa2b0534db69bf0d6593acc0a74', '제동 장치는'],\n",
              " [995, '7d404a4414bd4154a8a15316e7554146', '농민들을'],\n",
              " [996, '8921fbaa40bb43be88df76f692e50f3f', '3월27일'],\n",
              " [997, 'd3464424315a4fbf912bb565ac2098eb', 'SBS'],\n",
              " [998, '08cf917c16bc4fc1a355b2d73c59cb23', 'UNKRA(UN 한국부흥재건단)'],\n",
              " [999, '4b98adc9f8f64324a26ca90944a2780f', '민음사는'],\n",
              " ...]"
            ]
          },
          "metadata": {},
          "execution_count": 114
        }
      ]
    },
    {
      "cell_type": "code",
      "source": [
        "submission = pd.DataFrame(columns = ['Id','Predicted'])\n",
        "i = 0\n",
        "for id, pre in predata:\n",
        "  str(pre).strip('nan')\n",
        "  str(pre).strip('[UNK]')\n",
        "  if len(str(pre)) > 20:\n",
        "      pre = ''\n",
        "  submission.loc[i] = [id, pre]    \n",
        "  i += 1"
      ],
      "metadata": {
        "id": "_mMEYQqJS1Az"
      },
      "execution_count": 99,
      "outputs": []
    },
    {
      "cell_type": "code",
      "source": [
        "submission"
      ],
      "metadata": {
        "id": "AdZFUB9UTaNx",
        "outputId": "42172e66-b334-459d-cc36-78172f7d007b",
        "colab": {
          "base_uri": "https://localhost:8080/",
          "height": 419
        }
      },
      "execution_count": 100,
      "outputs": [
        {
          "output_type": "execute_result",
          "data": {
            "text/plain": [
              "                                    Id         Predicted\n",
              "0     d14cb73158624cf094c546d856fd3c80  뉴 740Li 25주년 에디션\n",
              "1     906631384e91493ebe1c7f34aea6f241         독일 뒤셀도르프로\n",
              "2     35e61dcb479643448a2cb7d326ae50a6        링크트인과 페이스북\n",
              "3     075e761b370040cb9041eecd39afc27c        링크트인과 페이스북\n",
              "4     e67ed38f3dd944be94d5b4c53731f334              마드리드\n",
              "...                                ...               ...\n",
              "4003  05fcb8054dc44dab8683579c2cf5e465             200만엔\n",
              "4004  cc7f826b66724ce9b39e3a974ca15661          중동 건설 현장\n",
              "4005  3282034aa41e4fab980851ffd4a868dd       아시아 ~ 유럽 노선\n",
              "4006  0a73550b36df4baf82ac2f98619d22e7                사흘\n",
              "4007  dfe6ef25f84f461e89e54d370e4521d5               벨기에\n",
              "\n",
              "[4008 rows x 2 columns]"
            ],
            "text/html": [
              "\n",
              "  <div id=\"df-7aa65ffd-004a-4033-9d4d-f22a5e5bfcef\">\n",
              "    <div class=\"colab-df-container\">\n",
              "      <div>\n",
              "<style scoped>\n",
              "    .dataframe tbody tr th:only-of-type {\n",
              "        vertical-align: middle;\n",
              "    }\n",
              "\n",
              "    .dataframe tbody tr th {\n",
              "        vertical-align: top;\n",
              "    }\n",
              "\n",
              "    .dataframe thead th {\n",
              "        text-align: right;\n",
              "    }\n",
              "</style>\n",
              "<table border=\"1\" class=\"dataframe\">\n",
              "  <thead>\n",
              "    <tr style=\"text-align: right;\">\n",
              "      <th></th>\n",
              "      <th>Id</th>\n",
              "      <th>Predicted</th>\n",
              "    </tr>\n",
              "  </thead>\n",
              "  <tbody>\n",
              "    <tr>\n",
              "      <th>0</th>\n",
              "      <td>d14cb73158624cf094c546d856fd3c80</td>\n",
              "      <td>뉴 740Li 25주년 에디션</td>\n",
              "    </tr>\n",
              "    <tr>\n",
              "      <th>1</th>\n",
              "      <td>906631384e91493ebe1c7f34aea6f241</td>\n",
              "      <td>독일 뒤셀도르프로</td>\n",
              "    </tr>\n",
              "    <tr>\n",
              "      <th>2</th>\n",
              "      <td>35e61dcb479643448a2cb7d326ae50a6</td>\n",
              "      <td>링크트인과 페이스북</td>\n",
              "    </tr>\n",
              "    <tr>\n",
              "      <th>3</th>\n",
              "      <td>075e761b370040cb9041eecd39afc27c</td>\n",
              "      <td>링크트인과 페이스북</td>\n",
              "    </tr>\n",
              "    <tr>\n",
              "      <th>4</th>\n",
              "      <td>e67ed38f3dd944be94d5b4c53731f334</td>\n",
              "      <td>마드리드</td>\n",
              "    </tr>\n",
              "    <tr>\n",
              "      <th>...</th>\n",
              "      <td>...</td>\n",
              "      <td>...</td>\n",
              "    </tr>\n",
              "    <tr>\n",
              "      <th>4003</th>\n",
              "      <td>05fcb8054dc44dab8683579c2cf5e465</td>\n",
              "      <td>200만엔</td>\n",
              "    </tr>\n",
              "    <tr>\n",
              "      <th>4004</th>\n",
              "      <td>cc7f826b66724ce9b39e3a974ca15661</td>\n",
              "      <td>중동 건설 현장</td>\n",
              "    </tr>\n",
              "    <tr>\n",
              "      <th>4005</th>\n",
              "      <td>3282034aa41e4fab980851ffd4a868dd</td>\n",
              "      <td>아시아 ~ 유럽 노선</td>\n",
              "    </tr>\n",
              "    <tr>\n",
              "      <th>4006</th>\n",
              "      <td>0a73550b36df4baf82ac2f98619d22e7</td>\n",
              "      <td>사흘</td>\n",
              "    </tr>\n",
              "    <tr>\n",
              "      <th>4007</th>\n",
              "      <td>dfe6ef25f84f461e89e54d370e4521d5</td>\n",
              "      <td>벨기에</td>\n",
              "    </tr>\n",
              "  </tbody>\n",
              "</table>\n",
              "<p>4008 rows × 2 columns</p>\n",
              "</div>\n",
              "      <button class=\"colab-df-convert\" onclick=\"convertToInteractive('df-7aa65ffd-004a-4033-9d4d-f22a5e5bfcef')\"\n",
              "              title=\"Convert this dataframe to an interactive table.\"\n",
              "              style=\"display:none;\">\n",
              "        \n",
              "  <svg xmlns=\"http://www.w3.org/2000/svg\" height=\"24px\"viewBox=\"0 0 24 24\"\n",
              "       width=\"24px\">\n",
              "    <path d=\"M0 0h24v24H0V0z\" fill=\"none\"/>\n",
              "    <path d=\"M18.56 5.44l.94 2.06.94-2.06 2.06-.94-2.06-.94-.94-2.06-.94 2.06-2.06.94zm-11 1L8.5 8.5l.94-2.06 2.06-.94-2.06-.94L8.5 2.5l-.94 2.06-2.06.94zm10 10l.94 2.06.94-2.06 2.06-.94-2.06-.94-.94-2.06-.94 2.06-2.06.94z\"/><path d=\"M17.41 7.96l-1.37-1.37c-.4-.4-.92-.59-1.43-.59-.52 0-1.04.2-1.43.59L10.3 9.45l-7.72 7.72c-.78.78-.78 2.05 0 2.83L4 21.41c.39.39.9.59 1.41.59.51 0 1.02-.2 1.41-.59l7.78-7.78 2.81-2.81c.8-.78.8-2.07 0-2.86zM5.41 20L4 18.59l7.72-7.72 1.47 1.35L5.41 20z\"/>\n",
              "  </svg>\n",
              "      </button>\n",
              "      \n",
              "  <style>\n",
              "    .colab-df-container {\n",
              "      display:flex;\n",
              "      flex-wrap:wrap;\n",
              "      gap: 12px;\n",
              "    }\n",
              "\n",
              "    .colab-df-convert {\n",
              "      background-color: #E8F0FE;\n",
              "      border: none;\n",
              "      border-radius: 50%;\n",
              "      cursor: pointer;\n",
              "      display: none;\n",
              "      fill: #1967D2;\n",
              "      height: 32px;\n",
              "      padding: 0 0 0 0;\n",
              "      width: 32px;\n",
              "    }\n",
              "\n",
              "    .colab-df-convert:hover {\n",
              "      background-color: #E2EBFA;\n",
              "      box-shadow: 0px 1px 2px rgba(60, 64, 67, 0.3), 0px 1px 3px 1px rgba(60, 64, 67, 0.15);\n",
              "      fill: #174EA6;\n",
              "    }\n",
              "\n",
              "    [theme=dark] .colab-df-convert {\n",
              "      background-color: #3B4455;\n",
              "      fill: #D2E3FC;\n",
              "    }\n",
              "\n",
              "    [theme=dark] .colab-df-convert:hover {\n",
              "      background-color: #434B5C;\n",
              "      box-shadow: 0px 1px 3px 1px rgba(0, 0, 0, 0.15);\n",
              "      filter: drop-shadow(0px 1px 2px rgba(0, 0, 0, 0.3));\n",
              "      fill: #FFFFFF;\n",
              "    }\n",
              "  </style>\n",
              "\n",
              "      <script>\n",
              "        const buttonEl =\n",
              "          document.querySelector('#df-7aa65ffd-004a-4033-9d4d-f22a5e5bfcef button.colab-df-convert');\n",
              "        buttonEl.style.display =\n",
              "          google.colab.kernel.accessAllowed ? 'block' : 'none';\n",
              "\n",
              "        async function convertToInteractive(key) {\n",
              "          const element = document.querySelector('#df-7aa65ffd-004a-4033-9d4d-f22a5e5bfcef');\n",
              "          const dataTable =\n",
              "            await google.colab.kernel.invokeFunction('convertToInteractive',\n",
              "                                                     [key], {});\n",
              "          if (!dataTable) return;\n",
              "\n",
              "          const docLinkHtml = 'Like what you see? Visit the ' +\n",
              "            '<a target=\"_blank\" href=https://colab.research.google.com/notebooks/data_table.ipynb>data table notebook</a>'\n",
              "            + ' to learn more about interactive tables.';\n",
              "          element.innerHTML = '';\n",
              "          dataTable['output_type'] = 'display_data';\n",
              "          await google.colab.output.renderOutput(dataTable, element);\n",
              "          const docLink = document.createElement('div');\n",
              "          docLink.innerHTML = docLinkHtml;\n",
              "          element.appendChild(docLink);\n",
              "        }\n",
              "      </script>\n",
              "    </div>\n",
              "  </div>\n",
              "  "
            ]
          },
          "metadata": {},
          "execution_count": 100
        }
      ]
    },
    {
      "cell_type": "code",
      "source": [
        "submission.to_csv('submission1.csv', index=False, encoding='utf-8')"
      ],
      "metadata": {
        "id": "Z52OUI1EU6fR"
      },
      "execution_count": 101,
      "outputs": []
    },
    {
      "cell_type": "code",
      "source": [
        ""
      ],
      "metadata": {
        "id": "yIGp47SrWV96"
      },
      "execution_count": null,
      "outputs": []
    }
  ]
}